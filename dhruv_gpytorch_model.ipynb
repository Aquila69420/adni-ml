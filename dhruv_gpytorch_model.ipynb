{
 "cells": [
  {
   "cell_type": "code",
   "id": "1fb82a1c",
   "metadata": {
    "ExecuteTime": {
     "end_time": "2025-07-02T08:21:34.134535Z",
     "start_time": "2025-07-02T08:21:34.127413Z"
    }
   },
   "source": [
    "import os\n",
    "import numpy as np\n",
    "import pandas as pd\n",
    "import seaborn as sns\n",
    "import matplotlib.pyplot as plt\n",
    "from sklearn.model_selection import train_test_split\n",
    "from sklearn.preprocessing import StandardScaler\n",
    "from gpytorch.priors import GammaPrior\n",
    "import torch\n",
    "from sklearn.metrics import mean_squared_error, r2_score, root_mean_squared_error\n",
    "import optuna\n",
    "import gpytorch\n"
   ],
   "outputs": [],
   "execution_count": 173
  },
  {
   "cell_type": "code",
   "id": "a3b22387",
   "metadata": {
    "ExecuteTime": {
     "end_time": "2025-07-02T11:28:02.544910Z",
     "start_time": "2025-07-02T11:28:02.521084Z"
    }
   },
   "source": [
    "class MultitaskGPModel(gpytorch.models.ExactGP):\n",
    "    def __init__(self, train_x, train_y, likelihood, num_tasks):\n",
    "        super(MultitaskGPModel, self).__init__(train_x, train_y, likelihood)\n",
    "        self.mean_module = gpytorch.means.MultitaskMean(\n",
    "            gpytorch.means.ZeroMean(), num_tasks=num_tasks\n",
    "        )\n",
    "        self.covar_module = gpytorch.kernels.MultitaskKernel(\n",
    "            gpytorch.kernels.RQKernel(lengthscale = 0.001861373015328207), num_tasks=num_tasks, rank=1\n",
    "        )\n",
    "\n",
    "    def forward(self, x):\n",
    "        mean_x = self.mean_module(x)\n",
    "        covar_x = self.covar_module(x)\n",
    "        return gpytorch.distributions.MultitaskMultivariateNormal(mean_x, covar_x)\n"
   ],
   "outputs": [],
   "execution_count": 178
  },
  {
   "cell_type": "code",
   "id": "9e13e3d2",
   "metadata": {
    "ExecuteTime": {
     "end_time": "2025-07-01T14:25:32.042298Z",
     "start_time": "2025-07-01T14:25:31.995554Z"
    }
   },
   "source": [
    "data_dir = 'data'\n",
    "\n",
    "df = pd.read_csv(os.path.join(data_dir, 'final_data_log_targets.csv'))\n",
    "\n",
    "df.head()"
   ],
   "outputs": [
    {
     "data": {
      "text/plain": [
       "     TAU_bl   PTAU_bl  ABETA_bl  PTEDUCAT  MMSE_bl  EcogPtTotal_bl  \\\n",
       "0  4.617099  2.310553     731.8      -1.0     -2.0       -0.179246   \n",
       "1  5.783210  3.537766     780.3      -2.0     -3.0        0.216812   \n",
       "2  6.195221  3.973682     832.7       0.5      0.5       -0.275793   \n",
       "3  4.683981  2.356126     590.4       3.0      3.0       -0.545607   \n",
       "4  5.509793  3.210037     466.1       1.0      0.5        0.040211   \n",
       "\n",
       "   LDELTOTAL_BL  mPACCdigit_bl  mPACCtrailsB_bl  RAVLT_immediate_bl  ...  \\\n",
       "0          15.0       1.722587         1.525525            0.440843  ...   \n",
       "1           7.0       0.221907         0.032151            0.582690  ...   \n",
       "2           3.0      -1.111149        -1.035326           -0.784427  ...   \n",
       "3          11.0       0.306061         0.339234            0.002003  ...   \n",
       "4          18.0       1.883734         1.336483            0.512023  ...   \n",
       "\n",
       "   SUVr_Vermis_1_2.nii  SUVr_Vermis_3.nii  SUVr_Vermis_4_5.nii  \\\n",
       "0             0.003369           0.011351             0.030880   \n",
       "1             0.003325           0.011246             0.029007   \n",
       "2             0.003402           0.011694             0.033622   \n",
       "3             0.003367           0.011986             0.034076   \n",
       "4             0.002935           0.009448             0.028740   \n",
       "\n",
       "   SUVr_Vermis_6.nii  SUVr_Vermis_7.nii  SUVr_Vermis_8.nii  SUVr_Vermis_9.nii  \\\n",
       "0           0.018253           0.009289           0.011917           0.008881   \n",
       "1           0.016903           0.009108           0.012666           0.008033   \n",
       "2           0.019224           0.010413           0.012902           0.007799   \n",
       "3           0.019834           0.010011           0.012782           0.009789   \n",
       "4           0.017897           0.009361           0.012595           0.008533   \n",
       "\n",
       "   SUVr_Vermis_10.nii  SUVr_VTA_L.nii  SUVr_VTA_R.nii  \n",
       "0            0.006231        0.000712        0.000659  \n",
       "1            0.006029        0.000770        0.000699  \n",
       "2            0.005730        0.000804        0.000760  \n",
       "3            0.006613        0.000748        0.000675  \n",
       "4            0.005170        0.000675        0.000675  \n",
       "\n",
       "[5 rows x 178 columns]"
      ],
      "text/html": [
       "<div>\n",
       "<style scoped>\n",
       "    .dataframe tbody tr th:only-of-type {\n",
       "        vertical-align: middle;\n",
       "    }\n",
       "\n",
       "    .dataframe tbody tr th {\n",
       "        vertical-align: top;\n",
       "    }\n",
       "\n",
       "    .dataframe thead th {\n",
       "        text-align: right;\n",
       "    }\n",
       "</style>\n",
       "<table border=\"1\" class=\"dataframe\">\n",
       "  <thead>\n",
       "    <tr style=\"text-align: right;\">\n",
       "      <th></th>\n",
       "      <th>TAU_bl</th>\n",
       "      <th>PTAU_bl</th>\n",
       "      <th>ABETA_bl</th>\n",
       "      <th>PTEDUCAT</th>\n",
       "      <th>MMSE_bl</th>\n",
       "      <th>EcogPtTotal_bl</th>\n",
       "      <th>LDELTOTAL_BL</th>\n",
       "      <th>mPACCdigit_bl</th>\n",
       "      <th>mPACCtrailsB_bl</th>\n",
       "      <th>RAVLT_immediate_bl</th>\n",
       "      <th>...</th>\n",
       "      <th>SUVr_Vermis_1_2.nii</th>\n",
       "      <th>SUVr_Vermis_3.nii</th>\n",
       "      <th>SUVr_Vermis_4_5.nii</th>\n",
       "      <th>SUVr_Vermis_6.nii</th>\n",
       "      <th>SUVr_Vermis_7.nii</th>\n",
       "      <th>SUVr_Vermis_8.nii</th>\n",
       "      <th>SUVr_Vermis_9.nii</th>\n",
       "      <th>SUVr_Vermis_10.nii</th>\n",
       "      <th>SUVr_VTA_L.nii</th>\n",
       "      <th>SUVr_VTA_R.nii</th>\n",
       "    </tr>\n",
       "  </thead>\n",
       "  <tbody>\n",
       "    <tr>\n",
       "      <th>0</th>\n",
       "      <td>4.617099</td>\n",
       "      <td>2.310553</td>\n",
       "      <td>731.8</td>\n",
       "      <td>-1.0</td>\n",
       "      <td>-2.0</td>\n",
       "      <td>-0.179246</td>\n",
       "      <td>15.0</td>\n",
       "      <td>1.722587</td>\n",
       "      <td>1.525525</td>\n",
       "      <td>0.440843</td>\n",
       "      <td>...</td>\n",
       "      <td>0.003369</td>\n",
       "      <td>0.011351</td>\n",
       "      <td>0.030880</td>\n",
       "      <td>0.018253</td>\n",
       "      <td>0.009289</td>\n",
       "      <td>0.011917</td>\n",
       "      <td>0.008881</td>\n",
       "      <td>0.006231</td>\n",
       "      <td>0.000712</td>\n",
       "      <td>0.000659</td>\n",
       "    </tr>\n",
       "    <tr>\n",
       "      <th>1</th>\n",
       "      <td>5.783210</td>\n",
       "      <td>3.537766</td>\n",
       "      <td>780.3</td>\n",
       "      <td>-2.0</td>\n",
       "      <td>-3.0</td>\n",
       "      <td>0.216812</td>\n",
       "      <td>7.0</td>\n",
       "      <td>0.221907</td>\n",
       "      <td>0.032151</td>\n",
       "      <td>0.582690</td>\n",
       "      <td>...</td>\n",
       "      <td>0.003325</td>\n",
       "      <td>0.011246</td>\n",
       "      <td>0.029007</td>\n",
       "      <td>0.016903</td>\n",
       "      <td>0.009108</td>\n",
       "      <td>0.012666</td>\n",
       "      <td>0.008033</td>\n",
       "      <td>0.006029</td>\n",
       "      <td>0.000770</td>\n",
       "      <td>0.000699</td>\n",
       "    </tr>\n",
       "    <tr>\n",
       "      <th>2</th>\n",
       "      <td>6.195221</td>\n",
       "      <td>3.973682</td>\n",
       "      <td>832.7</td>\n",
       "      <td>0.5</td>\n",
       "      <td>0.5</td>\n",
       "      <td>-0.275793</td>\n",
       "      <td>3.0</td>\n",
       "      <td>-1.111149</td>\n",
       "      <td>-1.035326</td>\n",
       "      <td>-0.784427</td>\n",
       "      <td>...</td>\n",
       "      <td>0.003402</td>\n",
       "      <td>0.011694</td>\n",
       "      <td>0.033622</td>\n",
       "      <td>0.019224</td>\n",
       "      <td>0.010413</td>\n",
       "      <td>0.012902</td>\n",
       "      <td>0.007799</td>\n",
       "      <td>0.005730</td>\n",
       "      <td>0.000804</td>\n",
       "      <td>0.000760</td>\n",
       "    </tr>\n",
       "    <tr>\n",
       "      <th>3</th>\n",
       "      <td>4.683981</td>\n",
       "      <td>2.356126</td>\n",
       "      <td>590.4</td>\n",
       "      <td>3.0</td>\n",
       "      <td>3.0</td>\n",
       "      <td>-0.545607</td>\n",
       "      <td>11.0</td>\n",
       "      <td>0.306061</td>\n",
       "      <td>0.339234</td>\n",
       "      <td>0.002003</td>\n",
       "      <td>...</td>\n",
       "      <td>0.003367</td>\n",
       "      <td>0.011986</td>\n",
       "      <td>0.034076</td>\n",
       "      <td>0.019834</td>\n",
       "      <td>0.010011</td>\n",
       "      <td>0.012782</td>\n",
       "      <td>0.009789</td>\n",
       "      <td>0.006613</td>\n",
       "      <td>0.000748</td>\n",
       "      <td>0.000675</td>\n",
       "    </tr>\n",
       "    <tr>\n",
       "      <th>4</th>\n",
       "      <td>5.509793</td>\n",
       "      <td>3.210037</td>\n",
       "      <td>466.1</td>\n",
       "      <td>1.0</td>\n",
       "      <td>0.5</td>\n",
       "      <td>0.040211</td>\n",
       "      <td>18.0</td>\n",
       "      <td>1.883734</td>\n",
       "      <td>1.336483</td>\n",
       "      <td>0.512023</td>\n",
       "      <td>...</td>\n",
       "      <td>0.002935</td>\n",
       "      <td>0.009448</td>\n",
       "      <td>0.028740</td>\n",
       "      <td>0.017897</td>\n",
       "      <td>0.009361</td>\n",
       "      <td>0.012595</td>\n",
       "      <td>0.008533</td>\n",
       "      <td>0.005170</td>\n",
       "      <td>0.000675</td>\n",
       "      <td>0.000675</td>\n",
       "    </tr>\n",
       "  </tbody>\n",
       "</table>\n",
       "<p>5 rows × 178 columns</p>\n",
       "</div>"
      ]
     },
     "execution_count": 3,
     "metadata": {},
     "output_type": "execute_result"
    }
   ],
   "execution_count": 3
  },
  {
   "cell_type": "code",
   "id": "86c5b0c1",
   "metadata": {
    "ExecuteTime": {
     "end_time": "2025-07-01T14:25:34.514549Z",
     "start_time": "2025-07-01T14:25:34.482425Z"
    }
   },
   "source": [
    "\n",
    "X = df.drop(columns = ['ABETA_bl', 'TAU_bl', 'PTAU_bl'], axis = 1)\n",
    "y = df.filter(['ABETA_bl','PTAU_bl', 'TAU_bl'])\n",
    "\n",
    "\n",
    "scaler = StandardScaler()\n",
    "X = scaler.fit_transform(X)\n",
    "y = scaler.fit_transform(y)\n",
    "\n",
    "X_train, X_test, y_train, y_test = train_test_split(X, y, train_size=0.8, random_state=42)\n",
    "\n",
    "print(X_train.shape, X_test.shape, y_train.shape, y_test.shape)"
   ],
   "outputs": [
    {
     "name": "stdout",
     "output_type": "stream",
     "text": [
      "(434, 175) (109, 175) (434, 3) (109, 3)\n"
     ]
    }
   ],
   "execution_count": 4
  },
  {
   "cell_type": "code",
   "id": "0b6d67a0",
   "metadata": {
    "ExecuteTime": {
     "end_time": "2025-07-01T14:25:35.490585Z",
     "start_time": "2025-07-01T14:25:35.482807Z"
    }
   },
   "source": [
    "X_train = torch.tensor(X_train, dtype=torch.float32)\n",
    "X_test = torch.tensor(X_test, dtype=torch.float32)\n",
    "\n",
    "y_train = torch.tensor(y_train, dtype=torch.float32)\n",
    "y_test = torch.tensor(y_test, dtype=torch.float32)"
   ],
   "outputs": [],
   "execution_count": 5
  },
  {
   "metadata": {
    "ExecuteTime": {
     "end_time": "2025-07-02T11:25:16.103304Z",
     "start_time": "2025-07-02T10:32:14.314441Z"
    }
   },
   "cell_type": "code",
   "source": [
    "def objective(trial):\n",
    "    lr = trial.suggest_float(\"lr\", 1e-4, 1e-1, log=True)\n",
    "    # weight_decay = trial.suggest_float(\"weight_decay\", 1e-5, 1e-2, log=True)\n",
    "    weight_decay = trial.suggest_float(\"weight_decay\", 1e-5, 1e-3, log=True)\n",
    "    # optimizer_name = trial.suggest_categorical(\"optimizer\", [\"Adam\", \"AdamW\", \"SGD\"])\n",
    "    optimizer_name = trial.suggest_categorical(\"optimizer\", [\"AdamW\"])\n",
    "    scheduler_type = trial.suggest_categorical(\"scheduler\", [\"ReduceLROnPlateau\", \"CosineAnnealingLR\"])\n",
    "    lengthscale = trial.suggest_float(\"lengthscale\", 1e-3, 1e1, log=True)\n",
    "\n",
    "    num_tasks = 3\n",
    "    noise_prior = GammaPrior(concentration=1.1, rate=0.05)\n",
    "    likelihood = gpytorch.likelihoods.MultitaskGaussianLikelihood(num_tasks=num_tasks, rank=1, noise_prior=noise_prior)\n",
    "\n",
    "    class TrialMultitaskGPModel(gpytorch.models.ExactGP):\n",
    "        def __init__(self, train_x, train_y, likelihood, num_tasks):\n",
    "            super(TrialMultitaskGPModel, self).__init__(train_x, train_y, likelihood)\n",
    "            self.mean_module = gpytorch.means.MultitaskMean(\n",
    "                gpytorch.means.ZeroMean(), num_tasks=num_tasks\n",
    "            )\n",
    "            self.covar_module = gpytorch.kernels.MultitaskKernel(\n",
    "                gpytorch.kernels.RQKernel(lengthscale=lengthscale), num_tasks=num_tasks, rank=1\n",
    "            )\n",
    "\n",
    "        def forward(self, x):\n",
    "            mean_x = self.mean_module(x)\n",
    "            covar_x = self.covar_module(x)\n",
    "            return gpytorch.distributions.MultitaskMultivariateNormal(mean_x, covar_x)\n",
    "\n",
    "    model = TrialMultitaskGPModel(X_train, y_train, likelihood, num_tasks)\n",
    "    model.to(device)\n",
    "\n",
    "    # Configure optimizer\n",
    "    if optimizer_name == \"Adam\":\n",
    "        optimizer = torch.optim.Adam(model.parameters(), lr=lr, weight_decay=weight_decay, maximize=True)\n",
    "    elif optimizer_name == \"AdamW\":\n",
    "        optimizer = torch.optim.AdamW(model.parameters(), lr=lr, weight_decay=weight_decay, maximize=True)\n",
    "    else:\n",
    "        optimizer = torch.optim.SGD(model.parameters(), lr=lr, weight_decay=weight_decay, momentum=0.9, maximize=True)\n",
    "\n",
    "    # Configure scheduler\n",
    "    if scheduler_type == \"ReduceLROnPlateau\":\n",
    "        factor = trial.suggest_float(\"factor\", 0.1, 0.9)\n",
    "        patience = trial.suggest_int(\"patience\", 3, 20)\n",
    "        scheduler = torch.optim.lr_scheduler.ReduceLROnPlateau(\n",
    "            optimizer, mode='max', factor=factor, patience=patience, threshold=1e-4)\n",
    "    elif scheduler_type == \"StepLR\":\n",
    "        step_size = trial.suggest_int(\"step_size\", 5, 50)\n",
    "        gamma = trial.suggest_float(\"gamma\", 0.1, 0.9)\n",
    "        scheduler = torch.optim.lr_scheduler.StepLR(optimizer, step_size=step_size, gamma=gamma)\n",
    "    else:\n",
    "        t_max = trial.suggest_int(\"t_max\", 5, 50)\n",
    "        scheduler = torch.optim.lr_scheduler.CosineAnnealingLR(optimizer, T_max=t_max)\n",
    "\n",
    "    # Loss function\n",
    "    mll = gpytorch.mlls.ExactMarginalLogLikelihood(likelihood, model)\n",
    "\n",
    "    initial_likelihood = mll(model(X_train), y_train)\n",
    "    while initial_likelihood < -1.55:\n",
    "        model = MultitaskGPModel(X_train, y_train, likelihood, num_tasks)\n",
    "        model.to(device)\n",
    "        initial_likelihood = mll(model(X_train), y_train)\n",
    "    print(f'Model finially intialized with likelihood: {initial_likelihood}')\n",
    "\n",
    "    # Train the model\n",
    "    model.train()\n",
    "    likelihood.train()\n",
    "\n",
    "    num_iter = 500  # You could also make this a hyperparameter\n",
    "\n",
    "    for i in range(num_iter):\n",
    "        optimizer.zero_grad()\n",
    "        output = model(X_train)\n",
    "        loss = mll(output, y_train)\n",
    "        loss.backward()\n",
    "        optimizer.step()\n",
    "\n",
    "        # Handle different scheduler types\n",
    "        if scheduler_type == \"ReduceLROnPlateau\":\n",
    "            scheduler.step(mll(output, y_train))  # Pass validation metric\n",
    "        else:\n",
    "            scheduler.step()\n",
    "\n",
    "        # Report intermediate values for pruning\n",
    "        if i % 20 == 0:\n",
    "            trial.report(-loss.item(), i)\n",
    "\n",
    "            # Enable pruning of unpromising trials\n",
    "            if trial.should_prune():\n",
    "                raise optuna.exceptions.TrialPruned()\n",
    "\n",
    "    # Evaluate on test set\n",
    "    model.eval()\n",
    "    likelihood.eval()\n",
    "    with torch.no_grad():\n",
    "        preds = model(X_test)\n",
    "        mean = preds.mean\n",
    "\n",
    "    y_true_np = y_test.cpu().numpy()\n",
    "    y_pred_np = mean.cpu().numpy()\n",
    "\n",
    "    # Calculate mean R² across all targets\n",
    "    r2_values = [r2_score(y_true_np[:, i], y_pred_np[:, i]) for i in range(num_tasks)]\n",
    "    mean_r2 = np.mean(r2_values)\n",
    "\n",
    "    return mean_r2  # Return metric to maximize\n",
    "\n",
    "# Create study object and optimize\n",
    "study = optuna.create_study(direction=\"maximize\")\n",
    "study.optimize(objective, n_trials=50)\n",
    "\n",
    "print(\"Best trial:\")\n",
    "trial = study.best_trial\n",
    "print(f\"  R² Score: {trial.value}\")\n",
    "print(\"  Params: \")\n",
    "for key, value in trial.params.items():\n",
    "    print(f\"    {key}: {value}\")"
   ],
   "id": "b9bfb53f01af63b8",
   "outputs": [
    {
     "name": "stderr",
     "output_type": "stream",
     "text": [
      "[I 2025-07-02 11:32:14,338] A new study created in memory with name: no-name-80aa4287-e754-46b5-9ec8-5c56d662ff9c\n"
     ]
    },
    {
     "name": "stdout",
     "output_type": "stream",
     "text": [
      "Model finially intialized with likelihood: -1.543339729309082\n"
     ]
    },
    {
     "name": "stderr",
     "output_type": "stream",
     "text": [
      "[I 2025-07-02 11:34:12,239] Trial 0 finished with value: 0.20700750748316446 and parameters: {'lr': 0.00016636288517048414, 'weight_decay': 3.294463022938289e-05, 'optimizer': 'AdamW', 'scheduler': 'CosineAnnealingLR', 'lengthscale': 1.361649369647628, 't_max': 13}. Best is trial 0 with value: 0.20700750748316446.\n"
     ]
    },
    {
     "name": "stdout",
     "output_type": "stream",
     "text": [
      "Model finially intialized with likelihood: -1.4921684265136719\n"
     ]
    },
    {
     "name": "stderr",
     "output_type": "stream",
     "text": [
      "[I 2025-07-02 11:36:19,182] Trial 1 finished with value: 0.29752270380655926 and parameters: {'lr': 0.014146624333141972, 'weight_decay': 1.3500748062821925e-05, 'optimizer': 'AdamW', 'scheduler': 'CosineAnnealingLR', 'lengthscale': 1.560283913896108, 't_max': 38}. Best is trial 1 with value: 0.29752270380655926.\n"
     ]
    },
    {
     "name": "stdout",
     "output_type": "stream",
     "text": [
      "Model finially intialized with likelihood: -1.5355587005615234\n"
     ]
    },
    {
     "name": "stderr",
     "output_type": "stream",
     "text": [
      "[I 2025-07-02 11:38:19,048] Trial 2 finished with value: 0.2727932929992676 and parameters: {'lr': 0.0928348613875169, 'weight_decay': 4.4719075643193034e-05, 'optimizer': 'AdamW', 'scheduler': 'CosineAnnealingLR', 'lengthscale': 0.07868148542905666, 't_max': 40}. Best is trial 1 with value: 0.29752270380655926.\n"
     ]
    },
    {
     "name": "stdout",
     "output_type": "stream",
     "text": [
      "Model finially intialized with likelihood: -1.5208996534347534\n"
     ]
    },
    {
     "name": "stderr",
     "output_type": "stream",
     "text": [
      "[I 2025-07-02 11:40:20,229] Trial 3 finished with value: 0.1763184666633606 and parameters: {'lr': 0.00022909799100680452, 'weight_decay': 0.00022289177316649694, 'optimizer': 'AdamW', 'scheduler': 'CosineAnnealingLR', 'lengthscale': 0.043253763848559265, 't_max': 34}. Best is trial 1 with value: 0.29752270380655926.\n"
     ]
    },
    {
     "name": "stdout",
     "output_type": "stream",
     "text": [
      "Model finially intialized with likelihood: -1.4908984899520874\n"
     ]
    },
    {
     "name": "stderr",
     "output_type": "stream",
     "text": [
      "[I 2025-07-02 11:43:25,202] Trial 4 finished with value: 0.25125883022944134 and parameters: {'lr': 0.00013252800291029893, 'weight_decay': 0.00029174857883073143, 'optimizer': 'AdamW', 'scheduler': 'ReduceLROnPlateau', 'lengthscale': 0.0013865178389844018, 'factor': 0.10900765554058776, 'patience': 6}. Best is trial 1 with value: 0.29752270380655926.\n"
     ]
    },
    {
     "name": "stdout",
     "output_type": "stream",
     "text": [
      "Model finially intialized with likelihood: -1.3802204132080078\n"
     ]
    },
    {
     "name": "stderr",
     "output_type": "stream",
     "text": [
      "[I 2025-07-02 11:43:25,592] Trial 5 pruned. \n"
     ]
    },
    {
     "name": "stdout",
     "output_type": "stream",
     "text": [
      "Model finially intialized with likelihood: -1.415816068649292\n"
     ]
    },
    {
     "name": "stderr",
     "output_type": "stream",
     "text": [
      "[I 2025-07-02 11:43:26,085] Trial 6 pruned. \n"
     ]
    },
    {
     "name": "stdout",
     "output_type": "stream",
     "text": [
      "Model finially intialized with likelihood: -1.4770523309707642\n"
     ]
    },
    {
     "name": "stderr",
     "output_type": "stream",
     "text": [
      "[I 2025-07-02 11:43:26,746] Trial 7 pruned. \n"
     ]
    },
    {
     "name": "stdout",
     "output_type": "stream",
     "text": [
      "Model finially intialized with likelihood: -1.5439810752868652\n"
     ]
    },
    {
     "name": "stderr",
     "output_type": "stream",
     "text": [
      "[I 2025-07-02 11:46:31,310] Trial 8 finished with value: 0.43424053986867267 and parameters: {'lr': 0.010873204579394679, 'weight_decay': 0.0009152256293915124, 'optimizer': 'AdamW', 'scheduler': 'ReduceLROnPlateau', 'lengthscale': 0.001861373015328207, 'factor': 0.264146097094465, 'patience': 14}. Best is trial 8 with value: 0.43424053986867267.\n"
     ]
    },
    {
     "name": "stdout",
     "output_type": "stream",
     "text": [
      "Model finially intialized with likelihood: -1.488600254058838\n"
     ]
    },
    {
     "name": "stderr",
     "output_type": "stream",
     "text": [
      "[I 2025-07-02 11:46:31,793] Trial 9 pruned. \n"
     ]
    },
    {
     "name": "stdout",
     "output_type": "stream",
     "text": [
      "Model finially intialized with likelihood: -1.5440901517868042\n"
     ]
    },
    {
     "name": "stderr",
     "output_type": "stream",
     "text": [
      "[I 2025-07-02 11:49:30,776] Trial 10 finished with value: 0.352569580078125 and parameters: {'lr': 0.0011690465038687813, 'weight_decay': 0.0006950150127683226, 'optimizer': 'AdamW', 'scheduler': 'ReduceLROnPlateau', 'lengthscale': 0.010319015500906628, 'factor': 0.801995663924417, 'patience': 20}. Best is trial 8 with value: 0.43424053986867267.\n"
     ]
    },
    {
     "name": "stdout",
     "output_type": "stream",
     "text": [
      "Model finially intialized with likelihood: -1.386722207069397\n"
     ]
    },
    {
     "name": "stderr",
     "output_type": "stream",
     "text": [
      "[I 2025-07-02 11:49:31,290] Trial 11 pruned. \n"
     ]
    },
    {
     "name": "stdout",
     "output_type": "stream",
     "text": [
      "Model finially intialized with likelihood: -1.5331101417541504\n"
     ]
    },
    {
     "name": "stderr",
     "output_type": "stream",
     "text": [
      "[I 2025-07-02 11:49:32,269] Trial 12 pruned. \n"
     ]
    },
    {
     "name": "stdout",
     "output_type": "stream",
     "text": [
      "Model finially intialized with likelihood: -1.5218490362167358\n"
     ]
    },
    {
     "name": "stderr",
     "output_type": "stream",
     "text": [
      "[I 2025-07-02 11:49:32,811] Trial 13 pruned. \n"
     ]
    },
    {
     "name": "stdout",
     "output_type": "stream",
     "text": [
      "Model finially intialized with likelihood: -1.5395140647888184\n"
     ]
    },
    {
     "name": "stderr",
     "output_type": "stream",
     "text": [
      "[I 2025-07-02 11:52:27,563] Trial 14 finished with value: 0.24519660075505575 and parameters: {'lr': 0.0007256945800097594, 'weight_decay': 0.0004900954798084838, 'optimizer': 'AdamW', 'scheduler': 'ReduceLROnPlateau', 'lengthscale': 0.017791170992408418, 'factor': 0.6840382708752697, 'patience': 14}. Best is trial 8 with value: 0.43424053986867267.\n"
     ]
    },
    {
     "name": "stdout",
     "output_type": "stream",
     "text": [
      "Model finially intialized with likelihood: -1.5237326622009277\n"
     ]
    },
    {
     "name": "stderr",
     "output_type": "stream",
     "text": [
      "[I 2025-07-02 11:52:28,065] Trial 15 pruned. \n"
     ]
    },
    {
     "name": "stdout",
     "output_type": "stream",
     "text": [
      "Model finially intialized with likelihood: -1.3449162244796753\n"
     ]
    },
    {
     "name": "stderr",
     "output_type": "stream",
     "text": [
      "[I 2025-07-02 11:52:28,550] Trial 16 pruned. \n",
      "[W 2025-07-02 12:25:15,093] Trial 17 failed with parameters: {'lr': 0.0019772434499958674, 'weight_decay': 0.00043291367234883995, 'optimizer': 'AdamW', 'scheduler': 'ReduceLROnPlateau', 'lengthscale': 0.028393764535500857, 'factor': 0.6127192108328837, 'patience': 10} because of the following error: KeyboardInterrupt().\n",
      "Traceback (most recent call last):\n",
      "  File \"C:\\Users\\Dhruv Khanna\\Documents\\Coding stuff\\ADML\\.venv\\Lib\\site-packages\\optuna\\study\\_optimize.py\", line 201, in _run_trial\n",
      "    value_or_values = func(trial)\n",
      "                      ^^^^^^^^^^^\n",
      "  File \"C:\\Users\\Dhruv Khanna\\AppData\\Local\\Temp\\ipykernel_26204\\989518133.py\", line 61, in objective\n",
      "    initial_likelihood = mll(model(X_train), y_train)\n",
      "                         ^^^^^^^^^^^^^^^^^^^^^^^^^^^^\n",
      "  File \"C:\\Users\\Dhruv Khanna\\Documents\\Coding stuff\\ADML\\.venv\\Lib\\site-packages\\gpytorch\\module.py\", line 82, in __call__\n",
      "    outputs = self.forward(*inputs, **kwargs)\n",
      "              ^^^^^^^^^^^^^^^^^^^^^^^^^^^^^^^\n",
      "  File \"C:\\Users\\Dhruv Khanna\\Documents\\Coding stuff\\ADML\\.venv\\Lib\\site-packages\\gpytorch\\mlls\\exact_marginal_log_likelihood.py\", line 82, in forward\n",
      "    res = output.log_prob(target)\n",
      "          ^^^^^^^^^^^^^^^^^^^^^^^\n",
      "  File \"C:\\Users\\Dhruv Khanna\\Documents\\Coding stuff\\ADML\\.venv\\Lib\\site-packages\\gpytorch\\distributions\\multitask_multivariate_normal.py\", line 218, in log_prob\n",
      "    return super().log_prob(value.reshape(*value.shape[:-2], -1))\n",
      "           ^^^^^^^^^^^^^^^^^^^^^^^^^^^^^^^^^^^^^^^^^^^^^^^^^^^^^^\n",
      "  File \"C:\\Users\\Dhruv Khanna\\Documents\\Coding stuff\\ADML\\.venv\\Lib\\site-packages\\gpytorch\\distributions\\multivariate_normal.py\", line 250, in log_prob\n",
      "    inv_quad, logdet = covar.inv_quad_logdet(inv_quad_rhs=diff.unsqueeze(-1), logdet=True)\n",
      "                       ^^^^^^^^^^^^^^^^^^^^^^^^^^^^^^^^^^^^^^^^^^^^^^^^^^^^^^^^^^^^^^^^^^^\n",
      "  File \"C:\\Users\\Dhruv Khanna\\Documents\\Coding stuff\\ADML\\.venv\\Lib\\site-packages\\linear_operator\\operators\\sum_kronecker_linear_operator.py\", line 107, in inv_quad_logdet\n",
      "    solve = self.solve(inv_quad_rhs)\n",
      "            ^^^^^^^^^^^^^^^^^^^^^^^^\n",
      "  File \"C:\\Users\\Dhruv Khanna\\Documents\\Coding stuff\\ADML\\.venv\\Lib\\site-packages\\linear_operator\\operators\\_linear_operator.py\", line 2342, in solve\n",
      "    return func.apply(self.representation_tree(), False, right_tensor, *self.representation())\n",
      "           ^^^^^^^^^^^^^^^^^^^^^^^^^^^^^^^^^^^^^^^^^^^^^^^^^^^^^^^^^^^^^^^^^^^^^^^^^^^^^^^^^^^\n",
      "  File \"C:\\Users\\Dhruv Khanna\\Documents\\Coding stuff\\ADML\\.venv\\Lib\\site-packages\\torch\\autograd\\function.py\", line 575, in apply\n",
      "    return super().apply(*args, **kwargs)  # type: ignore[misc]\n",
      "           ^^^^^^^^^^^^^^^^^^^^^^^^^^^^^^\n",
      "  File \"C:\\Users\\Dhruv Khanna\\Documents\\Coding stuff\\ADML\\.venv\\Lib\\site-packages\\linear_operator\\functions\\_solve.py\", line 53, in forward\n",
      "    solves = _solve(linear_op, right_tensor)\n",
      "             ^^^^^^^^^^^^^^^^^^^^^^^^^^^^^^^\n",
      "  File \"C:\\Users\\Dhruv Khanna\\Documents\\Coding stuff\\ADML\\.venv\\Lib\\site-packages\\linear_operator\\functions\\_solve.py\", line 21, in _solve\n",
      "    return linear_op._solve(rhs, preconditioner)\n",
      "           ^^^^^^^^^^^^^^^^^^^^^^^^^^^^^^^^^^^^^\n",
      "  File \"C:\\Users\\Dhruv Khanna\\Documents\\Coding stuff\\ADML\\.venv\\Lib\\site-packages\\linear_operator\\operators\\sum_kronecker_linear_operator.py\", line 62, in _solve\n",
      "    res = inner_mat.solve(res)\n",
      "          ^^^^^^^^^^^^^^^^^^^^\n",
      "  File \"C:\\Users\\Dhruv Khanna\\Documents\\Coding stuff\\ADML\\.venv\\Lib\\site-packages\\linear_operator\\operators\\_linear_operator.py\", line 2342, in solve\n",
      "    return func.apply(self.representation_tree(), False, right_tensor, *self.representation())\n",
      "           ^^^^^^^^^^^^^^^^^^^^^^^^^^^^^^^^^^^^^^^^^^^^^^^^^^^^^^^^^^^^^^^^^^^^^^^^^^^^^^^^^^^\n",
      "  File \"C:\\Users\\Dhruv Khanna\\Documents\\Coding stuff\\ADML\\.venv\\Lib\\site-packages\\torch\\autograd\\function.py\", line 575, in apply\n",
      "    return super().apply(*args, **kwargs)  # type: ignore[misc]\n",
      "           ^^^^^^^^^^^^^^^^^^^^^^^^^^^^^^\n",
      "  File \"C:\\Users\\Dhruv Khanna\\Documents\\Coding stuff\\ADML\\.venv\\Lib\\site-packages\\linear_operator\\functions\\_solve.py\", line 53, in forward\n",
      "    solves = _solve(linear_op, right_tensor)\n",
      "             ^^^^^^^^^^^^^^^^^^^^^^^^^^^^^^^\n",
      "  File \"C:\\Users\\Dhruv Khanna\\Documents\\Coding stuff\\ADML\\.venv\\Lib\\site-packages\\linear_operator\\functions\\_solve.py\", line 21, in _solve\n",
      "    return linear_op._solve(rhs, preconditioner)\n",
      "           ^^^^^^^^^^^^^^^^^^^^^^^^^^^^^^^^^^^^^\n",
      "  File \"C:\\Users\\Dhruv Khanna\\Documents\\Coding stuff\\ADML\\.venv\\Lib\\site-packages\\linear_operator\\operators\\kronecker_product_added_diag_linear_operator.py\", line 153, in _solve\n",
      "    evals, q_matrix = self.linear_op.to(symeig_dtype).diagonalization()\n",
      "                      ^^^^^^^^^^^^^^^^^^^^^^^^^^^^^^^^^^^^^^^^^^^^^^^^^\n",
      "  File \"C:\\Users\\Dhruv Khanna\\Documents\\Coding stuff\\ADML\\.venv\\Lib\\site-packages\\linear_operator\\operators\\kronecker_product_linear_operator.py\", line 152, in diagonalization\n",
      "    return super().diagonalization(method=method)\n",
      "           ^^^^^^^^^^^^^^^^^^^^^^^^^^^^^^^^^^^^^^\n",
      "  File \"C:\\Users\\Dhruv Khanna\\Documents\\Coding stuff\\ADML\\.venv\\Lib\\site-packages\\linear_operator\\utils\\memoize.py\", line 59, in g\n",
      "    return _add_to_cache(self, cache_name, method(self, *args, **kwargs), *args, kwargs_pkl=kwargs_pkl)\n",
      "                                           ^^^^^^^^^^^^^^^^^^^^^^^^^^^^^\n",
      "  File \"C:\\Users\\Dhruv Khanna\\Documents\\Coding stuff\\ADML\\.venv\\Lib\\site-packages\\linear_operator\\operators\\_linear_operator.py\", line 1461, in diagonalization\n",
      "    evals, evecs = self._symeig(eigenvectors=True)\n",
      "                   ^^^^^^^^^^^^^^^^^^^^^^^^^^^^^^^\n",
      "  File \"C:\\Users\\Dhruv Khanna\\Documents\\Coding stuff\\ADML\\.venv\\Lib\\site-packages\\linear_operator\\operators\\kronecker_product_linear_operator.py\", line 342, in _symeig\n",
      "    evals_, evecs_ = lt._symeig(eigenvectors=eigenvectors)\n",
      "                     ^^^^^^^^^^^^^^^^^^^^^^^^^^^^^^^^^^^^^\n",
      "  File \"C:\\Users\\Dhruv Khanna\\Documents\\Coding stuff\\ADML\\.venv\\Lib\\site-packages\\linear_operator\\operators\\_linear_operator.py\", line 892, in _symeig\n",
      "    evals, evecs = torch.linalg.eigh(self.to_dense().to(dtype=settings._linalg_dtype_symeig.value()))\n",
      "                   ^^^^^^^^^^^^^^^^^^^^^^^^^^^^^^^^^^^^^^^^^^^^^^^^^^^^^^^^^^^^^^^^^^^^^^^^^^^^^^^^^^\n",
      "KeyboardInterrupt\n",
      "[W 2025-07-02 12:25:15,150] Trial 17 failed with value None.\n"
     ]
    },
    {
     "ename": "KeyboardInterrupt",
     "evalue": "",
     "output_type": "error",
     "traceback": [
      "\u001B[31m---------------------------------------------------------------------------\u001B[39m",
      "\u001B[31mKeyboardInterrupt\u001B[39m                         Traceback (most recent call last)",
      "\u001B[36mCell\u001B[39m\u001B[36m \u001B[39m\u001B[32mIn[177]\u001B[39m\u001B[32m, line 109\u001B[39m\n\u001B[32m    107\u001B[39m \u001B[38;5;66;03m# Create study object and optimize\u001B[39;00m\n\u001B[32m    108\u001B[39m study = optuna.create_study(direction=\u001B[33m\"\u001B[39m\u001B[33mmaximize\u001B[39m\u001B[33m\"\u001B[39m)\n\u001B[32m--> \u001B[39m\u001B[32m109\u001B[39m \u001B[43mstudy\u001B[49m\u001B[43m.\u001B[49m\u001B[43moptimize\u001B[49m\u001B[43m(\u001B[49m\u001B[43mobjective\u001B[49m\u001B[43m,\u001B[49m\u001B[43m \u001B[49m\u001B[43mn_trials\u001B[49m\u001B[43m=\u001B[49m\u001B[32;43m50\u001B[39;49m\u001B[43m)\u001B[49m\n\u001B[32m    111\u001B[39m \u001B[38;5;28mprint\u001B[39m(\u001B[33m\"\u001B[39m\u001B[33mBest trial:\u001B[39m\u001B[33m\"\u001B[39m)\n\u001B[32m    112\u001B[39m trial = study.best_trial\n",
      "\u001B[36mFile \u001B[39m\u001B[32m~\\Documents\\Coding stuff\\ADML\\.venv\\Lib\\site-packages\\optuna\\study\\study.py:489\u001B[39m, in \u001B[36mStudy.optimize\u001B[39m\u001B[34m(self, func, n_trials, timeout, n_jobs, catch, callbacks, gc_after_trial, show_progress_bar)\u001B[39m\n\u001B[32m    387\u001B[39m \u001B[38;5;28;01mdef\u001B[39;00m\u001B[38;5;250m \u001B[39m\u001B[34moptimize\u001B[39m(\n\u001B[32m    388\u001B[39m     \u001B[38;5;28mself\u001B[39m,\n\u001B[32m    389\u001B[39m     func: ObjectiveFuncType,\n\u001B[32m   (...)\u001B[39m\u001B[32m    396\u001B[39m     show_progress_bar: \u001B[38;5;28mbool\u001B[39m = \u001B[38;5;28;01mFalse\u001B[39;00m,\n\u001B[32m    397\u001B[39m ) -> \u001B[38;5;28;01mNone\u001B[39;00m:\n\u001B[32m    398\u001B[39m \u001B[38;5;250m    \u001B[39m\u001B[33;03m\"\"\"Optimize an objective function.\u001B[39;00m\n\u001B[32m    399\u001B[39m \n\u001B[32m    400\u001B[39m \u001B[33;03m    Optimization is done by choosing a suitable set of hyperparameter values from a given\u001B[39;00m\n\u001B[32m   (...)\u001B[39m\u001B[32m    487\u001B[39m \u001B[33;03m            If nested invocation of this method occurs.\u001B[39;00m\n\u001B[32m    488\u001B[39m \u001B[33;03m    \"\"\"\u001B[39;00m\n\u001B[32m--> \u001B[39m\u001B[32m489\u001B[39m     \u001B[43m_optimize\u001B[49m\u001B[43m(\u001B[49m\n\u001B[32m    490\u001B[39m \u001B[43m        \u001B[49m\u001B[43mstudy\u001B[49m\u001B[43m=\u001B[49m\u001B[38;5;28;43mself\u001B[39;49m\u001B[43m,\u001B[49m\n\u001B[32m    491\u001B[39m \u001B[43m        \u001B[49m\u001B[43mfunc\u001B[49m\u001B[43m=\u001B[49m\u001B[43mfunc\u001B[49m\u001B[43m,\u001B[49m\n\u001B[32m    492\u001B[39m \u001B[43m        \u001B[49m\u001B[43mn_trials\u001B[49m\u001B[43m=\u001B[49m\u001B[43mn_trials\u001B[49m\u001B[43m,\u001B[49m\n\u001B[32m    493\u001B[39m \u001B[43m        \u001B[49m\u001B[43mtimeout\u001B[49m\u001B[43m=\u001B[49m\u001B[43mtimeout\u001B[49m\u001B[43m,\u001B[49m\n\u001B[32m    494\u001B[39m \u001B[43m        \u001B[49m\u001B[43mn_jobs\u001B[49m\u001B[43m=\u001B[49m\u001B[43mn_jobs\u001B[49m\u001B[43m,\u001B[49m\n\u001B[32m    495\u001B[39m \u001B[43m        \u001B[49m\u001B[43mcatch\u001B[49m\u001B[43m=\u001B[49m\u001B[38;5;28;43mtuple\u001B[39;49m\u001B[43m(\u001B[49m\u001B[43mcatch\u001B[49m\u001B[43m)\u001B[49m\u001B[43m \u001B[49m\u001B[38;5;28;43;01mif\u001B[39;49;00m\u001B[43m \u001B[49m\u001B[38;5;28;43misinstance\u001B[39;49m\u001B[43m(\u001B[49m\u001B[43mcatch\u001B[49m\u001B[43m,\u001B[49m\u001B[43m \u001B[49m\u001B[43mIterable\u001B[49m\u001B[43m)\u001B[49m\u001B[43m \u001B[49m\u001B[38;5;28;43;01melse\u001B[39;49;00m\u001B[43m \u001B[49m\u001B[43m(\u001B[49m\u001B[43mcatch\u001B[49m\u001B[43m,\u001B[49m\u001B[43m)\u001B[49m\u001B[43m,\u001B[49m\n\u001B[32m    496\u001B[39m \u001B[43m        \u001B[49m\u001B[43mcallbacks\u001B[49m\u001B[43m=\u001B[49m\u001B[43mcallbacks\u001B[49m\u001B[43m,\u001B[49m\n\u001B[32m    497\u001B[39m \u001B[43m        \u001B[49m\u001B[43mgc_after_trial\u001B[49m\u001B[43m=\u001B[49m\u001B[43mgc_after_trial\u001B[49m\u001B[43m,\u001B[49m\n\u001B[32m    498\u001B[39m \u001B[43m        \u001B[49m\u001B[43mshow_progress_bar\u001B[49m\u001B[43m=\u001B[49m\u001B[43mshow_progress_bar\u001B[49m\u001B[43m,\u001B[49m\n\u001B[32m    499\u001B[39m \u001B[43m    \u001B[49m\u001B[43m)\u001B[49m\n",
      "\u001B[36mFile \u001B[39m\u001B[32m~\\Documents\\Coding stuff\\ADML\\.venv\\Lib\\site-packages\\optuna\\study\\_optimize.py:64\u001B[39m, in \u001B[36m_optimize\u001B[39m\u001B[34m(study, func, n_trials, timeout, n_jobs, catch, callbacks, gc_after_trial, show_progress_bar)\u001B[39m\n\u001B[32m     62\u001B[39m \u001B[38;5;28;01mtry\u001B[39;00m:\n\u001B[32m     63\u001B[39m     \u001B[38;5;28;01mif\u001B[39;00m n_jobs == \u001B[32m1\u001B[39m:\n\u001B[32m---> \u001B[39m\u001B[32m64\u001B[39m         \u001B[43m_optimize_sequential\u001B[49m\u001B[43m(\u001B[49m\n\u001B[32m     65\u001B[39m \u001B[43m            \u001B[49m\u001B[43mstudy\u001B[49m\u001B[43m,\u001B[49m\n\u001B[32m     66\u001B[39m \u001B[43m            \u001B[49m\u001B[43mfunc\u001B[49m\u001B[43m,\u001B[49m\n\u001B[32m     67\u001B[39m \u001B[43m            \u001B[49m\u001B[43mn_trials\u001B[49m\u001B[43m,\u001B[49m\n\u001B[32m     68\u001B[39m \u001B[43m            \u001B[49m\u001B[43mtimeout\u001B[49m\u001B[43m,\u001B[49m\n\u001B[32m     69\u001B[39m \u001B[43m            \u001B[49m\u001B[43mcatch\u001B[49m\u001B[43m,\u001B[49m\n\u001B[32m     70\u001B[39m \u001B[43m            \u001B[49m\u001B[43mcallbacks\u001B[49m\u001B[43m,\u001B[49m\n\u001B[32m     71\u001B[39m \u001B[43m            \u001B[49m\u001B[43mgc_after_trial\u001B[49m\u001B[43m,\u001B[49m\n\u001B[32m     72\u001B[39m \u001B[43m            \u001B[49m\u001B[43mreseed_sampler_rng\u001B[49m\u001B[43m=\u001B[49m\u001B[38;5;28;43;01mFalse\u001B[39;49;00m\u001B[43m,\u001B[49m\n\u001B[32m     73\u001B[39m \u001B[43m            \u001B[49m\u001B[43mtime_start\u001B[49m\u001B[43m=\u001B[49m\u001B[38;5;28;43;01mNone\u001B[39;49;00m\u001B[43m,\u001B[49m\n\u001B[32m     74\u001B[39m \u001B[43m            \u001B[49m\u001B[43mprogress_bar\u001B[49m\u001B[43m=\u001B[49m\u001B[43mprogress_bar\u001B[49m\u001B[43m,\u001B[49m\n\u001B[32m     75\u001B[39m \u001B[43m        \u001B[49m\u001B[43m)\u001B[49m\n\u001B[32m     76\u001B[39m     \u001B[38;5;28;01melse\u001B[39;00m:\n\u001B[32m     77\u001B[39m         \u001B[38;5;28;01mif\u001B[39;00m n_jobs == -\u001B[32m1\u001B[39m:\n",
      "\u001B[36mFile \u001B[39m\u001B[32m~\\Documents\\Coding stuff\\ADML\\.venv\\Lib\\site-packages\\optuna\\study\\_optimize.py:161\u001B[39m, in \u001B[36m_optimize_sequential\u001B[39m\u001B[34m(study, func, n_trials, timeout, catch, callbacks, gc_after_trial, reseed_sampler_rng, time_start, progress_bar)\u001B[39m\n\u001B[32m    158\u001B[39m         \u001B[38;5;28;01mbreak\u001B[39;00m\n\u001B[32m    160\u001B[39m \u001B[38;5;28;01mtry\u001B[39;00m:\n\u001B[32m--> \u001B[39m\u001B[32m161\u001B[39m     frozen_trial = \u001B[43m_run_trial\u001B[49m\u001B[43m(\u001B[49m\u001B[43mstudy\u001B[49m\u001B[43m,\u001B[49m\u001B[43m \u001B[49m\u001B[43mfunc\u001B[49m\u001B[43m,\u001B[49m\u001B[43m \u001B[49m\u001B[43mcatch\u001B[49m\u001B[43m)\u001B[49m\n\u001B[32m    162\u001B[39m \u001B[38;5;28;01mfinally\u001B[39;00m:\n\u001B[32m    163\u001B[39m     \u001B[38;5;66;03m# The following line mitigates memory problems that can be occurred in some\u001B[39;00m\n\u001B[32m    164\u001B[39m     \u001B[38;5;66;03m# environments (e.g., services that use computing containers such as GitHub Actions).\u001B[39;00m\n\u001B[32m    165\u001B[39m     \u001B[38;5;66;03m# Please refer to the following PR for further details:\u001B[39;00m\n\u001B[32m    166\u001B[39m     \u001B[38;5;66;03m# https://github.com/optuna/optuna/pull/325.\u001B[39;00m\n\u001B[32m    167\u001B[39m     \u001B[38;5;28;01mif\u001B[39;00m gc_after_trial:\n",
      "\u001B[36mFile \u001B[39m\u001B[32m~\\Documents\\Coding stuff\\ADML\\.venv\\Lib\\site-packages\\optuna\\study\\_optimize.py:253\u001B[39m, in \u001B[36m_run_trial\u001B[39m\u001B[34m(study, func, catch)\u001B[39m\n\u001B[32m    246\u001B[39m         \u001B[38;5;28;01massert\u001B[39;00m \u001B[38;5;28;01mFalse\u001B[39;00m, \u001B[33m\"\u001B[39m\u001B[33mShould not reach.\u001B[39m\u001B[33m\"\u001B[39m\n\u001B[32m    248\u001B[39m \u001B[38;5;28;01mif\u001B[39;00m (\n\u001B[32m    249\u001B[39m     frozen_trial.state == TrialState.FAIL\n\u001B[32m    250\u001B[39m     \u001B[38;5;129;01mand\u001B[39;00m func_err \u001B[38;5;129;01mis\u001B[39;00m \u001B[38;5;129;01mnot\u001B[39;00m \u001B[38;5;28;01mNone\u001B[39;00m\n\u001B[32m    251\u001B[39m     \u001B[38;5;129;01mand\u001B[39;00m \u001B[38;5;129;01mnot\u001B[39;00m \u001B[38;5;28misinstance\u001B[39m(func_err, catch)\n\u001B[32m    252\u001B[39m ):\n\u001B[32m--> \u001B[39m\u001B[32m253\u001B[39m     \u001B[38;5;28;01mraise\u001B[39;00m func_err\n\u001B[32m    254\u001B[39m \u001B[38;5;28;01mreturn\u001B[39;00m frozen_trial\n",
      "\u001B[36mFile \u001B[39m\u001B[32m~\\Documents\\Coding stuff\\ADML\\.venv\\Lib\\site-packages\\optuna\\study\\_optimize.py:201\u001B[39m, in \u001B[36m_run_trial\u001B[39m\u001B[34m(study, func, catch)\u001B[39m\n\u001B[32m    199\u001B[39m \u001B[38;5;28;01mwith\u001B[39;00m get_heartbeat_thread(trial._trial_id, study._storage):\n\u001B[32m    200\u001B[39m     \u001B[38;5;28;01mtry\u001B[39;00m:\n\u001B[32m--> \u001B[39m\u001B[32m201\u001B[39m         value_or_values = \u001B[43mfunc\u001B[49m\u001B[43m(\u001B[49m\u001B[43mtrial\u001B[49m\u001B[43m)\u001B[49m\n\u001B[32m    202\u001B[39m     \u001B[38;5;28;01mexcept\u001B[39;00m exceptions.TrialPruned \u001B[38;5;28;01mas\u001B[39;00m e:\n\u001B[32m    203\u001B[39m         \u001B[38;5;66;03m# TODO(mamu): Handle multi-objective cases.\u001B[39;00m\n\u001B[32m    204\u001B[39m         state = TrialState.PRUNED\n",
      "\u001B[36mCell\u001B[39m\u001B[36m \u001B[39m\u001B[32mIn[177]\u001B[39m\u001B[32m, line 61\u001B[39m, in \u001B[36mobjective\u001B[39m\u001B[34m(trial)\u001B[39m\n\u001B[32m     59\u001B[39m     model = MultitaskGPModel(X_train, y_train, likelihood, num_tasks)\n\u001B[32m     60\u001B[39m     model.to(device)\n\u001B[32m---> \u001B[39m\u001B[32m61\u001B[39m     initial_likelihood = \u001B[43mmll\u001B[49m\u001B[43m(\u001B[49m\u001B[43mmodel\u001B[49m\u001B[43m(\u001B[49m\u001B[43mX_train\u001B[49m\u001B[43m)\u001B[49m\u001B[43m,\u001B[49m\u001B[43m \u001B[49m\u001B[43my_train\u001B[49m\u001B[43m)\u001B[49m\n\u001B[32m     62\u001B[39m \u001B[38;5;28mprint\u001B[39m(\u001B[33mf\u001B[39m\u001B[33m'\u001B[39m\u001B[33mModel finially intialized with likelihood: \u001B[39m\u001B[38;5;132;01m{\u001B[39;00minitial_likelihood\u001B[38;5;132;01m}\u001B[39;00m\u001B[33m'\u001B[39m)\n\u001B[32m     64\u001B[39m \u001B[38;5;66;03m# Train the model\u001B[39;00m\n",
      "\u001B[36mFile \u001B[39m\u001B[32m~\\Documents\\Coding stuff\\ADML\\.venv\\Lib\\site-packages\\gpytorch\\module.py:82\u001B[39m, in \u001B[36mModule.__call__\u001B[39m\u001B[34m(self, *inputs, **kwargs)\u001B[39m\n\u001B[32m     81\u001B[39m \u001B[38;5;28;01mdef\u001B[39;00m\u001B[38;5;250m \u001B[39m\u001B[34m__call__\u001B[39m(\u001B[38;5;28mself\u001B[39m, *inputs, **kwargs) -> Union[Tensor, Distribution, LinearOperator]:\n\u001B[32m---> \u001B[39m\u001B[32m82\u001B[39m     outputs = \u001B[38;5;28;43mself\u001B[39;49m\u001B[43m.\u001B[49m\u001B[43mforward\u001B[49m\u001B[43m(\u001B[49m\u001B[43m*\u001B[49m\u001B[43minputs\u001B[49m\u001B[43m,\u001B[49m\u001B[43m \u001B[49m\u001B[43m*\u001B[49m\u001B[43m*\u001B[49m\u001B[43mkwargs\u001B[49m\u001B[43m)\u001B[49m\n\u001B[32m     83\u001B[39m     \u001B[38;5;28;01mif\u001B[39;00m \u001B[38;5;28misinstance\u001B[39m(outputs, \u001B[38;5;28mlist\u001B[39m):\n\u001B[32m     84\u001B[39m         \u001B[38;5;28;01mreturn\u001B[39;00m [_validate_module_outputs(output) \u001B[38;5;28;01mfor\u001B[39;00m output \u001B[38;5;129;01min\u001B[39;00m outputs]\n",
      "\u001B[36mFile \u001B[39m\u001B[32m~\\Documents\\Coding stuff\\ADML\\.venv\\Lib\\site-packages\\gpytorch\\mlls\\exact_marginal_log_likelihood.py:82\u001B[39m, in \u001B[36mExactMarginalLogLikelihood.forward\u001B[39m\u001B[34m(self, function_dist, target, *params, **kwargs)\u001B[39m\n\u001B[32m     79\u001B[39m     \u001B[38;5;28;01mraise\u001B[39;00m \u001B[38;5;167;01mValueError\u001B[39;00m(\u001B[33m\"\u001B[39m\u001B[33mNaN observation policy \u001B[39m\u001B[33m'\u001B[39m\u001B[33mfill\u001B[39m\u001B[33m'\u001B[39m\u001B[33m is not supported by ExactMarginalLogLikelihood!\u001B[39m\u001B[33m\"\u001B[39m)\n\u001B[32m     81\u001B[39m \u001B[38;5;66;03m# Get the log prob of the marginal distribution\u001B[39;00m\n\u001B[32m---> \u001B[39m\u001B[32m82\u001B[39m res = \u001B[43moutput\u001B[49m\u001B[43m.\u001B[49m\u001B[43mlog_prob\u001B[49m\u001B[43m(\u001B[49m\u001B[43mtarget\u001B[49m\u001B[43m)\u001B[49m\n\u001B[32m     83\u001B[39m res = \u001B[38;5;28mself\u001B[39m._add_other_terms(res, params)\n\u001B[32m     85\u001B[39m \u001B[38;5;66;03m# Scale by the amount of data we have\u001B[39;00m\n",
      "\u001B[36mFile \u001B[39m\u001B[32m~\\Documents\\Coding stuff\\ADML\\.venv\\Lib\\site-packages\\gpytorch\\distributions\\multitask_multivariate_normal.py:218\u001B[39m, in \u001B[36mMultitaskMultivariateNormal.log_prob\u001B[39m\u001B[34m(self, value)\u001B[39m\n\u001B[32m    216\u001B[39m     new_shape = value.shape[:-\u001B[32m2\u001B[39m] + value.shape[:-\u001B[32m3\u001B[39m:-\u001B[32m1\u001B[39m]\n\u001B[32m    217\u001B[39m     value = value.view(new_shape).transpose(-\u001B[32m1\u001B[39m, -\u001B[32m2\u001B[39m).contiguous()\n\u001B[32m--> \u001B[39m\u001B[32m218\u001B[39m \u001B[38;5;28;01mreturn\u001B[39;00m \u001B[38;5;28;43msuper\u001B[39;49m\u001B[43m(\u001B[49m\u001B[43m)\u001B[49m\u001B[43m.\u001B[49m\u001B[43mlog_prob\u001B[49m\u001B[43m(\u001B[49m\u001B[43mvalue\u001B[49m\u001B[43m.\u001B[49m\u001B[43mreshape\u001B[49m\u001B[43m(\u001B[49m\u001B[43m*\u001B[49m\u001B[43mvalue\u001B[49m\u001B[43m.\u001B[49m\u001B[43mshape\u001B[49m\u001B[43m[\u001B[49m\u001B[43m:\u001B[49m\u001B[43m-\u001B[49m\u001B[32;43m2\u001B[39;49m\u001B[43m]\u001B[49m\u001B[43m,\u001B[49m\u001B[43m \u001B[49m\u001B[43m-\u001B[49m\u001B[32;43m1\u001B[39;49m\u001B[43m)\u001B[49m\u001B[43m)\u001B[49m\n",
      "\u001B[36mFile \u001B[39m\u001B[32m~\\Documents\\Coding stuff\\ADML\\.venv\\Lib\\site-packages\\gpytorch\\distributions\\multivariate_normal.py:250\u001B[39m, in \u001B[36mMultivariateNormal.log_prob\u001B[39m\u001B[34m(self, value)\u001B[39m\n\u001B[32m    248\u001B[39m \u001B[38;5;66;03m# Get log determininant and first part of quadratic form\u001B[39;00m\n\u001B[32m    249\u001B[39m covar = covar.evaluate_kernel()\n\u001B[32m--> \u001B[39m\u001B[32m250\u001B[39m inv_quad, logdet = \u001B[43mcovar\u001B[49m\u001B[43m.\u001B[49m\u001B[43minv_quad_logdet\u001B[49m\u001B[43m(\u001B[49m\u001B[43minv_quad_rhs\u001B[49m\u001B[43m=\u001B[49m\u001B[43mdiff\u001B[49m\u001B[43m.\u001B[49m\u001B[43munsqueeze\u001B[49m\u001B[43m(\u001B[49m\u001B[43m-\u001B[49m\u001B[32;43m1\u001B[39;49m\u001B[43m)\u001B[49m\u001B[43m,\u001B[49m\u001B[43m \u001B[49m\u001B[43mlogdet\u001B[49m\u001B[43m=\u001B[49m\u001B[38;5;28;43;01mTrue\u001B[39;49;00m\u001B[43m)\u001B[49m\n\u001B[32m    252\u001B[39m res = -\u001B[32m0.5\u001B[39m * \u001B[38;5;28msum\u001B[39m([inv_quad, logdet, diff.size(-\u001B[32m1\u001B[39m) * math.log(\u001B[32m2\u001B[39m * math.pi)])\n\u001B[32m    253\u001B[39m \u001B[38;5;28;01mreturn\u001B[39;00m res\n",
      "\u001B[36mFile \u001B[39m\u001B[32m~\\Documents\\Coding stuff\\ADML\\.venv\\Lib\\site-packages\\linear_operator\\operators\\sum_kronecker_linear_operator.py:107\u001B[39m, in \u001B[36mSumKroneckerLinearOperator.inv_quad_logdet\u001B[39m\u001B[34m(self, inv_quad_rhs, logdet, reduce_inv_quad)\u001B[39m\n\u001B[32m    104\u001B[39m logdet_term = \u001B[38;5;28;01mNone\u001B[39;00m\n\u001B[32m    106\u001B[39m \u001B[38;5;28;01mif\u001B[39;00m inv_quad_rhs \u001B[38;5;129;01mis\u001B[39;00m \u001B[38;5;129;01mnot\u001B[39;00m \u001B[38;5;28;01mNone\u001B[39;00m:\n\u001B[32m--> \u001B[39m\u001B[32m107\u001B[39m     solve = \u001B[38;5;28;43mself\u001B[39;49m\u001B[43m.\u001B[49m\u001B[43msolve\u001B[49m\u001B[43m(\u001B[49m\u001B[43minv_quad_rhs\u001B[49m\u001B[43m)\u001B[49m\n\u001B[32m    108\u001B[39m     inv_quad_term = (inv_quad_rhs * solve).sum(-\u001B[32m2\u001B[39m)\n\u001B[32m    110\u001B[39m     \u001B[38;5;28;01mif\u001B[39;00m inv_quad_term.numel() \u001B[38;5;129;01mand\u001B[39;00m reduce_inv_quad:\n",
      "\u001B[36mFile \u001B[39m\u001B[32m~\\Documents\\Coding stuff\\ADML\\.venv\\Lib\\site-packages\\linear_operator\\operators\\_linear_operator.py:2342\u001B[39m, in \u001B[36mLinearOperator.solve\u001B[39m\u001B[34m(self, right_tensor, left_tensor)\u001B[39m\n\u001B[32m   2340\u001B[39m func = Solve\n\u001B[32m   2341\u001B[39m \u001B[38;5;28;01mif\u001B[39;00m left_tensor \u001B[38;5;129;01mis\u001B[39;00m \u001B[38;5;28;01mNone\u001B[39;00m:\n\u001B[32m-> \u001B[39m\u001B[32m2342\u001B[39m     \u001B[38;5;28;01mreturn\u001B[39;00m \u001B[43mfunc\u001B[49m\u001B[43m.\u001B[49m\u001B[43mapply\u001B[49m\u001B[43m(\u001B[49m\u001B[38;5;28;43mself\u001B[39;49m\u001B[43m.\u001B[49m\u001B[43mrepresentation_tree\u001B[49m\u001B[43m(\u001B[49m\u001B[43m)\u001B[49m\u001B[43m,\u001B[49m\u001B[43m \u001B[49m\u001B[38;5;28;43;01mFalse\u001B[39;49;00m\u001B[43m,\u001B[49m\u001B[43m \u001B[49m\u001B[43mright_tensor\u001B[49m\u001B[43m,\u001B[49m\u001B[43m \u001B[49m\u001B[43m*\u001B[49m\u001B[38;5;28;43mself\u001B[39;49m\u001B[43m.\u001B[49m\u001B[43mrepresentation\u001B[49m\u001B[43m(\u001B[49m\u001B[43m)\u001B[49m\u001B[43m)\u001B[49m\n\u001B[32m   2343\u001B[39m \u001B[38;5;28;01melse\u001B[39;00m:\n\u001B[32m   2344\u001B[39m     \u001B[38;5;28;01mreturn\u001B[39;00m func.apply(\n\u001B[32m   2345\u001B[39m         \u001B[38;5;28mself\u001B[39m.representation_tree(),\n\u001B[32m   2346\u001B[39m         \u001B[38;5;28;01mTrue\u001B[39;00m,\n\u001B[32m   (...)\u001B[39m\u001B[32m   2349\u001B[39m         *\u001B[38;5;28mself\u001B[39m.representation(),\n\u001B[32m   2350\u001B[39m     )\n",
      "\u001B[36mFile \u001B[39m\u001B[32m~\\Documents\\Coding stuff\\ADML\\.venv\\Lib\\site-packages\\torch\\autograd\\function.py:575\u001B[39m, in \u001B[36mFunction.apply\u001B[39m\u001B[34m(cls, *args, **kwargs)\u001B[39m\n\u001B[32m    572\u001B[39m \u001B[38;5;28;01mif\u001B[39;00m \u001B[38;5;129;01mnot\u001B[39;00m torch._C._are_functorch_transforms_active():\n\u001B[32m    573\u001B[39m     \u001B[38;5;66;03m# See NOTE: [functorch vjp and autograd interaction]\u001B[39;00m\n\u001B[32m    574\u001B[39m     args = _functorch.utils.unwrap_dead_wrappers(args)\n\u001B[32m--> \u001B[39m\u001B[32m575\u001B[39m     \u001B[38;5;28;01mreturn\u001B[39;00m \u001B[38;5;28;43msuper\u001B[39;49m\u001B[43m(\u001B[49m\u001B[43m)\u001B[49m\u001B[43m.\u001B[49m\u001B[43mapply\u001B[49m\u001B[43m(\u001B[49m\u001B[43m*\u001B[49m\u001B[43margs\u001B[49m\u001B[43m,\u001B[49m\u001B[43m \u001B[49m\u001B[43m*\u001B[49m\u001B[43m*\u001B[49m\u001B[43mkwargs\u001B[49m\u001B[43m)\u001B[49m  \u001B[38;5;66;03m# type: ignore[misc]\u001B[39;00m\n\u001B[32m    577\u001B[39m \u001B[38;5;28;01mif\u001B[39;00m \u001B[38;5;129;01mnot\u001B[39;00m is_setup_ctx_defined:\n\u001B[32m    578\u001B[39m     \u001B[38;5;28;01mraise\u001B[39;00m \u001B[38;5;167;01mRuntimeError\u001B[39;00m(\n\u001B[32m    579\u001B[39m         \u001B[33m\"\u001B[39m\u001B[33mIn order to use an autograd.Function with functorch transforms \u001B[39m\u001B[33m\"\u001B[39m\n\u001B[32m    580\u001B[39m         \u001B[33m\"\u001B[39m\u001B[33m(vmap, grad, jvp, jacrev, ...), it must override the setup_context \u001B[39m\u001B[33m\"\u001B[39m\n\u001B[32m    581\u001B[39m         \u001B[33m\"\u001B[39m\u001B[33mstaticmethod. For more details, please see \u001B[39m\u001B[33m\"\u001B[39m\n\u001B[32m    582\u001B[39m         \u001B[33m\"\u001B[39m\u001B[33mhttps://pytorch.org/docs/main/notes/extending.func.html\u001B[39m\u001B[33m\"\u001B[39m\n\u001B[32m    583\u001B[39m     )\n",
      "\u001B[36mFile \u001B[39m\u001B[32m~\\Documents\\Coding stuff\\ADML\\.venv\\Lib\\site-packages\\linear_operator\\functions\\_solve.py:53\u001B[39m, in \u001B[36mSolve.forward\u001B[39m\u001B[34m(ctx, representation_tree, has_left, *args)\u001B[39m\n\u001B[32m     51\u001B[39m     res = left_tensor @ res\n\u001B[32m     52\u001B[39m \u001B[38;5;28;01melse\u001B[39;00m:\n\u001B[32m---> \u001B[39m\u001B[32m53\u001B[39m     solves = \u001B[43m_solve\u001B[49m\u001B[43m(\u001B[49m\u001B[43mlinear_op\u001B[49m\u001B[43m,\u001B[49m\u001B[43m \u001B[49m\u001B[43mright_tensor\u001B[49m\u001B[43m)\u001B[49m\n\u001B[32m     54\u001B[39m     res = solves\n\u001B[32m     56\u001B[39m \u001B[38;5;28;01mif\u001B[39;00m ctx.is_vector:\n",
      "\u001B[36mFile \u001B[39m\u001B[32m~\\Documents\\Coding stuff\\ADML\\.venv\\Lib\\site-packages\\linear_operator\\functions\\_solve.py:21\u001B[39m, in \u001B[36m_solve\u001B[39m\u001B[34m(linear_op, rhs)\u001B[39m\n\u001B[32m     19\u001B[39m \u001B[38;5;28;01mwith\u001B[39;00m torch.no_grad():\n\u001B[32m     20\u001B[39m     preconditioner = linear_op.detach()._solve_preconditioner()\n\u001B[32m---> \u001B[39m\u001B[32m21\u001B[39m \u001B[38;5;28;01mreturn\u001B[39;00m \u001B[43mlinear_op\u001B[49m\u001B[43m.\u001B[49m\u001B[43m_solve\u001B[49m\u001B[43m(\u001B[49m\u001B[43mrhs\u001B[49m\u001B[43m,\u001B[49m\u001B[43m \u001B[49m\u001B[43mpreconditioner\u001B[49m\u001B[43m)\u001B[49m\n",
      "\u001B[36mFile \u001B[39m\u001B[32m~\\Documents\\Coding stuff\\ADML\\.venv\\Lib\\site-packages\\linear_operator\\operators\\sum_kronecker_linear_operator.py:62\u001B[39m, in \u001B[36mSumKroneckerLinearOperator._solve\u001B[39m\u001B[34m(self, rhs, preconditioner, num_tridiag)\u001B[39m\n\u001B[32m     59\u001B[39m \u001B[38;5;66;03m# now we compute L^{-1} M L^{-T} z\u001B[39;00m\n\u001B[32m     60\u001B[39m \u001B[38;5;66;03m# where M = (C^{-1/2}AC^{-1/2} \\kron D^{-1/2} B D^{-1/2} + I_|C| \\kron I_|D|)\u001B[39;00m\n\u001B[32m     61\u001B[39m res = lt2_inv_root.mT.matmul(rhs)\n\u001B[32m---> \u001B[39m\u001B[32m62\u001B[39m res = \u001B[43minner_mat\u001B[49m\u001B[43m.\u001B[49m\u001B[43msolve\u001B[49m\u001B[43m(\u001B[49m\u001B[43mres\u001B[49m\u001B[43m)\u001B[49m\n\u001B[32m     63\u001B[39m res = lt2_inv_root.matmul(res)\n\u001B[32m     65\u001B[39m \u001B[38;5;28;01mreturn\u001B[39;00m res\n",
      "\u001B[36mFile \u001B[39m\u001B[32m~\\Documents\\Coding stuff\\ADML\\.venv\\Lib\\site-packages\\linear_operator\\operators\\_linear_operator.py:2342\u001B[39m, in \u001B[36mLinearOperator.solve\u001B[39m\u001B[34m(self, right_tensor, left_tensor)\u001B[39m\n\u001B[32m   2340\u001B[39m func = Solve\n\u001B[32m   2341\u001B[39m \u001B[38;5;28;01mif\u001B[39;00m left_tensor \u001B[38;5;129;01mis\u001B[39;00m \u001B[38;5;28;01mNone\u001B[39;00m:\n\u001B[32m-> \u001B[39m\u001B[32m2342\u001B[39m     \u001B[38;5;28;01mreturn\u001B[39;00m \u001B[43mfunc\u001B[49m\u001B[43m.\u001B[49m\u001B[43mapply\u001B[49m\u001B[43m(\u001B[49m\u001B[38;5;28;43mself\u001B[39;49m\u001B[43m.\u001B[49m\u001B[43mrepresentation_tree\u001B[49m\u001B[43m(\u001B[49m\u001B[43m)\u001B[49m\u001B[43m,\u001B[49m\u001B[43m \u001B[49m\u001B[38;5;28;43;01mFalse\u001B[39;49;00m\u001B[43m,\u001B[49m\u001B[43m \u001B[49m\u001B[43mright_tensor\u001B[49m\u001B[43m,\u001B[49m\u001B[43m \u001B[49m\u001B[43m*\u001B[49m\u001B[38;5;28;43mself\u001B[39;49m\u001B[43m.\u001B[49m\u001B[43mrepresentation\u001B[49m\u001B[43m(\u001B[49m\u001B[43m)\u001B[49m\u001B[43m)\u001B[49m\n\u001B[32m   2343\u001B[39m \u001B[38;5;28;01melse\u001B[39;00m:\n\u001B[32m   2344\u001B[39m     \u001B[38;5;28;01mreturn\u001B[39;00m func.apply(\n\u001B[32m   2345\u001B[39m         \u001B[38;5;28mself\u001B[39m.representation_tree(),\n\u001B[32m   2346\u001B[39m         \u001B[38;5;28;01mTrue\u001B[39;00m,\n\u001B[32m   (...)\u001B[39m\u001B[32m   2349\u001B[39m         *\u001B[38;5;28mself\u001B[39m.representation(),\n\u001B[32m   2350\u001B[39m     )\n",
      "\u001B[36mFile \u001B[39m\u001B[32m~\\Documents\\Coding stuff\\ADML\\.venv\\Lib\\site-packages\\torch\\autograd\\function.py:575\u001B[39m, in \u001B[36mFunction.apply\u001B[39m\u001B[34m(cls, *args, **kwargs)\u001B[39m\n\u001B[32m    572\u001B[39m \u001B[38;5;28;01mif\u001B[39;00m \u001B[38;5;129;01mnot\u001B[39;00m torch._C._are_functorch_transforms_active():\n\u001B[32m    573\u001B[39m     \u001B[38;5;66;03m# See NOTE: [functorch vjp and autograd interaction]\u001B[39;00m\n\u001B[32m    574\u001B[39m     args = _functorch.utils.unwrap_dead_wrappers(args)\n\u001B[32m--> \u001B[39m\u001B[32m575\u001B[39m     \u001B[38;5;28;01mreturn\u001B[39;00m \u001B[38;5;28;43msuper\u001B[39;49m\u001B[43m(\u001B[49m\u001B[43m)\u001B[49m\u001B[43m.\u001B[49m\u001B[43mapply\u001B[49m\u001B[43m(\u001B[49m\u001B[43m*\u001B[49m\u001B[43margs\u001B[49m\u001B[43m,\u001B[49m\u001B[43m \u001B[49m\u001B[43m*\u001B[49m\u001B[43m*\u001B[49m\u001B[43mkwargs\u001B[49m\u001B[43m)\u001B[49m  \u001B[38;5;66;03m# type: ignore[misc]\u001B[39;00m\n\u001B[32m    577\u001B[39m \u001B[38;5;28;01mif\u001B[39;00m \u001B[38;5;129;01mnot\u001B[39;00m is_setup_ctx_defined:\n\u001B[32m    578\u001B[39m     \u001B[38;5;28;01mraise\u001B[39;00m \u001B[38;5;167;01mRuntimeError\u001B[39;00m(\n\u001B[32m    579\u001B[39m         \u001B[33m\"\u001B[39m\u001B[33mIn order to use an autograd.Function with functorch transforms \u001B[39m\u001B[33m\"\u001B[39m\n\u001B[32m    580\u001B[39m         \u001B[33m\"\u001B[39m\u001B[33m(vmap, grad, jvp, jacrev, ...), it must override the setup_context \u001B[39m\u001B[33m\"\u001B[39m\n\u001B[32m    581\u001B[39m         \u001B[33m\"\u001B[39m\u001B[33mstaticmethod. For more details, please see \u001B[39m\u001B[33m\"\u001B[39m\n\u001B[32m    582\u001B[39m         \u001B[33m\"\u001B[39m\u001B[33mhttps://pytorch.org/docs/main/notes/extending.func.html\u001B[39m\u001B[33m\"\u001B[39m\n\u001B[32m    583\u001B[39m     )\n",
      "\u001B[36mFile \u001B[39m\u001B[32m~\\Documents\\Coding stuff\\ADML\\.venv\\Lib\\site-packages\\linear_operator\\functions\\_solve.py:53\u001B[39m, in \u001B[36mSolve.forward\u001B[39m\u001B[34m(ctx, representation_tree, has_left, *args)\u001B[39m\n\u001B[32m     51\u001B[39m     res = left_tensor @ res\n\u001B[32m     52\u001B[39m \u001B[38;5;28;01melse\u001B[39;00m:\n\u001B[32m---> \u001B[39m\u001B[32m53\u001B[39m     solves = \u001B[43m_solve\u001B[49m\u001B[43m(\u001B[49m\u001B[43mlinear_op\u001B[49m\u001B[43m,\u001B[49m\u001B[43m \u001B[49m\u001B[43mright_tensor\u001B[49m\u001B[43m)\u001B[49m\n\u001B[32m     54\u001B[39m     res = solves\n\u001B[32m     56\u001B[39m \u001B[38;5;28;01mif\u001B[39;00m ctx.is_vector:\n",
      "\u001B[36mFile \u001B[39m\u001B[32m~\\Documents\\Coding stuff\\ADML\\.venv\\Lib\\site-packages\\linear_operator\\functions\\_solve.py:21\u001B[39m, in \u001B[36m_solve\u001B[39m\u001B[34m(linear_op, rhs)\u001B[39m\n\u001B[32m     19\u001B[39m \u001B[38;5;28;01mwith\u001B[39;00m torch.no_grad():\n\u001B[32m     20\u001B[39m     preconditioner = linear_op.detach()._solve_preconditioner()\n\u001B[32m---> \u001B[39m\u001B[32m21\u001B[39m \u001B[38;5;28;01mreturn\u001B[39;00m \u001B[43mlinear_op\u001B[49m\u001B[43m.\u001B[49m\u001B[43m_solve\u001B[49m\u001B[43m(\u001B[49m\u001B[43mrhs\u001B[49m\u001B[43m,\u001B[49m\u001B[43m \u001B[49m\u001B[43mpreconditioner\u001B[49m\u001B[43m)\u001B[49m\n",
      "\u001B[36mFile \u001B[39m\u001B[32m~\\Documents\\Coding stuff\\ADML\\.venv\\Lib\\site-packages\\linear_operator\\operators\\kronecker_product_added_diag_linear_operator.py:153\u001B[39m, in \u001B[36mKroneckerProductAddedDiagLinearOperator._solve\u001B[39m\u001B[34m(self, rhs, preconditioner, num_tridiag)\u001B[39m\n\u001B[32m    150\u001B[39m \u001B[38;5;66;03m# if the diagonal is constant, we can solve this using the Kronecker-structured eigendecomposition\u001B[39;00m\n\u001B[32m    151\u001B[39m \u001B[38;5;66;03m# and performing a spectral shift of its eigenvalues\u001B[39;00m\n\u001B[32m    152\u001B[39m \u001B[38;5;28;01mif\u001B[39;00m \u001B[38;5;28mself\u001B[39m._diag_is_constant:\n\u001B[32m--> \u001B[39m\u001B[32m153\u001B[39m     evals, q_matrix = \u001B[38;5;28;43mself\u001B[39;49m\u001B[43m.\u001B[49m\u001B[43mlinear_op\u001B[49m\u001B[43m.\u001B[49m\u001B[43mto\u001B[49m\u001B[43m(\u001B[49m\u001B[43msymeig_dtype\u001B[49m\u001B[43m)\u001B[49m\u001B[43m.\u001B[49m\u001B[43mdiagonalization\u001B[49m\u001B[43m(\u001B[49m\u001B[43m)\u001B[49m\n\u001B[32m    154\u001B[39m     evals_plus_diagonal = evals + \u001B[38;5;28mself\u001B[39m.diag_tensor._diagonal().to(symeig_dtype)\n\u001B[32m    155\u001B[39m     evals_root = evals_plus_diagonal.pow(\u001B[32m0.5\u001B[39m)\n",
      "\u001B[36mFile \u001B[39m\u001B[32m~\\Documents\\Coding stuff\\ADML\\.venv\\Lib\\site-packages\\linear_operator\\operators\\kronecker_product_linear_operator.py:152\u001B[39m, in \u001B[36mKroneckerProductLinearOperator.diagonalization\u001B[39m\u001B[34m(self, method)\u001B[39m\n\u001B[32m    150\u001B[39m \u001B[38;5;28;01mif\u001B[39;00m method \u001B[38;5;129;01mis\u001B[39;00m \u001B[38;5;28;01mNone\u001B[39;00m:\n\u001B[32m    151\u001B[39m     method = \u001B[33m\"\u001B[39m\u001B[33msymeig\u001B[39m\u001B[33m\"\u001B[39m\n\u001B[32m--> \u001B[39m\u001B[32m152\u001B[39m \u001B[38;5;28;01mreturn\u001B[39;00m \u001B[38;5;28;43msuper\u001B[39;49m\u001B[43m(\u001B[49m\u001B[43m)\u001B[49m\u001B[43m.\u001B[49m\u001B[43mdiagonalization\u001B[49m\u001B[43m(\u001B[49m\u001B[43mmethod\u001B[49m\u001B[43m=\u001B[49m\u001B[43mmethod\u001B[49m\u001B[43m)\u001B[49m\n",
      "\u001B[36mFile \u001B[39m\u001B[32m~\\Documents\\Coding stuff\\ADML\\.venv\\Lib\\site-packages\\linear_operator\\utils\\memoize.py:59\u001B[39m, in \u001B[36m_cached.<locals>.g\u001B[39m\u001B[34m(self, *args, **kwargs)\u001B[39m\n\u001B[32m     57\u001B[39m kwargs_pkl = pickle.dumps(kwargs)\n\u001B[32m     58\u001B[39m \u001B[38;5;28;01mif\u001B[39;00m \u001B[38;5;129;01mnot\u001B[39;00m _is_in_cache(\u001B[38;5;28mself\u001B[39m, cache_name, *args, kwargs_pkl=kwargs_pkl):\n\u001B[32m---> \u001B[39m\u001B[32m59\u001B[39m     \u001B[38;5;28;01mreturn\u001B[39;00m _add_to_cache(\u001B[38;5;28mself\u001B[39m, cache_name, \u001B[43mmethod\u001B[49m\u001B[43m(\u001B[49m\u001B[38;5;28;43mself\u001B[39;49m\u001B[43m,\u001B[49m\u001B[43m \u001B[49m\u001B[43m*\u001B[49m\u001B[43margs\u001B[49m\u001B[43m,\u001B[49m\u001B[43m \u001B[49m\u001B[43m*\u001B[49m\u001B[43m*\u001B[49m\u001B[43mkwargs\u001B[49m\u001B[43m)\u001B[49m, *args, kwargs_pkl=kwargs_pkl)\n\u001B[32m     60\u001B[39m \u001B[38;5;28;01mreturn\u001B[39;00m _get_from_cache(\u001B[38;5;28mself\u001B[39m, cache_name, *args, kwargs_pkl=kwargs_pkl)\n",
      "\u001B[36mFile \u001B[39m\u001B[32m~\\Documents\\Coding stuff\\ADML\\.venv\\Lib\\site-packages\\linear_operator\\operators\\_linear_operator.py:1461\u001B[39m, in \u001B[36mLinearOperator.diagonalization\u001B[39m\u001B[34m(self, method)\u001B[39m\n\u001B[32m   1458\u001B[39m     evecs = to_linear_operator(evecs)\n\u001B[32m   1460\u001B[39m \u001B[38;5;28;01melif\u001B[39;00m method == \u001B[33m\"\u001B[39m\u001B[33msymeig\u001B[39m\u001B[33m\"\u001B[39m:\n\u001B[32m-> \u001B[39m\u001B[32m1461\u001B[39m     evals, evecs = \u001B[38;5;28;43mself\u001B[39;49m\u001B[43m.\u001B[49m\u001B[43m_symeig\u001B[49m\u001B[43m(\u001B[49m\u001B[43meigenvectors\u001B[49m\u001B[43m=\u001B[49m\u001B[38;5;28;43;01mTrue\u001B[39;49;00m\u001B[43m)\u001B[49m\n\u001B[32m   1462\u001B[39m \u001B[38;5;28;01melse\u001B[39;00m:\n\u001B[32m   1463\u001B[39m     \u001B[38;5;28;01mraise\u001B[39;00m \u001B[38;5;167;01mRuntimeError\u001B[39;00m(\u001B[33mf\u001B[39m\u001B[33m\"\u001B[39m\u001B[33mUnknown diagonalization method \u001B[39m\u001B[33m'\u001B[39m\u001B[38;5;132;01m{\u001B[39;00mmethod\u001B[38;5;132;01m}\u001B[39;00m\u001B[33m'\u001B[39m\u001B[33m\"\u001B[39m)\n",
      "\u001B[36mFile \u001B[39m\u001B[32m~\\Documents\\Coding stuff\\ADML\\.venv\\Lib\\site-packages\\linear_operator\\operators\\kronecker_product_linear_operator.py:342\u001B[39m, in \u001B[36mKroneckerProductLinearOperator._symeig\u001B[39m\u001B[34m(self, eigenvectors, return_evals_as_lazy)\u001B[39m\n\u001B[32m    340\u001B[39m evals, evecs = [], []\n\u001B[32m    341\u001B[39m \u001B[38;5;28;01mfor\u001B[39;00m lt \u001B[38;5;129;01min\u001B[39;00m \u001B[38;5;28mself\u001B[39m.linear_ops:\n\u001B[32m--> \u001B[39m\u001B[32m342\u001B[39m     evals_, evecs_ = \u001B[43mlt\u001B[49m\u001B[43m.\u001B[49m\u001B[43m_symeig\u001B[49m\u001B[43m(\u001B[49m\u001B[43meigenvectors\u001B[49m\u001B[43m=\u001B[49m\u001B[43meigenvectors\u001B[49m\u001B[43m)\u001B[49m\n\u001B[32m    343\u001B[39m     evals.append(evals_)\n\u001B[32m    344\u001B[39m     evecs.append(evecs_)\n",
      "\u001B[36mFile \u001B[39m\u001B[32m~\\Documents\\Coding stuff\\ADML\\.venv\\Lib\\site-packages\\linear_operator\\operators\\_linear_operator.py:892\u001B[39m, in \u001B[36mLinearOperator._symeig\u001B[39m\u001B[34m(self, eigenvectors, return_evals_as_lazy)\u001B[39m\n\u001B[32m    890\u001B[39m \u001B[38;5;66;03m# potentially perform decomposition in double precision for numerical stability\u001B[39;00m\n\u001B[32m    891\u001B[39m dtype = \u001B[38;5;28mself\u001B[39m.dtype\n\u001B[32m--> \u001B[39m\u001B[32m892\u001B[39m evals, evecs = \u001B[43mtorch\u001B[49m\u001B[43m.\u001B[49m\u001B[43mlinalg\u001B[49m\u001B[43m.\u001B[49m\u001B[43meigh\u001B[49m\u001B[43m(\u001B[49m\u001B[38;5;28;43mself\u001B[39;49m\u001B[43m.\u001B[49m\u001B[43mto_dense\u001B[49m\u001B[43m(\u001B[49m\u001B[43m)\u001B[49m\u001B[43m.\u001B[49m\u001B[43mto\u001B[49m\u001B[43m(\u001B[49m\u001B[43mdtype\u001B[49m\u001B[43m=\u001B[49m\u001B[43msettings\u001B[49m\u001B[43m.\u001B[49m\u001B[43m_linalg_dtype_symeig\u001B[49m\u001B[43m.\u001B[49m\u001B[43mvalue\u001B[49m\u001B[43m(\u001B[49m\u001B[43m)\u001B[49m\u001B[43m)\u001B[49m\u001B[43m)\u001B[49m\n\u001B[32m    893\u001B[39m \u001B[38;5;66;03m# chop any negative eigenvalues.\u001B[39;00m\n\u001B[32m    894\u001B[39m \u001B[38;5;66;03m# TODO: warn if evals are significantly negative\u001B[39;00m\n\u001B[32m    895\u001B[39m evals = evals.clamp_min(\u001B[32m0.0\u001B[39m).to(dtype=dtype)\n",
      "\u001B[31mKeyboardInterrupt\u001B[39m: "
     ]
    }
   ],
   "execution_count": 177
  },
  {
   "cell_type": "code",
   "id": "cee538ed",
   "metadata": {
    "ExecuteTime": {
     "end_time": "2025-07-02T11:28:32.283870Z",
     "start_time": "2025-07-02T11:28:32.145197Z"
    }
   },
   "source": [
    "device = 'cuda'\n",
    "torch.manual_seed(42)\n",
    "X_train, y_train = X_train.to(device), y_train.to(device)\n",
    "X_test, y_test = X_test.to(device), y_test.to(device)\n",
    "\n",
    "noise_prior = GammaPrior(concentration=1.1, rate=0.05)\n",
    "num_tasks = 3\n",
    "likelihood = gpytorch.likelihoods.MultitaskGaussianLikelihood(num_tasks=num_tasks, rank=1, noise_prior=noise_prior)\n",
    "# likelihood.noise = 0.5\n",
    "model = MultitaskGPModel(X_train, y_train, likelihood, num_tasks)\n",
    "model.to(device)\n",
    "\n",
    "mll = gpytorch.mlls.ExactMarginalLogLikelihood(likelihood, model)\n",
    "\n",
    "initial_likelihood = mll(model(X_train), y_train)\n",
    "while initial_likelihood < -1.55:\n",
    "    model = MultitaskGPModel(X_train, y_train, likelihood, num_tasks)\n",
    "    model.to(device)\n",
    "    initial_likelihood = mll(model(X_train), y_train)\n",
    "print(f'Model finially intialized with likelihood: {initial_likelihood}')\n",
    "\n",
    "\n",
    "model.train()\n",
    "likelihood.train()\n",
    "# optimizer = torch.optim.AdamW(model.parameters(), lr=0.02, weight_decay = 1e-5, maximize=True)\n",
    "optimizer = torch.optim.AdamW(model.parameters(), lr=0.010873204579394679, weight_decay = 0.0009152256293915124, maximize=True)\n",
    "\n",
    "\n",
    "# scheduler = torch.optim.lr_scheduler.StepLR(optimizer, step_size=50, gamma=0.1)\n",
    "# scheduler = torch.optim.lr_scheduler.MultiStepLR(optimizer, milestones=[600], gamma=10)\n",
    "# scheduler = torch.optim.lr_scheduler.ReduceLROnPlateau(optimizer, mode='max', factor=0.5, patience=10, threshold=1e-4)\n",
    "# scheduler = IncreaseLROnPlateau(optimizer, mode='max', patience=3, threshold=1e-4, factor=2.0, verbose=True)\n",
    "scheduler = torch.optim.lr_scheduler.ReduceLROnPlateau(optimizer, mode='max', factor=0.264146097094465, patience=14, threshold=1e-4)\n",
    "\n",
    "training_loss = []\n",
    "test_losses = []\n"
   ],
   "outputs": [
    {
     "name": "stdout",
     "output_type": "stream",
     "text": [
      "Model finially intialized with likelihood: -1.4998235702514648\n"
     ]
    }
   ],
   "execution_count": 182
  },
  {
   "cell_type": "code",
   "id": "88ba331b",
   "metadata": {
    "ExecuteTime": {
     "end_time": "2025-07-02T11:42:24.207168Z",
     "start_time": "2025-07-02T11:36:49.749810Z"
    }
   },
   "source": [
    "num_iter = 500\n",
    "model.to(device)\n",
    "for i in range(num_iter):\n",
    "    model.train()\n",
    "    optimizer.zero_grad()\n",
    "    output = model(X_train)\n",
    "    mean = output.mean\n",
    "    loss = mll(output, y_train)\n",
    "    loss.backward()\n",
    "    training_loss.append(loss.item())\n",
    "\n",
    "    # Break the loop if loss does not decrease significantly over the last 3 epochs\n",
    "    if i > 3 and abs(training_loss[-1] - training_loss[-2]) < 1e-5 and abs(training_loss[-2] - training_loss[-3]) < 1e-5:\n",
    "        print(f\"Early stopping at iteration {i} with loss {loss.item()}\")\n",
    "        break\n",
    "\n",
    "    optimizer.step()\n",
    "    scheduler.step(loss.item())\n",
    "\n",
    "    model.eval()\n",
    "    test_output = model(X_test)\n",
    "    test_loss = mll(test_output, y_test)\n",
    "    test_losses.append(test_loss.item())\n",
    "\n",
    "    print('Iter %d/%d - Loss: %.3f' % (i + 1, num_iter, loss.item()))\n",
    "\n",
    "# Evaluation\n",
    "model.eval()\n",
    "likelihood.eval()"
   ],
   "outputs": [
    {
     "name": "stdout",
     "output_type": "stream",
     "text": [
      "Iter 1/500 - Loss: -0.539\n",
      "Iter 2/500 - Loss: -0.538\n",
      "Iter 3/500 - Loss: -0.538\n",
      "Iter 4/500 - Loss: -0.538\n",
      "Iter 5/500 - Loss: -0.538\n",
      "Iter 6/500 - Loss: -0.538\n",
      "Iter 7/500 - Loss: -0.538\n",
      "Iter 8/500 - Loss: -0.538\n",
      "Iter 9/500 - Loss: -0.538\n",
      "Iter 10/500 - Loss: -0.537\n",
      "Iter 11/500 - Loss: -0.537\n",
      "Iter 12/500 - Loss: -0.537\n",
      "Iter 13/500 - Loss: -0.537\n",
      "Iter 14/500 - Loss: -0.537\n",
      "Iter 15/500 - Loss: -0.537\n",
      "Iter 16/500 - Loss: -0.537\n",
      "Iter 17/500 - Loss: -0.537\n",
      "Iter 18/500 - Loss: -0.537\n",
      "Iter 19/500 - Loss: -0.537\n",
      "Iter 20/500 - Loss: -0.536\n",
      "Iter 21/500 - Loss: -0.536\n",
      "Iter 22/500 - Loss: -0.536\n",
      "Iter 23/500 - Loss: -0.536\n",
      "Iter 24/500 - Loss: -0.536\n",
      "Iter 25/500 - Loss: -0.536\n",
      "Iter 26/500 - Loss: -0.536\n",
      "Iter 27/500 - Loss: -0.536\n",
      "Iter 28/500 - Loss: -0.536\n",
      "Iter 29/500 - Loss: -0.536\n",
      "Iter 30/500 - Loss: -0.536\n",
      "Iter 31/500 - Loss: -0.536\n",
      "Iter 32/500 - Loss: -0.535\n",
      "Iter 33/500 - Loss: -0.535\n",
      "Iter 34/500 - Loss: -0.535\n",
      "Iter 35/500 - Loss: -0.535\n",
      "Iter 36/500 - Loss: -0.535\n",
      "Iter 37/500 - Loss: -0.535\n",
      "Iter 38/500 - Loss: -0.535\n",
      "Iter 39/500 - Loss: -0.535\n",
      "Iter 40/500 - Loss: -0.535\n",
      "Iter 41/500 - Loss: -0.535\n",
      "Iter 42/500 - Loss: -0.535\n",
      "Iter 43/500 - Loss: -0.535\n",
      "Iter 44/500 - Loss: -0.535\n",
      "Iter 45/500 - Loss: -0.535\n",
      "Iter 46/500 - Loss: -0.535\n",
      "Iter 47/500 - Loss: -0.534\n",
      "Iter 48/500 - Loss: -0.534\n",
      "Iter 49/500 - Loss: -0.534\n",
      "Iter 50/500 - Loss: -0.534\n",
      "Iter 51/500 - Loss: -0.534\n",
      "Iter 52/500 - Loss: -0.534\n",
      "Iter 53/500 - Loss: -0.534\n",
      "Iter 54/500 - Loss: -0.534\n",
      "Iter 55/500 - Loss: -0.534\n",
      "Iter 56/500 - Loss: -0.534\n",
      "Iter 57/500 - Loss: -0.534\n",
      "Iter 58/500 - Loss: -0.534\n",
      "Iter 59/500 - Loss: -0.534\n",
      "Iter 60/500 - Loss: -0.534\n",
      "Iter 61/500 - Loss: -0.534\n",
      "Iter 62/500 - Loss: -0.534\n",
      "Iter 63/500 - Loss: -0.534\n",
      "Iter 64/500 - Loss: -0.534\n",
      "Iter 65/500 - Loss: -0.533\n",
      "Iter 66/500 - Loss: -0.533\n",
      "Iter 67/500 - Loss: -0.533\n",
      "Iter 68/500 - Loss: -0.533\n",
      "Iter 69/500 - Loss: -0.533\n",
      "Iter 70/500 - Loss: -0.533\n",
      "Iter 71/500 - Loss: -0.533\n",
      "Iter 72/500 - Loss: -0.533\n",
      "Iter 73/500 - Loss: -0.533\n",
      "Iter 74/500 - Loss: -0.533\n",
      "Iter 75/500 - Loss: -0.533\n",
      "Iter 76/500 - Loss: -0.533\n",
      "Iter 77/500 - Loss: -0.533\n",
      "Iter 78/500 - Loss: -0.533\n",
      "Iter 79/500 - Loss: -0.533\n",
      "Iter 80/500 - Loss: -0.533\n",
      "Iter 81/500 - Loss: -0.533\n",
      "Iter 82/500 - Loss: -0.533\n",
      "Iter 83/500 - Loss: -0.533\n",
      "Iter 84/500 - Loss: -0.533\n",
      "Iter 85/500 - Loss: -0.533\n",
      "Iter 86/500 - Loss: -0.533\n",
      "Iter 87/500 - Loss: -0.533\n",
      "Iter 88/500 - Loss: -0.532\n",
      "Iter 89/500 - Loss: -0.532\n",
      "Iter 90/500 - Loss: -0.532\n",
      "Iter 91/500 - Loss: -0.532\n",
      "Iter 92/500 - Loss: -0.532\n",
      "Iter 93/500 - Loss: -0.532\n",
      "Iter 94/500 - Loss: -0.532\n",
      "Iter 95/500 - Loss: -0.532\n",
      "Iter 96/500 - Loss: -0.532\n",
      "Iter 97/500 - Loss: -0.532\n",
      "Iter 98/500 - Loss: -0.532\n",
      "Iter 99/500 - Loss: -0.532\n",
      "Iter 100/500 - Loss: -0.532\n",
      "Iter 101/500 - Loss: -0.532\n",
      "Iter 102/500 - Loss: -0.532\n",
      "Iter 103/500 - Loss: -0.532\n",
      "Iter 104/500 - Loss: -0.532\n",
      "Iter 105/500 - Loss: -0.532\n",
      "Iter 106/500 - Loss: -0.532\n",
      "Iter 107/500 - Loss: -0.532\n",
      "Iter 108/500 - Loss: -0.532\n",
      "Iter 109/500 - Loss: -0.532\n",
      "Iter 110/500 - Loss: -0.532\n",
      "Iter 111/500 - Loss: -0.532\n",
      "Iter 112/500 - Loss: -0.532\n",
      "Iter 113/500 - Loss: -0.532\n",
      "Iter 114/500 - Loss: -0.532\n",
      "Iter 115/500 - Loss: -0.532\n",
      "Iter 116/500 - Loss: -0.531\n",
      "Iter 117/500 - Loss: -0.531\n",
      "Iter 118/500 - Loss: -0.531\n",
      "Iter 119/500 - Loss: -0.531\n",
      "Iter 120/500 - Loss: -0.531\n",
      "Iter 121/500 - Loss: -0.531\n",
      "Iter 122/500 - Loss: -0.531\n",
      "Iter 123/500 - Loss: -0.531\n",
      "Iter 124/500 - Loss: -0.531\n",
      "Iter 125/500 - Loss: -0.531\n",
      "Iter 126/500 - Loss: -0.531\n",
      "Iter 127/500 - Loss: -0.531\n",
      "Iter 128/500 - Loss: -0.531\n",
      "Iter 129/500 - Loss: -0.531\n",
      "Iter 130/500 - Loss: -0.531\n",
      "Iter 131/500 - Loss: -0.531\n",
      "Iter 132/500 - Loss: -0.531\n",
      "Iter 133/500 - Loss: -0.531\n",
      "Iter 134/500 - Loss: -0.531\n",
      "Iter 135/500 - Loss: -0.531\n",
      "Iter 136/500 - Loss: -0.531\n",
      "Iter 137/500 - Loss: -0.531\n",
      "Iter 138/500 - Loss: -0.531\n",
      "Iter 139/500 - Loss: -0.531\n",
      "Iter 140/500 - Loss: -0.531\n",
      "Iter 141/500 - Loss: -0.531\n",
      "Iter 142/500 - Loss: -0.531\n",
      "Iter 143/500 - Loss: -0.531\n",
      "Iter 144/500 - Loss: -0.531\n",
      "Iter 145/500 - Loss: -0.531\n",
      "Iter 146/500 - Loss: -0.531\n",
      "Iter 147/500 - Loss: -0.531\n",
      "Iter 148/500 - Loss: -0.530\n",
      "Iter 149/500 - Loss: -0.530\n",
      "Iter 150/500 - Loss: -0.530\n",
      "Iter 151/500 - Loss: -0.530\n",
      "Iter 152/500 - Loss: -0.530\n",
      "Iter 153/500 - Loss: -0.530\n",
      "Iter 154/500 - Loss: -0.530\n",
      "Iter 155/500 - Loss: -0.530\n",
      "Iter 156/500 - Loss: -0.530\n",
      "Iter 157/500 - Loss: -0.530\n",
      "Iter 158/500 - Loss: -0.530\n",
      "Iter 159/500 - Loss: -0.530\n",
      "Iter 160/500 - Loss: -0.530\n",
      "Iter 161/500 - Loss: -0.530\n",
      "Iter 162/500 - Loss: -0.530\n",
      "Iter 163/500 - Loss: -0.530\n",
      "Iter 164/500 - Loss: -0.530\n",
      "Iter 165/500 - Loss: -0.530\n",
      "Iter 166/500 - Loss: -0.530\n",
      "Iter 167/500 - Loss: -0.530\n",
      "Iter 168/500 - Loss: -0.530\n",
      "Iter 169/500 - Loss: -0.530\n",
      "Iter 170/500 - Loss: -0.530\n",
      "Iter 171/500 - Loss: -0.530\n",
      "Iter 172/500 - Loss: -0.530\n",
      "Iter 173/500 - Loss: -0.530\n",
      "Iter 174/500 - Loss: -0.530\n",
      "Iter 175/500 - Loss: -0.530\n",
      "Iter 176/500 - Loss: -0.530\n",
      "Iter 177/500 - Loss: -0.530\n",
      "Iter 178/500 - Loss: -0.530\n",
      "Iter 179/500 - Loss: -0.530\n",
      "Iter 180/500 - Loss: -0.530\n",
      "Iter 181/500 - Loss: -0.530\n",
      "Iter 182/500 - Loss: -0.530\n",
      "Iter 183/500 - Loss: -0.530\n",
      "Iter 184/500 - Loss: -0.530\n",
      "Iter 185/500 - Loss: -0.530\n",
      "Iter 186/500 - Loss: -0.529\n",
      "Iter 187/500 - Loss: -0.529\n",
      "Iter 188/500 - Loss: -0.529\n",
      "Iter 189/500 - Loss: -0.529\n",
      "Iter 190/500 - Loss: -0.529\n",
      "Iter 191/500 - Loss: -0.529\n",
      "Iter 192/500 - Loss: -0.529\n",
      "Iter 193/500 - Loss: -0.529\n",
      "Iter 194/500 - Loss: -0.529\n",
      "Iter 195/500 - Loss: -0.529\n",
      "Iter 196/500 - Loss: -0.529\n",
      "Iter 197/500 - Loss: -0.529\n",
      "Iter 198/500 - Loss: -0.529\n",
      "Iter 199/500 - Loss: -0.529\n",
      "Iter 200/500 - Loss: -0.529\n",
      "Iter 201/500 - Loss: -0.529\n",
      "Iter 202/500 - Loss: -0.529\n",
      "Iter 203/500 - Loss: -0.529\n",
      "Iter 204/500 - Loss: -0.529\n",
      "Iter 205/500 - Loss: -0.529\n",
      "Iter 206/500 - Loss: -0.529\n",
      "Iter 207/500 - Loss: -0.529\n",
      "Iter 208/500 - Loss: -0.529\n",
      "Iter 209/500 - Loss: -0.529\n",
      "Iter 210/500 - Loss: -0.529\n",
      "Iter 211/500 - Loss: -0.529\n",
      "Iter 212/500 - Loss: -0.529\n",
      "Iter 213/500 - Loss: -0.529\n",
      "Iter 214/500 - Loss: -0.529\n",
      "Iter 215/500 - Loss: -0.529\n",
      "Iter 216/500 - Loss: -0.529\n",
      "Iter 217/500 - Loss: -0.529\n",
      "Iter 218/500 - Loss: -0.529\n",
      "Iter 219/500 - Loss: -0.529\n",
      "Iter 220/500 - Loss: -0.529\n",
      "Iter 221/500 - Loss: -0.529\n",
      "Iter 222/500 - Loss: -0.529\n",
      "Iter 223/500 - Loss: -0.529\n",
      "Iter 224/500 - Loss: -0.529\n",
      "Iter 225/500 - Loss: -0.529\n",
      "Iter 226/500 - Loss: -0.529\n",
      "Iter 227/500 - Loss: -0.529\n",
      "Iter 228/500 - Loss: -0.529\n",
      "Iter 229/500 - Loss: -0.528\n",
      "Iter 230/500 - Loss: -0.528\n",
      "Iter 231/500 - Loss: -0.528\n",
      "Iter 232/500 - Loss: -0.528\n",
      "Iter 233/500 - Loss: -0.528\n",
      "Iter 234/500 - Loss: -0.528\n",
      "Iter 235/500 - Loss: -0.528\n",
      "Iter 236/500 - Loss: -0.528\n",
      "Iter 237/500 - Loss: -0.528\n",
      "Iter 238/500 - Loss: -0.528\n",
      "Iter 239/500 - Loss: -0.528\n",
      "Iter 240/500 - Loss: -0.528\n",
      "Iter 241/500 - Loss: -0.528\n",
      "Iter 242/500 - Loss: -0.528\n",
      "Iter 243/500 - Loss: -0.528\n",
      "Iter 244/500 - Loss: -0.528\n",
      "Iter 245/500 - Loss: -0.528\n",
      "Iter 246/500 - Loss: -0.528\n",
      "Iter 247/500 - Loss: -0.528\n",
      "Iter 248/500 - Loss: -0.528\n",
      "Iter 249/500 - Loss: -0.528\n",
      "Iter 250/500 - Loss: -0.528\n",
      "Iter 251/500 - Loss: -0.528\n",
      "Iter 252/500 - Loss: -0.528\n",
      "Iter 253/500 - Loss: -0.528\n",
      "Iter 254/500 - Loss: -0.528\n",
      "Iter 255/500 - Loss: -0.528\n",
      "Iter 256/500 - Loss: -0.528\n",
      "Iter 257/500 - Loss: -0.528\n",
      "Iter 258/500 - Loss: -0.528\n",
      "Iter 259/500 - Loss: -0.528\n",
      "Iter 260/500 - Loss: -0.528\n",
      "Iter 261/500 - Loss: -0.528\n",
      "Iter 262/500 - Loss: -0.528\n",
      "Iter 263/500 - Loss: -0.528\n",
      "Iter 264/500 - Loss: -0.528\n",
      "Iter 265/500 - Loss: -0.528\n",
      "Iter 266/500 - Loss: -0.528\n",
      "Iter 267/500 - Loss: -0.528\n",
      "Iter 268/500 - Loss: -0.528\n",
      "Iter 269/500 - Loss: -0.528\n",
      "Iter 270/500 - Loss: -0.528\n",
      "Iter 271/500 - Loss: -0.528\n",
      "Iter 272/500 - Loss: -0.528\n",
      "Iter 273/500 - Loss: -0.528\n",
      "Iter 274/500 - Loss: -0.528\n",
      "Iter 275/500 - Loss: -0.528\n",
      "Iter 276/500 - Loss: -0.528\n",
      "Iter 277/500 - Loss: -0.528\n",
      "Iter 278/500 - Loss: -0.528\n",
      "Iter 279/500 - Loss: -0.527\n",
      "Iter 280/500 - Loss: -0.527\n",
      "Iter 281/500 - Loss: -0.527\n",
      "Iter 282/500 - Loss: -0.527\n",
      "Iter 283/500 - Loss: -0.527\n",
      "Iter 284/500 - Loss: -0.527\n",
      "Iter 285/500 - Loss: -0.527\n",
      "Iter 286/500 - Loss: -0.527\n",
      "Iter 287/500 - Loss: -0.527\n",
      "Iter 288/500 - Loss: -0.527\n",
      "Iter 289/500 - Loss: -0.527\n",
      "Iter 290/500 - Loss: -0.527\n",
      "Iter 291/500 - Loss: -0.527\n",
      "Iter 292/500 - Loss: -0.527\n",
      "Iter 293/500 - Loss: -0.527\n",
      "Iter 294/500 - Loss: -0.527\n",
      "Iter 295/500 - Loss: -0.527\n",
      "Iter 296/500 - Loss: -0.527\n",
      "Iter 297/500 - Loss: -0.527\n",
      "Iter 298/500 - Loss: -0.527\n",
      "Iter 299/500 - Loss: -0.527\n",
      "Iter 300/500 - Loss: -0.527\n",
      "Iter 301/500 - Loss: -0.527\n",
      "Iter 302/500 - Loss: -0.527\n",
      "Iter 303/500 - Loss: -0.527\n",
      "Iter 304/500 - Loss: -0.527\n",
      "Iter 305/500 - Loss: -0.527\n",
      "Iter 306/500 - Loss: -0.527\n",
      "Iter 307/500 - Loss: -0.527\n",
      "Iter 308/500 - Loss: -0.527\n",
      "Iter 309/500 - Loss: -0.527\n",
      "Iter 310/500 - Loss: -0.527\n",
      "Iter 311/500 - Loss: -0.527\n",
      "Iter 312/500 - Loss: -0.527\n",
      "Iter 313/500 - Loss: -0.527\n",
      "Iter 314/500 - Loss: -0.527\n",
      "Iter 315/500 - Loss: -0.527\n",
      "Iter 316/500 - Loss: -0.527\n",
      "Iter 317/500 - Loss: -0.527\n",
      "Iter 318/500 - Loss: -0.527\n",
      "Iter 319/500 - Loss: -0.527\n",
      "Iter 320/500 - Loss: -0.527\n",
      "Iter 321/500 - Loss: -0.527\n",
      "Iter 322/500 - Loss: -0.527\n",
      "Iter 323/500 - Loss: -0.527\n",
      "Iter 324/500 - Loss: -0.527\n",
      "Iter 325/500 - Loss: -0.527\n",
      "Iter 326/500 - Loss: -0.527\n",
      "Iter 327/500 - Loss: -0.527\n",
      "Iter 328/500 - Loss: -0.527\n",
      "Iter 329/500 - Loss: -0.527\n",
      "Iter 330/500 - Loss: -0.527\n",
      "Iter 331/500 - Loss: -0.527\n",
      "Iter 332/500 - Loss: -0.527\n",
      "Iter 333/500 - Loss: -0.527\n",
      "Iter 334/500 - Loss: -0.527\n",
      "Iter 335/500 - Loss: -0.527\n",
      "Iter 336/500 - Loss: -0.527\n",
      "Iter 337/500 - Loss: -0.527\n",
      "Iter 338/500 - Loss: -0.526\n",
      "Iter 339/500 - Loss: -0.526\n",
      "Iter 340/500 - Loss: -0.526\n",
      "Iter 341/500 - Loss: -0.526\n",
      "Iter 342/500 - Loss: -0.526\n",
      "Iter 343/500 - Loss: -0.526\n",
      "Iter 344/500 - Loss: -0.526\n",
      "Iter 345/500 - Loss: -0.526\n",
      "Iter 346/500 - Loss: -0.526\n",
      "Iter 347/500 - Loss: -0.526\n",
      "Iter 348/500 - Loss: -0.526\n",
      "Iter 349/500 - Loss: -0.526\n",
      "Iter 350/500 - Loss: -0.526\n",
      "Iter 351/500 - Loss: -0.526\n",
      "Iter 352/500 - Loss: -0.526\n",
      "Iter 353/500 - Loss: -0.526\n",
      "Iter 354/500 - Loss: -0.526\n",
      "Iter 355/500 - Loss: -0.526\n",
      "Iter 356/500 - Loss: -0.526\n",
      "Iter 357/500 - Loss: -0.526\n",
      "Iter 358/500 - Loss: -0.526\n",
      "Iter 359/500 - Loss: -0.526\n",
      "Iter 360/500 - Loss: -0.526\n",
      "Iter 361/500 - Loss: -0.526\n",
      "Iter 362/500 - Loss: -0.526\n",
      "Iter 363/500 - Loss: -0.526\n",
      "Iter 364/500 - Loss: -0.526\n",
      "Iter 365/500 - Loss: -0.526\n",
      "Iter 366/500 - Loss: -0.526\n",
      "Iter 367/500 - Loss: -0.526\n",
      "Iter 368/500 - Loss: -0.526\n",
      "Iter 369/500 - Loss: -0.526\n",
      "Iter 370/500 - Loss: -0.526\n",
      "Iter 371/500 - Loss: -0.526\n",
      "Iter 372/500 - Loss: -0.526\n",
      "Iter 373/500 - Loss: -0.526\n",
      "Iter 374/500 - Loss: -0.526\n",
      "Iter 375/500 - Loss: -0.526\n",
      "Iter 376/500 - Loss: -0.526\n",
      "Iter 377/500 - Loss: -0.526\n",
      "Iter 378/500 - Loss: -0.526\n",
      "Iter 379/500 - Loss: -0.526\n",
      "Iter 380/500 - Loss: -0.526\n",
      "Iter 381/500 - Loss: -0.526\n",
      "Iter 382/500 - Loss: -0.526\n",
      "Iter 383/500 - Loss: -0.526\n",
      "Iter 384/500 - Loss: -0.526\n",
      "Iter 385/500 - Loss: -0.526\n",
      "Iter 386/500 - Loss: -0.526\n",
      "Iter 387/500 - Loss: -0.526\n",
      "Iter 388/500 - Loss: -0.526\n",
      "Iter 389/500 - Loss: -0.526\n",
      "Iter 390/500 - Loss: -0.526\n",
      "Iter 391/500 - Loss: -0.526\n",
      "Iter 392/500 - Loss: -0.526\n",
      "Iter 393/500 - Loss: -0.526\n",
      "Iter 394/500 - Loss: -0.526\n",
      "Iter 395/500 - Loss: -0.526\n",
      "Iter 396/500 - Loss: -0.526\n",
      "Iter 397/500 - Loss: -0.526\n",
      "Iter 398/500 - Loss: -0.526\n",
      "Iter 399/500 - Loss: -0.526\n",
      "Iter 400/500 - Loss: -0.526\n",
      "Iter 401/500 - Loss: -0.526\n",
      "Iter 402/500 - Loss: -0.526\n",
      "Iter 403/500 - Loss: -0.526\n",
      "Iter 404/500 - Loss: -0.526\n",
      "Iter 405/500 - Loss: -0.526\n",
      "Early stopping at iteration 405 with loss -0.525502622127533\n"
     ]
    },
    {
     "data": {
      "text/plain": [
       "MultitaskGaussianLikelihood(\n",
       "  (raw_noise_constraint): GreaterThan(1.000E-04)\n",
       "  (raw_noise_prior): GammaPrior()\n",
       ")"
      ]
     },
     "execution_count": 188,
     "metadata": {},
     "output_type": "execute_result"
    }
   ],
   "execution_count": 188
  },
  {
   "cell_type": "code",
   "id": "6b213752",
   "metadata": {
    "ExecuteTime": {
     "end_time": "2025-07-02T11:42:31.714014Z",
     "start_time": "2025-07-02T11:42:30.335881Z"
    }
   },
   "source": [
    "plt.title('Training and Testing Loss')\n",
    "plt.plot(training_loss, label='Training loss')\n",
    "plt.plot(test_losses,label='Testing loss')\n",
    "plt.legend()\n",
    "plt.show()"
   ],
   "outputs": [
    {
     "data": {
      "text/plain": [
       "<Figure size 640x480 with 1 Axes>"
      ],
      "image/png": "[encoded data removed]"
     },
     "metadata": {},
     "output_type": "display_data"
    }
   ],
   "execution_count": 189
  },
  {
   "cell_type": "code",
   "id": "84f2a9e7",
   "metadata": {
    "ExecuteTime": {
     "end_time": "2025-07-02T11:42:43.745139Z",
     "start_time": "2025-07-02T11:42:43.624361Z"
    }
   },
   "source": [
    "for param_name, param in model.named_parameters():\n",
    "    print(f'Parameter name: {param_name:42} value = {param.tolist()}')"
   ],
   "outputs": [
    {
     "name": "stdout",
     "output_type": "stream",
     "text": [
      "Parameter name: likelihood.task_noise_covar_factor         value = [[-0.32023391127586365], [-0.480086088180542], [-0.5543707609176636]]\n",
      "Parameter name: likelihood.raw_noise                       value = [-5.26782751083374]\n",
      "Parameter name: covar_module.task_covar_module.covar_factor value = [[0.020225608721375465], [-1.2306606769561768], [-1.2026329040527344]]\n",
      "Parameter name: covar_module.task_covar_module.raw_var     value = [1.0821231603622437, -4.819698810577393, -3.9354207515716553]\n",
      "Parameter name: covar_module.data_covar_module.raw_lengthscale value = [[4.722111701965332]]\n",
      "Parameter name: covar_module.data_covar_module.raw_alpha   value = [-2.6294054985046387]\n"
     ]
    }
   ],
   "execution_count": 190
  },
  {
   "cell_type": "code",
   "id": "8b921235",
   "metadata": {
    "ExecuteTime": {
     "end_time": "2025-07-02T11:42:54.506974Z",
     "start_time": "2025-07-02T11:42:53.385990Z"
    }
   },
   "source": [
    "with torch.no_grad():\n",
    "    preds = model(X_train)\n",
    "    mean = preds.mean  # shape: (n, 3)\n",
    "\n",
    "y_true_np = y_train.cpu().numpy()\n",
    "y_pred_np = mean.cpu().numpy()\n",
    "\n",
    "num_targets = y_true_np.shape[1]\n",
    "\n",
    "for i in range(num_targets):\n",
    "    mse = mean_squared_error(y_true_np[:, i], y_pred_np[:, i])\n",
    "    rmse = root_mean_squared_error(y_true_np[:, i], y_pred_np[:, i])\n",
    "    r2 = r2_score(y_true_np[:, i], y_pred_np[:, i])\n",
    "    print(f\"Target {i+1}: MSE = {mse:.4f}, RMSE = {rmse:.4f}, R2 = {r2:.4f}\")"
   ],
   "outputs": [
    {
     "name": "stderr",
     "output_type": "stream",
     "text": [
      "C:\\Users\\Dhruv Khanna\\Documents\\Coding stuff\\ADML\\.venv\\Lib\\site-packages\\gpytorch\\models\\exact_gp.py:296: GPInputWarning: The input matches the stored training data. Did you forget to call model.train()?\n",
      "  warnings.warn(\n"
     ]
    },
    {
     "name": "stdout",
     "output_type": "stream",
     "text": [
      "Target 1: MSE = 0.0636, RMSE = 0.2523, R2 = 0.9350\n",
      "Target 2: MSE = 0.1336, RMSE = 0.3655, R2 = 0.8632\n",
      "Target 3: MSE = 0.2002, RMSE = 0.4474, R2 = 0.7930\n"
     ]
    }
   ],
   "execution_count": 191
  },
  {
   "cell_type": "code",
   "id": "66e7a6af",
   "metadata": {
    "ExecuteTime": {
     "end_time": "2025-07-02T11:43:05.996443Z",
     "start_time": "2025-07-02T11:43:04.741257Z"
    }
   },
   "source": [
    "with torch.no_grad():\n",
    "    preds = model(X_test)\n",
    "    mean = preds.mean  # shape: (n, 3)\n",
    "\n",
    "y_true_np = y_test.cpu().numpy()\n",
    "y_pred_np = mean.cpu().numpy()\n",
    "\n",
    "num_targets = y_true_np.shape[1]\n",
    "\n",
    "for i in range(num_targets):\n",
    "    mse = mean_squared_error(y_true_np[:, i], y_pred_np[:, i])\n",
    "    rmse = root_mean_squared_error(y_true_np[:, i], y_pred_np[:, i])\n",
    "    r2 = r2_score(y_true_np[:, i], y_pred_np[:, i])\n",
    "    print(f\"Target {i+1}: MSE = {mse:.4f}, RMSE = {rmse:.4f}, R2 = {r2:.4f}\")\n",
    "    \n",
    "\n",
    "# y_true_np = y_test.cpu().numpy()\n",
    "# y_pred_np = mean.cpu().numpy()\n",
    "#\n",
    "# num_targets = y_true_np.shape[1]\n",
    "\n",
    "# Plot residuals for each target\n",
    "fig, axs = plt.subplots(num_targets, 1, figsize=(10, 4 * num_targets), sharex=True)\n",
    "\n",
    "for i in range(num_targets):\n",
    "    residuals = y_pred_np[:, i] - y_true_np[:, i]\n",
    "\n",
    "    axs[i].scatter(range(len(residuals)), residuals, alpha=0.6)\n",
    "    axs[i].axhline(0, color='red', linestyle='--', linewidth=1)\n",
    "    axs[i].set_title(f\"Residuals for Target {i+1}\")\n",
    "    axs[i].set_ylabel(\"y_pred - y_true\")\n",
    "    axs[i].grid(True)\n",
    "\n",
    "plt.xlabel(\"Test Sample Index\")\n",
    "plt.tight_layout()\n",
    "plt.show()"
   ],
   "outputs": [
    {
     "name": "stdout",
     "output_type": "stream",
     "text": [
      "Target 1: MSE = 0.4080, RMSE = 0.6387, R2 = 0.6227\n",
      "Target 2: MSE = 0.6822, RMSE = 0.8260, R2 = 0.3763\n",
      "Target 3: MSE = 0.7890, RMSE = 0.8883, R2 = 0.3029\n"
     ]
    },
    {
     "data": {
      "text/plain": [
       "<Figure size 1000x1200 with 3 Axes>"
      ],
      "image/png": "[encoded data removed]"
     },
     "metadata": {},
     "output_type": "display_data"
    }
   ],
   "execution_count": 192
  },
  {
   "cell_type": "code",
   "id": "8dc898f2",
   "metadata": {
    "ExecuteTime": {
     "end_time": "2025-07-01T17:42:52.612075Z",
     "start_time": "2025-07-01T17:42:51.361728Z"
    }
   },
   "source": [
    "for i in range(y_test.shape[1]):\n",
    "    plt.figure(figsize=(5, 5))\n",
    "    plt.scatter(y_test[:, i].cpu().numpy(), mean[:, i].cpu().numpy(), alpha=0.6, edgecolors='k')\n",
    "    plt.plot([y_test.cpu().numpy()[:, i].min(), y_test.cpu().numpy()[:, i].max()],\n",
    "             [y_pred_np[:, i].min(), y_pred_np[:, i].max()], 'r--', label='Acc')\n",
    "\n",
    "    plt.xlabel(f\"True Target {i+1}\")\n",
    "    plt.ylabel(f\"Predicted Target {i+1}\")\n",
    "    plt.title(f\"Predicted vs Actual: Target {i+1}\")\n",
    "    plt.grid(True)\n",
    "    plt.legend()\n",
    "    plt.tight_layout()\n",
    "    plt.show()"
   ],
   "outputs": [
    {
     "data": {
      "text/plain": [
       "<Figure size 500x500 with 1 Axes>"
      ],
      "image/png": "[encoded data removed]"
     },
     "metadata": {},
     "output_type": "display_data"
    },
    {
     "data": {
      "text/plain": [
       "<Figure size 500x500 with 1 Axes>"
      ],
      "image/png": "[encoded data removed]"
     },
     "metadata": {},
     "output_type": "display_data"
    },
    {
     "data": {
      "text/plain": [
       "<Figure size 500x500 with 1 Axes>"
      ],
      "image/png": "[encoded data removed]"
     },
     "metadata": {},
     "output_type": "display_data"
    }
   ],
   "execution_count": 168
  },
  {
   "cell_type": "markdown",
   "id": "ad531fd0",
   "metadata": {},
   "source": [
    "# STL\n",
    "## PTAU\n"
   ]
  },
  {
   "cell_type": "code",
   "id": "96d742a6",
   "metadata": {
    "ExecuteTime": {
     "end_time": "2025-07-02T14:41:53.319220Z",
     "start_time": "2025-07-02T14:41:53.309813Z"
    }
   },
   "source": [
    "class MultitaskGPModel(gpytorch.models.ExactGP):\n",
    "    def __init__(self, train_x, train_y, likelihood, num_tasks):\n",
    "        super(MultitaskGPModel, self).__init__(train_x, train_y, likelihood)\n",
    "        self.mean_module = gpytorch.means.MultitaskMean(\n",
    "            gpytorch.means.ZeroMean(), num_tasks=num_tasks\n",
    "        )\n",
    "        self.covar_module = gpytorch.kernels.MultitaskKernel(\n",
    "            gpytorch.kernels.RQKernel(alpha = 0.01, lengthscale = 0.02673124755002312), outputscale=1.8842189942421166, num_tasks=num_tasks, rank=1\n",
    "        )\n",
    "\n",
    "    def forward(self, x):\n",
    "        mean_x = self.mean_module(x)\n",
    "        covar_x = self.covar_module(x)\n",
    "        return gpytorch.distributions.MultitaskMultivariateNormal(mean_x, covar_x)\n"
   ],
   "outputs": [],
   "execution_count": 288
  },
  {
   "cell_type": "code",
   "id": "22ebdab3",
   "metadata": {
    "ExecuteTime": {
     "end_time": "2025-07-02T14:47:59.555851Z",
     "start_time": "2025-07-02T14:47:59.542116Z"
    }
   },
   "source": [
    "X = df.drop(columns = ['ABETA_bl', 'TAU_bl', 'PTAU_bl'], axis = 1)\n",
    "y = df.filter(['TAU_bl'])\n",
    "\n",
    "\n",
    "scaler = StandardScaler()\n",
    "X = scaler.fit_transform(X)\n",
    "\n",
    "X_train, X_test, y_train, y_test = train_test_split(X, y, train_size=0.8, random_state=42)\n",
    "\n",
    "print(X_train.shape, X_test.shape, y_train.shape, y_test.shape)"
   ],
   "outputs": [
    {
     "name": "stdout",
     "output_type": "stream",
     "text": [
      "(434, 175) (109, 175) (434, 1) (109, 1)\n"
     ]
    }
   ],
   "execution_count": 319
  },
  {
   "cell_type": "code",
   "id": "65e443c2",
   "metadata": {
    "ExecuteTime": {
     "end_time": "2025-07-02T14:48:00.964012Z",
     "start_time": "2025-07-02T14:48:00.955234Z"
    }
   },
   "source": [
    "X_train = torch.tensor(X_train, dtype=torch.float32, device=device)\n",
    "X_test = torch.tensor(X_test, dtype=torch.float32, device=device)\n",
    "\n",
    "y_train = torch.tensor(y_train.values, dtype=torch.float32, device=device)\n",
    "y_test = torch.tensor(y_test.values, dtype=torch.float32, device=device)"
   ],
   "outputs": [],
   "execution_count": 320
  },
  {
   "metadata": {
    "ExecuteTime": {
     "end_time": "2025-07-02T15:01:53.742526Z",
     "start_time": "2025-07-02T14:53:02.673467Z"
    }
   },
   "cell_type": "code",
   "source": [
    "def objective(trial):\n",
    "    # Define hyperparameter search space\n",
    "    lr = trial.suggest_float(\"lr\", 1e-4, 1e-1, log=True)\n",
    "    # weight_decay = trial.suggest_float(\"weight_decay\", 1e-5, 1e-3, log=True)\n",
    "    # weight_decay = trial.suggest_float(\"weight_decay\", 1e-5, 1e-3, log=True)\n",
    "    weight_decay = 1e-4\n",
    "    optimizer_name = trial.suggest_categorical(\"optimizer\", [\"AdamW\"])\n",
    "    # scheduler_type = trial.suggest_categorical(\"scheduler\", [\"ReduceLROnPlateau\", \"CosineAnnealingLR\"])\n",
    "\n",
    "    # Model parameters\n",
    "    lengthscale = trial.suggest_float(\"lengthscale\", 1e-3, 1e1, log=True)\n",
    "    outputscale = trial.suggest_float(\"outputscale\", 0.1, 10.0, log=True)\n",
    "\n",
    "    # Initialize likelihood for single task\n",
    "    noise_prior = GammaPrior(concentration=1.1, rate=0.05)\n",
    "    likelihood = gpytorch.likelihoods.GaussianLikelihood(noise_prior=noise_prior)\n",
    "\n",
    "    # Single task GP model\n",
    "    class SingleTaskGPModel(gpytorch.models.ExactGP):\n",
    "        def __init__(self, train_x, train_y, likelihood):\n",
    "            super(SingleTaskGPModel, self).__init__(train_x, train_y, likelihood)\n",
    "            self.mean_module = gpytorch.means.ZeroMean()\n",
    "            self.covar_module = gpytorch.kernels.ScaleKernel(\n",
    "                gpytorch.kernels.RQKernel(lengthscale=lengthscale),\n",
    "                outputscale=outputscale\n",
    "            )\n",
    "\n",
    "        def forward(self, x):\n",
    "            mean_x = self.mean_module(x)\n",
    "            covar_x = self.covar_module(x)\n",
    "            return gpytorch.distributions.MultivariateNormal(mean_x, covar_x)\n",
    "\n",
    "    # Reshape y_train for single task (squeeze to remove extra dimension)\n",
    "    y_train_single = y_train.squeeze(-1)\n",
    "    y_test_single = y_test.squeeze(-1)\n",
    "\n",
    "    # Initialize model\n",
    "    model = SingleTaskGPModel(X_train, y_train_single, likelihood)\n",
    "    model.to(device)\n",
    "\n",
    "    # Configure optimizer\n",
    "    # if optimizer_name == \"AdamW\":\n",
    "    optimizer = torch.optim.AdamW(model.parameters(), lr=lr, weight_decay=weight_decay, maximize=True)\n",
    "    # else:\n",
    "    #     optimizer = torch.optim.Adam(model.parameters(), lr=lr, weight_decay=weight_decay, maximize=True)\n",
    "\n",
    "    # Configure scheduler\n",
    "    # if scheduler_type == \"ReduceLROnPlateau\":\n",
    "    #     factor = trial.suggest_float(\"factor\", 0.1, 0.9)\n",
    "    #     patience = trial.suggest_int(\"patience\", 3, 20)\n",
    "    #     scheduler = torch.optim.lr_scheduler.ReduceLROnPlateau(\n",
    "    #         optimizer, mode='max', factor=factor, patience=patience, threshold=1e-4)\n",
    "    # else:\n",
    "    #     t_max = trial.suggest_int(\"t_max\", 5, 50)\n",
    "    #     scheduler = torch.optim.lr_scheduler.CosineAnnealingLR(optimizer, T_max=t_max)\n",
    "\n",
    "    # Loss function\n",
    "    mll = gpytorch.mlls.ExactMarginalLogLikelihood(likelihood, model)\n",
    "\n",
    "    initial_likelihood = mll(model(X_train), y_train_single)\n",
    "    # while initial_likelihood < -3:\n",
    "    #     model = SingleTaskGPModel(X_train, y_train_single, likelihood)\n",
    "    #     model.to(device)\n",
    "    #     initial_likelihood = mll(model(X_train), y_train_single)\n",
    "    print(f'Model finally initialized with likelihood: {initial_likelihood}')\n",
    "\n",
    "\n",
    "    # Train the model\n",
    "    model.train()\n",
    "    likelihood.train()\n",
    "\n",
    "    num_iter = 500\n",
    "\n",
    "    for i in range(num_iter):\n",
    "        optimizer.zero_grad()\n",
    "        output = model(X_train)\n",
    "        loss = mll(output, y_train_single)\n",
    "        loss.backward()\n",
    "        optimizer.step()\n",
    "\n",
    "        # # Handle different scheduler types\n",
    "        # if scheduler_type == \"ReduceLROnPlateau\":\n",
    "        #     scheduler.step(loss.item())  # Pass validation metric\n",
    "        # else:\n",
    "        #     scheduler.step()\n",
    "\n",
    "        # Report intermediate values for pruning\n",
    "        if i % 20 == 0:\n",
    "            trial.report(-loss.item(), i)\n",
    "\n",
    "            # Enable pruning of unpromising trials\n",
    "            if trial.should_prune():\n",
    "                raise optuna.exceptions.TrialPruned()\n",
    "\n",
    "    # Evaluate on test set\n",
    "    model.eval()\n",
    "    likelihood.eval()\n",
    "    with torch.no_grad():\n",
    "        preds = model(X_test)\n",
    "        mean = preds.mean\n",
    "\n",
    "    y_true_np = y_test_single.cpu().numpy()\n",
    "    y_pred_np = mean.cpu().numpy()\n",
    "\n",
    "    # Calculate R² for single target\n",
    "    r2 = r2_score(y_true_np, y_pred_np)\n",
    "\n",
    "    return r2  # Return metric to maximize\n",
    "\n",
    "# Create study object and optimize\n",
    "study = optuna.create_study(direction=\"maximize\")\n",
    "study.optimize(objective, n_trials=100)\n",
    "print(\"Best trial:\")\n",
    "trial = study.best_trial\n",
    "print(f\"  R² Score: {trial.value}\")\n",
    "print(\"  Params: \")\n",
    "for key, value in trial.params.items():\n",
    "    print(f\"    {key}: {value}\")"
   ],
   "id": "7676e1c49c59450",
   "outputs": [
    {
     "name": "stderr",
     "output_type": "stream",
     "text": [
      "[I 2025-07-02 15:53:02,691] A new study created in memory with name: no-name-6e3ef58c-9230-4458-8bf7-23b7005911d4\n"
     ]
    },
    {
     "name": "stdout",
     "output_type": "stream",
     "text": [
      "Model finally initialized with likelihood: -3.815532922744751\n"
     ]
    },
    {
     "name": "stderr",
     "output_type": "stream",
     "text": [
      "[I 2025-07-02 15:53:12,333] Trial 0 finished with value: 0.29842013120651245 and parameters: {'lr': 0.03248555619696034, 'optimizer': 'AdamW', 'lengthscale': 0.07211758187155022, 'outputscale': 7.94573563496377}. Best is trial 0 with value: 0.29842013120651245.\n"
     ]
    },
    {
     "name": "stdout",
     "output_type": "stream",
     "text": [
      "Model finally initialized with likelihood: -3.815532922744751\n"
     ]
    },
    {
     "name": "stderr",
     "output_type": "stream",
     "text": [
      "[I 2025-07-02 15:53:16,299] Trial 1 finished with value: 0.2867239713668823 and parameters: {'lr': 0.014543960936816529, 'optimizer': 'AdamW', 'lengthscale': 0.07431975811189531, 'outputscale': 0.27507796908096216}. Best is trial 0 with value: 0.29842013120651245.\n"
     ]
    },
    {
     "name": "stdout",
     "output_type": "stream",
     "text": [
      "Model finally initialized with likelihood: -3.815532922744751\n"
     ]
    },
    {
     "name": "stderr",
     "output_type": "stream",
     "text": [
      "[I 2025-07-02 15:53:20,103] Trial 2 finished with value: 0.18705397844314575 and parameters: {'lr': 0.005613209453388544, 'optimizer': 'AdamW', 'lengthscale': 5.384268043970572, 'outputscale': 1.1676327279420253}. Best is trial 0 with value: 0.29842013120651245.\n"
     ]
    },
    {
     "name": "stdout",
     "output_type": "stream",
     "text": [
      "Model finally initialized with likelihood: -3.815532922744751\n"
     ]
    },
    {
     "name": "stderr",
     "output_type": "stream",
     "text": [
      "[I 2025-07-02 15:53:24,038] Trial 3 finished with value: 0.18473070859909058 and parameters: {'lr': 0.005550837530429694, 'optimizer': 'AdamW', 'lengthscale': 5.356964678289404, 'outputscale': 0.3291604789750373}. Best is trial 0 with value: 0.29842013120651245.\n"
     ]
    },
    {
     "name": "stdout",
     "output_type": "stream",
     "text": [
      "Model finally initialized with likelihood: -3.815532922744751\n"
     ]
    },
    {
     "name": "stderr",
     "output_type": "stream",
     "text": [
      "[I 2025-07-02 15:53:27,904] Trial 4 finished with value: 0.30076223611831665 and parameters: {'lr': 0.06638256963342112, 'optimizer': 'AdamW', 'lengthscale': 0.17345215098890104, 'outputscale': 4.2709279894030265}. Best is trial 4 with value: 0.30076223611831665.\n"
     ]
    },
    {
     "name": "stdout",
     "output_type": "stream",
     "text": [
      "Model finally initialized with likelihood: -3.815532922744751\n"
     ]
    },
    {
     "name": "stderr",
     "output_type": "stream",
     "text": [
      "[I 2025-07-02 15:53:31,744] Trial 5 finished with value: -0.8590043783187866 and parameters: {'lr': 0.0011751073615840232, 'optimizer': 'AdamW', 'lengthscale': 0.891200810296726, 'outputscale': 4.452265373096485}. Best is trial 4 with value: 0.30076223611831665.\n"
     ]
    },
    {
     "name": "stdout",
     "output_type": "stream",
     "text": [
      "Model finally initialized with likelihood: -3.815532922744751\n"
     ]
    },
    {
     "name": "stderr",
     "output_type": "stream",
     "text": [
      "[I 2025-07-02 15:53:35,983] Trial 6 finished with value: 0.11454463005065918 and parameters: {'lr': 0.00420589364088297, 'optimizer': 'AdamW', 'lengthscale': 0.8695593997981853, 'outputscale': 0.1945102749101485}. Best is trial 4 with value: 0.30076223611831665.\n"
     ]
    },
    {
     "name": "stdout",
     "output_type": "stream",
     "text": [
      "Model finally initialized with likelihood: -3.815532922744751\n"
     ]
    },
    {
     "name": "stderr",
     "output_type": "stream",
     "text": [
      "[I 2025-07-02 15:53:41,209] Trial 7 finished with value: -1.922558069229126 and parameters: {'lr': 0.0006799026995400676, 'optimizer': 'AdamW', 'lengthscale': 1.9971017046605801, 'outputscale': 1.6724581612853164}. Best is trial 4 with value: 0.30076223611831665.\n"
     ]
    },
    {
     "name": "stdout",
     "output_type": "stream",
     "text": [
      "Model finally initialized with likelihood: -3.815532922744751\n"
     ]
    },
    {
     "name": "stderr",
     "output_type": "stream",
     "text": [
      "[I 2025-07-02 15:53:45,494] Trial 8 finished with value: -2.771042585372925 and parameters: {'lr': 0.0004887411197409248, 'optimizer': 'AdamW', 'lengthscale': 0.06257035322572228, 'outputscale': 0.10197370215085948}. Best is trial 4 with value: 0.30076223611831665.\n"
     ]
    },
    {
     "name": "stdout",
     "output_type": "stream",
     "text": [
      "Model finally initialized with likelihood: -3.815532922744751\n"
     ]
    },
    {
     "name": "stderr",
     "output_type": "stream",
     "text": [
      "[I 2025-07-02 15:53:49,907] Trial 9 finished with value: 0.2971721291542053 and parameters: {'lr': 0.027129193541987725, 'optimizer': 'AdamW', 'lengthscale': 0.002881867732539957, 'outputscale': 5.95640695920088}. Best is trial 4 with value: 0.30076223611831665.\n"
     ]
    },
    {
     "name": "stdout",
     "output_type": "stream",
     "text": [
      "Model finally initialized with likelihood: -3.815532922744751\n"
     ]
    },
    {
     "name": "stderr",
     "output_type": "stream",
     "text": [
      "[I 2025-07-02 15:53:54,458] Trial 10 finished with value: 0.30129218101501465 and parameters: {'lr': 0.09773055015818621, 'optimizer': 'AdamW', 'lengthscale': 0.0034478329769432547, 'outputscale': 2.5198008092057593}. Best is trial 10 with value: 0.30129218101501465.\n"
     ]
    },
    {
     "name": "stdout",
     "output_type": "stream",
     "text": [
      "Model finally initialized with likelihood: -3.815532922744751\n"
     ]
    },
    {
     "name": "stderr",
     "output_type": "stream",
     "text": [
      "[I 2025-07-02 15:53:58,783] Trial 11 finished with value: 0.30107641220092773 and parameters: {'lr': 0.0815100404522597, 'optimizer': 'AdamW', 'lengthscale': 0.0014359974887067192, 'outputscale': 2.747520245543272}. Best is trial 10 with value: 0.30129218101501465.\n"
     ]
    },
    {
     "name": "stdout",
     "output_type": "stream",
     "text": [
      "Model finally initialized with likelihood: -3.815532922744751\n"
     ]
    },
    {
     "name": "stderr",
     "output_type": "stream",
     "text": [
      "[I 2025-07-02 15:54:03,068] Trial 12 finished with value: 0.30131274461746216 and parameters: {'lr': 0.0983332547706604, 'optimizer': 'AdamW', 'lengthscale': 0.0010108833278108028, 'outputscale': 2.4276975150268543}. Best is trial 12 with value: 0.30131274461746216.\n"
     ]
    },
    {
     "name": "stdout",
     "output_type": "stream",
     "text": [
      "Model finally initialized with likelihood: -3.815532922744751\n"
     ]
    },
    {
     "name": "stderr",
     "output_type": "stream",
     "text": [
      "[I 2025-07-02 15:54:07,191] Trial 13 finished with value: -6.176451206207275 and parameters: {'lr': 0.00010636279743851572, 'optimizer': 'AdamW', 'lengthscale': 0.006991091470378016, 'outputscale': 0.5779801017123049}. Best is trial 12 with value: 0.30131274461746216.\n"
     ]
    },
    {
     "name": "stdout",
     "output_type": "stream",
     "text": [
      "Model finally initialized with likelihood: -3.815532922744751\n"
     ]
    },
    {
     "name": "stderr",
     "output_type": "stream",
     "text": [
      "[I 2025-07-02 15:54:11,700] Trial 14 finished with value: 0.28907835483551025 and parameters: {'lr': 0.015793662966970747, 'optimizer': 'AdamW', 'lengthscale': 0.00978424921855356, 'outputscale': 2.0297106840697827}. Best is trial 12 with value: 0.30131274461746216.\n"
     ]
    },
    {
     "name": "stdout",
     "output_type": "stream",
     "text": [
      "Model finally initialized with likelihood: -3.815532922744751\n"
     ]
    },
    {
     "name": "stderr",
     "output_type": "stream",
     "text": [
      "[I 2025-07-02 15:54:16,014] Trial 15 finished with value: 0.3013305068016052 and parameters: {'lr': 0.0998899719469771, 'optimizer': 'AdamW', 'lengthscale': 0.0010373643542970269, 'outputscale': 0.5773225190490089}. Best is trial 15 with value: 0.3013305068016052.\n"
     ]
    },
    {
     "name": "stdout",
     "output_type": "stream",
     "text": [
      "Model finally initialized with likelihood: -3.815532922744751\n"
     ]
    },
    {
     "name": "stderr",
     "output_type": "stream",
     "text": [
      "[I 2025-07-02 15:54:20,058] Trial 16 finished with value: 0.29895681142807007 and parameters: {'lr': 0.035933882782178225, 'optimizer': 'AdamW', 'lengthscale': 0.0010294034822630387, 'outputscale': 0.6882169297700295}. Best is trial 15 with value: 0.3013305068016052.\n"
     ]
    },
    {
     "name": "stdout",
     "output_type": "stream",
     "text": [
      "Model finally initialized with likelihood: -3.815532922744751\n"
     ]
    },
    {
     "name": "stderr",
     "output_type": "stream",
     "text": [
      "[I 2025-07-02 15:54:24,315] Trial 17 finished with value: 0.2770847678184509 and parameters: {'lr': 0.011613496769454765, 'optimizer': 'AdamW', 'lengthscale': 0.019778397110416637, 'outputscale': 0.8869474235195486}. Best is trial 15 with value: 0.3013305068016052.\n"
     ]
    },
    {
     "name": "stdout",
     "output_type": "stream",
     "text": [
      "Model finally initialized with likelihood: -3.815532922744751\n"
     ]
    },
    {
     "name": "stderr",
     "output_type": "stream",
     "text": [
      "[I 2025-07-02 15:54:28,349] Trial 18 finished with value: 0.30007028579711914 and parameters: {'lr': 0.04840985658055388, 'optimizer': 'AdamW', 'lengthscale': 0.013408354434047825, 'outputscale': 0.4582542037643069}. Best is trial 15 with value: 0.3013305068016052.\n"
     ]
    },
    {
     "name": "stdout",
     "output_type": "stream",
     "text": [
      "Model finally initialized with likelihood: -3.815532922744751\n"
     ]
    },
    {
     "name": "stderr",
     "output_type": "stream",
     "text": [
      "[I 2025-07-02 15:54:32,485] Trial 19 finished with value: -0.3391803503036499 and parameters: {'lr': 0.001829999969132854, 'optimizer': 'AdamW', 'lengthscale': 0.0030000456144286492, 'outputscale': 1.2037453660457103}. Best is trial 15 with value: 0.3013305068016052.\n"
     ]
    },
    {
     "name": "stdout",
     "output_type": "stream",
     "text": [
      "Model finally initialized with likelihood: -3.815532922744751\n"
     ]
    },
    {
     "name": "stderr",
     "output_type": "stream",
     "text": [
      "[I 2025-07-02 15:54:36,939] Trial 20 finished with value: -5.870611667633057 and parameters: {'lr': 0.00012949557858858352, 'optimizer': 'AdamW', 'lengthscale': 0.029353390540299822, 'outputscale': 0.17673446426982364}. Best is trial 15 with value: 0.3013305068016052.\n"
     ]
    },
    {
     "name": "stdout",
     "output_type": "stream",
     "text": [
      "Model finally initialized with likelihood: -3.815532922744751\n"
     ]
    },
    {
     "name": "stderr",
     "output_type": "stream",
     "text": [
      "[I 2025-07-02 15:54:41,467] Trial 21 finished with value: 0.30117255449295044 and parameters: {'lr': 0.08796000537689674, 'optimizer': 'AdamW', 'lengthscale': 0.0034510269484823958, 'outputscale': 2.499027169695904}. Best is trial 15 with value: 0.3013305068016052.\n"
     ]
    },
    {
     "name": "stdout",
     "output_type": "stream",
     "text": [
      "Model finally initialized with likelihood: -3.815532922744751\n"
     ]
    },
    {
     "name": "stderr",
     "output_type": "stream",
     "text": [
      "[I 2025-07-02 15:54:46,231] Trial 22 finished with value: 0.3012860417366028 and parameters: {'lr': 0.0966183040119766, 'optimizer': 'AdamW', 'lengthscale': 0.0011039705998514284, 'outputscale': 3.3264531877094803}. Best is trial 15 with value: 0.3013305068016052.\n"
     ]
    },
    {
     "name": "stdout",
     "output_type": "stream",
     "text": [
      "Model finally initialized with likelihood: -3.815532922744751\n"
     ]
    },
    {
     "name": "stderr",
     "output_type": "stream",
     "text": [
      "[I 2025-07-02 15:54:50,203] Trial 23 finished with value: 0.2955021262168884 and parameters: {'lr': 0.022841197244121245, 'optimizer': 'AdamW', 'lengthscale': 0.005043998319192385, 'outputscale': 1.9252972419817913}. Best is trial 15 with value: 0.3013305068016052.\n"
     ]
    },
    {
     "name": "stdout",
     "output_type": "stream",
     "text": [
      "Model finally initialized with likelihood: -3.815532922744751\n"
     ]
    },
    {
     "name": "stderr",
     "output_type": "stream",
     "text": [
      "[I 2025-07-02 15:54:54,545] Trial 24 finished with value: 0.29998892545700073 and parameters: {'lr': 0.04703787802937236, 'optimizer': 'AdamW', 'lengthscale': 0.002290676886273546, 'outputscale': 1.2216156143489816}. Best is trial 15 with value: 0.3013305068016052.\n"
     ]
    },
    {
     "name": "stdout",
     "output_type": "stream",
     "text": [
      "Model finally initialized with likelihood: -3.815532922744751\n"
     ]
    },
    {
     "name": "stderr",
     "output_type": "stream",
     "text": [
      "[I 2025-07-02 15:54:59,276] Trial 25 finished with value: 0.26177722215652466 and parameters: {'lr': 0.00941040828210638, 'optimizer': 'AdamW', 'lengthscale': 0.0019066607081826153, 'outputscale': 0.7615023718614432}. Best is trial 15 with value: 0.3013305068016052.\n"
     ]
    },
    {
     "name": "stdout",
     "output_type": "stream",
     "text": [
      "Model finally initialized with likelihood: -3.815532922744751\n"
     ]
    },
    {
     "name": "stderr",
     "output_type": "stream",
     "text": [
      "[I 2025-07-02 15:55:04,250] Trial 26 finished with value: 0.30052685737609863 and parameters: {'lr': 0.05852282697512162, 'optimizer': 'AdamW', 'lengthscale': 0.008120180230979077, 'outputscale': 9.163866490156643}. Best is trial 15 with value: 0.3013305068016052.\n"
     ]
    },
    {
     "name": "stdout",
     "output_type": "stream",
     "text": [
      "Model finally initialized with likelihood: -3.815532922744751\n"
     ]
    },
    {
     "name": "stderr",
     "output_type": "stream",
     "text": [
      "[I 2025-07-02 15:55:08,770] Trial 27 finished with value: 0.2948961853981018 and parameters: {'lr': 0.02172019052958074, 'optimizer': 'AdamW', 'lengthscale': 0.24331968343138352, 'outputscale': 1.6025094124160222}. Best is trial 15 with value: 0.3013305068016052.\n"
     ]
    },
    {
     "name": "stdout",
     "output_type": "stream",
     "text": [
      "Model finally initialized with likelihood: -3.815532922744751\n"
     ]
    },
    {
     "name": "stderr",
     "output_type": "stream",
     "text": [
      "[I 2025-07-02 15:55:13,000] Trial 28 finished with value: 0.30127519369125366 and parameters: {'lr': 0.09585580068899491, 'optimizer': 'AdamW', 'lengthscale': 0.005163924083914205, 'outputscale': 0.42369487034903924}. Best is trial 15 with value: 0.3013305068016052.\n"
     ]
    },
    {
     "name": "stdout",
     "output_type": "stream",
     "text": [
      "Model finally initialized with likelihood: -3.815532922744751\n"
     ]
    },
    {
     "name": "stderr",
     "output_type": "stream",
     "text": [
      "[I 2025-07-02 15:55:17,837] Trial 29 finished with value: 0.29894739389419556 and parameters: {'lr': 0.03587095320808248, 'optimizer': 'AdamW', 'lengthscale': 0.03454923817230723, 'outputscale': 4.264299177560931}. Best is trial 15 with value: 0.3013305068016052.\n"
     ]
    },
    {
     "name": "stdout",
     "output_type": "stream",
     "text": [
      "Model finally initialized with likelihood: -3.815532922744751\n"
     ]
    },
    {
     "name": "stderr",
     "output_type": "stream",
     "text": [
      "[I 2025-07-02 15:55:22,486] Trial 30 finished with value: 0.2999368906021118 and parameters: {'lr': 0.046232549287562395, 'optimizer': 'AdamW', 'lengthscale': 0.0010425524991079123, 'outputscale': 3.3813256600363237}. Best is trial 15 with value: 0.3013305068016052.\n"
     ]
    },
    {
     "name": "stdout",
     "output_type": "stream",
     "text": [
      "Model finally initialized with likelihood: -3.815532922744751\n"
     ]
    },
    {
     "name": "stderr",
     "output_type": "stream",
     "text": [
      "[I 2025-07-02 15:55:26,670] Trial 31 finished with value: 0.3011399507522583 and parameters: {'lr': 0.08583660604633112, 'optimizer': 'AdamW', 'lengthscale': 0.001595558639782695, 'outputscale': 6.155692637565765}. Best is trial 15 with value: 0.3013305068016052.\n"
     ]
    },
    {
     "name": "stdout",
     "output_type": "stream",
     "text": [
      "Model finally initialized with likelihood: -3.815532922744751\n"
     ]
    },
    {
     "name": "stderr",
     "output_type": "stream",
     "text": [
      "[I 2025-07-02 15:55:31,596] Trial 32 finished with value: 0.3013262152671814 and parameters: {'lr': 0.0995305872115118, 'optimizer': 'AdamW', 'lengthscale': 0.0010830986188965263, 'outputscale': 3.1670232519430837}. Best is trial 15 with value: 0.3013305068016052.\n"
     ]
    },
    {
     "name": "stdout",
     "output_type": "stream",
     "text": [
      "Model finally initialized with likelihood: -3.815532922744751\n"
     ]
    },
    {
     "name": "stderr",
     "output_type": "stream",
     "text": [
      "[I 2025-07-02 15:55:42,566] Trial 33 finished with value: 0.3004595637321472 and parameters: {'lr': 0.056681901694208184, 'optimizer': 'AdamW', 'lengthscale': 0.003937709893295148, 'outputscale': 6.335310409029342}. Best is trial 15 with value: 0.3013305068016052.\n"
     ]
    },
    {
     "name": "stdout",
     "output_type": "stream",
     "text": [
      "Model finally initialized with likelihood: -3.815532922744751\n"
     ]
    },
    {
     "name": "stderr",
     "output_type": "stream",
     "text": [
      "[I 2025-07-02 15:55:54,175] Trial 34 finished with value: 0.2984083294868469 and parameters: {'lr': 0.03241281914871429, 'optimizer': 'AdamW', 'lengthscale': 0.002826488401895337, 'outputscale': 2.3765525966889114}. Best is trial 15 with value: 0.3013305068016052.\n"
     ]
    },
    {
     "name": "stdout",
     "output_type": "stream",
     "text": [
      "Model finally initialized with likelihood: -3.815532922744751\n"
     ]
    },
    {
     "name": "stderr",
     "output_type": "stream",
     "text": [
      "[I 2025-07-02 15:56:07,093] Trial 35 finished with value: 0.2935716509819031 and parameters: {'lr': 0.019763322030845666, 'optimizer': 'AdamW', 'lengthscale': 0.002016035057353016, 'outputscale': 1.4419083296086626}. Best is trial 15 with value: 0.3013305068016052.\n"
     ]
    },
    {
     "name": "stdout",
     "output_type": "stream",
     "text": [
      "Model finally initialized with likelihood: -3.815532922744751\n"
     ]
    },
    {
     "name": "stderr",
     "output_type": "stream",
     "text": [
      "[I 2025-07-02 15:56:20,331] Trial 36 finished with value: 0.2550457715988159 and parameters: {'lr': 0.008780441697255309, 'optimizer': 'AdamW', 'lengthscale': 0.0137082104482451, 'outputscale': 3.5520274068133775}. Best is trial 15 with value: 0.3013305068016052.\n"
     ]
    },
    {
     "name": "stdout",
     "output_type": "stream",
     "text": [
      "Model finally initialized with likelihood: -3.815532922744751\n"
     ]
    },
    {
     "name": "stderr",
     "output_type": "stream",
     "text": [
      "[I 2025-07-02 15:56:31,598] Trial 37 finished with value: 0.3006333112716675 and parameters: {'lr': 0.061739839289385624, 'optimizer': 'AdamW', 'lengthscale': 0.0015702233560447002, 'outputscale': 0.3298224931843228}. Best is trial 15 with value: 0.3013305068016052.\n"
     ]
    },
    {
     "name": "stdout",
     "output_type": "stream",
     "text": [
      "Model finally initialized with likelihood: -3.815532922744751\n"
     ]
    },
    {
     "name": "stderr",
     "output_type": "stream",
     "text": [
      "[I 2025-07-02 15:56:39,581] Trial 38 finished with value: 0.29922837018966675 and parameters: {'lr': 0.03813415199234759, 'optimizer': 'AdamW', 'lengthscale': 0.18073656440731448, 'outputscale': 1.0969224834275655}. Best is trial 15 with value: 0.3013305068016052.\n"
     ]
    },
    {
     "name": "stdout",
     "output_type": "stream",
     "text": [
      "Model finally initialized with likelihood: -3.815532922744751\n"
     ]
    },
    {
     "name": "stderr",
     "output_type": "stream",
     "text": [
      "[I 2025-07-02 15:56:43,655] Trial 39 finished with value: 0.3007662296295166 and parameters: {'lr': 0.06635993301125451, 'optimizer': 'AdamW', 'lengthscale': 0.006249489381413107, 'outputscale': 5.327811099274036}. Best is trial 15 with value: 0.3013305068016052.\n"
     ]
    },
    {
     "name": "stdout",
     "output_type": "stream",
     "text": [
      "Model finally initialized with likelihood: -3.815532922744751\n"
     ]
    },
    {
     "name": "stderr",
     "output_type": "stream",
     "text": [
      "[I 2025-07-02 15:56:47,674] Trial 40 finished with value: -0.10013115406036377 and parameters: {'lr': 0.0025430691141480654, 'optimizer': 'AdamW', 'lengthscale': 0.3489423804888743, 'outputscale': 8.076188133091764}. Best is trial 15 with value: 0.3013305068016052.\n"
     ]
    },
    {
     "name": "stdout",
     "output_type": "stream",
     "text": [
      "Model finally initialized with likelihood: -3.815532922744751\n"
     ]
    },
    {
     "name": "stderr",
     "output_type": "stream",
     "text": [
      "[I 2025-07-02 15:56:51,788] Trial 41 finished with value: 0.30109500885009766 and parameters: {'lr': 0.08266621139662557, 'optimizer': 'AdamW', 'lengthscale': 0.001024503892476896, 'outputscale': 2.9470923634066737}. Best is trial 15 with value: 0.3013305068016052.\n"
     ]
    },
    {
     "name": "stdout",
     "output_type": "stream",
     "text": [
      "Model finally initialized with likelihood: -3.815532922744751\n"
     ]
    },
    {
     "name": "stderr",
     "output_type": "stream",
     "text": [
      "[I 2025-07-02 15:56:56,046] Trial 42 finished with value: 0.30116891860961914 and parameters: {'lr': 0.08778086356049403, 'optimizer': 'AdamW', 'lengthscale': 0.0010069357059493702, 'outputscale': 3.7757859408881913}. Best is trial 15 with value: 0.3013305068016052.\n"
     ]
    },
    {
     "name": "stdout",
     "output_type": "stream",
     "text": [
      "Model finally initialized with likelihood: -3.815532922744751\n"
     ]
    },
    {
     "name": "stderr",
     "output_type": "stream",
     "text": [
      "[I 2025-07-02 15:57:00,473] Trial 43 finished with value: 0.3012862801551819 and parameters: {'lr': 0.09674691119477405, 'optimizer': 'AdamW', 'lengthscale': 0.0017410050255186498, 'outputscale': 1.8686787131384923}. Best is trial 15 with value: 0.3013305068016052.\n"
     ]
    },
    {
     "name": "stdout",
     "output_type": "stream",
     "text": [
      "Model finally initialized with likelihood: -3.815532922744751\n"
     ]
    },
    {
     "name": "stderr",
     "output_type": "stream",
     "text": [
      "[I 2025-07-02 15:57:04,941] Trial 44 finished with value: 0.30059778690338135 and parameters: {'lr': 0.060479049071246384, 'optimizer': 'AdamW', 'lengthscale': 0.002124554262011671, 'outputscale': 2.0257661969581613}. Best is trial 15 with value: 0.3013305068016052.\n"
     ]
    },
    {
     "name": "stdout",
     "output_type": "stream",
     "text": [
      "Model finally initialized with likelihood: -3.815532922744751\n"
     ]
    },
    {
     "name": "stderr",
     "output_type": "stream",
     "text": [
      "[I 2025-07-02 15:57:09,998] Trial 45 finished with value: -4.0737409591674805 and parameters: {'lr': 0.000301167279743786, 'optimizer': 'AdamW', 'lengthscale': 0.003949120343448915, 'outputscale': 1.4150112318932795}. Best is trial 15 with value: 0.3013305068016052.\n"
     ]
    },
    {
     "name": "stdout",
     "output_type": "stream",
     "text": [
      "Model finally initialized with likelihood: -3.815532922744751\n"
     ]
    },
    {
     "name": "stderr",
     "output_type": "stream",
     "text": [
      "[I 2025-07-02 15:57:14,115] Trial 46 finished with value: 0.2995986342430115 and parameters: {'lr': 0.041852127527115805, 'optimizer': 'AdamW', 'lengthscale': 0.0015970594591156973, 'outputscale': 0.8873890249909169}. Best is trial 15 with value: 0.3013305068016052.\n"
     ]
    },
    {
     "name": "stdout",
     "output_type": "stream",
     "text": [
      "Model finally initialized with likelihood: -3.815532922744751\n"
     ]
    },
    {
     "name": "stderr",
     "output_type": "stream",
     "text": [
      "[I 2025-07-02 15:57:18,329] Trial 47 finished with value: 0.2972153425216675 and parameters: {'lr': 0.02727520098511382, 'optimizer': 'AdamW', 'lengthscale': 7.613393627646798, 'outputscale': 2.218116041996521}. Best is trial 15 with value: 0.3013305068016052.\n"
     ]
    },
    {
     "name": "stdout",
     "output_type": "stream",
     "text": [
      "Model finally initialized with likelihood: -3.815532922744751\n"
     ]
    },
    {
     "name": "stderr",
     "output_type": "stream",
     "text": [
      "[I 2025-07-02 15:57:22,630] Trial 48 finished with value: 0.19602501392364502 and parameters: {'lr': 0.005870487675665288, 'optimizer': 'AdamW', 'lengthscale': 0.08219293264050026, 'outputscale': 1.7355795219482937}. Best is trial 15 with value: 0.3013305068016052.\n"
     ]
    },
    {
     "name": "stdout",
     "output_type": "stream",
     "text": [
      "Model finally initialized with likelihood: -3.815532922744751\n"
     ]
    },
    {
     "name": "stderr",
     "output_type": "stream",
     "text": [
      "[I 2025-07-02 15:57:26,846] Trial 49 finished with value: 0.30087244510650635 and parameters: {'lr': 0.07084018229409644, 'optimizer': 'AdamW', 'lengthscale': 0.010729110953967764, 'outputscale': 4.7457277121237444}. Best is trial 15 with value: 0.3013305068016052.\n"
     ]
    },
    {
     "name": "stdout",
     "output_type": "stream",
     "text": [
      "Model finally initialized with likelihood: -3.815532922744751\n"
     ]
    },
    {
     "name": "stderr",
     "output_type": "stream",
     "text": [
      "[I 2025-07-02 15:57:31,459] Trial 50 finished with value: 0.2896343469619751 and parameters: {'lr': 0.016148159113542768, 'optimizer': 'AdamW', 'lengthscale': 3.236679272011824, 'outputscale': 2.592749515464391}. Best is trial 15 with value: 0.3013305068016052.\n"
     ]
    },
    {
     "name": "stdout",
     "output_type": "stream",
     "text": [
      "Model finally initialized with likelihood: -3.815532922744751\n"
     ]
    },
    {
     "name": "stderr",
     "output_type": "stream",
     "text": [
      "[I 2025-07-02 15:57:35,882] Trial 51 finished with value: 0.3012431859970093 and parameters: {'lr': 0.09315874537485527, 'optimizer': 'AdamW', 'lengthscale': 0.00145984221330681, 'outputscale': 3.141632995612849}. Best is trial 15 with value: 0.3013305068016052.\n"
     ]
    },
    {
     "name": "stdout",
     "output_type": "stream",
     "text": [
      "Model finally initialized with likelihood: -3.815532922744751\n"
     ]
    },
    {
     "name": "stderr",
     "output_type": "stream",
     "text": [
      "[I 2025-07-02 15:57:40,221] Trial 52 finished with value: 0.3013261556625366 and parameters: {'lr': 0.09980165183644985, 'optimizer': 'AdamW', 'lengthscale': 0.002558282540471238, 'outputscale': 0.5482760329340338}. Best is trial 15 with value: 0.3013305068016052.\n"
     ]
    },
    {
     "name": "stdout",
     "output_type": "stream",
     "text": [
      "Model finally initialized with likelihood: -3.815532922744751\n"
     ]
    },
    {
     "name": "stderr",
     "output_type": "stream",
     "text": [
      "[I 2025-07-02 15:57:44,427] Trial 53 finished with value: 0.3008098602294922 and parameters: {'lr': 0.06815921917451119, 'optimizer': 'AdamW', 'lengthscale': 0.0027012622765901924, 'outputscale': 0.6195558453599626}. Best is trial 15 with value: 0.3013305068016052.\n"
     ]
    },
    {
     "name": "stdout",
     "output_type": "stream",
     "text": [
      "Model finally initialized with likelihood: -3.815532922744751\n"
     ]
    },
    {
     "name": "stderr",
     "output_type": "stream",
     "text": [
      "[I 2025-07-02 15:57:49,121] Trial 54 finished with value: 0.3002581000328064 and parameters: {'lr': 0.05193380733569821, 'optimizer': 'AdamW', 'lengthscale': 0.004281180132849994, 'outputscale': 0.4652288302829741}. Best is trial 15 with value: 0.3013305068016052.\n"
     ]
    },
    {
     "name": "stdout",
     "output_type": "stream",
     "text": [
      "Model finally initialized with likelihood: -3.815532922744751\n"
     ]
    },
    {
     "name": "stderr",
     "output_type": "stream",
     "text": [
      "[I 2025-07-02 15:57:53,806] Trial 55 finished with value: 0.3008711338043213 and parameters: {'lr': 0.07082970570071305, 'optimizer': 'AdamW', 'lengthscale': 0.0025361738296773664, 'outputscale': 0.9381146999224537}. Best is trial 15 with value: 0.3013305068016052.\n"
     ]
    },
    {
     "name": "stdout",
     "output_type": "stream",
     "text": [
      "Model finally initialized with likelihood: -3.815532922744751\n"
     ]
    },
    {
     "name": "stderr",
     "output_type": "stream",
     "text": [
      "[I 2025-07-02 15:57:57,949] Trial 56 finished with value: 0.2974381446838379 and parameters: {'lr': 0.028057431158901032, 'optimizer': 'AdamW', 'lengthscale': 0.0013771825050813812, 'outputscale': 0.24916762019212366}. Best is trial 15 with value: 0.3013305068016052.\n"
     ]
    },
    {
     "name": "stdout",
     "output_type": "stream",
     "text": [
      "Model finally initialized with likelihood: -3.815532922744751\n"
     ]
    },
    {
     "name": "stderr",
     "output_type": "stream",
     "text": [
      "[I 2025-07-02 15:58:02,299] Trial 57 finished with value: 0.2999149560928345 and parameters: {'lr': 0.04591072766744023, 'optimizer': 'AdamW', 'lengthscale': 0.6828543403356142, 'outputscale': 0.7882615375976632}. Best is trial 15 with value: 0.3013305068016052.\n"
     ]
    },
    {
     "name": "stdout",
     "output_type": "stream",
     "text": [
      "Model finally initialized with likelihood: -3.815532922744751\n"
     ]
    },
    {
     "name": "stderr",
     "output_type": "stream",
     "text": [
      "[I 2025-07-02 15:58:06,632] Trial 58 finished with value: -0.6510540246963501 and parameters: {'lr': 0.0013667244004986032, 'optimizer': 'AdamW', 'lengthscale': 0.006486571015055066, 'outputscale': 0.5081398803556362}. Best is trial 15 with value: 0.3013305068016052.\n"
     ]
    },
    {
     "name": "stdout",
     "output_type": "stream",
     "text": [
      "Model finally initialized with likelihood: -3.815532922744751\n"
     ]
    },
    {
     "name": "stderr",
     "output_type": "stream",
     "text": [
      "[I 2025-07-02 15:58:13,086] Trial 59 finished with value: 0.298488974571228 and parameters: {'lr': 0.032875660395428094, 'optimizer': 'AdamW', 'lengthscale': 0.0032571204561824846, 'outputscale': 1.3869572922603046}. Best is trial 15 with value: 0.3013305068016052.\n"
     ]
    },
    {
     "name": "stdout",
     "output_type": "stream",
     "text": [
      "Model finally initialized with likelihood: -3.815532922744751\n"
     ]
    },
    {
     "name": "stderr",
     "output_type": "stream",
     "text": [
      "[I 2025-07-02 15:58:22,939] Trial 60 finished with value: 0.3012680411338806 and parameters: {'lr': 0.09544077751597081, 'optimizer': 'AdamW', 'lengthscale': 0.0018532285876935524, 'outputscale': 0.32802859427387726}. Best is trial 15 with value: 0.3013305068016052.\n"
     ]
    },
    {
     "name": "stdout",
     "output_type": "stream",
     "text": [
      "Model finally initialized with likelihood: -3.815532922744751\n"
     ]
    },
    {
     "name": "stderr",
     "output_type": "stream",
     "text": [
      "[I 2025-07-02 15:58:31,783] Trial 61 finished with value: 0.30131858587265015 and parameters: {'lr': 0.09953385924920388, 'optimizer': 'AdamW', 'lengthscale': 0.0011909784926266316, 'outputscale': 2.7642741853355663}. Best is trial 15 with value: 0.3013305068016052.\n"
     ]
    },
    {
     "name": "stdout",
     "output_type": "stream",
     "text": [
      "Model finally initialized with likelihood: -3.815532922744751\n"
     ]
    },
    {
     "name": "stderr",
     "output_type": "stream",
     "text": [
      "[I 2025-07-02 15:58:40,686] Trial 62 finished with value: 0.3009323477745056 and parameters: {'lr': 0.07361100004829611, 'optimizer': 'AdamW', 'lengthscale': 0.0013133024502353205, 'outputscale': 4.1348436345585355}. Best is trial 15 with value: 0.3013305068016052.\n"
     ]
    },
    {
     "name": "stdout",
     "output_type": "stream",
     "text": [
      "Model finally initialized with likelihood: -3.815532922744751\n"
     ]
    },
    {
     "name": "stderr",
     "output_type": "stream",
     "text": [
      "[I 2025-07-02 15:58:49,548] Trial 63 finished with value: 0.3003881573677063 and parameters: {'lr': 0.054883875210124375, 'optimizer': 'AdamW', 'lengthscale': 0.002362418419190967, 'outputscale': 2.781189298140601}. Best is trial 15 with value: 0.3013305068016052.\n"
     ]
    },
    {
     "name": "stdout",
     "output_type": "stream",
     "text": [
      "Model finally initialized with likelihood: -3.815532922744751\n"
     ]
    },
    {
     "name": "stderr",
     "output_type": "stream",
     "text": [
      "[I 2025-07-02 15:58:59,612] Trial 64 finished with value: 0.301292359828949 and parameters: {'lr': 0.09741890985023001, 'optimizer': 'AdamW', 'lengthscale': 0.0050831169615231245, 'outputscale': 1.8233675847466018}. Best is trial 15 with value: 0.3013305068016052.\n"
     ]
    },
    {
     "name": "stdout",
     "output_type": "stream",
     "text": [
      "Model finally initialized with likelihood: -3.815532922744751\n"
     ]
    },
    {
     "name": "stderr",
     "output_type": "stream",
     "text": [
      "[I 2025-07-02 15:59:08,820] Trial 65 finished with value: 0.30132830142974854 and parameters: {'lr': 0.09980945276965963, 'optimizer': 'AdamW', 'lengthscale': 0.004912479772893493, 'outputscale': 2.265557998179158}. Best is trial 15 with value: 0.3013305068016052.\n"
     ]
    },
    {
     "name": "stdout",
     "output_type": "stream",
     "text": [
      "Model finally initialized with likelihood: -3.815532922744751\n"
     ]
    },
    {
     "name": "stderr",
     "output_type": "stream",
     "text": [
      "[I 2025-07-02 15:59:18,478] Trial 66 finished with value: 0.30092018842697144 and parameters: {'lr': 0.07293437341314528, 'optimizer': 'AdamW', 'lengthscale': 0.04516214394791256, 'outputscale': 2.1528430821733204}. Best is trial 15 with value: 0.3013305068016052.\n"
     ]
    },
    {
     "name": "stdout",
     "output_type": "stream",
     "text": [
      "Model finally initialized with likelihood: -3.815532922744751\n"
     ]
    },
    {
     "name": "stderr",
     "output_type": "stream",
     "text": [
      "[I 2025-07-02 15:59:27,556] Trial 67 finished with value: 0.2996167540550232 and parameters: {'lr': 0.04202239252380871, 'optimizer': 'AdamW', 'lengthscale': 0.004525334958135058, 'outputscale': 0.5925785593303771}. Best is trial 15 with value: 0.3013305068016052.\n"
     ]
    },
    {
     "name": "stdout",
     "output_type": "stream",
     "text": [
      "Model finally initialized with likelihood: -3.815532922744751\n"
     ]
    },
    {
     "name": "stderr",
     "output_type": "stream",
     "text": [
      "[I 2025-07-02 15:59:31,925] Trial 68 finished with value: 0.3003188371658325 and parameters: {'lr': 0.05329328741144011, 'optimizer': 'AdamW', 'lengthscale': 0.01731703070975622, 'outputscale': 0.3952680337287654}. Best is trial 15 with value: 0.3013305068016052.\n"
     ]
    },
    {
     "name": "stdout",
     "output_type": "stream",
     "text": [
      "Model finally initialized with likelihood: -3.815532922744751\n"
     ]
    },
    {
     "name": "stderr",
     "output_type": "stream",
     "text": [
      "[I 2025-07-02 15:59:36,470] Trial 69 finished with value: 0.3008596897125244 and parameters: {'lr': 0.07012058043041047, 'optimizer': 'AdamW', 'lengthscale': 0.008658376137830302, 'outputscale': 0.12557283563251156}. Best is trial 15 with value: 0.3013305068016052.\n"
     ]
    },
    {
     "name": "stdout",
     "output_type": "stream",
     "text": [
      "Model finally initialized with likelihood: -3.815532922744751\n"
     ]
    },
    {
     "name": "stderr",
     "output_type": "stream",
     "text": [
      "[I 2025-07-02 15:59:40,833] Trial 70 finished with value: 0.3003581166267395 and parameters: {'lr': 0.054129289769235166, 'optimizer': 'AdamW', 'lengthscale': 0.005969642738883826, 'outputscale': 1.082538843936492}. Best is trial 15 with value: 0.3013305068016052.\n"
     ]
    },
    {
     "name": "stdout",
     "output_type": "stream",
     "text": [
      "Model finally initialized with likelihood: -3.815532922744751\n"
     ]
    },
    {
     "name": "stderr",
     "output_type": "stream",
     "text": [
      "[I 2025-07-02 15:59:44,999] Trial 71 finished with value: 0.30107003450393677 and parameters: {'lr': 0.08135447974386, 'optimizer': 'AdamW', 'lengthscale': 0.003312402888976159, 'outputscale': 2.5460640218175774}. Best is trial 15 with value: 0.3013305068016052.\n"
     ]
    },
    {
     "name": "stdout",
     "output_type": "stream",
     "text": [
      "Model finally initialized with likelihood: -3.815532922744751\n"
     ]
    },
    {
     "name": "stderr",
     "output_type": "stream",
     "text": [
      "[I 2025-07-02 15:59:49,809] Trial 72 finished with value: 0.30131810903549194 and parameters: {'lr': 0.0989765728223349, 'optimizer': 'AdamW', 'lengthscale': 0.0011956975811582699, 'outputscale': 1.6098420172635304}. Best is trial 15 with value: 0.3013305068016052.\n"
     ]
    },
    {
     "name": "stdout",
     "output_type": "stream",
     "text": [
      "Model finally initialized with likelihood: -3.815532922744751\n"
     ]
    },
    {
     "name": "stderr",
     "output_type": "stream",
     "text": [
      "[I 2025-07-02 15:59:54,261] Trial 73 finished with value: 0.30131256580352783 and parameters: {'lr': 0.09911743731945029, 'optimizer': 'AdamW', 'lengthscale': 0.001288059526852956, 'outputscale': 1.2949959681207392}. Best is trial 15 with value: 0.3013305068016052.\n"
     ]
    },
    {
     "name": "stdout",
     "output_type": "stream",
     "text": [
      "Model finally initialized with likelihood: -3.815532922744751\n"
     ]
    },
    {
     "name": "stderr",
     "output_type": "stream",
     "text": [
      "[I 2025-07-02 15:59:58,537] Trial 74 finished with value: 0.3013242483139038 and parameters: {'lr': 0.09987836558907444, 'optimizer': 'AdamW', 'lengthscale': 0.001275610146176914, 'outputscale': 1.5922740698423477}. Best is trial 15 with value: 0.3013305068016052.\n"
     ]
    },
    {
     "name": "stdout",
     "output_type": "stream",
     "text": [
      "Model finally initialized with likelihood: -3.815532922744751\n"
     ]
    },
    {
     "name": "stderr",
     "output_type": "stream",
     "text": [
      "[I 2025-07-02 16:00:03,217] Trial 75 finished with value: 0.30100858211517334 and parameters: {'lr': 0.07761799297464979, 'optimizer': 'AdamW', 'lengthscale': 0.0012182109168372313, 'outputscale': 1.6449602828431318}. Best is trial 15 with value: 0.3013305068016052.\n"
     ]
    },
    {
     "name": "stdout",
     "output_type": "stream",
     "text": [
      "Model finally initialized with likelihood: -3.815532922744751\n"
     ]
    },
    {
     "name": "stderr",
     "output_type": "stream",
     "text": [
      "[I 2025-07-02 16:00:07,699] Trial 76 finished with value: 0.2994353175163269 and parameters: {'lr': 0.04008754975224049, 'optimizer': 'AdamW', 'lengthscale': 0.00187148736160708, 'outputscale': 0.7363395357790843}. Best is trial 15 with value: 0.3013305068016052.\n"
     ]
    },
    {
     "name": "stdout",
     "output_type": "stream",
     "text": [
      "Model finally initialized with likelihood: -3.815532922744751\n"
     ]
    },
    {
     "name": "stderr",
     "output_type": "stream",
     "text": [
      "[I 2025-07-02 16:00:11,952] Trial 77 finished with value: 0.3005461096763611 and parameters: {'lr': 0.05908789946431785, 'optimizer': 'AdamW', 'lengthscale': 0.0010084614615414795, 'outputscale': 2.1984824559465697}. Best is trial 15 with value: 0.3013305068016052.\n"
     ]
    },
    {
     "name": "stdout",
     "output_type": "stream",
     "text": [
      "Model finally initialized with likelihood: -3.815532922744751\n"
     ]
    },
    {
     "name": "stderr",
     "output_type": "stream",
     "text": [
      "[I 2025-07-02 16:00:17,405] Trial 78 finished with value: -2.396475076675415 and parameters: {'lr': 0.0005625617175082188, 'optimizer': 'AdamW', 'lengthscale': 0.0023940594594341305, 'outputscale': 1.5347540707981702}. Best is trial 15 with value: 0.3013305068016052.\n"
     ]
    },
    {
     "name": "stdout",
     "output_type": "stream",
     "text": [
      "Model finally initialized with likelihood: -3.815532922744751\n"
     ]
    },
    {
     "name": "stderr",
     "output_type": "stream",
     "text": [
      "[I 2025-07-02 16:00:21,843] Trial 79 finished with value: 0.3006775379180908 and parameters: {'lr': 0.06309152061787354, 'optimizer': 'AdamW', 'lengthscale': 0.0013696563164175694, 'outputscale': 3.025872167946381}. Best is trial 15 with value: 0.3013305068016052.\n"
     ]
    },
    {
     "name": "stdout",
     "output_type": "stream",
     "text": [
      "Model finally initialized with likelihood: -3.815532922744751\n"
     ]
    },
    {
     "name": "stderr",
     "output_type": "stream",
     "text": [
      "[I 2025-07-02 16:00:26,111] Trial 80 finished with value: 0.30104005336761475 and parameters: {'lr': 0.07938275230116931, 'optimizer': 'AdamW', 'lengthscale': 0.0019398208827158118, 'outputscale': 3.865373030667165}. Best is trial 15 with value: 0.3013305068016052.\n"
     ]
    },
    {
     "name": "stdout",
     "output_type": "stream",
     "text": [
      "Model finally initialized with likelihood: -3.815532922744751\n"
     ]
    },
    {
     "name": "stderr",
     "output_type": "stream",
     "text": [
      "[I 2025-07-02 16:00:31,116] Trial 81 finished with value: 0.30110079050064087 and parameters: {'lr': 0.08310075707352704, 'optimizer': 'AdamW', 'lengthscale': 0.0012537447385012207, 'outputscale': 1.4221508479335527}. Best is trial 15 with value: 0.3013305068016052.\n"
     ]
    },
    {
     "name": "stdout",
     "output_type": "stream",
     "text": [
      "Model finally initialized with likelihood: -3.815532922744751\n"
     ]
    },
    {
     "name": "stderr",
     "output_type": "stream",
     "text": [
      "[I 2025-07-02 16:00:35,505] Trial 82 finished with value: 0.30123990774154663 and parameters: {'lr': 0.09268428821054618, 'optimizer': 'AdamW', 'lengthscale': 0.001579865001251922, 'outputscale': 1.2493475858978436}. Best is trial 15 with value: 0.3013305068016052.\n"
     ]
    },
    {
     "name": "stdout",
     "output_type": "stream",
     "text": [
      "Model finally initialized with likelihood: -3.815532922744751\n"
     ]
    },
    {
     "name": "stderr",
     "output_type": "stream",
     "text": [
      "[I 2025-07-02 16:00:39,973] Trial 83 finished with value: 0.3013073801994324 and parameters: {'lr': 0.09842296161621321, 'optimizer': 'AdamW', 'lengthscale': 0.0012428515011176503, 'outputscale': 1.0300197349072853}. Best is trial 15 with value: 0.3013305068016052.\n"
     ]
    },
    {
     "name": "stdout",
     "output_type": "stream",
     "text": [
      "Model finally initialized with likelihood: -3.815532922744751\n"
     ]
    },
    {
     "name": "stderr",
     "output_type": "stream",
     "text": [
      "[I 2025-07-02 16:00:44,336] Trial 84 finished with value: 0.30069154500961304 and parameters: {'lr': 0.06354674284502092, 'optimizer': 'AdamW', 'lengthscale': 0.002803350051189592, 'outputscale': 1.2862773235668916}. Best is trial 15 with value: 0.3013305068016052.\n"
     ]
    },
    {
     "name": "stdout",
     "output_type": "stream",
     "text": [
      "Model finally initialized with likelihood: -3.815532922744751\n"
     ]
    },
    {
     "name": "stderr",
     "output_type": "stream",
     "text": [
      "[I 2025-07-02 16:00:48,853] Trial 85 finished with value: 0.3000941872596741 and parameters: {'lr': 0.04883752179585683, 'optimizer': 'AdamW', 'lengthscale': 0.0010068438821733555, 'outputscale': 2.4277741670907718}. Best is trial 15 with value: 0.3013305068016052.\n"
     ]
    },
    {
     "name": "stdout",
     "output_type": "stream",
     "text": [
      "Model finally initialized with likelihood: -3.815532922744751\n"
     ]
    },
    {
     "name": "stderr",
     "output_type": "stream",
     "text": [
      "[I 2025-07-02 16:00:53,556] Trial 86 finished with value: -4.923487663269043 and parameters: {'lr': 0.00021124244106554194, 'optimizer': 'AdamW', 'lengthscale': 0.002158644084412837, 'outputscale': 1.9213903166107578}. Best is trial 15 with value: 0.3013305068016052.\n"
     ]
    },
    {
     "name": "stdout",
     "output_type": "stream",
     "text": [
      "Model finally initialized with likelihood: -3.815532922744751\n"
     ]
    },
    {
     "name": "stderr",
     "output_type": "stream",
     "text": [
      "[I 2025-07-02 16:00:57,712] Trial 87 finished with value: 0.30107951164245605 and parameters: {'lr': 0.08167990818345935, 'optimizer': 'AdamW', 'lengthscale': 0.0034303710052551385, 'outputscale': 0.6485796306663025}. Best is trial 15 with value: 0.3013305068016052.\n"
     ]
    },
    {
     "name": "stdout",
     "output_type": "stream",
     "text": [
      "Model finally initialized with likelihood: -3.815532922744751\n"
     ]
    },
    {
     "name": "stderr",
     "output_type": "stream",
     "text": [
      "[I 2025-07-02 16:01:03,448] Trial 88 finished with value: -1.288964033126831 and parameters: {'lr': 0.0009125502157563266, 'optimizer': 'AdamW', 'lengthscale': 0.0017015841917911608, 'outputscale': 0.8351349830680125}. Best is trial 15 with value: 0.3013305068016052.\n"
     ]
    },
    {
     "name": "stdout",
     "output_type": "stream",
     "text": [
      "Model finally initialized with likelihood: -3.815532922744751\n"
     ]
    },
    {
     "name": "stderr",
     "output_type": "stream",
     "text": [
      "[I 2025-07-02 16:01:08,106] Trial 89 finished with value: 0.29851746559143066 and parameters: {'lr': 0.03304531463302893, 'optimizer': 'AdamW', 'lengthscale': 0.0012561181042264472, 'outputscale': 3.40700404301617}. Best is trial 15 with value: 0.3013305068016052.\n"
     ]
    },
    {
     "name": "stdout",
     "output_type": "stream",
     "text": [
      "Model finally initialized with likelihood: -3.815532922744751\n"
     ]
    },
    {
     "name": "stderr",
     "output_type": "stream",
     "text": [
      "[I 2025-07-02 16:01:12,371] Trial 90 finished with value: 0.30072176456451416 and parameters: {'lr': 0.06490432386489138, 'optimizer': 'AdamW', 'lengthscale': 0.002157351112306708, 'outputscale': 2.786888021664371}. Best is trial 15 with value: 0.3013305068016052.\n"
     ]
    },
    {
     "name": "stdout",
     "output_type": "stream",
     "text": [
      "Model finally initialized with likelihood: -3.815532922744751\n"
     ]
    },
    {
     "name": "stderr",
     "output_type": "stream",
     "text": [
      "[I 2025-07-02 16:01:16,860] Trial 91 finished with value: 0.3012927770614624 and parameters: {'lr': 0.09743089613315865, 'optimizer': 'AdamW', 'lengthscale': 0.0013493255592572483, 'outputscale': 1.0838842541887217}. Best is trial 15 with value: 0.3013305068016052.\n"
     ]
    },
    {
     "name": "stdout",
     "output_type": "stream",
     "text": [
      "Model finally initialized with likelihood: -3.815532922744751\n"
     ]
    },
    {
     "name": "stderr",
     "output_type": "stream",
     "text": [
      "[I 2025-07-02 16:01:21,192] Trial 92 finished with value: 0.3010556697845459 and parameters: {'lr': 0.08033388658422133, 'optimizer': 'AdamW', 'lengthscale': 0.0011659738210000276, 'outputscale': 0.9981378481711839}. Best is trial 15 with value: 0.3013305068016052.\n"
     ]
    },
    {
     "name": "stdout",
     "output_type": "stream",
     "text": [
      "Model finally initialized with likelihood: -3.815532922744751\n"
     ]
    },
    {
     "name": "stderr",
     "output_type": "stream",
     "text": [
      "[I 2025-07-02 16:01:25,734] Trial 93 finished with value: 0.3013036251068115 and parameters: {'lr': 0.09800912188660058, 'optimizer': 'AdamW', 'lengthscale': 0.0016026418492090114, 'outputscale': 1.6498450786920207}. Best is trial 15 with value: 0.3013305068016052.\n"
     ]
    },
    {
     "name": "stdout",
     "output_type": "stream",
     "text": [
      "Model finally initialized with likelihood: -3.815532922744751\n"
     ]
    },
    {
     "name": "stderr",
     "output_type": "stream",
     "text": [
      "[I 2025-07-02 16:01:29,917] Trial 94 finished with value: 0.3013293743133545 and parameters: {'lr': 0.09987959640087912, 'optimizer': 'AdamW', 'lengthscale': 0.00257210247660163, 'outputscale': 0.5047629701443269}. Best is trial 15 with value: 0.3013305068016052.\n"
     ]
    },
    {
     "name": "stdout",
     "output_type": "stream",
     "text": [
      "Model finally initialized with likelihood: -3.815532922744751\n"
     ]
    },
    {
     "name": "stderr",
     "output_type": "stream",
     "text": [
      "[I 2025-07-02 16:01:34,326] Trial 95 finished with value: 0.2999614477157593 and parameters: {'lr': 0.04662705639354229, 'optimizer': 'AdamW', 'lengthscale': 0.0028358281394055486, 'outputscale': 0.4965277775587331}. Best is trial 15 with value: 0.3013305068016052.\n"
     ]
    },
    {
     "name": "stdout",
     "output_type": "stream",
     "text": [
      "Model finally initialized with likelihood: -3.815532922744751\n"
     ]
    },
    {
     "name": "stderr",
     "output_type": "stream",
     "text": [
      "[I 2025-07-02 16:01:40,360] Trial 96 finished with value: 0.30089443922042847 and parameters: {'lr': 0.07202317434710126, 'optimizer': 'AdamW', 'lengthscale': 0.12041045244861746, 'outputscale': 5.080487126785686}. Best is trial 15 with value: 0.3013305068016052.\n"
     ]
    },
    {
     "name": "stdout",
     "output_type": "stream",
     "text": [
      "Model finally initialized with likelihood: -3.815532922744751\n"
     ]
    },
    {
     "name": "stderr",
     "output_type": "stream",
     "text": [
      "[I 2025-07-02 16:01:44,494] Trial 97 finished with value: 0.3004632592201233 and parameters: {'lr': 0.05681913390377595, 'optimizer': 'AdamW', 'lengthscale': 0.003953025341289969, 'outputscale': 0.5508966198346955}. Best is trial 15 with value: 0.3013305068016052.\n"
     ]
    },
    {
     "name": "stdout",
     "output_type": "stream",
     "text": [
      "Model finally initialized with likelihood: -3.815532922744751\n"
     ]
    },
    {
     "name": "stderr",
     "output_type": "stream",
     "text": [
      "[I 2025-07-02 16:01:49,061] Trial 98 finished with value: 0.07238733768463135 and parameters: {'lr': 0.0036990592260359493, 'optimizer': 'AdamW', 'lengthscale': 0.0017101336313105643, 'outputscale': 0.4182642991077232}. Best is trial 15 with value: 0.3013305068016052.\n"
     ]
    },
    {
     "name": "stdout",
     "output_type": "stream",
     "text": [
      "Model finally initialized with likelihood: -3.815532922744751\n"
     ]
    },
    {
     "name": "stderr",
     "output_type": "stream",
     "text": [
      "[I 2025-07-02 16:01:53,736] Trial 99 finished with value: 0.3011382818222046 and parameters: {'lr': 0.0857822808260047, 'optimizer': 'AdamW', 'lengthscale': 0.0022067132935695505, 'outputscale': 0.35195766309773724}. Best is trial 15 with value: 0.3013305068016052.\n"
     ]
    },
    {
     "name": "stdout",
     "output_type": "stream",
     "text": [
      "Best trial:\n",
      "  R² Score: 0.3013305068016052\n",
      "  Params: \n",
      "    lr: 0.0998899719469771\n",
      "    optimizer: AdamW\n",
      "    lengthscale: 0.0010373643542970269\n",
      "    outputscale: 0.5773225190490089\n"
     ]
    }
   ],
   "execution_count": 325
  },
  {
   "cell_type": "code",
   "id": "c097a7ff",
   "metadata": {
    "ExecuteTime": {
     "end_time": "2025-07-02T14:45:16.642393Z",
     "start_time": "2025-07-02T14:45:16.461910Z"
    }
   },
   "source": [
    "num_tasks = 1\n",
    "likelihood = gpytorch.likelihoods.MultitaskGaussianLikelihood(num_tasks=num_tasks, rank=1)\n",
    "# likelihood.noise = 10\n",
    "model = MultitaskGPModel(X_train, y_train, likelihood, num_tasks)\n",
    "model.to(device)\n",
    "initial_likelihood = mll(model(X_train), y_train)\n",
    "while initial_likelihood < -2.75:\n",
    "    model = MultitaskGPModel(X_train, y_train, likelihood)\n",
    "    model.to(device)\n",
    "    initial_likelihood = mll(model(X_train), y_train)\n",
    "print(f'Model finally initialized with likelihood: {initial_likelihood}')\n",
    "train_losses = []"
   ],
   "outputs": [
    {
     "name": "stdout",
     "output_type": "stream",
     "text": [
      "Model finally initialized with likelihood: -1.6734539270401\n"
     ]
    }
   ],
   "execution_count": 306
  },
  {
   "cell_type": "code",
   "id": "52840e61",
   "metadata": {
    "ExecuteTime": {
     "end_time": "2025-07-02T14:47:19.350001Z",
     "start_time": "2025-07-02T14:46:50.136205Z"
    }
   },
   "source": [
    "model.to(device)\n",
    "model.train()\n",
    "likelihood.train()\n",
    "# optimizer = torch.optim.AdamW(model.parameters(), lr=0.1, weight_decay = 1e-1, maximize=True)\n",
    "optimizer = torch.optim.AdamW(model.parameters(), lr=0.009969398049228019, weight_decay = 1e-4, maximize=True)\n",
    "\n",
    "mll = gpytorch.mlls.ExactMarginalLogLikelihood(likelihood, model)\n",
    "\n",
    "# scheduler = torch.optim.lr_scheduler.StepLR(optimizer, step_size=50, gamma=0.5)\n",
    "scheduler = torch.optim.lr_scheduler.ReduceLROnPlateau(optimizer, factor=0.5639435252677821)\n",
    "\n",
    "num_iter = 500\n",
    "for i in range(num_iter):\n",
    "    optimizer.zero_grad()\n",
    "    output = model(X_train)\n",
    "    loss = mll(output, y_train)\n",
    "    train_losses.append(loss.item())\n",
    "\n",
    "    # Break the loop if loss does not decrease significantly over the last 3 epochs\n",
    "    if i > 3 and abs(train_losses[-1] - train_losses[-2]) < 1e-5 and abs(train_losses[-2] - train_losses[-3]) < 1e-5:\n",
    "        print(f\"Early stopping at iteration {i} with loss {loss.item()}\")\n",
    "        break\n",
    "\n",
    "    loss.backward()\n",
    "    optimizer.step()\n",
    "    # scheduler.step(loss.item())\n",
    "    print('Iter %d/%d - Loss: %.3f' % (i + 1, num_iter, loss.item()))\n",
    "\n",
    "# Evaluation\n",
    "model.eval()\n",
    "likelihood.eval()"
   ],
   "outputs": [
    {
     "name": "stdout",
     "output_type": "stream",
     "text": [
      "Iter 1/500 - Loss: -0.515\n",
      "Iter 2/500 - Loss: -0.514\n",
      "Iter 3/500 - Loss: -0.513\n",
      "Iter 4/500 - Loss: -0.512\n",
      "Iter 5/500 - Loss: -0.511\n",
      "Iter 6/500 - Loss: -0.510\n",
      "Iter 7/500 - Loss: -0.509\n",
      "Iter 8/500 - Loss: -0.508\n",
      "Iter 9/500 - Loss: -0.507\n",
      "Iter 10/500 - Loss: -0.506\n",
      "Iter 11/500 - Loss: -0.505\n",
      "Iter 12/500 - Loss: -0.504\n",
      "Iter 13/500 - Loss: -0.504\n",
      "Iter 14/500 - Loss: -0.503\n",
      "Iter 15/500 - Loss: -0.502\n",
      "Iter 16/500 - Loss: -0.501\n",
      "Iter 17/500 - Loss: -0.500\n",
      "Iter 18/500 - Loss: -0.499\n",
      "Iter 19/500 - Loss: -0.499\n",
      "Iter 20/500 - Loss: -0.498\n",
      "Iter 21/500 - Loss: -0.497\n",
      "Iter 22/500 - Loss: -0.496\n",
      "Iter 23/500 - Loss: -0.496\n",
      "Iter 24/500 - Loss: -0.495\n",
      "Iter 25/500 - Loss: -0.494\n",
      "Iter 26/500 - Loss: -0.493\n",
      "Iter 27/500 - Loss: -0.493\n",
      "Iter 28/500 - Loss: -0.492\n",
      "Iter 29/500 - Loss: -0.492\n",
      "Iter 30/500 - Loss: -0.491\n",
      "Iter 31/500 - Loss: -0.490\n",
      "Iter 32/500 - Loss: -0.490\n",
      "Iter 33/500 - Loss: -0.489\n",
      "Iter 34/500 - Loss: -0.488\n",
      "Iter 35/500 - Loss: -0.488\n",
      "Iter 36/500 - Loss: -0.487\n",
      "Iter 37/500 - Loss: -0.487\n",
      "Iter 38/500 - Loss: -0.486\n",
      "Iter 39/500 - Loss: -0.486\n",
      "Iter 40/500 - Loss: -0.485\n",
      "Iter 41/500 - Loss: -0.485\n",
      "Iter 42/500 - Loss: -0.484\n",
      "Iter 43/500 - Loss: -0.484\n",
      "Iter 44/500 - Loss: -0.483\n",
      "Iter 45/500 - Loss: -0.483\n",
      "Iter 46/500 - Loss: -0.482\n",
      "Iter 47/500 - Loss: -0.482\n",
      "Iter 48/500 - Loss: -0.482\n",
      "Iter 49/500 - Loss: -0.481\n",
      "Iter 50/500 - Loss: -0.481\n",
      "Iter 51/500 - Loss: -0.480\n",
      "Iter 52/500 - Loss: -0.480\n",
      "Iter 53/500 - Loss: -0.480\n",
      "Iter 54/500 - Loss: -0.479\n",
      "Iter 55/500 - Loss: -0.479\n",
      "Iter 56/500 - Loss: -0.478\n",
      "Iter 57/500 - Loss: -0.478\n",
      "Iter 58/500 - Loss: -0.478\n",
      "Iter 59/500 - Loss: -0.477\n",
      "Iter 60/500 - Loss: -0.477\n",
      "Iter 61/500 - Loss: -0.477\n",
      "Iter 62/500 - Loss: -0.476\n",
      "Iter 63/500 - Loss: -0.476\n",
      "Iter 64/500 - Loss: -0.476\n",
      "Iter 65/500 - Loss: -0.475\n",
      "Iter 66/500 - Loss: -0.475\n",
      "Iter 67/500 - Loss: -0.475\n",
      "Iter 68/500 - Loss: -0.475\n",
      "Iter 69/500 - Loss: -0.474\n",
      "Iter 70/500 - Loss: -0.474\n",
      "Iter 71/500 - Loss: -0.474\n",
      "Iter 72/500 - Loss: -0.473\n",
      "Iter 73/500 - Loss: -0.473\n",
      "Iter 74/500 - Loss: -0.473\n",
      "Iter 75/500 - Loss: -0.473\n",
      "Iter 76/500 - Loss: -0.472\n",
      "Iter 77/500 - Loss: -0.472\n",
      "Iter 78/500 - Loss: -0.472\n",
      "Iter 79/500 - Loss: -0.472\n",
      "Iter 80/500 - Loss: -0.472\n",
      "Iter 81/500 - Loss: -0.471\n",
      "Iter 82/500 - Loss: -0.471\n",
      "Iter 83/500 - Loss: -0.471\n",
      "Iter 84/500 - Loss: -0.471\n",
      "Iter 85/500 - Loss: -0.470\n",
      "Iter 86/500 - Loss: -0.470\n",
      "Iter 87/500 - Loss: -0.470\n",
      "Iter 88/500 - Loss: -0.470\n",
      "Iter 89/500 - Loss: -0.470\n",
      "Iter 90/500 - Loss: -0.469\n",
      "Iter 91/500 - Loss: -0.469\n",
      "Iter 92/500 - Loss: -0.469\n",
      "Iter 93/500 - Loss: -0.469\n",
      "Iter 94/500 - Loss: -0.469\n",
      "Iter 95/500 - Loss: -0.468\n",
      "Iter 96/500 - Loss: -0.468\n",
      "Iter 97/500 - Loss: -0.468\n",
      "Iter 98/500 - Loss: -0.468\n",
      "Iter 99/500 - Loss: -0.468\n",
      "Iter 100/500 - Loss: -0.468\n",
      "Iter 101/500 - Loss: -0.467\n",
      "Iter 102/500 - Loss: -0.467\n",
      "Iter 103/500 - Loss: -0.467\n",
      "Iter 104/500 - Loss: -0.467\n",
      "Iter 105/500 - Loss: -0.467\n",
      "Iter 106/500 - Loss: -0.467\n",
      "Iter 107/500 - Loss: -0.467\n",
      "Iter 108/500 - Loss: -0.466\n",
      "Iter 109/500 - Loss: -0.466\n",
      "Iter 110/500 - Loss: -0.466\n",
      "Iter 111/500 - Loss: -0.466\n",
      "Iter 112/500 - Loss: -0.466\n",
      "Iter 113/500 - Loss: -0.466\n",
      "Iter 114/500 - Loss: -0.466\n",
      "Iter 115/500 - Loss: -0.465\n",
      "Iter 116/500 - Loss: -0.465\n",
      "Iter 117/500 - Loss: -0.465\n",
      "Iter 118/500 - Loss: -0.465\n",
      "Iter 119/500 - Loss: -0.465\n",
      "Iter 120/500 - Loss: -0.465\n",
      "Iter 121/500 - Loss: -0.465\n",
      "Iter 122/500 - Loss: -0.465\n",
      "Iter 123/500 - Loss: -0.464\n",
      "Iter 124/500 - Loss: -0.464\n",
      "Iter 125/500 - Loss: -0.464\n",
      "Iter 126/500 - Loss: -0.464\n",
      "Iter 127/500 - Loss: -0.464\n",
      "Iter 128/500 - Loss: -0.464\n",
      "Iter 129/500 - Loss: -0.464\n",
      "Iter 130/500 - Loss: -0.464\n",
      "Iter 131/500 - Loss: -0.464\n",
      "Iter 132/500 - Loss: -0.463\n",
      "Iter 133/500 - Loss: -0.463\n",
      "Iter 134/500 - Loss: -0.463\n",
      "Iter 135/500 - Loss: -0.463\n",
      "Iter 136/500 - Loss: -0.463\n",
      "Iter 137/500 - Loss: -0.463\n",
      "Iter 138/500 - Loss: -0.463\n",
      "Iter 139/500 - Loss: -0.463\n",
      "Iter 140/500 - Loss: -0.463\n",
      "Iter 141/500 - Loss: -0.463\n",
      "Iter 142/500 - Loss: -0.462\n",
      "Iter 143/500 - Loss: -0.462\n",
      "Iter 144/500 - Loss: -0.462\n",
      "Iter 145/500 - Loss: -0.462\n",
      "Iter 146/500 - Loss: -0.462\n",
      "Iter 147/500 - Loss: -0.462\n",
      "Iter 148/500 - Loss: -0.462\n",
      "Iter 149/500 - Loss: -0.462\n",
      "Iter 150/500 - Loss: -0.462\n",
      "Iter 151/500 - Loss: -0.462\n",
      "Iter 152/500 - Loss: -0.462\n",
      "Iter 153/500 - Loss: -0.462\n",
      "Iter 154/500 - Loss: -0.461\n",
      "Iter 155/500 - Loss: -0.461\n",
      "Iter 156/500 - Loss: -0.461\n",
      "Iter 157/500 - Loss: -0.461\n",
      "Iter 158/500 - Loss: -0.461\n",
      "Iter 159/500 - Loss: -0.461\n",
      "Iter 160/500 - Loss: -0.461\n",
      "Iter 161/500 - Loss: -0.461\n",
      "Iter 162/500 - Loss: -0.461\n",
      "Iter 163/500 - Loss: -0.461\n",
      "Iter 164/500 - Loss: -0.461\n",
      "Iter 165/500 - Loss: -0.461\n",
      "Iter 166/500 - Loss: -0.461\n",
      "Iter 167/500 - Loss: -0.460\n",
      "Iter 168/500 - Loss: -0.460\n",
      "Iter 169/500 - Loss: -0.460\n",
      "Iter 170/500 - Loss: -0.460\n",
      "Iter 171/500 - Loss: -0.460\n",
      "Iter 172/500 - Loss: -0.460\n",
      "Iter 173/500 - Loss: -0.460\n",
      "Iter 174/500 - Loss: -0.460\n",
      "Iter 175/500 - Loss: -0.460\n",
      "Iter 176/500 - Loss: -0.460\n",
      "Iter 177/500 - Loss: -0.460\n",
      "Iter 178/500 - Loss: -0.460\n",
      "Iter 179/500 - Loss: -0.460\n",
      "Iter 180/500 - Loss: -0.460\n",
      "Iter 181/500 - Loss: -0.460\n",
      "Iter 182/500 - Loss: -0.460\n",
      "Iter 183/500 - Loss: -0.459\n",
      "Iter 184/500 - Loss: -0.459\n",
      "Iter 185/500 - Loss: -0.459\n",
      "Iter 186/500 - Loss: -0.459\n",
      "Iter 187/500 - Loss: -0.459\n",
      "Iter 188/500 - Loss: -0.459\n",
      "Iter 189/500 - Loss: -0.459\n",
      "Iter 190/500 - Loss: -0.459\n",
      "Iter 191/500 - Loss: -0.459\n",
      "Iter 192/500 - Loss: -0.459\n",
      "Iter 193/500 - Loss: -0.459\n",
      "Iter 194/500 - Loss: -0.459\n",
      "Iter 195/500 - Loss: -0.459\n",
      "Iter 196/500 - Loss: -0.459\n",
      "Iter 197/500 - Loss: -0.459\n",
      "Iter 198/500 - Loss: -0.459\n",
      "Iter 199/500 - Loss: -0.459\n",
      "Iter 200/500 - Loss: -0.459\n",
      "Iter 201/500 - Loss: -0.458\n",
      "Iter 202/500 - Loss: -0.458\n",
      "Iter 203/500 - Loss: -0.458\n",
      "Iter 204/500 - Loss: -0.458\n",
      "Iter 205/500 - Loss: -0.458\n",
      "Iter 206/500 - Loss: -0.458\n",
      "Iter 207/500 - Loss: -0.458\n",
      "Iter 208/500 - Loss: -0.458\n",
      "Iter 209/500 - Loss: -0.458\n",
      "Iter 210/500 - Loss: -0.458\n",
      "Iter 211/500 - Loss: -0.458\n",
      "Iter 212/500 - Loss: -0.458\n",
      "Iter 213/500 - Loss: -0.458\n",
      "Iter 214/500 - Loss: -0.458\n",
      "Iter 215/500 - Loss: -0.458\n",
      "Iter 216/500 - Loss: -0.458\n",
      "Iter 217/500 - Loss: -0.458\n",
      "Iter 218/500 - Loss: -0.458\n",
      "Iter 219/500 - Loss: -0.458\n",
      "Iter 220/500 - Loss: -0.458\n",
      "Iter 221/500 - Loss: -0.458\n",
      "Iter 222/500 - Loss: -0.457\n",
      "Iter 223/500 - Loss: -0.457\n",
      "Iter 224/500 - Loss: -0.457\n",
      "Iter 225/500 - Loss: -0.457\n",
      "Iter 226/500 - Loss: -0.457\n",
      "Iter 227/500 - Loss: -0.457\n",
      "Iter 228/500 - Loss: -0.457\n",
      "Iter 229/500 - Loss: -0.457\n",
      "Iter 230/500 - Loss: -0.457\n",
      "Iter 231/500 - Loss: -0.457\n",
      "Iter 232/500 - Loss: -0.457\n",
      "Iter 233/500 - Loss: -0.457\n",
      "Iter 234/500 - Loss: -0.457\n",
      "Iter 235/500 - Loss: -0.457\n",
      "Iter 236/500 - Loss: -0.457\n",
      "Iter 237/500 - Loss: -0.457\n",
      "Iter 238/500 - Loss: -0.457\n",
      "Iter 239/500 - Loss: -0.457\n",
      "Iter 240/500 - Loss: -0.457\n",
      "Iter 241/500 - Loss: -0.457\n",
      "Iter 242/500 - Loss: -0.457\n",
      "Iter 243/500 - Loss: -0.457\n",
      "Iter 244/500 - Loss: -0.457\n",
      "Iter 245/500 - Loss: -0.457\n",
      "Iter 246/500 - Loss: -0.457\n",
      "Iter 247/500 - Loss: -0.457\n",
      "Iter 248/500 - Loss: -0.456\n",
      "Iter 249/500 - Loss: -0.456\n",
      "Iter 250/500 - Loss: -0.456\n",
      "Iter 251/500 - Loss: -0.456\n",
      "Iter 252/500 - Loss: -0.456\n",
      "Iter 253/500 - Loss: -0.456\n",
      "Iter 254/500 - Loss: -0.456\n",
      "Iter 255/500 - Loss: -0.456\n",
      "Iter 256/500 - Loss: -0.456\n",
      "Iter 257/500 - Loss: -0.456\n",
      "Iter 258/500 - Loss: -0.456\n",
      "Iter 259/500 - Loss: -0.456\n",
      "Iter 260/500 - Loss: -0.456\n",
      "Iter 261/500 - Loss: -0.456\n",
      "Iter 262/500 - Loss: -0.456\n",
      "Iter 263/500 - Loss: -0.456\n",
      "Iter 264/500 - Loss: -0.456\n",
      "Iter 265/500 - Loss: -0.456\n",
      "Iter 266/500 - Loss: -0.456\n",
      "Iter 267/500 - Loss: -0.456\n",
      "Iter 268/500 - Loss: -0.456\n",
      "Iter 269/500 - Loss: -0.456\n",
      "Iter 270/500 - Loss: -0.456\n",
      "Iter 271/500 - Loss: -0.456\n",
      "Iter 272/500 - Loss: -0.456\n",
      "Iter 273/500 - Loss: -0.456\n",
      "Iter 274/500 - Loss: -0.456\n",
      "Iter 275/500 - Loss: -0.456\n",
      "Iter 276/500 - Loss: -0.456\n",
      "Iter 277/500 - Loss: -0.456\n",
      "Iter 278/500 - Loss: -0.456\n",
      "Iter 279/500 - Loss: -0.456\n",
      "Iter 280/500 - Loss: -0.456\n",
      "Iter 281/500 - Loss: -0.455\n",
      "Iter 282/500 - Loss: -0.455\n",
      "Iter 283/500 - Loss: -0.455\n",
      "Iter 284/500 - Loss: -0.455\n",
      "Iter 285/500 - Loss: -0.455\n",
      "Iter 286/500 - Loss: -0.455\n",
      "Iter 287/500 - Loss: -0.455\n",
      "Iter 288/500 - Loss: -0.455\n",
      "Iter 289/500 - Loss: -0.455\n",
      "Iter 290/500 - Loss: -0.455\n",
      "Iter 291/500 - Loss: -0.455\n",
      "Iter 292/500 - Loss: -0.455\n",
      "Iter 293/500 - Loss: -0.455\n",
      "Iter 294/500 - Loss: -0.455\n",
      "Iter 295/500 - Loss: -0.455\n",
      "Iter 296/500 - Loss: -0.455\n",
      "Iter 297/500 - Loss: -0.455\n",
      "Iter 298/500 - Loss: -0.455\n",
      "Iter 299/500 - Loss: -0.455\n",
      "Iter 300/500 - Loss: -0.455\n",
      "Iter 301/500 - Loss: -0.455\n",
      "Iter 302/500 - Loss: -0.455\n",
      "Iter 303/500 - Loss: -0.455\n",
      "Iter 304/500 - Loss: -0.455\n",
      "Iter 305/500 - Loss: -0.455\n",
      "Iter 306/500 - Loss: -0.455\n",
      "Iter 307/500 - Loss: -0.455\n",
      "Iter 308/500 - Loss: -0.455\n",
      "Iter 309/500 - Loss: -0.455\n",
      "Iter 310/500 - Loss: -0.455\n",
      "Iter 311/500 - Loss: -0.455\n",
      "Iter 312/500 - Loss: -0.455\n",
      "Iter 313/500 - Loss: -0.455\n",
      "Iter 314/500 - Loss: -0.455\n",
      "Iter 315/500 - Loss: -0.455\n",
      "Iter 316/500 - Loss: -0.455\n",
      "Iter 317/500 - Loss: -0.455\n",
      "Iter 318/500 - Loss: -0.455\n",
      "Iter 319/500 - Loss: -0.455\n",
      "Iter 320/500 - Loss: -0.455\n",
      "Iter 321/500 - Loss: -0.455\n",
      "Iter 322/500 - Loss: -0.454\n",
      "Iter 323/500 - Loss: -0.454\n",
      "Iter 324/500 - Loss: -0.454\n",
      "Iter 325/500 - Loss: -0.454\n",
      "Iter 326/500 - Loss: -0.454\n",
      "Iter 327/500 - Loss: -0.454\n",
      "Iter 328/500 - Loss: -0.454\n",
      "Iter 329/500 - Loss: -0.454\n",
      "Iter 330/500 - Loss: -0.454\n",
      "Iter 331/500 - Loss: -0.454\n",
      "Iter 332/500 - Loss: -0.454\n",
      "Iter 333/500 - Loss: -0.454\n",
      "Iter 334/500 - Loss: -0.454\n",
      "Iter 335/500 - Loss: -0.454\n",
      "Iter 336/500 - Loss: -0.454\n",
      "Iter 337/500 - Loss: -0.454\n",
      "Iter 338/500 - Loss: -0.454\n",
      "Iter 339/500 - Loss: -0.454\n",
      "Iter 340/500 - Loss: -0.454\n",
      "Iter 341/500 - Loss: -0.454\n",
      "Iter 342/500 - Loss: -0.454\n",
      "Iter 343/500 - Loss: -0.454\n",
      "Iter 344/500 - Loss: -0.454\n",
      "Iter 345/500 - Loss: -0.454\n",
      "Iter 346/500 - Loss: -0.454\n",
      "Iter 347/500 - Loss: -0.454\n",
      "Iter 348/500 - Loss: -0.454\n",
      "Iter 349/500 - Loss: -0.454\n",
      "Iter 350/500 - Loss: -0.454\n",
      "Iter 351/500 - Loss: -0.454\n",
      "Iter 352/500 - Loss: -0.454\n",
      "Iter 353/500 - Loss: -0.454\n",
      "Iter 354/500 - Loss: -0.454\n",
      "Iter 355/500 - Loss: -0.454\n",
      "Iter 356/500 - Loss: -0.454\n",
      "Iter 357/500 - Loss: -0.454\n",
      "Iter 358/500 - Loss: -0.454\n",
      "Iter 359/500 - Loss: -0.454\n",
      "Iter 360/500 - Loss: -0.454\n",
      "Iter 361/500 - Loss: -0.454\n",
      "Iter 362/500 - Loss: -0.454\n",
      "Iter 363/500 - Loss: -0.454\n",
      "Iter 364/500 - Loss: -0.454\n",
      "Iter 365/500 - Loss: -0.454\n",
      "Iter 366/500 - Loss: -0.454\n",
      "Iter 367/500 - Loss: -0.454\n",
      "Iter 368/500 - Loss: -0.454\n",
      "Iter 369/500 - Loss: -0.454\n",
      "Iter 370/500 - Loss: -0.454\n",
      "Iter 371/500 - Loss: -0.454\n",
      "Iter 372/500 - Loss: -0.454\n",
      "Iter 373/500 - Loss: -0.454\n",
      "Iter 374/500 - Loss: -0.454\n",
      "Iter 375/500 - Loss: -0.454\n",
      "Iter 376/500 - Loss: -0.453\n",
      "Iter 377/500 - Loss: -0.453\n",
      "Iter 378/500 - Loss: -0.453\n",
      "Iter 379/500 - Loss: -0.453\n",
      "Iter 380/500 - Loss: -0.453\n",
      "Iter 381/500 - Loss: -0.453\n",
      "Iter 382/500 - Loss: -0.453\n",
      "Iter 383/500 - Loss: -0.453\n",
      "Iter 384/500 - Loss: -0.453\n",
      "Iter 385/500 - Loss: -0.453\n",
      "Iter 386/500 - Loss: -0.453\n",
      "Iter 387/500 - Loss: -0.453\n",
      "Iter 388/500 - Loss: -0.453\n",
      "Iter 389/500 - Loss: -0.453\n",
      "Iter 390/500 - Loss: -0.453\n",
      "Iter 391/500 - Loss: -0.453\n",
      "Iter 392/500 - Loss: -0.453\n",
      "Iter 393/500 - Loss: -0.453\n",
      "Iter 394/500 - Loss: -0.453\n",
      "Iter 395/500 - Loss: -0.453\n",
      "Iter 396/500 - Loss: -0.453\n",
      "Iter 397/500 - Loss: -0.453\n",
      "Iter 398/500 - Loss: -0.453\n",
      "Iter 399/500 - Loss: -0.453\n",
      "Iter 400/500 - Loss: -0.453\n",
      "Iter 401/500 - Loss: -0.453\n",
      "Iter 402/500 - Loss: -0.453\n",
      "Iter 403/500 - Loss: -0.453\n",
      "Iter 404/500 - Loss: -0.453\n",
      "Iter 405/500 - Loss: -0.453\n",
      "Iter 406/500 - Loss: -0.453\n",
      "Iter 407/500 - Loss: -0.453\n",
      "Iter 408/500 - Loss: -0.453\n",
      "Iter 409/500 - Loss: -0.453\n",
      "Iter 410/500 - Loss: -0.453\n",
      "Iter 411/500 - Loss: -0.453\n",
      "Iter 412/500 - Loss: -0.453\n",
      "Iter 413/500 - Loss: -0.453\n",
      "Iter 414/500 - Loss: -0.453\n",
      "Iter 415/500 - Loss: -0.453\n",
      "Iter 416/500 - Loss: -0.453\n",
      "Iter 417/500 - Loss: -0.453\n",
      "Iter 418/500 - Loss: -0.453\n",
      "Iter 419/500 - Loss: -0.453\n",
      "Iter 420/500 - Loss: -0.453\n",
      "Iter 421/500 - Loss: -0.453\n",
      "Iter 422/500 - Loss: -0.453\n",
      "Iter 423/500 - Loss: -0.453\n",
      "Iter 424/500 - Loss: -0.453\n",
      "Iter 425/500 - Loss: -0.453\n",
      "Iter 426/500 - Loss: -0.453\n",
      "Iter 427/500 - Loss: -0.453\n",
      "Iter 428/500 - Loss: -0.453\n",
      "Iter 429/500 - Loss: -0.453\n",
      "Iter 430/500 - Loss: -0.453\n",
      "Iter 431/500 - Loss: -0.453\n",
      "Iter 432/500 - Loss: -0.453\n",
      "Iter 433/500 - Loss: -0.453\n",
      "Iter 434/500 - Loss: -0.453\n",
      "Iter 435/500 - Loss: -0.453\n",
      "Iter 436/500 - Loss: -0.453\n",
      "Iter 437/500 - Loss: -0.453\n",
      "Iter 438/500 - Loss: -0.453\n",
      "Iter 439/500 - Loss: -0.453\n",
      "Iter 440/500 - Loss: -0.453\n",
      "Iter 441/500 - Loss: -0.453\n",
      "Iter 442/500 - Loss: -0.453\n",
      "Iter 443/500 - Loss: -0.453\n",
      "Iter 444/500 - Loss: -0.453\n",
      "Iter 445/500 - Loss: -0.453\n",
      "Iter 446/500 - Loss: -0.453\n",
      "Iter 447/500 - Loss: -0.453\n",
      "Early stopping at iteration 447 with loss -0.45251771807670593\n"
     ]
    },
    {
     "data": {
      "text/plain": [
       "MultitaskGaussianLikelihood(\n",
       "  (raw_noise_constraint): GreaterThan(1.000E-04)\n",
       ")"
      ]
     },
     "execution_count": 315,
     "metadata": {},
     "output_type": "execute_result"
    }
   ],
   "execution_count": 315
  },
  {
   "metadata": {
    "ExecuteTime": {
     "end_time": "2025-07-02T14:47:21.518751Z",
     "start_time": "2025-07-02T14:47:21.365259Z"
    }
   },
   "cell_type": "code",
   "source": [
    "# Plot training loss\n",
    "plt.title('Training Loss')\n",
    "plt.plot(train_losses, label='Training loss')\n",
    "plt.legend()\n",
    "plt.xlabel('Iteration')\n",
    "plt.ylabel('Loss')\n",
    "plt.show()"
   ],
   "id": "5ecf295948cba468",
   "outputs": [
    {
     "data": {
      "text/plain": [
       "<Figure size 640x480 with 1 Axes>"
      ],
      "image/png": "[encoded data removed]"
     },
     "metadata": {},
     "output_type": "display_data"
    }
   ],
   "execution_count": 316
  },
  {
   "cell_type": "code",
   "id": "6a580ada",
   "metadata": {
    "ExecuteTime": {
     "end_time": "2025-07-02T14:47:24.868298Z",
     "start_time": "2025-07-02T14:47:24.840869Z"
    }
   },
   "source": [
    "with torch.no_grad():\n",
    "    preds = model(X_train)\n",
    "    mean = preds.mean  # shape: (n, 3)\n",
    "\n",
    "y_true_np = y_train.cpu().numpy()\n",
    "y_pred_np = mean.cpu().numpy()\n",
    "\n",
    "num_targets = y_true_np.shape[1]\n",
    "\n",
    "for i in range(num_targets):\n",
    "    mse = mean_squared_error(y_true_np[:, i], y_pred_np[:, i])\n",
    "    rmse = root_mean_squared_error(y_true_np[:, i], y_pred_np[:, i])\n",
    "    r2 = r2_score(y_true_np[:, i], y_pred_np[:, i])\n",
    "    print(f\"Target {i+1}: MSE = {mse:.4f}, RMSE = {rmse:.4f}, R2 = {r2:.4f}\")"
   ],
   "outputs": [
    {
     "name": "stdout",
     "output_type": "stream",
     "text": [
      "Target 1: MSE = 0.0056, RMSE = 0.0749, R2 = 0.9762\n"
     ]
    },
    {
     "name": "stderr",
     "output_type": "stream",
     "text": [
      "C:\\Users\\Dhruv Khanna\\Documents\\Coding stuff\\ADML\\.venv\\Lib\\site-packages\\gpytorch\\models\\exact_gp.py:296: GPInputWarning: The input matches the stored training data. Did you forget to call model.train()?\n",
      "  warnings.warn(\n"
     ]
    }
   ],
   "execution_count": 317
  },
  {
   "cell_type": "code",
   "id": "225dd712",
   "metadata": {
    "ExecuteTime": {
     "end_time": "2025-07-02T14:47:26.012109Z",
     "start_time": "2025-07-02T14:47:25.987345Z"
    }
   },
   "source": [
    "with torch.no_grad():\n",
    "    preds = model(X_test)\n",
    "    mean = preds.mean  # shape: (n, 3)\n",
    "\n",
    "y_true_np = y_test.cpu().numpy()\n",
    "y_pred_np = mean.cpu().numpy()\n",
    "\n",
    "num_targets = y_true_np.shape[1]\n",
    "\n",
    "for i in range(num_targets):\n",
    "    mse = mean_squared_error(y_true_np[:, i], y_pred_np[:, i])\n",
    "    rmse = root_mean_squared_error(y_true_np[:, i], y_pred_np[:, i])\n",
    "    r2 = r2_score(y_true_np[:, i], y_pred_np[:, i])\n",
    "    print(f\"Target {i+1}: MSE = {mse:.4f}, RMSE = {rmse:.4f}, R2 = {r2:.4f}\")\n",
    "    "
   ],
   "outputs": [
    {
     "name": "stdout",
     "output_type": "stream",
     "text": [
      "Target 1: MSE = 0.1650, RMSE = 0.4063, R2 = 0.3748\n"
     ]
    }
   ],
   "execution_count": 318
  }
 ],
 "metadata": {
  "kernelspec": {
   "display_name": "Python 3",
   "language": "python",
   "name": "python3"
  },
  "language_info": {
   "codemirror_mode": {
    "name": "ipython",
    "version": 3
   },
   "file_extension": ".py",
   "mimetype": "text/x-python",
   "name": "python",
   "nbconvert_exporter": "python",
   "pygments_lexer": "ipython3",
   "version": "3.11.13"
  }
 },
 "nbformat": 4,
 "nbformat_minor": 5
}
