{
 "cells": [
  {
   "metadata": {
    "ExecuteTime": {
     "end_time": "2025-06-26T16:53:29.172903Z",
     "start_time": "2025-06-26T16:53:28.968683Z"
    }
   },
   "cell_type": "code",
   "source": [
    "import os\n",
    "import numpy as np\n",
    "import pandas as pd\n",
    "import seaborn as sns\n",
    "import matplotlib.pyplot as plt\n",
    "from sklearn.gaussian_process import GaussianProcessRegressor\n",
    "from sklearn.gaussian_process.kernels import RBF, WhiteKernel\n",
    "from sklearn.preprocessing import StandardScaler, PowerTransformer\n",
    "from sklearn.model_selection import train_test_split\n",
    "\n",
    "data_dir = 'data'"
   ],
   "id": "77539d73437cf07e",
   "outputs": [],
   "execution_count": 2
  },
  {
   "metadata": {
    "ExecuteTime": {
     "end_time": "2025-06-26T16:55:46.133176Z",
     "start_time": "2025-06-26T16:55:46.105942Z"
    }
   },
   "cell_type": "code",
   "source": "df = pd.read_csv(os.path.join(data_dir, 'final_data.csv'), low_memory=False)",
   "id": "ead4871238aee49c",
   "outputs": [],
   "execution_count": 5
  },
  {
   "metadata": {},
   "cell_type": "markdown",
   "source": [
    "\n",
    "TODO: Use a Gaussian Process Regressor with L1/L2/(L1+L2) Regularization + Adam/AdamW/SGD+Momentum"
   ],
   "id": "85b7bae3a08b0892"
  },
  {
   "metadata": {},
   "cell_type": "markdown",
   "source": "Predict ABETA_bl",
   "id": "5f5bc94fed0e6ab1"
  },
  {
   "cell_type": "code",
   "execution_count": null,
   "id": "initial_id",
   "metadata": {
    "collapsed": true
   },
   "outputs": [],
   "source": [
    "X = df.drop('ABETA_bl', axis=1)\n",
    "y = df['ABETA_bl']\n",
    "\n",
    "scaler = StandardScaler()\n",
    "scaler.fit(X)\n",
    "X = scaler.transform(X)\n",
    "X_train, X_test, y_train, y_test = train_test_split(X, y, train_size=0.8, random_state=42)\n",
    "\n",
    "kernel = 1.0 * RBF(length_scale=1e1, length_scale_bounds=(1e-2, 1e3)) + WhiteKernel(\n",
    "    noise_level=1, noise_level_bounds=(1e-10, 1e1)\n",
    ")\n",
    "\n",
    "gpr = GaussianProcessRegressor(\n",
    "    kernel=kernel, alpha=0.0, n_restarts_optimizer=10, random_state=0\n",
    ")\n",
    "\n"
   ]
  },
  {
   "metadata": {},
   "cell_type": "markdown",
   "source": "Predict PTAU_bl",
   "id": "b18d69ac9d940caa"
  },
  {
   "metadata": {},
   "cell_type": "code",
   "outputs": [],
   "execution_count": null,
   "source": [
    "X = df.drop('PTAU_bl', axis=1)\n",
    "y = df['PTAU_bl']\n",
    "\n",
    "scaler = StandardScaler()\n",
    "scaler.fit(X)\n",
    "X = scaler.transform(X)\n",
    "X_train, X_test, y_train, y_test = train_test_split(X, y, train_size=0.8, random_state=42)"
   ],
   "id": "dc6b2382d34406cf"
  },
  {
   "metadata": {},
   "cell_type": "markdown",
   "source": "Predict TAU_bl",
   "id": "938f67468ab0674f"
  },
  {
   "metadata": {},
   "cell_type": "code",
   "outputs": [],
   "execution_count": null,
   "source": [
    "X = df.drop('TAU_bl', axis=1)\n",
    "y = df['TAU_bl']\n",
    "\n",
    "scaler = StandardScaler()\n",
    "scaler.fit(X)\n",
    "X = scaler.transform(X)\n",
    "X_train, X_test, y_train, y_test = train_test_split(X, y, train_size=0.8, random_state=42)"
   ],
   "id": "7724c86bb5fc7911"
  }
 ],
 "metadata": {
  "kernelspec": {
   "display_name": "Python 3",
   "language": "python",
   "name": "python3"
  },
  "language_info": {
   "codemirror_mode": {
    "name": "ipython",
    "version": 2
   },
   "file_extension": ".py",
   "mimetype": "text/x-python",
   "name": "python",
   "nbconvert_exporter": "python",
   "pygments_lexer": "ipython2",
   "version": "2.7.6"
  }
 },
 "nbformat": 4,
 "nbformat_minor": 5
}
