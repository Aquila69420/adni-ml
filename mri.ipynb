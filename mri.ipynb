{
 "cells": [
  {
   "cell_type": "code",
   "id": "initial_id",
   "metadata": {
    "collapsed": true,
    "ExecuteTime": {
     "end_time": "2025-06-24T08:09:04.814053Z",
     "start_time": "2025-06-24T08:09:04.764826Z"
    }
   },
   "source": "from preprocess_mri import *",
   "outputs": [],
   "execution_count": 85
  },
  {
   "metadata": {
    "ExecuteTime": {
     "end_time": "2025-06-24T09:19:57.170153Z",
     "start_time": "2025-06-24T09:19:50.259391Z"
    }
   },
   "cell_type": "code",
   "source": [
    "n3_dir = os.path.join('data', 'mri', 'ADNI', '136_S_1227', 'MPR____N3__Scaled')\n",
    "files = find_nifti_files(n3_dir)\n",
    "\n",
    "mni_path = os.path.join('mni', 'icbm152.nii')\n",
    "mni_img = nil.image.load_img(mni_path)\n",
    "\n",
    "aal = nil.datasets.fetch_atlas_aal(version='3v2')\n",
    "atlas_img = nil.image.load_img(aal.maps)\n",
    "\n",
    "for file in files:\n",
    "    registered_img = register_to_mni(file, mni_img)\n",
    "    segmented = segment_with_atlas(registered_img, atlas_img, aal.labels)\n",
    "    print(f'Processed {file}: Registered shape {registered_img.shape}, Segmented shape {segmented.shape}')"
   ],
   "id": "d3d2d430657c9a87",
   "outputs": [
    {
     "name": "stdout",
     "output_type": "stream",
     "text": [
      "[fetch_atlas_aal] Dataset found in C:\\Users\\Dhruv Khanna\\nilearn_data\\aal_3v2\n",
      "Processed data\\mri\\ADNI\\136_S_1227\\MPR____N3__Scaled\\2007-02-21_13_12_42.0\\I66824\\ADNI_136_S_1227_MR_MPR____N3__Scaled_Br_20070810000731580_S26837_I66824.nii: Registered shape (121, 145, 121), Segmented shape (166,)\n",
      "Processed data\\mri\\ADNI\\136_S_1227\\MPR____N3__Scaled\\2009-03-23_11_59_29.0\\I143856\\ADNI_136_S_1227_MR_MPR____N3__Scaled_Br_20090514132202278_S64957_I143856.nii: Registered shape (121, 145, 121), Segmented shape (166,)\n"
     ]
    }
   ],
   "execution_count": 120
  }
 ],
 "metadata": {
  "kernelspec": {
   "display_name": "Python 3",
   "language": "python",
   "name": "python3"
  },
  "language_info": {
   "codemirror_mode": {
    "name": "ipython",
    "version": 2
   },
   "file_extension": ".py",
   "mimetype": "text/x-python",
   "name": "python",
   "nbconvert_exporter": "python",
   "pygments_lexer": "ipython2",
   "version": "2.7.6"
  }
 },
 "nbformat": 4,
 "nbformat_minor": 5
}
