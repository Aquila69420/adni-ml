{
 "cells": [
  {
   "cell_type": "code",
   "id": "initial_id",
   "metadata": {
    "collapsed": true
   },
   "source": [
    "import os\n",
    "import numpy as np\n",
    "import pandas as pd\n",
    "import seaborn as sns\n",
    "import matplotlib.pyplot as plt\n",
    "\n",
    "data_dir = 'data'"
   ],
   "outputs": [],
   "execution_count": null
  },
  {
   "metadata": {},
   "cell_type": "code",
   "source": "df = pd.read_csv(os.path.join(data_dir, 'CSF_COG_PET_data_cleaned.csv'), low_memory=False)",
   "id": "2bcbbf67bf2267ca",
   "outputs": [],
   "execution_count": null
  },
  {
   "metadata": {},
   "cell_type": "code",
   "source": "df.info(verbose=True, show_counts=True)",
   "id": "27965143da299cdb",
   "outputs": [],
   "execution_count": null
  },
  {
   "metadata": {},
   "cell_type": "code",
   "source": "correlation_matrix = df.corr()",
   "id": "b43f381972f61bb",
   "outputs": [],
   "execution_count": null
  },
  {
   "metadata": {},
   "cell_type": "code",
   "source": [
    "# Mask the upper triangle of the correlation matrix\n",
    "mask = np.triu(np.ones_like(correlation_matrix, dtype=bool))\n",
    "\n",
    "# Set up the matplotlib figure\n",
    "plt.figure(figsize=(100, 100))\n",
    "cmap = sns.diverging_palette(230, 20, as_cmap=True)\n",
    "\n",
    "# Draw the heatmap with the mask and correct aspect ratio\n",
    "sns.heatmap(correlation_matrix, mask=mask, cmap=cmap, annot=True, fmt=\".2f\", square=True, linewidths=.5, cbar_kws={\"shrink\": .8})\n",
    "\n",
    "plt.title('Correlation heatmap of features')\n",
    "plt.show()"
   ],
   "id": "8cdb9341622c7f2b",
   "outputs": [],
   "execution_count": null
  },
  {
   "metadata": {},
   "cell_type": "code",
   "source": [
    "dx_labels = {0: 'AD', 1: 'MCI', 2: 'CN'}\n",
    "\n",
    "def plot_pairwise_scatter_plot_with_highly_correlated_features(target, features, df):\n",
    "  for col in features:\n",
    "      plt.figure(figsize=(10, 6))\n",
    "      ax = sns.scatterplot(data=df, x=col, y=target, hue='DX', palette='Set1')\n",
    "      plt.title(f'Pairwise scatter plot b/w {col} and {target}')\n",
    "      plt.xlabel(col)\n",
    "      plt.ylabel(target)\n",
    "      handles, labels = ax.get_legend_handles_labels()\n",
    "      new_labels = [dx_labels.get(int(l), l) if l.isdigit() else l for l in labels]\n",
    "      plt.legend(handles=handles, labels=new_labels, title='DX')\n",
    "      plt.show()"
   ],
   "id": "7db4c82cce114d65",
   "outputs": [],
   "execution_count": null
  },
  {
   "metadata": {},
   "cell_type": "code",
   "source": [
    "# Select the features from the correlation matrix that are highly correlated with 'DX'\n",
    "highly_correlated_features = correlation_matrix['DX'].abs().sort_values(ascending=False).drop('DX')\n",
    "print(f\"Top 10 features highly correlated with 'DX': {highly_correlated_features.index.tolist()[:10]}\")\n",
    "plot_pairwise_scatter_plot_with_highly_correlated_features('DX', highly_correlated_features.index.tolist()[:10], df)"
   ],
   "id": "f3edfc623cf27d59",
   "outputs": [],
   "execution_count": null
  },
  {
   "metadata": {},
   "cell_type": "code",
   "source": [
    "# Select the features from the correlation matrix that are highly correlated with 'EcogPtTotal_bl'\n",
    "highly_correlated_features = correlation_matrix['EcogPtTotal_bl'].abs().sort_values(ascending=False).drop('EcogPtTotal_bl')\n",
    "print(f\"Top 10 Features highly correlated with 'EcogPtTotal_bl': {highly_correlated_features.index.tolist()[:10]}\")"
   ],
   "id": "ef05f7ff61da0580",
   "outputs": [],
   "execution_count": null
  },
  {
   "metadata": {},
   "cell_type": "code",
   "source": [
    "# Select the features from the correlation matrix that are highly correlated with 'MMSE_bl'\n",
    "highly_correlated_features = correlation_matrix['MMSE_bl'].abs().sort_values(ascending=False).drop('MMSE_bl')\n",
    "print(f\"Top 10 Features highly correlated with 'MMSE_bl': {highly_correlated_features.index.tolist()[:10]}\")"
   ],
   "id": "c8993b23c80573bf",
   "outputs": [],
   "execution_count": null
  },
  {
   "metadata": {},
   "cell_type": "code",
   "source": [
    "# Select the features from the correlation matrix that are highly correlated with 'LDELTOTAL_BL'\n",
    "highly_correlated_features = correlation_matrix['LDELTOTAL_BL'].abs().sort_values(ascending=False).drop('LDELTOTAL_BL')\n",
    "print(f\"Top 10 Features highly correlated with 'LDELTOTAL_BL': {highly_correlated_features.index.tolist()[:10]}\")"
   ],
   "id": "374c3c8683b81fce",
   "outputs": [],
   "execution_count": null
  },
  {
   "metadata": {},
   "cell_type": "code",
   "source": [
    "# Select the features from the correlation matrix that are highly correlated with 'ABETA_bl'\n",
    "highly_correlated_features = correlation_matrix['ABETA_bl'].abs().sort_values(ascending=False).drop('ABETA_bl')\n",
    "print(f\"Top 10 Features highly correlated with 'ABETA_bl': {highly_correlated_features.index.tolist()[:10]}\")\n",
    "plot_pairwise_scatter_plot_with_highly_correlated_features('ABETA_bl', highly_correlated_features.index.tolist()[:10], df)"
   ],
   "id": "7d25a7057dad763c",
   "outputs": [],
   "execution_count": null
  },
  {
   "metadata": {},
   "cell_type": "code",
   "source": [
    "# Select the features from the correlation matrix that are highly correlated with 'PTAU_bl'\n",
    "highly_correlated_features = correlation_matrix['PTAU_bl'].abs().sort_values(ascending=False).drop('PTAU_bl')\n",
    "print(f\"Top 10 Features highly correlated with 'PTAU_bl': {highly_correlated_features.index.tolist()[:10]}\")\n",
    "plot_pairwise_scatter_plot_with_highly_correlated_features('PTAU_bl', highly_correlated_features.index.tolist()[:10], df)"
   ],
   "id": "ec30391ebd738d3e",
   "outputs": [],
   "execution_count": null
  },
  {
   "metadata": {},
   "cell_type": "code",
   "source": [
    "# Select the features from the correlation matrix that are highly correlated with 'TAU_bl'\n",
    "highly_correlated_features = correlation_matrix['TAU_bl'].abs().sort_values(ascending=False).drop('TAU_bl')\n",
    "print(f\"Top 10 Features highly correlated with 'TAU_bl': {highly_correlated_features.index.tolist()[:10]}\")\n",
    "plot_pairwise_scatter_plot_with_highly_correlated_features('TAU_bl', highly_correlated_features.index.tolist()[:10], df)"
   ],
   "id": "47088dff358b6fb",
   "outputs": [],
   "execution_count": null
  }
 ],
 "metadata": {
  "kernelspec": {
   "display_name": "Python 3",
   "language": "python",
   "name": "python3"
  },
  "language_info": {
   "codemirror_mode": {
    "name": "ipython",
    "version": 2
   },
   "file_extension": ".py",
   "mimetype": "text/x-python",
   "name": "python",
   "nbconvert_exporter": "python",
   "pygments_lexer": "ipython2",
   "version": "2.7.6"
  }
 },
 "nbformat": 4,
 "nbformat_minor": 5
}
