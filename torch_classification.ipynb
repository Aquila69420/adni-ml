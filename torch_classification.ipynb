{
 "cells": [
  {
   "cell_type": "code",
   "id": "initial_id",
   "metadata": {
    "collapsed": true,
    "ExecuteTime": {
     "end_time": "2025-07-04T16:24:52.461564Z",
     "start_time": "2025-07-04T16:24:48.665433Z"
    }
   },
   "source": [
    "import os\n",
    "import torch\n",
    "import gpytorch\n",
    "import torchmetrics\n",
    "import pandas as pd\n",
    "import matplotlib.pyplot as plt\n",
    "from sklearn.metrics import classification_report, accuracy_score, precision_score, recall_score, confusion_matrix\n",
    "from sklearn.model_selection import train_test_split\n",
    "from sklearn.preprocessing import StandardScaler\n",
    "\n",
    "data_dir = 'data'\n",
    "device = 'cuda' if torch.cuda.is_available() else 'cpu'"
   ],
   "outputs": [],
   "execution_count": 1
  },
  {
   "metadata": {
    "ExecuteTime": {
     "end_time": "2025-07-04T16:24:52.683268Z",
     "start_time": "2025-07-04T16:24:52.654266Z"
    }
   },
   "cell_type": "code",
   "source": [
    "df = pd.read_csv(os.path.join(data_dir, 'final_data.csv'))\n",
    "df['tau_ab_ratio'] = df['TAU_bl'] / df['ABETA_bl']\n",
    "df['ptau_ab_ratio'] = df['PTAU_bl'] / df['ABETA_bl']\n",
    "df['A+'] = df['ABETA_bl'].apply(lambda x: 1 if x < 880 else 0)\n",
    "df['T+'] = df['ptau_ab_ratio'].apply(lambda x: 1 if x > 0.028 else 0)\n",
    "df['N+'] = df['tau_ab_ratio'].apply(lambda x: 1 if x > 0.33 else 0)\n",
    "df = df.drop(columns=['PTEDUCAT','TAU_bl','PTAU_bl','ABETA_bl', 'MMSE_bl','EcogPtTotal_bl', 'LDELTOTAL_BL', 'mPACCdigit_bl', 'mPACCtrailsB_bl', 'RAVLT_immediate_bl', 'RAVLT_learning_bl', 'RAVLT_forgetting_bl', 'tau_ab_ratio', 'ptau_ab_ratio'])"
   ],
   "id": "2e752ab0a36026cd",
   "outputs": [],
   "execution_count": 2
  },
  {
   "metadata": {
    "ExecuteTime": {
     "end_time": "2025-07-04T16:42:39.878800Z",
     "start_time": "2025-07-04T16:42:39.858306Z"
    }
   },
   "cell_type": "code",
   "source": [
    "class SVM(torch.nn.Module):\n",
    "    def __init__(self, features, targets, kernel: gpytorch.kernels.Kernel):\n",
    "        super(SVM, self).__init__()\n",
    "        self.features = features\n",
    "        self.targets = targets\n",
    "        self.kernel = kernel\n",
    "        # self.plane = torch.nn.Linear(features.shape[0], 1)\n",
    "        # kernel_output_shape = kernel(features).shape[-1]\n",
    "        # self.plane = torch.nn.Linear(kernel_output_shape, 1)\n",
    "        self.w = torch.nn.Parameter(torch.randn(features.shape[1], 1), requires_grad=True)\n",
    "        self.b = torch.nn.Parameter(torch.randn(1), requires_grad=True)\n",
    "        # self.classifier = torch.nn.Sigmoid()\n",
    "\n",
    "    def forward(self, x):\n",
    "        kernel_output = self.compute_kernel(x)\n",
    "        # plane_output = self.plane(kernel_output)\n",
    "        plane_output = x.matmul(self.w) + self.b\n",
    "        return plane_output\n",
    "        # return self.classifier(plane_output)\n",
    "\n",
    "    def compute_kernel(self, x):\n",
    "        # x = x.unsqueeze(0) if x.dim() == 1 else x\n",
    "        # return kernel(x, x).squeeze()\n",
    "        return self.kernel(x).evaluate()\n",
    "\n"
   ],
   "id": "e4a6fa68e7fe4b95",
   "outputs": [],
   "execution_count": 45
  },
  {
   "metadata": {},
   "cell_type": "markdown",
   "source": "# STL",
   "id": "9883ca238a568377"
  },
  {
   "metadata": {},
   "cell_type": "markdown",
   "source": "## Predict A+",
   "id": "6a9e28d0c698d3b4"
  },
  {
   "metadata": {
    "ExecuteTime": {
     "end_time": "2025-07-04T16:24:52.810015Z",
     "start_time": "2025-07-04T16:24:52.721794Z"
    }
   },
   "cell_type": "code",
   "source": [
    "X = df.drop(columns=['A+', 'T+', 'N+'])\n",
    "y = df['A+']\n",
    "\n",
    "X_train, X_test, y_train, y_test = train_test_split(X, y, train_size=0.8, random_state=40)\n",
    "\n",
    "scaler = StandardScaler()\n",
    "X_train = scaler.fit_transform(X_train)\n",
    "X_test = scaler.transform(X_test)\n",
    "\n",
    "# Convert to PyTorch tensors\n",
    "X_train = torch.tensor(X_train, dtype=torch.float32).to(device)\n",
    "X_test = torch.tensor(X_test, dtype=torch.float32).to(device)\n",
    "y_train = torch.tensor(y_train.values, dtype=torch.float32).to(device).unsqueeze(1)\n",
    "y_test = torch.tensor(y_test.values, dtype=torch.float32).to(device).unsqueeze(1)"
   ],
   "id": "3d21afa3f6066af3",
   "outputs": [],
   "execution_count": 4
  },
  {
   "metadata": {
    "ExecuteTime": {
     "end_time": "2025-07-04T16:42:51.573055Z",
     "start_time": "2025-07-04T16:42:50.833330Z"
    }
   },
   "cell_type": "code",
   "source": [
    "model = SVM(X_train, y_train, kernel=gpytorch.kernels.RBFKernel()).to(device)\n",
    "\n",
    "bhl = torchmetrics.classification.BinaryHingeLoss(squared=True).to(device)\n",
    "\n",
    "optimizer = torch.optim.AdamW(model.parameters(), lr=0.01, weight_decay=1e-4)\n",
    "\n",
    "train_losses = []\n",
    "\n",
    "epochs = 100\n",
    "for epoch in range(1, epochs + 1):\n",
    "    model.train()\n",
    "    optimizer.zero_grad()\n",
    "    output = model(X_train)\n",
    "    loss = bhl(output, y_train)\n",
    "    loss.backward()\n",
    "    train_losses.append(loss.item())\n",
    "    optimizer.step()\n",
    "    print(f'Epoch [{epoch}/{epochs}], Loss: {loss.item():.4f}')"
   ],
   "id": "893a274e01a53c00",
   "outputs": [
    {
     "name": "stdout",
     "output_type": "stream",
     "text": [
      "Epoch [1/100], Loss: 1.7141\n",
      "Epoch [2/100], Loss: 1.6757\n",
      "Epoch [3/100], Loss: 1.6409\n",
      "Epoch [4/100], Loss: 1.6111\n",
      "Epoch [5/100], Loss: 1.5844\n",
      "Epoch [6/100], Loss: 1.5579\n",
      "Epoch [7/100], Loss: 1.5289\n",
      "Epoch [8/100], Loss: 1.4971\n",
      "Epoch [9/100], Loss: 1.4642\n",
      "Epoch [10/100], Loss: 1.4293\n",
      "Epoch [11/100], Loss: 1.3905\n",
      "Epoch [12/100], Loss: 1.3494\n",
      "Epoch [13/100], Loss: 1.3105\n",
      "Epoch [14/100], Loss: 1.2726\n",
      "Epoch [15/100], Loss: 1.2393\n",
      "Epoch [16/100], Loss: 1.2114\n",
      "Epoch [17/100], Loss: 1.1875\n",
      "Epoch [18/100], Loss: 1.1698\n",
      "Epoch [19/100], Loss: 1.1571\n",
      "Epoch [20/100], Loss: 1.1449\n",
      "Epoch [21/100], Loss: 1.1322\n",
      "Epoch [22/100], Loss: 1.1199\n",
      "Epoch [23/100], Loss: 1.1053\n",
      "Epoch [24/100], Loss: 1.0860\n",
      "Epoch [25/100], Loss: 1.0602\n",
      "Epoch [26/100], Loss: 1.0282\n",
      "Epoch [27/100], Loss: 0.9934\n",
      "Epoch [28/100], Loss: 0.9674\n",
      "Epoch [29/100], Loss: 0.9457\n",
      "Epoch [30/100], Loss: 0.9237\n",
      "Epoch [31/100], Loss: 0.9016\n",
      "Epoch [32/100], Loss: 0.8829\n",
      "Epoch [33/100], Loss: 0.8644\n",
      "Epoch [34/100], Loss: 0.8499\n",
      "Epoch [35/100], Loss: 0.8417\n",
      "Epoch [36/100], Loss: 0.8367\n",
      "Epoch [37/100], Loss: 0.8337\n",
      "Epoch [38/100], Loss: 0.8316\n",
      "Epoch [39/100], Loss: 0.8300\n",
      "Epoch [40/100], Loss: 0.8290\n",
      "Epoch [41/100], Loss: 0.8284\n",
      "Epoch [42/100], Loss: 0.8278\n",
      "Epoch [43/100], Loss: 0.8271\n",
      "Epoch [44/100], Loss: 0.8259\n",
      "Epoch [45/100], Loss: 0.8242\n",
      "Epoch [46/100], Loss: 0.8222\n",
      "Epoch [47/100], Loss: 0.8200\n",
      "Epoch [48/100], Loss: 0.8177\n",
      "Epoch [49/100], Loss: 0.8155\n",
      "Epoch [50/100], Loss: 0.8134\n",
      "Epoch [51/100], Loss: 0.8116\n",
      "Epoch [52/100], Loss: 0.8099\n",
      "Epoch [53/100], Loss: 0.8083\n",
      "Epoch [54/100], Loss: 0.8067\n",
      "Epoch [55/100], Loss: 0.8052\n",
      "Epoch [56/100], Loss: 0.8036\n",
      "Epoch [57/100], Loss: 0.8019\n",
      "Epoch [58/100], Loss: 0.8001\n",
      "Epoch [59/100], Loss: 0.7982\n",
      "Epoch [60/100], Loss: 0.7960\n",
      "Epoch [61/100], Loss: 0.7937\n",
      "Epoch [62/100], Loss: 0.7912\n",
      "Epoch [63/100], Loss: 0.7884\n",
      "Epoch [64/100], Loss: 0.7856\n",
      "Epoch [65/100], Loss: 0.7828\n",
      "Epoch [66/100], Loss: 0.7802\n",
      "Epoch [67/100], Loss: 0.7779\n",
      "Epoch [68/100], Loss: 0.7760\n",
      "Epoch [69/100], Loss: 0.7743\n",
      "Epoch [70/100], Loss: 0.7727\n",
      "Epoch [71/100], Loss: 0.7712\n",
      "Epoch [72/100], Loss: 0.7697\n",
      "Epoch [73/100], Loss: 0.7683\n",
      "Epoch [74/100], Loss: 0.7670\n",
      "Epoch [75/100], Loss: 0.7658\n",
      "Epoch [76/100], Loss: 0.7646\n",
      "Epoch [77/100], Loss: 0.7636\n",
      "Epoch [78/100], Loss: 0.7625\n",
      "Epoch [79/100], Loss: 0.7615\n",
      "Epoch [80/100], Loss: 0.7606\n",
      "Epoch [81/100], Loss: 0.7597\n",
      "Epoch [82/100], Loss: 0.7589\n",
      "Epoch [83/100], Loss: 0.7581\n",
      "Epoch [84/100], Loss: 0.7574\n",
      "Epoch [85/100], Loss: 0.7568\n",
      "Epoch [86/100], Loss: 0.7562\n",
      "Epoch [87/100], Loss: 0.7557\n",
      "Epoch [88/100], Loss: 0.7551\n",
      "Epoch [89/100], Loss: 0.7546\n",
      "Epoch [90/100], Loss: 0.7540\n",
      "Epoch [91/100], Loss: 0.7534\n",
      "Epoch [92/100], Loss: 0.7528\n",
      "Epoch [93/100], Loss: 0.7521\n",
      "Epoch [94/100], Loss: 0.7513\n",
      "Epoch [95/100], Loss: 0.7505\n",
      "Epoch [96/100], Loss: 0.7497\n",
      "Epoch [97/100], Loss: 0.7489\n",
      "Epoch [98/100], Loss: 0.7481\n",
      "Epoch [99/100], Loss: 0.7473\n",
      "Epoch [100/100], Loss: 0.7466\n"
     ]
    }
   ],
   "execution_count": 47
  },
  {
   "metadata": {
    "ExecuteTime": {
     "end_time": "2025-07-04T16:42:52.986283Z",
     "start_time": "2025-07-04T16:42:52.891235Z"
    }
   },
   "cell_type": "code",
   "source": [
    "plt.plot(train_losses, label='Training Loss')\n",
    "plt.xlabel('Epochs')\n",
    "plt.ylabel('Loss')\n",
    "plt.title('Learning Curve')\n",
    "plt.legend()\n",
    "plt.show()"
   ],
   "id": "41b133ab4c74ba6a",
   "outputs": [
    {
     "data": {
      "text/plain": [
       "<Figure size 640x480 with 1 Axes>"
      ],
      "image/png": "[encoded data removed]"
     },
     "metadata": {},
     "output_type": "display_data"
    }
   ],
   "execution_count": 48
  },
  {
   "metadata": {
    "ExecuteTime": {
     "end_time": "2025-07-04T16:42:55.135782Z",
     "start_time": "2025-07-04T16:42:55.112925Z"
    }
   },
   "cell_type": "code",
   "source": [
    "model.eval()\n",
    "with torch.no_grad():\n",
    "    y_pred = model(X_train)\n",
    "    y_pred = (y_pred > 0.5).float()  # Convert probabilities to binary predictions\n",
    "    y_pred_np = y_pred.cpu().numpy()\n",
    "    y_train_np = y_train.cpu().numpy()\n",
    "    # print('Classification Report:', classification_report(y_train_np, y_pred_np))\n",
    "    print(\"Accuracy:\", accuracy_score(y_train_np, y_pred_np))\n",
    "    print(\"Precision:\", precision_score(y_train_np, y_pred_np))\n",
    "    print(\"Recall:\", recall_score(y_train_np, y_pred_np))\n",
    "    print(\"F1 Score:\", 2 * (precision_score(y_train_np, y_pred_np) * recall_score(y_train_np, y_pred_np)) / (precision_score(y_train_np, y_pred_np) + recall_score(y_train_np, y_pred_np)))"
   ],
   "id": "e4f200bd9b66a33d",
   "outputs": [
    {
     "name": "stdout",
     "output_type": "stream",
     "text": [
      "Accuracy: 0.847926267281106\n",
      "Precision: 0.8983957219251337\n",
      "Recall: 0.7813953488372093\n",
      "F1 Score: 0.8358208955223881\n"
     ]
    }
   ],
   "execution_count": 49
  },
  {
   "metadata": {
    "ExecuteTime": {
     "end_time": "2025-07-04T16:43:08.044750Z",
     "start_time": "2025-07-04T16:43:08.016433Z"
    }
   },
   "cell_type": "code",
   "source": [
    "model.eval()\n",
    "with torch.no_grad():\n",
    "    y_test_pred = model(X_test)\n",
    "    y_test_pred = (y_test_pred > 0.5).float()  # Convert probabilities to binary predictions\n",
    "    y_test_pred_np = y_test_pred.cpu().numpy()\n",
    "    y_test_np = y_test.cpu().numpy()\n",
    "    print(\"Test Accuracy:\", accuracy_score(y_test_np, y_test_pred_np))\n",
    "    print(\"Test Precision:\", precision_score(y_test_np, y_test_pred_np))\n",
    "    print(\"Test Recall:\", recall_score(y_test_np, y_test_pred_np))\n",
    "    print(\"Test F1 Score:\", 2 * (precision_score(y_test_np, y_test_pred_np) * recall_score(y_test_np, y_test_pred_np)) / (precision_score(y_test_np, y_test_pred_np) + recall_score(y_test_np, y_test_pred_np)))"
   ],
   "id": "8998579fbeba4343",
   "outputs": [
    {
     "name": "stdout",
     "output_type": "stream",
     "text": [
      "Test Accuracy: 0.8165137614678899\n",
      "Test Precision: 0.8235294117647058\n",
      "Test Recall: 0.7924528301886793\n",
      "Test F1 Score: 0.8076923076923077\n"
     ]
    }
   ],
   "execution_count": 51
  },
  {
   "metadata": {},
   "cell_type": "markdown",
   "source": "# Predict T+",
   "id": "8f08f05dbbf3c749"
  },
  {
   "metadata": {
    "ExecuteTime": {
     "end_time": "2025-07-04T16:47:40.582360Z",
     "start_time": "2025-07-04T16:47:40.565151Z"
    }
   },
   "cell_type": "code",
   "source": [
    "X = df.drop(columns=['A+', 'T+', 'N+'])\n",
    "y = df['T+']\n",
    "\n",
    "X_train, X_test, y_train, y_test = train_test_split(X, y, train_size=0.8, random_state=40)\n",
    "\n",
    "scaler = StandardScaler()\n",
    "X_train = scaler.fit_transform(X_train)\n",
    "X_test = scaler.transform(X_test)\n",
    "\n",
    "# Convert to PyTorch tensors\n",
    "X_train = torch.tensor(X_train, dtype=torch.float32).to(device)\n",
    "X_test = torch.tensor(X_test, dtype=torch.float32).to(device)\n",
    "y_train = torch.tensor(y_train.values, dtype=torch.float32).to(device).unsqueeze(1)\n",
    "y_test = torch.tensor(y_test.values, dtype=torch.float32).to(device).unsqueeze(1)"
   ],
   "id": "9e1a4599ff81f005",
   "outputs": [],
   "execution_count": 57
  },
  {
   "metadata": {
    "ExecuteTime": {
     "end_time": "2025-07-04T16:47:43.190742Z",
     "start_time": "2025-07-04T16:47:42.218684Z"
    }
   },
   "cell_type": "code",
   "source": [
    "model = SVM(X_train, y_train, kernel=gpytorch.kernels.RBFKernel()).to(device)\n",
    "\n",
    "bhl = torchmetrics.classification.BinaryHingeLoss(squared=True).to(device)\n",
    "\n",
    "optimizer = torch.optim.AdamW(model.parameters(), lr=0.01, weight_decay=1e-4)\n",
    "\n",
    "train_losses = []\n",
    "\n",
    "epochs = 100\n",
    "for epoch in range(1, epochs + 1):\n",
    "    model.train()\n",
    "    optimizer.zero_grad()\n",
    "    output = model(X_train)\n",
    "    loss = bhl(output, y_train)\n",
    "    loss.backward()\n",
    "    train_losses.append(loss.item())\n",
    "    optimizer.step()\n",
    "    print(f'Epoch [{epoch}/{epochs}], Loss: {loss.item():.4f}')"
   ],
   "id": "430df69029e34b6",
   "outputs": [
    {
     "name": "stdout",
     "output_type": "stream",
     "text": [
      "Epoch [1/100], Loss: 1.2370\n",
      "Epoch [2/100], Loss: 1.1808\n",
      "Epoch [3/100], Loss: 1.1260\n",
      "Epoch [4/100], Loss: 1.0757\n",
      "Epoch [5/100], Loss: 1.0345\n",
      "Epoch [6/100], Loss: 1.0041\n",
      "Epoch [7/100], Loss: 0.9830\n",
      "Epoch [8/100], Loss: 0.9667\n",
      "Epoch [9/100], Loss: 0.9519\n",
      "Epoch [10/100], Loss: 0.9369\n",
      "Epoch [11/100], Loss: 0.9220\n",
      "Epoch [12/100], Loss: 0.9076\n",
      "Epoch [13/100], Loss: 0.8939\n",
      "Epoch [14/100], Loss: 0.8806\n",
      "Epoch [15/100], Loss: 0.8670\n",
      "Epoch [16/100], Loss: 0.8528\n",
      "Epoch [17/100], Loss: 0.8388\n",
      "Epoch [18/100], Loss: 0.8262\n",
      "Epoch [19/100], Loss: 0.8158\n",
      "Epoch [20/100], Loss: 0.8068\n",
      "Epoch [21/100], Loss: 0.7987\n",
      "Epoch [22/100], Loss: 0.7917\n",
      "Epoch [23/100], Loss: 0.7863\n",
      "Epoch [24/100], Loss: 0.7820\n",
      "Epoch [25/100], Loss: 0.7784\n",
      "Epoch [26/100], Loss: 0.7752\n",
      "Epoch [27/100], Loss: 0.7723\n",
      "Epoch [28/100], Loss: 0.7698\n",
      "Epoch [29/100], Loss: 0.7674\n",
      "Epoch [30/100], Loss: 0.7653\n",
      "Epoch [31/100], Loss: 0.7634\n",
      "Epoch [32/100], Loss: 0.7616\n",
      "Epoch [33/100], Loss: 0.7599\n",
      "Epoch [34/100], Loss: 0.7583\n",
      "Epoch [35/100], Loss: 0.7568\n",
      "Epoch [36/100], Loss: 0.7553\n",
      "Epoch [37/100], Loss: 0.7538\n",
      "Epoch [38/100], Loss: 0.7524\n",
      "Epoch [39/100], Loss: 0.7510\n",
      "Epoch [40/100], Loss: 0.7497\n",
      "Epoch [41/100], Loss: 0.7486\n",
      "Epoch [42/100], Loss: 0.7475\n",
      "Epoch [43/100], Loss: 0.7467\n",
      "Epoch [44/100], Loss: 0.7459\n",
      "Epoch [45/100], Loss: 0.7453\n",
      "Epoch [46/100], Loss: 0.7448\n",
      "Epoch [47/100], Loss: 0.7443\n",
      "Epoch [48/100], Loss: 0.7439\n",
      "Epoch [49/100], Loss: 0.7434\n",
      "Epoch [50/100], Loss: 0.7430\n",
      "Epoch [51/100], Loss: 0.7425\n",
      "Epoch [52/100], Loss: 0.7421\n",
      "Epoch [53/100], Loss: 0.7416\n",
      "Epoch [54/100], Loss: 0.7411\n",
      "Epoch [55/100], Loss: 0.7406\n",
      "Epoch [56/100], Loss: 0.7401\n",
      "Epoch [57/100], Loss: 0.7395\n",
      "Epoch [58/100], Loss: 0.7389\n",
      "Epoch [59/100], Loss: 0.7384\n",
      "Epoch [60/100], Loss: 0.7378\n",
      "Epoch [61/100], Loss: 0.7373\n",
      "Epoch [62/100], Loss: 0.7367\n",
      "Epoch [63/100], Loss: 0.7362\n",
      "Epoch [64/100], Loss: 0.7356\n",
      "Epoch [65/100], Loss: 0.7351\n",
      "Epoch [66/100], Loss: 0.7345\n",
      "Epoch [67/100], Loss: 0.7340\n",
      "Epoch [68/100], Loss: 0.7334\n",
      "Epoch [69/100], Loss: 0.7327\n",
      "Epoch [70/100], Loss: 0.7319\n",
      "Epoch [71/100], Loss: 0.7311\n",
      "Epoch [72/100], Loss: 0.7301\n",
      "Epoch [73/100], Loss: 0.7292\n",
      "Epoch [74/100], Loss: 0.7283\n",
      "Epoch [75/100], Loss: 0.7276\n",
      "Epoch [76/100], Loss: 0.7271\n",
      "Epoch [77/100], Loss: 0.7266\n",
      "Epoch [78/100], Loss: 0.7262\n",
      "Epoch [79/100], Loss: 0.7257\n",
      "Epoch [80/100], Loss: 0.7253\n",
      "Epoch [81/100], Loss: 0.7248\n",
      "Epoch [82/100], Loss: 0.7243\n",
      "Epoch [83/100], Loss: 0.7238\n",
      "Epoch [84/100], Loss: 0.7232\n",
      "Epoch [85/100], Loss: 0.7227\n",
      "Epoch [86/100], Loss: 0.7222\n",
      "Epoch [87/100], Loss: 0.7218\n",
      "Epoch [88/100], Loss: 0.7214\n",
      "Epoch [89/100], Loss: 0.7210\n",
      "Epoch [90/100], Loss: 0.7206\n",
      "Epoch [91/100], Loss: 0.7203\n",
      "Epoch [92/100], Loss: 0.7199\n",
      "Epoch [93/100], Loss: 0.7196\n",
      "Epoch [94/100], Loss: 0.7192\n",
      "Epoch [95/100], Loss: 0.7189\n",
      "Epoch [96/100], Loss: 0.7185\n",
      "Epoch [97/100], Loss: 0.7181\n",
      "Epoch [98/100], Loss: 0.7177\n",
      "Epoch [99/100], Loss: 0.7173\n",
      "Epoch [100/100], Loss: 0.7169\n"
     ]
    }
   ],
   "execution_count": 58
  },
  {
   "metadata": {
    "ExecuteTime": {
     "end_time": "2025-07-04T16:47:43.934446Z",
     "start_time": "2025-07-04T16:47:43.837984Z"
    }
   },
   "cell_type": "code",
   "source": [
    "plt.plot(train_losses, label='Training Loss')\n",
    "plt.xlabel('Epochs')\n",
    "plt.ylabel('Loss')\n",
    "plt.title('Learning Curve')\n",
    "plt.legend()\n",
    "plt.show()"
   ],
   "id": "375179a0489eda48",
   "outputs": [
    {
     "data": {
      "text/plain": [
       "<Figure size 640x480 with 1 Axes>"
      ],
      "image/png": "[encoded data removed]"
     },
     "metadata": {},
     "output_type": "display_data"
    }
   ],
   "execution_count": 59
  },
  {
   "metadata": {
    "ExecuteTime": {
     "end_time": "2025-07-04T16:47:45.401912Z",
     "start_time": "2025-07-04T16:47:45.381182Z"
    }
   },
   "cell_type": "code",
   "source": [
    "model.eval()\n",
    "with torch.no_grad():\n",
    "    y_pred = model(X_train)\n",
    "    y_pred = (y_pred > 0.5).float()  # Convert probabilities to binary predictions\n",
    "    y_pred_np = y_pred.cpu().numpy()\n",
    "    y_train_np = y_train.cpu().numpy()\n",
    "    # print('Classification Report:', classification_report(y_train_np, y_pred_np))\n",
    "    print(\"Accuracy:\", accuracy_score(y_train_np, y_pred_np))\n",
    "    print(\"Precision:\", precision_score(y_train_np, y_pred_np))\n",
    "    print(\"Recall:\", recall_score(y_train_np, y_pred_np))\n",
    "    print(\"F1 Score:\",\n",
    "          2 * (precision_score(y_train_np, y_pred_np) * recall_score(y_train_np, y_pred_np)) / (\n",
    "              precision_score(y_train_np, y_pred_np) + recall_score(y_train_np, y_pred_np)))"
   ],
   "id": "8c958e195bb38fd5",
   "outputs": [
    {
     "name": "stdout",
     "output_type": "stream",
     "text": [
      "Accuracy: 0.9009216589861752\n",
      "Precision: 0.9035532994923858\n",
      "Recall: 0.8811881188118812\n",
      "F1 Score: 0.8922305764411027\n"
     ]
    }
   ],
   "execution_count": 60
  },
  {
   "metadata": {
    "ExecuteTime": {
     "end_time": "2025-07-04T16:47:46.998093Z",
     "start_time": "2025-07-04T16:47:46.974521Z"
    }
   },
   "cell_type": "code",
   "source": [
    "model.eval()\n",
    "with torch.no_grad():\n",
    "    y_test_pred = model(X_test)\n",
    "    y_test_pred = (y_test_pred > 0.5).float()  # Convert probabilities to binary predictions\n",
    "    y_test_pred_np = y_test_pred.cpu().numpy()\n",
    "    y_test_np = y_test.cpu().numpy()\n",
    "    print(\"Test Accuracy:\", accuracy_score(y_test_np, y_test_pred_np))\n",
    "    print(\"Test Precision:\", precision_score(y_test_np, y_test_pred_np))\n",
    "    print(\"Test Recall:\", recall_score(y_test_np, y_test_pred_np))\n",
    "    print(\"Test F1 Score:\", 2 * (\n",
    "        precision_score(y_test_np, y_test_pred_np) * recall_score(y_test_np,\n",
    "                                                                  y_test_pred_np)) / (\n",
    "              precision_score(y_test_np, y_test_pred_np) + recall_score(y_test_np,\n",
    "                                                                        y_test_pred_np)))"
   ],
   "id": "567a0d8efaf91627",
   "outputs": [
    {
     "name": "stdout",
     "output_type": "stream",
     "text": [
      "Test Accuracy: 0.8990825688073395\n",
      "Test Precision: 0.9444444444444444\n",
      "Test Recall: 0.864406779661017\n",
      "Test F1 Score: 0.9026548672566371\n"
     ]
    }
   ],
   "execution_count": 61
  },
  {
   "metadata": {},
   "cell_type": "markdown",
   "source": "# Predict N+",
   "id": "97a34f12f829be4f"
  },
  {
   "metadata": {
    "ExecuteTime": {
     "end_time": "2025-07-04T16:48:47.375745Z",
     "start_time": "2025-07-04T16:48:47.352475Z"
    }
   },
   "cell_type": "code",
   "source": [
    "X = df.drop(columns=['A+', 'T+', 'N+'])\n",
    "y = df['N+']\n",
    "\n",
    "X_train, X_test, y_train, y_test = train_test_split(X, y, train_size=0.8, random_state=40)\n",
    "\n",
    "scaler = StandardScaler()\n",
    "X_train = scaler.fit_transform(X_train)\n",
    "X_test = scaler.transform(X_test)\n",
    "\n",
    "# Convert to PyTorch tensors\n",
    "X_train = torch.tensor(X_train, dtype=torch.float32).to(device)\n",
    "X_test = torch.tensor(X_test, dtype=torch.float32).to(device)\n",
    "y_train = torch.tensor(y_train.values, dtype=torch.float32).to(device).unsqueeze(1)\n",
    "y_test = torch.tensor(y_test.values, dtype=torch.float32).to(device).unsqueeze(1)"
   ],
   "id": "5be9bfaf082535a7",
   "outputs": [],
   "execution_count": 62
  },
  {
   "metadata": {
    "ExecuteTime": {
     "end_time": "2025-07-04T16:48:49.953117Z",
     "start_time": "2025-07-04T16:48:49.139342Z"
    }
   },
   "cell_type": "code",
   "source": [
    "model = SVM(X_train, y_train, kernel=gpytorch.kernels.RBFKernel()).to(device)\n",
    "\n",
    "bhl = torchmetrics.classification.BinaryHingeLoss(squared=True).to(device)\n",
    "\n",
    "optimizer = torch.optim.AdamW(model.parameters(), lr=0.01, weight_decay=1e-4)\n",
    "\n",
    "train_losses = []\n",
    "\n",
    "epochs = 100\n",
    "for epoch in range(1, epochs + 1):\n",
    "    model.train()\n",
    "    optimizer.zero_grad()\n",
    "    output = model(X_train)\n",
    "    loss = bhl(output, y_train)\n",
    "    loss.backward()\n",
    "    train_losses.append(loss.item())\n",
    "    optimizer.step()\n",
    "    print(f'Epoch [{epoch}/{epochs}], Loss: {loss.item():.4f}')"
   ],
   "id": "a659c026d43100c0",
   "outputs": [
    {
     "name": "stdout",
     "output_type": "stream",
     "text": [
      "Epoch [1/100], Loss: 2.1290\n",
      "Epoch [2/100], Loss: 2.0769\n",
      "Epoch [3/100], Loss: 2.0203\n",
      "Epoch [4/100], Loss: 1.9607\n",
      "Epoch [5/100], Loss: 1.9005\n",
      "Epoch [6/100], Loss: 1.8418\n",
      "Epoch [7/100], Loss: 1.7822\n",
      "Epoch [8/100], Loss: 1.7204\n",
      "Epoch [9/100], Loss: 1.6574\n",
      "Epoch [10/100], Loss: 1.5934\n",
      "Epoch [11/100], Loss: 1.5317\n",
      "Epoch [12/100], Loss: 1.4707\n",
      "Epoch [13/100], Loss: 1.4049\n",
      "Epoch [14/100], Loss: 1.3391\n",
      "Epoch [15/100], Loss: 1.2865\n",
      "Epoch [16/100], Loss: 1.2469\n",
      "Epoch [17/100], Loss: 1.2003\n",
      "Epoch [18/100], Loss: 1.1484\n",
      "Epoch [19/100], Loss: 1.1072\n",
      "Epoch [20/100], Loss: 1.0783\n",
      "Epoch [21/100], Loss: 1.0549\n",
      "Epoch [22/100], Loss: 1.0303\n",
      "Epoch [23/100], Loss: 1.0059\n",
      "Epoch [24/100], Loss: 0.9833\n",
      "Epoch [25/100], Loss: 0.9638\n",
      "Epoch [26/100], Loss: 0.9505\n",
      "Epoch [27/100], Loss: 0.9414\n",
      "Epoch [28/100], Loss: 0.9349\n",
      "Epoch [29/100], Loss: 0.9303\n",
      "Epoch [30/100], Loss: 0.9271\n",
      "Epoch [31/100], Loss: 0.9250\n",
      "Epoch [32/100], Loss: 0.9233\n",
      "Epoch [33/100], Loss: 0.9218\n",
      "Epoch [34/100], Loss: 0.9202\n",
      "Epoch [35/100], Loss: 0.9185\n",
      "Epoch [36/100], Loss: 0.9166\n",
      "Epoch [37/100], Loss: 0.9146\n",
      "Epoch [38/100], Loss: 0.9126\n",
      "Epoch [39/100], Loss: 0.9106\n",
      "Epoch [40/100], Loss: 0.9087\n",
      "Epoch [41/100], Loss: 0.9070\n",
      "Epoch [42/100], Loss: 0.9054\n",
      "Epoch [43/100], Loss: 0.9040\n",
      "Epoch [44/100], Loss: 0.9027\n",
      "Epoch [45/100], Loss: 0.9015\n",
      "Epoch [46/100], Loss: 0.9005\n",
      "Epoch [47/100], Loss: 0.8995\n",
      "Epoch [48/100], Loss: 0.8985\n",
      "Epoch [49/100], Loss: 0.8976\n",
      "Epoch [50/100], Loss: 0.8968\n",
      "Epoch [51/100], Loss: 0.8960\n",
      "Epoch [52/100], Loss: 0.8952\n",
      "Epoch [53/100], Loss: 0.8944\n",
      "Epoch [54/100], Loss: 0.8937\n",
      "Epoch [55/100], Loss: 0.8930\n",
      "Epoch [56/100], Loss: 0.8923\n",
      "Epoch [57/100], Loss: 0.8916\n",
      "Epoch [58/100], Loss: 0.8909\n",
      "Epoch [59/100], Loss: 0.8902\n",
      "Epoch [60/100], Loss: 0.8895\n",
      "Epoch [61/100], Loss: 0.8887\n",
      "Epoch [62/100], Loss: 0.8880\n",
      "Epoch [63/100], Loss: 0.8872\n",
      "Epoch [64/100], Loss: 0.8864\n",
      "Epoch [65/100], Loss: 0.8856\n",
      "Epoch [66/100], Loss: 0.8848\n",
      "Epoch [67/100], Loss: 0.8839\n",
      "Epoch [68/100], Loss: 0.8830\n",
      "Epoch [69/100], Loss: 0.8821\n",
      "Epoch [70/100], Loss: 0.8811\n",
      "Epoch [71/100], Loss: 0.8801\n",
      "Epoch [72/100], Loss: 0.8791\n",
      "Epoch [73/100], Loss: 0.8780\n",
      "Epoch [74/100], Loss: 0.8769\n",
      "Epoch [75/100], Loss: 0.8757\n",
      "Epoch [76/100], Loss: 0.8745\n",
      "Epoch [77/100], Loss: 0.8732\n",
      "Epoch [78/100], Loss: 0.8718\n",
      "Epoch [79/100], Loss: 0.8704\n",
      "Epoch [80/100], Loss: 0.8689\n",
      "Epoch [81/100], Loss: 0.8674\n",
      "Epoch [82/100], Loss: 0.8659\n",
      "Epoch [83/100], Loss: 0.8643\n",
      "Epoch [84/100], Loss: 0.8628\n",
      "Epoch [85/100], Loss: 0.8613\n",
      "Epoch [86/100], Loss: 0.8599\n",
      "Epoch [87/100], Loss: 0.8587\n",
      "Epoch [88/100], Loss: 0.8576\n",
      "Epoch [89/100], Loss: 0.8566\n",
      "Epoch [90/100], Loss: 0.8558\n",
      "Epoch [91/100], Loss: 0.8551\n",
      "Epoch [92/100], Loss: 0.8544\n",
      "Epoch [93/100], Loss: 0.8539\n",
      "Epoch [94/100], Loss: 0.8534\n",
      "Epoch [95/100], Loss: 0.8529\n",
      "Epoch [96/100], Loss: 0.8524\n",
      "Epoch [97/100], Loss: 0.8519\n",
      "Epoch [98/100], Loss: 0.8514\n",
      "Epoch [99/100], Loss: 0.8509\n",
      "Epoch [100/100], Loss: 0.8503\n"
     ]
    }
   ],
   "execution_count": 63
  },
  {
   "metadata": {
    "ExecuteTime": {
     "end_time": "2025-07-04T16:48:51.196271Z",
     "start_time": "2025-07-04T16:48:51.061825Z"
    }
   },
   "cell_type": "code",
   "source": [
    "plt.plot(train_losses, label='Training Loss')\n",
    "plt.xlabel('Epochs')\n",
    "plt.ylabel('Loss')\n",
    "plt.title('Learning Curve')\n",
    "plt.legend()\n",
    "plt.show()"
   ],
   "id": "87d721f68af7dea",
   "outputs": [
    {
     "data": {
      "text/plain": [
       "<Figure size 640x480 with 1 Axes>"
      ],
      "image/png": "[encoded data removed]"
     },
     "metadata": {},
     "output_type": "display_data"
    }
   ],
   "execution_count": 64
  },
  {
   "metadata": {
    "ExecuteTime": {
     "end_time": "2025-07-04T16:48:52.996670Z",
     "start_time": "2025-07-04T16:48:52.977005Z"
    }
   },
   "cell_type": "code",
   "source": [
    "model.eval()\n",
    "with torch.no_grad():\n",
    "    y_pred = model(X_train)\n",
    "    y_pred = (y_pred > 0.5).float()  # Convert probabilities to binary predictions\n",
    "    y_pred_np = y_pred.cpu().numpy()\n",
    "    y_train_np = y_train.cpu().numpy()\n",
    "    # print('Classification Report:', classification_report(y_train_np, y_pred_np))\n",
    "    print(\"Accuracy:\", accuracy_score(y_train_np, y_pred_np))\n",
    "    print(\"Precision:\", precision_score(y_train_np, y_pred_np))\n",
    "    print(\"Recall:\", recall_score(y_train_np, y_pred_np))\n",
    "    print(\"F1 Score:\",\n",
    "          2 * (precision_score(y_train_np, y_pred_np) * recall_score(y_train_np, y_pred_np)) / (\n",
    "              precision_score(y_train_np, y_pred_np) + recall_score(y_train_np, y_pred_np)))"
   ],
   "id": "a234c3265f1318cd",
   "outputs": [
    {
     "name": "stdout",
     "output_type": "stream",
     "text": [
      "Accuracy: 0.8525345622119815\n",
      "Precision: 0.8316326530612245\n",
      "Recall: 0.8402061855670103\n",
      "F1 Score: 0.8358974358974359\n"
     ]
    }
   ],
   "execution_count": 65
  },
  {
   "metadata": {},
   "cell_type": "markdown",
   "source": "# MTL",
   "id": "a8cc0fc4c0dbabd5"
  }
 ],
 "metadata": {
  "kernelspec": {
   "display_name": "Python 3",
   "language": "python",
   "name": "python3"
  },
  "language_info": {
   "codemirror_mode": {
    "name": "ipython",
    "version": 2
   },
   "file_extension": ".py",
   "mimetype": "text/x-python",
   "name": "python",
   "nbconvert_exporter": "python",
   "pygments_lexer": "ipython2",
   "version": "2.7.6"
  }
 },
 "nbformat": 4,
 "nbformat_minor": 5
}
