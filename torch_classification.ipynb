{
 "cells": [
  {
   "cell_type": "code",
   "id": "initial_id",
   "metadata": {
    "collapsed": true,
    "jupyter": {
     "is_executing": true
    }
   },
   "source": [
    "import os\n",
    "import torch\n",
    "import gpytorch\n",
    "import torchmetrics\n",
    "import pandas as pd\n",
    "import matplotlib.pyplot as plt\n",
    "from sklearn.metrics import accuracy_score, precision_score, recall_score\n",
    "from sklearn.model_selection import train_test_split\n",
    "from sklearn.preprocessing import StandardScaler\n",
    "\n",
    "data_dir = 'data'\n",
    "device = 'cuda' if torch.cuda.is_available() else 'cpu'"
   ],
   "outputs": [],
   "execution_count": null
  },
  {
   "metadata": {
    "ExecuteTime": {
     "end_time": "2025-07-07T10:21:57.682850800Z",
     "start_time": "2025-07-07T10:21:44.723948Z"
    }
   },
   "cell_type": "code",
   "source": [
    "df = pd.read_csv(os.path.join(data_dir, 'final_data.csv'))\n",
    "df['tau_ab_ratio'] = df['TAU_bl'] / df['ABETA_bl']\n",
    "df['ptau_ab_ratio'] = df['PTAU_bl'] / df['ABETA_bl']\n",
    "df['A+'] = df['ABETA_bl'].apply(lambda x: 1 if x < 880 else 0)\n",
    "df['T+'] = df['ptau_ab_ratio'].apply(lambda x: 1 if x > 0.028 else 0)\n",
    "df['N+'] = df['tau_ab_ratio'].apply(lambda x: 1 if x > 0.33 else 0)\n",
    "df = df.drop(columns=['PTEDUCAT','TAU_bl','PTAU_bl','ABETA_bl', 'MMSE_bl','EcogPtTotal_bl', 'LDELTOTAL_BL', 'mPACCdigit_bl', 'mPACCtrailsB_bl', 'RAVLT_immediate_bl', 'RAVLT_learning_bl', 'RAVLT_forgetting_bl', 'tau_ab_ratio', 'ptau_ab_ratio'])"
   ],
   "id": "2e752ab0a36026cd",
   "outputs": [],
   "execution_count": 2
  },
  {
   "metadata": {
    "ExecuteTime": {
     "end_time": "2025-07-07T10:21:57.682850800Z",
     "start_time": "2025-07-07T10:21:44.774690Z"
    }
   },
   "cell_type": "code",
   "source": [
    "class SVM(torch.nn.Module):\n",
    "    def __init__(self, features, targets):\n",
    "        super(SVM, self).__init__()\n",
    "        self.features = features\n",
    "        self.targets = targets\n",
    "        self.w = torch.nn.Parameter(torch.randn(features.shape[1], 1), requires_grad=True)\n",
    "        self.b = torch.nn.Parameter(torch.randn(1), requires_grad=True)\n",
    "        self.classifier = torch.nn.Sigmoid()\n",
    "\n",
    "    def forward(self, x):\n",
    "        plane_output = x.matmul(self.w) + self.b\n",
    "        return self.classifier(plane_output)"
   ],
   "id": "e4a6fa68e7fe4b95",
   "outputs": [],
   "execution_count": 3
  },
  {
   "metadata": {},
   "cell_type": "markdown",
   "source": "# STL",
   "id": "9883ca238a568377"
  },
  {
   "metadata": {},
   "cell_type": "markdown",
   "source": "## Predict A+",
   "id": "6a9e28d0c698d3b4"
  },
  {
   "metadata": {
    "ExecuteTime": {
     "end_time": "2025-07-07T10:21:57.682850800Z",
     "start_time": "2025-07-07T10:21:44.800800Z"
    }
   },
   "cell_type": "code",
   "source": [
    "X = df.drop(columns=['A+', 'T+', 'N+'])\n",
    "y = df['A+']\n",
    "\n",
    "X_train, X_test, y_train, y_test = train_test_split(X, y, train_size=0.8, random_state=42)\n",
    "\n",
    "scaler = StandardScaler()\n",
    "X_train = scaler.fit_transform(X_train)\n",
    "X_test = scaler.transform(X_test)\n",
    "\n",
    "# Convert to PyTorch tensors\n",
    "X_train = torch.tensor(X_train, dtype=torch.float32).to(device)\n",
    "X_test = torch.tensor(X_test, dtype=torch.float32).to(device)\n",
    "y_train = torch.tensor(y_train.values, dtype=torch.float32).to(device).unsqueeze(1)\n",
    "y_test = torch.tensor(y_test.values, dtype=torch.float32).to(device).unsqueeze(1)"
   ],
   "id": "3d21afa3f6066af3",
   "outputs": [],
   "execution_count": 4
  },
  {
   "metadata": {
    "ExecuteTime": {
     "end_time": "2025-07-07T10:21:57.682850800Z",
     "start_time": "2025-07-07T10:21:45.140027Z"
    }
   },
   "cell_type": "code",
   "source": [
    "model = SVM(X_train, y_train).to(device)\n",
    "\n",
    "bhl = torchmetrics.classification.BinaryHingeLoss(squared=True).to(device)\n",
    "\n",
    "optimizer = torch.optim.AdamW(model.parameters(), lr=0.01, weight_decay=1e-4)\n",
    "\n",
    "train_losses = []\n",
    "\n",
    "epochs = 100\n",
    "for epoch in range(1, epochs + 1):\n",
    "    model.train()\n",
    "    optimizer.zero_grad()\n",
    "    output = model(X_train)\n",
    "    loss = bhl(output, y_train)\n",
    "    loss.backward()\n",
    "    train_losses.append(loss.item())\n",
    "    optimizer.step()\n",
    "    print(f'Epoch [{epoch}/{epochs}], Loss: {loss.item():.4f}')"
   ],
   "id": "893a274e01a53c00",
   "outputs": [
    {
     "ename": "KeyboardInterrupt",
     "evalue": "",
     "output_type": "error",
     "traceback": [
      "\u001B[31m---------------------------------------------------------------------------\u001B[39m",
      "\u001B[31mKeyboardInterrupt\u001B[39m                         Traceback (most recent call last)",
      "\u001B[36mCell\u001B[39m\u001B[36m \u001B[39m\u001B[32mIn[5]\u001B[39m\u001B[32m, line 5\u001B[39m\n\u001B[32m      1\u001B[39m model = SVM(X_train, y_train).to(device)\n\u001B[32m      3\u001B[39m bhl = torchmetrics.classification.BinaryHingeLoss(squared=\u001B[38;5;28;01mTrue\u001B[39;00m).to(device)\n\u001B[32m----> \u001B[39m\u001B[32m5\u001B[39m optimizer = \u001B[43mtorch\u001B[49m\u001B[43m.\u001B[49m\u001B[43moptim\u001B[49m\u001B[43m.\u001B[49m\u001B[43mAdamW\u001B[49m\u001B[43m(\u001B[49m\u001B[43mmodel\u001B[49m\u001B[43m.\u001B[49m\u001B[43mparameters\u001B[49m\u001B[43m(\u001B[49m\u001B[43m)\u001B[49m\u001B[43m,\u001B[49m\u001B[43m \u001B[49m\u001B[43mlr\u001B[49m\u001B[43m=\u001B[49m\u001B[32;43m0.01\u001B[39;49m\u001B[43m,\u001B[49m\u001B[43m \u001B[49m\u001B[43mweight_decay\u001B[49m\u001B[43m=\u001B[49m\u001B[32;43m1e-4\u001B[39;49m\u001B[43m)\u001B[49m\n\u001B[32m      7\u001B[39m train_losses = []\n\u001B[32m      9\u001B[39m epochs = \u001B[32m100\u001B[39m\n",
      "\u001B[36mFile \u001B[39m\u001B[32m~\\Documents\\Coding stuff\\ADML\\.venv\\Lib\\site-packages\\torch\\optim\\adamw.py:37\u001B[39m, in \u001B[36mAdamW.__init__\u001B[39m\u001B[34m(self, params, lr, betas, eps, weight_decay, amsgrad, maximize, foreach, capturable, differentiable, fused)\u001B[39m\n\u001B[32m     22\u001B[39m \u001B[38;5;28;01mdef\u001B[39;00m\u001B[38;5;250m \u001B[39m\u001B[34m__init__\u001B[39m(\n\u001B[32m     23\u001B[39m     \u001B[38;5;28mself\u001B[39m,\n\u001B[32m     24\u001B[39m     params: ParamsT,\n\u001B[32m   (...)\u001B[39m\u001B[32m     35\u001B[39m     fused: Optional[\u001B[38;5;28mbool\u001B[39m] = \u001B[38;5;28;01mNone\u001B[39;00m,\n\u001B[32m     36\u001B[39m ):\n\u001B[32m---> \u001B[39m\u001B[32m37\u001B[39m     \u001B[38;5;28;43msuper\u001B[39;49m\u001B[43m(\u001B[49m\u001B[43m)\u001B[49m\u001B[43m.\u001B[49m\u001B[34;43m__init__\u001B[39;49m\u001B[43m(\u001B[49m\n\u001B[32m     38\u001B[39m \u001B[43m        \u001B[49m\u001B[43mparams\u001B[49m\u001B[43m,\u001B[49m\n\u001B[32m     39\u001B[39m \u001B[43m        \u001B[49m\u001B[43mlr\u001B[49m\u001B[43m,\u001B[49m\n\u001B[32m     40\u001B[39m \u001B[43m        \u001B[49m\u001B[43mbetas\u001B[49m\u001B[43m,\u001B[49m\n\u001B[32m     41\u001B[39m \u001B[43m        \u001B[49m\u001B[43meps\u001B[49m\u001B[43m,\u001B[49m\n\u001B[32m     42\u001B[39m \u001B[43m        \u001B[49m\u001B[43mweight_decay\u001B[49m\u001B[43m,\u001B[49m\n\u001B[32m     43\u001B[39m \u001B[43m        \u001B[49m\u001B[43mamsgrad\u001B[49m\u001B[43m,\u001B[49m\n\u001B[32m     44\u001B[39m \u001B[43m        \u001B[49m\u001B[43mforeach\u001B[49m\u001B[43m=\u001B[49m\u001B[43mforeach\u001B[49m\u001B[43m,\u001B[49m\n\u001B[32m     45\u001B[39m \u001B[43m        \u001B[49m\u001B[43mmaximize\u001B[49m\u001B[43m=\u001B[49m\u001B[43mmaximize\u001B[49m\u001B[43m,\u001B[49m\n\u001B[32m     46\u001B[39m \u001B[43m        \u001B[49m\u001B[43mcapturable\u001B[49m\u001B[43m=\u001B[49m\u001B[43mcapturable\u001B[49m\u001B[43m,\u001B[49m\n\u001B[32m     47\u001B[39m \u001B[43m        \u001B[49m\u001B[43mdifferentiable\u001B[49m\u001B[43m=\u001B[49m\u001B[43mdifferentiable\u001B[49m\u001B[43m,\u001B[49m\n\u001B[32m     48\u001B[39m \u001B[43m        \u001B[49m\u001B[43mfused\u001B[49m\u001B[43m=\u001B[49m\u001B[43mfused\u001B[49m\u001B[43m,\u001B[49m\n\u001B[32m     49\u001B[39m \u001B[43m        \u001B[49m\u001B[43mdecoupled_weight_decay\u001B[49m\u001B[43m=\u001B[49m\u001B[38;5;28;43;01mTrue\u001B[39;49;00m\u001B[43m,\u001B[49m\n\u001B[32m     50\u001B[39m \u001B[43m    \u001B[49m\u001B[43m)\u001B[49m\n",
      "\u001B[36mFile \u001B[39m\u001B[32m~\\Documents\\Coding stuff\\ADML\\.venv\\Lib\\site-packages\\torch\\optim\\adam.py:100\u001B[39m, in \u001B[36mAdam.__init__\u001B[39m\u001B[34m(self, params, lr, betas, eps, weight_decay, amsgrad, foreach, maximize, capturable, differentiable, fused, decoupled_weight_decay)\u001B[39m\n\u001B[32m     85\u001B[39m         \u001B[38;5;28;01mraise\u001B[39;00m \u001B[38;5;167;01mValueError\u001B[39;00m(\u001B[33m\"\u001B[39m\u001B[33mTensor betas[1] must be 1-element\u001B[39m\u001B[33m\"\u001B[39m)\n\u001B[32m     87\u001B[39m defaults = \u001B[38;5;28mdict\u001B[39m(\n\u001B[32m     88\u001B[39m     lr=lr,\n\u001B[32m     89\u001B[39m     betas=betas,\n\u001B[32m   (...)\u001B[39m\u001B[32m     98\u001B[39m     decoupled_weight_decay=decoupled_weight_decay,\n\u001B[32m     99\u001B[39m )\n\u001B[32m--> \u001B[39m\u001B[32m100\u001B[39m \u001B[38;5;28;43msuper\u001B[39;49m\u001B[43m(\u001B[49m\u001B[43m)\u001B[49m\u001B[43m.\u001B[49m\u001B[34;43m__init__\u001B[39;49m\u001B[43m(\u001B[49m\u001B[43mparams\u001B[49m\u001B[43m,\u001B[49m\u001B[43m \u001B[49m\u001B[43mdefaults\u001B[49m\u001B[43m)\u001B[49m\n\u001B[32m    102\u001B[39m \u001B[38;5;28;01mif\u001B[39;00m fused:\n\u001B[32m    103\u001B[39m     \u001B[38;5;28;01mif\u001B[39;00m differentiable:\n",
      "\u001B[36mFile \u001B[39m\u001B[32m~\\Documents\\Coding stuff\\ADML\\.venv\\Lib\\site-packages\\torch\\optim\\optimizer.py:369\u001B[39m, in \u001B[36mOptimizer.__init__\u001B[39m\u001B[34m(self, params, defaults)\u001B[39m\n\u001B[32m    366\u001B[39m     param_groups = [{\u001B[33m\"\u001B[39m\u001B[33mparams\u001B[39m\u001B[33m\"\u001B[39m: param_groups}]\n\u001B[32m    368\u001B[39m \u001B[38;5;28;01mfor\u001B[39;00m param_group \u001B[38;5;129;01min\u001B[39;00m param_groups:\n\u001B[32m--> \u001B[39m\u001B[32m369\u001B[39m     \u001B[38;5;28;43mself\u001B[39;49m\u001B[43m.\u001B[49m\u001B[43madd_param_group\u001B[49m\u001B[43m(\u001B[49m\u001B[43mcast\u001B[49m\u001B[43m(\u001B[49m\u001B[38;5;28;43mdict\u001B[39;49m\u001B[43m,\u001B[49m\u001B[43m \u001B[49m\u001B[43mparam_group\u001B[49m\u001B[43m)\u001B[49m\u001B[43m)\u001B[49m\n\u001B[32m    371\u001B[39m \u001B[38;5;66;03m# Allows _cuda_graph_capture_health_check to rig a poor man's TORCH_WARN_ONCE in python,\u001B[39;00m\n\u001B[32m    372\u001B[39m \u001B[38;5;66;03m# which I don't think exists\u001B[39;00m\n\u001B[32m    373\u001B[39m \u001B[38;5;66;03m# https://github.com/pytorch/pytorch/issues/72948\u001B[39;00m\n\u001B[32m    374\u001B[39m \u001B[38;5;28mself\u001B[39m._warned_capturable_if_run_uncaptured = \u001B[38;5;28;01mTrue\u001B[39;00m\n",
      "\u001B[36mFile \u001B[39m\u001B[32m~\\Documents\\Coding stuff\\ADML\\.venv\\Lib\\site-packages\\torch\\_compile.py:46\u001B[39m, in \u001B[36m_disable_dynamo.<locals>.inner\u001B[39m\u001B[34m(*args, **kwargs)\u001B[39m\n\u001B[32m     44\u001B[39m disable_fn = \u001B[38;5;28mgetattr\u001B[39m(fn, \u001B[33m\"\u001B[39m\u001B[33m__dynamo_disable\u001B[39m\u001B[33m\"\u001B[39m, \u001B[38;5;28;01mNone\u001B[39;00m)\n\u001B[32m     45\u001B[39m \u001B[38;5;28;01mif\u001B[39;00m disable_fn \u001B[38;5;129;01mis\u001B[39;00m \u001B[38;5;28;01mNone\u001B[39;00m:\n\u001B[32m---> \u001B[39m\u001B[32m46\u001B[39m     \u001B[38;5;28;01mimport\u001B[39;00m\u001B[38;5;250m \u001B[39m\u001B[34;01mtorch\u001B[39;00m\u001B[34;01m.\u001B[39;00m\u001B[34;01m_dynamo\u001B[39;00m\n\u001B[32m     48\u001B[39m     disable_fn = torch._dynamo.disable(fn, recursive)\n\u001B[32m     49\u001B[39m     fn.__dynamo_disable = disable_fn  \u001B[38;5;66;03m# type: ignore[attr-defined]\u001B[39;00m\n",
      "\u001B[36mFile \u001B[39m\u001B[32m~\\Documents\\Coding stuff\\ADML\\.venv\\Lib\\site-packages\\torch\\_dynamo\\__init__.py:13\u001B[39m\n\u001B[32m      1\u001B[39m \u001B[33;03m\"\"\"\u001B[39;00m\n\u001B[32m      2\u001B[39m \u001B[33;03mTorchDynamo is a Python-level JIT compiler designed to make unmodified PyTorch programs faster.\u001B[39;00m\n\u001B[32m      3\u001B[39m \u001B[33;03mTorchDynamo hooks into the frame evaluation API in CPython (PEP 523) to dynamically modify Python\u001B[39;00m\n\u001B[32m   (...)\u001B[39m\u001B[32m      8\u001B[39m \u001B[33;03mseamlessly optimize PyTorch programs, including those using modern Python features.\u001B[39;00m\n\u001B[32m      9\u001B[39m \u001B[33;03m\"\"\"\u001B[39;00m\n\u001B[32m     11\u001B[39m \u001B[38;5;28;01mimport\u001B[39;00m\u001B[38;5;250m \u001B[39m\u001B[34;01mtorch\u001B[39;00m\n\u001B[32m---> \u001B[39m\u001B[32m13\u001B[39m \u001B[38;5;28;01mfrom\u001B[39;00m\u001B[38;5;250m \u001B[39m\u001B[34;01m.\u001B[39;00m\u001B[38;5;250m \u001B[39m\u001B[38;5;28;01mimport\u001B[39;00m config, convert_frame, eval_frame, resume_execution\n\u001B[32m     14\u001B[39m \u001B[38;5;28;01mfrom\u001B[39;00m\u001B[38;5;250m \u001B[39m\u001B[34;01m.\u001B[39;00m\u001B[34;01mbackends\u001B[39;00m\u001B[34;01m.\u001B[39;00m\u001B[34;01mregistry\u001B[39;00m\u001B[38;5;250m \u001B[39m\u001B[38;5;28;01mimport\u001B[39;00m list_backends, lookup_backend, register_backend\n\u001B[32m     15\u001B[39m \u001B[38;5;28;01mfrom\u001B[39;00m\u001B[38;5;250m \u001B[39m\u001B[34;01m.\u001B[39;00m\u001B[34;01mcallback\u001B[39;00m\u001B[38;5;250m \u001B[39m\u001B[38;5;28;01mimport\u001B[39;00m callback_handler, on_compile_end, on_compile_start\n",
      "\u001B[36mFile \u001B[39m\u001B[32m~\\Documents\\Coding stuff\\ADML\\.venv\\Lib\\site-packages\\torch\\_dynamo\\convert_frame.py:52\u001B[39m\n\u001B[32m     50\u001B[39m \u001B[38;5;28;01mfrom\u001B[39;00m\u001B[38;5;250m \u001B[39m\u001B[34;01mtorch\u001B[39;00m\u001B[34;01m.\u001B[39;00m\u001B[34;01m_C\u001B[39;00m\u001B[34;01m.\u001B[39;00m\u001B[34;01m_dynamo\u001B[39;00m\u001B[34;01m.\u001B[39;00m\u001B[34;01mguards\u001B[39;00m\u001B[38;5;250m \u001B[39m\u001B[38;5;28;01mimport\u001B[39;00m GlobalStateGuard\n\u001B[32m     51\u001B[39m \u001B[38;5;28;01mfrom\u001B[39;00m\u001B[38;5;250m \u001B[39m\u001B[34;01mtorch\u001B[39;00m\u001B[34;01m.\u001B[39;00m\u001B[34;01m_dynamo\u001B[39;00m\u001B[34;01m.\u001B[39;00m\u001B[34;01mdistributed\u001B[39;00m\u001B[38;5;250m \u001B[39m\u001B[38;5;28;01mimport\u001B[39;00m get_compile_pg\n\u001B[32m---> \u001B[39m\u001B[32m52\u001B[39m \u001B[38;5;28;01mfrom\u001B[39;00m\u001B[38;5;250m \u001B[39m\u001B[34;01mtorch\u001B[39;00m\u001B[34;01m.\u001B[39;00m\u001B[34;01m_dynamo\u001B[39;00m\u001B[34;01m.\u001B[39;00m\u001B[34;01msymbolic_convert\u001B[39;00m\u001B[38;5;250m \u001B[39m\u001B[38;5;28;01mimport\u001B[39;00m TensorifyState\n\u001B[32m     53\u001B[39m \u001B[38;5;28;01mfrom\u001B[39;00m\u001B[38;5;250m \u001B[39m\u001B[34;01mtorch\u001B[39;00m\u001B[34;01m.\u001B[39;00m\u001B[34;01m_guards\u001B[39;00m\u001B[38;5;250m \u001B[39m\u001B[38;5;28;01mimport\u001B[39;00m compile_context, CompileContext, CompileId, tracing\n\u001B[32m     54\u001B[39m \u001B[38;5;28;01mfrom\u001B[39;00m\u001B[38;5;250m \u001B[39m\u001B[34;01mtorch\u001B[39;00m\u001B[34;01m.\u001B[39;00m\u001B[34;01m_logging\u001B[39;00m\u001B[38;5;250m \u001B[39m\u001B[38;5;28;01mimport\u001B[39;00m structured\n",
      "\u001B[36mFile \u001B[39m\u001B[32m~\\Documents\\Coding stuff\\ADML\\.venv\\Lib\\site-packages\\torch\\_dynamo\\symbolic_convert.py:52\u001B[39m\n\u001B[32m     50\u001B[39m \u001B[38;5;28;01mimport\u001B[39;00m\u001B[38;5;250m \u001B[39m\u001B[34;01mtorch\u001B[39;00m\n\u001B[32m     51\u001B[39m \u001B[38;5;28;01mimport\u001B[39;00m\u001B[38;5;250m \u001B[39m\u001B[34;01mtorch\u001B[39;00m\u001B[34;01m.\u001B[39;00m\u001B[34;01m_logging\u001B[39;00m\n\u001B[32m---> \u001B[39m\u001B[32m52\u001B[39m \u001B[38;5;28;01mfrom\u001B[39;00m\u001B[38;5;250m \u001B[39m\u001B[34;01mtorch\u001B[39;00m\u001B[34;01m.\u001B[39;00m\u001B[34;01m_dynamo\u001B[39;00m\u001B[34;01m.\u001B[39;00m\u001B[34;01mexc\u001B[39;00m\u001B[38;5;250m \u001B[39m\u001B[38;5;28;01mimport\u001B[39;00m TensorifyScalarRestartAnalysis\n\u001B[32m     53\u001B[39m \u001B[38;5;28;01mfrom\u001B[39;00m\u001B[38;5;250m \u001B[39m\u001B[34;01mtorch\u001B[39;00m\u001B[34;01m.\u001B[39;00m\u001B[34;01m_guards\u001B[39;00m\u001B[38;5;250m \u001B[39m\u001B[38;5;28;01mimport\u001B[39;00m tracing, TracingContext\n\u001B[32m     54\u001B[39m \u001B[38;5;28;01mfrom\u001B[39;00m\u001B[38;5;250m \u001B[39m\u001B[34;01mtorch\u001B[39;00m\u001B[34;01m.\u001B[39;00m\u001B[34;01mfx\u001B[39;00m\u001B[34;01m.\u001B[39;00m\u001B[34;01mexperimental\u001B[39;00m\u001B[34;01m.\u001B[39;00m\u001B[34;01msymbolic_shapes\u001B[39;00m\u001B[38;5;250m \u001B[39m\u001B[38;5;28;01mimport\u001B[39;00m guard_bool\n",
      "\u001B[36mFile \u001B[39m\u001B[32m~\\Documents\\Coding stuff\\ADML\\.venv\\Lib\\site-packages\\torch\\_dynamo\\exc.py:41\u001B[39m\n\u001B[32m     38\u001B[39m \u001B[38;5;28;01mimport\u001B[39;00m\u001B[38;5;250m \u001B[39m\u001B[34;01mtorch\u001B[39;00m\u001B[34;01m.\u001B[39;00m\u001B[34;01m_guards\u001B[39;00m\n\u001B[32m     40\u001B[39m \u001B[38;5;28;01mfrom\u001B[39;00m\u001B[38;5;250m \u001B[39m\u001B[34;01m.\u001B[39;00m\u001B[38;5;250m \u001B[39m\u001B[38;5;28;01mimport\u001B[39;00m config\n\u001B[32m---> \u001B[39m\u001B[32m41\u001B[39m \u001B[38;5;28;01mfrom\u001B[39;00m\u001B[38;5;250m \u001B[39m\u001B[34;01m.\u001B[39;00m\u001B[34;01mutils\u001B[39;00m\u001B[38;5;250m \u001B[39m\u001B[38;5;28;01mimport\u001B[39;00m counters\n\u001B[32m     44\u001B[39m \u001B[38;5;28;01mif\u001B[39;00m TYPE_CHECKING:\n\u001B[32m     45\u001B[39m     \u001B[38;5;28;01mimport\u001B[39;00m\u001B[38;5;250m \u001B[39m\u001B[34;01mtypes\u001B[39;00m\n",
      "\u001B[36mFile \u001B[39m\u001B[32m~\\Documents\\Coding stuff\\ADML\\.venv\\Lib\\site-packages\\torch\\_dynamo\\utils.py:69\u001B[39m\n\u001B[32m     67\u001B[39m \u001B[38;5;28;01mimport\u001B[39;00m\u001B[38;5;250m \u001B[39m\u001B[34;01mtorch\u001B[39;00m\n\u001B[32m     68\u001B[39m \u001B[38;5;28;01mimport\u001B[39;00m\u001B[38;5;250m \u001B[39m\u001B[34;01mtorch\u001B[39;00m\u001B[34;01m.\u001B[39;00m\u001B[34;01m_functorch\u001B[39;00m\u001B[34;01m.\u001B[39;00m\u001B[34;01mconfig\u001B[39;00m\n\u001B[32m---> \u001B[39m\u001B[32m69\u001B[39m \u001B[38;5;28;01mimport\u001B[39;00m\u001B[38;5;250m \u001B[39m\u001B[34;01mtorch\u001B[39;00m\u001B[34;01m.\u001B[39;00m\u001B[34;01mfx\u001B[39;00m\u001B[34;01m.\u001B[39;00m\u001B[34;01mexperimental\u001B[39;00m\u001B[34;01m.\u001B[39;00m\u001B[34;01msymbolic_shapes\u001B[39;00m\n\u001B[32m     70\u001B[39m \u001B[38;5;28;01mimport\u001B[39;00m\u001B[38;5;250m \u001B[39m\u001B[34;01mtorch\u001B[39;00m\u001B[34;01m.\u001B[39;00m\u001B[34;01mutils\u001B[39;00m\u001B[34;01m.\u001B[39;00m\u001B[34;01m_pytree\u001B[39;00m\u001B[38;5;250m \u001B[39m\u001B[38;5;28;01mas\u001B[39;00m\u001B[38;5;250m \u001B[39m\u001B[34;01mpytree\u001B[39;00m\n\u001B[32m     71\u001B[39m \u001B[38;5;28;01mfrom\u001B[39;00m\u001B[38;5;250m \u001B[39m\u001B[34;01mtorch\u001B[39;00m\u001B[38;5;250m \u001B[39m\u001B[38;5;28;01mimport\u001B[39;00m fx\n",
      "\u001B[36mFile \u001B[39m\u001B[32m~\\Documents\\Coding stuff\\ADML\\.venv\\Lib\\site-packages\\torch\\fx\\experimental\\symbolic_shapes.py:67\u001B[39m\n\u001B[32m     65\u001B[39m \u001B[38;5;28;01mfrom\u001B[39;00m\u001B[38;5;250m \u001B[39m\u001B[34;01mtorch\u001B[39;00m\u001B[34;01m.\u001B[39;00m\u001B[34;01mutils\u001B[39;00m\u001B[34;01m.\u001B[39;00m\u001B[34;01m_ordered_set\u001B[39;00m\u001B[38;5;250m \u001B[39m\u001B[38;5;28;01mimport\u001B[39;00m OrderedSet\n\u001B[32m     66\u001B[39m \u001B[38;5;28;01mfrom\u001B[39;00m\u001B[38;5;250m \u001B[39m\u001B[34;01mtorch\u001B[39;00m\u001B[34;01m.\u001B[39;00m\u001B[34;01mutils\u001B[39;00m\u001B[34;01m.\u001B[39;00m\u001B[34;01m_python_dispatch\u001B[39;00m\u001B[38;5;250m \u001B[39m\u001B[38;5;28;01mimport\u001B[39;00m is_traceable_wrapper_subclass\n\u001B[32m---> \u001B[39m\u001B[32m67\u001B[39m \u001B[38;5;28;01mfrom\u001B[39;00m\u001B[38;5;250m \u001B[39m\u001B[34;01mtorch\u001B[39;00m\u001B[34;01m.\u001B[39;00m\u001B[34;01mutils\u001B[39;00m\u001B[34;01m.\u001B[39;00m\u001B[34;01m_sympy\u001B[39;00m\u001B[34;01m.\u001B[39;00m\u001B[34;01mfunctions\u001B[39;00m\u001B[38;5;250m \u001B[39m\u001B[38;5;28;01mimport\u001B[39;00m (\n\u001B[32m     68\u001B[39m     Application,\n\u001B[32m     69\u001B[39m     CeilToInt,\n\u001B[32m     70\u001B[39m     CleanDiv,\n\u001B[32m     71\u001B[39m     FloorDiv,\n\u001B[32m     72\u001B[39m     FloorToInt,\n\u001B[32m     73\u001B[39m     IsNonOverlappingAndDenseIndicator,\n\u001B[32m     74\u001B[39m     Max,\n\u001B[32m     75\u001B[39m     Mod,\n\u001B[32m     76\u001B[39m     PythonMod,\n\u001B[32m     77\u001B[39m )\n\u001B[32m     78\u001B[39m \u001B[38;5;28;01mfrom\u001B[39;00m\u001B[38;5;250m \u001B[39m\u001B[34;01mtorch\u001B[39;00m\u001B[34;01m.\u001B[39;00m\u001B[34;01mutils\u001B[39;00m\u001B[34;01m.\u001B[39;00m\u001B[34;01m_sympy\u001B[39;00m\u001B[34;01m.\u001B[39;00m\u001B[34;01mnumbers\u001B[39;00m\u001B[38;5;250m \u001B[39m\u001B[38;5;28;01mimport\u001B[39;00m int_oo\n\u001B[32m     79\u001B[39m \u001B[38;5;28;01mfrom\u001B[39;00m\u001B[38;5;250m \u001B[39m\u001B[34;01mtorch\u001B[39;00m\u001B[34;01m.\u001B[39;00m\u001B[34;01mutils\u001B[39;00m\u001B[34;01m.\u001B[39;00m\u001B[34;01m_sympy\u001B[39;00m\u001B[34;01m.\u001B[39;00m\u001B[34;01mprinters\u001B[39;00m\u001B[38;5;250m \u001B[39m\u001B[38;5;28;01mimport\u001B[39;00m CppPrinter, PythonPrinter\n",
      "\u001B[36mFile \u001B[39m\u001B[32m~\\Documents\\Coding stuff\\ADML\\.venv\\Lib\\site-packages\\torch\\utils\\_sympy\\functions.py:9\u001B[39m\n\u001B[32m      6\u001B[39m \u001B[38;5;28;01mfrom\u001B[39;00m\u001B[38;5;250m \u001B[39m\u001B[34;01mtyping\u001B[39;00m\u001B[38;5;250m \u001B[39m\u001B[38;5;28;01mimport\u001B[39;00m Callable, Optional, SupportsFloat, TYPE_CHECKING, TypeVar, Union\n\u001B[32m      7\u001B[39m \u001B[38;5;28;01mfrom\u001B[39;00m\u001B[38;5;250m \u001B[39m\u001B[34;01mtyping_extensions\u001B[39;00m\u001B[38;5;250m \u001B[39m\u001B[38;5;28;01mimport\u001B[39;00m TypeVarTuple, Unpack\n\u001B[32m----> \u001B[39m\u001B[32m9\u001B[39m \u001B[38;5;28;01mimport\u001B[39;00m\u001B[38;5;250m \u001B[39m\u001B[34;01msympy\u001B[39;00m\n\u001B[32m     10\u001B[39m \u001B[38;5;28;01mfrom\u001B[39;00m\u001B[38;5;250m \u001B[39m\u001B[34;01msympy\u001B[39;00m\u001B[38;5;250m \u001B[39m\u001B[38;5;28;01mimport\u001B[39;00m S\n\u001B[32m     11\u001B[39m \u001B[38;5;28;01mfrom\u001B[39;00m\u001B[38;5;250m \u001B[39m\u001B[34;01msympy\u001B[39;00m\u001B[34;01m.\u001B[39;00m\u001B[34;01mcore\u001B[39;00m\u001B[38;5;250m \u001B[39m\u001B[38;5;28;01mimport\u001B[39;00m sympify\n",
      "\u001B[36mFile \u001B[39m\u001B[32m~\\Documents\\Coding stuff\\ADML\\.venv\\Lib\\site-packages\\sympy\\__init__.py:23\u001B[39m\n\u001B[32m     19\u001B[39m \u001B[38;5;28;01mdel\u001B[39;00m sys\n\u001B[32m     22\u001B[39m \u001B[38;5;28;01mtry\u001B[39;00m:\n\u001B[32m---> \u001B[39m\u001B[32m23\u001B[39m     \u001B[38;5;28;01mimport\u001B[39;00m\u001B[38;5;250m \u001B[39m\u001B[34;01mmpmath\u001B[39;00m\n\u001B[32m     24\u001B[39m \u001B[38;5;28;01mexcept\u001B[39;00m \u001B[38;5;167;01mImportError\u001B[39;00m:\n\u001B[32m     25\u001B[39m     \u001B[38;5;28;01mraise\u001B[39;00m \u001B[38;5;167;01mImportError\u001B[39;00m(\u001B[33m\"\u001B[39m\u001B[33mSymPy now depends on mpmath as an external library. \u001B[39m\u001B[33m\"\u001B[39m\n\u001B[32m     26\u001B[39m     \u001B[33m\"\u001B[39m\u001B[33mSee https://docs.sympy.org/latest/install.html#mpmath for more information.\u001B[39m\u001B[33m\"\u001B[39m)\n",
      "\u001B[36mFile \u001B[39m\u001B[32m~\\Documents\\Coding stuff\\ADML\\.venv\\Lib\\site-packages\\mpmath\\__init__.py:5\u001B[39m\n\u001B[32m      1\u001B[39m __version__ = \u001B[33m'\u001B[39m\u001B[33m1.3.0\u001B[39m\u001B[33m'\u001B[39m\n\u001B[32m      3\u001B[39m \u001B[38;5;28;01mfrom\u001B[39;00m\u001B[38;5;250m \u001B[39m\u001B[34;01m.\u001B[39;00m\u001B[34;01musertools\u001B[39;00m\u001B[38;5;250m \u001B[39m\u001B[38;5;28;01mimport\u001B[39;00m monitor, timing\n\u001B[32m----> \u001B[39m\u001B[32m5\u001B[39m \u001B[38;5;28;01mfrom\u001B[39;00m\u001B[38;5;250m \u001B[39m\u001B[34;01m.\u001B[39;00m\u001B[34;01mctx_fp\u001B[39;00m\u001B[38;5;250m \u001B[39m\u001B[38;5;28;01mimport\u001B[39;00m FPContext\n\u001B[32m      6\u001B[39m \u001B[38;5;28;01mfrom\u001B[39;00m\u001B[38;5;250m \u001B[39m\u001B[34;01m.\u001B[39;00m\u001B[34;01mctx_mp\u001B[39;00m\u001B[38;5;250m \u001B[39m\u001B[38;5;28;01mimport\u001B[39;00m MPContext\n\u001B[32m      7\u001B[39m \u001B[38;5;28;01mfrom\u001B[39;00m\u001B[38;5;250m \u001B[39m\u001B[34;01m.\u001B[39;00m\u001B[34;01mctx_iv\u001B[39;00m\u001B[38;5;250m \u001B[39m\u001B[38;5;28;01mimport\u001B[39;00m MPIntervalContext\n",
      "\u001B[36mFile \u001B[39m\u001B[32m~\\Documents\\Coding stuff\\ADML\\.venv\\Lib\\site-packages\\mpmath\\ctx_fp.py:1\u001B[39m\n\u001B[32m----> \u001B[39m\u001B[32m1\u001B[39m \u001B[38;5;28;01mfrom\u001B[39;00m\u001B[38;5;250m \u001B[39m\u001B[34;01m.\u001B[39;00m\u001B[34;01mctx_base\u001B[39;00m\u001B[38;5;250m \u001B[39m\u001B[38;5;28;01mimport\u001B[39;00m StandardBaseContext\n\u001B[32m      3\u001B[39m \u001B[38;5;28;01mimport\u001B[39;00m\u001B[38;5;250m \u001B[39m\u001B[34;01mmath\u001B[39;00m\n\u001B[32m      4\u001B[39m \u001B[38;5;28;01mimport\u001B[39;00m\u001B[38;5;250m \u001B[39m\u001B[34;01mcmath\u001B[39;00m\n",
      "\u001B[36mFile \u001B[39m\u001B[32m~\\Documents\\Coding stuff\\ADML\\.venv\\Lib\\site-packages\\mpmath\\ctx_base.py:7\u001B[39m\n\u001B[32m      5\u001B[39m \u001B[38;5;28;01mfrom\u001B[39;00m\u001B[38;5;250m \u001B[39m\u001B[34;01m.\u001B[39;00m\u001B[34;01mfunctions\u001B[39;00m\u001B[34;01m.\u001B[39;00m\u001B[34;01mfunctions\u001B[39;00m\u001B[38;5;250m \u001B[39m\u001B[38;5;28;01mimport\u001B[39;00m SpecialFunctions\n\u001B[32m      6\u001B[39m \u001B[38;5;28;01mfrom\u001B[39;00m\u001B[38;5;250m \u001B[39m\u001B[34;01m.\u001B[39;00m\u001B[34;01mfunctions\u001B[39;00m\u001B[34;01m.\u001B[39;00m\u001B[34;01mrszeta\u001B[39;00m\u001B[38;5;250m \u001B[39m\u001B[38;5;28;01mimport\u001B[39;00m RSCache\n\u001B[32m----> \u001B[39m\u001B[32m7\u001B[39m \u001B[38;5;28;01mfrom\u001B[39;00m\u001B[38;5;250m \u001B[39m\u001B[34;01m.\u001B[39;00m\u001B[34;01mcalculus\u001B[39;00m\u001B[34;01m.\u001B[39;00m\u001B[34;01mquadrature\u001B[39;00m\u001B[38;5;250m \u001B[39m\u001B[38;5;28;01mimport\u001B[39;00m QuadratureMethods\n\u001B[32m      8\u001B[39m \u001B[38;5;28;01mfrom\u001B[39;00m\u001B[38;5;250m \u001B[39m\u001B[34;01m.\u001B[39;00m\u001B[34;01mcalculus\u001B[39;00m\u001B[34;01m.\u001B[39;00m\u001B[34;01minverselaplace\u001B[39;00m\u001B[38;5;250m \u001B[39m\u001B[38;5;28;01mimport\u001B[39;00m LaplaceTransformInversionMethods\n\u001B[32m      9\u001B[39m \u001B[38;5;28;01mfrom\u001B[39;00m\u001B[38;5;250m \u001B[39m\u001B[34;01m.\u001B[39;00m\u001B[34;01mcalculus\u001B[39;00m\u001B[34;01m.\u001B[39;00m\u001B[34;01mcalculus\u001B[39;00m\u001B[38;5;250m \u001B[39m\u001B[38;5;28;01mimport\u001B[39;00m CalculusMethods\n",
      "\u001B[36mFile \u001B[39m\u001B[32m~\\Documents\\Coding stuff\\ADML\\.venv\\Lib\\site-packages\\mpmath\\calculus\\__init__.py:3\u001B[39m\n\u001B[32m      1\u001B[39m \u001B[38;5;28;01mfrom\u001B[39;00m\u001B[38;5;250m \u001B[39m\u001B[34;01m.\u001B[39;00m\u001B[38;5;250m \u001B[39m\u001B[38;5;28;01mimport\u001B[39;00m calculus\n\u001B[32m      2\u001B[39m \u001B[38;5;66;03m# XXX: hack to set methods\u001B[39;00m\n\u001B[32m----> \u001B[39m\u001B[32m3\u001B[39m \u001B[38;5;28;01mfrom\u001B[39;00m\u001B[38;5;250m \u001B[39m\u001B[34;01m.\u001B[39;00m\u001B[38;5;250m \u001B[39m\u001B[38;5;28;01mimport\u001B[39;00m approximation\n\u001B[32m      4\u001B[39m \u001B[38;5;28;01mfrom\u001B[39;00m\u001B[38;5;250m \u001B[39m\u001B[34;01m.\u001B[39;00m\u001B[38;5;250m \u001B[39m\u001B[38;5;28;01mimport\u001B[39;00m differentiation\n\u001B[32m      5\u001B[39m \u001B[38;5;28;01mfrom\u001B[39;00m\u001B[38;5;250m \u001B[39m\u001B[34;01m.\u001B[39;00m\u001B[38;5;250m \u001B[39m\u001B[38;5;28;01mimport\u001B[39;00m extrapolation\n",
      "\u001B[36mFile \u001B[39m\u001B[32m<frozen importlib._bootstrap>:1360\u001B[39m, in \u001B[36m_find_and_load\u001B[39m\u001B[34m(name, import_)\u001B[39m\n",
      "\u001B[36mFile \u001B[39m\u001B[32m<frozen importlib._bootstrap>:1331\u001B[39m, in \u001B[36m_find_and_load_unlocked\u001B[39m\u001B[34m(name, import_)\u001B[39m\n",
      "\u001B[36mFile \u001B[39m\u001B[32m<frozen importlib._bootstrap>:935\u001B[39m, in \u001B[36m_load_unlocked\u001B[39m\u001B[34m(spec)\u001B[39m\n",
      "\u001B[36mFile \u001B[39m\u001B[32m<frozen importlib._bootstrap_external>:991\u001B[39m, in \u001B[36mexec_module\u001B[39m\u001B[34m(self, module)\u001B[39m\n",
      "\u001B[36mFile \u001B[39m\u001B[32m<frozen importlib._bootstrap_external>:1081\u001B[39m, in \u001B[36mget_code\u001B[39m\u001B[34m(self, fullname)\u001B[39m\n",
      "\u001B[36mFile \u001B[39m\u001B[32m<frozen importlib._bootstrap_external>:1204\u001B[39m, in \u001B[36mpath_stats\u001B[39m\u001B[34m(self, path)\u001B[39m\n",
      "\u001B[36mFile \u001B[39m\u001B[32m<frozen importlib._bootstrap_external>:147\u001B[39m, in \u001B[36m_path_stat\u001B[39m\u001B[34m(path)\u001B[39m\n",
      "\u001B[31mKeyboardInterrupt\u001B[39m: "
     ]
    }
   ],
   "execution_count": 5
  },
  {
   "metadata": {
    "ExecuteTime": {
     "end_time": "2025-07-07T10:21:57.682850800Z",
     "start_time": "2025-07-07T10:21:21.590660Z"
    }
   },
   "cell_type": "code",
   "source": [
    "plt.plot(train_losses, label='Training Loss')\n",
    "plt.xlabel('Epochs')\n",
    "plt.ylabel('Loss')\n",
    "plt.title('Learning Curve')\n",
    "plt.legend()\n",
    "plt.show()"
   ],
   "id": "41b133ab4c74ba6a",
   "outputs": [
    {
     "data": {
      "text/plain": [
       "<Figure size 640x480 with 1 Axes>"
      ],
      "image/png": "[encoded data removed]"
     },
     "metadata": {},
     "output_type": "display_data"
    }
   ],
   "execution_count": 6
  },
  {
   "metadata": {
    "ExecuteTime": {
     "end_time": "2025-07-07T10:21:57.682850800Z",
     "start_time": "2025-07-07T10:21:22.057298Z"
    }
   },
   "cell_type": "code",
   "source": [
    "model.eval()\n",
    "with torch.no_grad():\n",
    "    y_pred = model(X_train)\n",
    "    y_pred = (y_pred > 0.5).float()  # Convert probabilities to binary predictions\n",
    "    y_pred_np = y_pred.cpu().numpy()\n",
    "    y_train_np = y_train.cpu().numpy()\n",
    "    print(\"Accuracy:\", accuracy_score(y_train_np, y_pred_np))\n",
    "    print(\"Precision:\", precision_score(y_train_np, y_pred_np))\n",
    "    print(\"Recall:\", recall_score(y_train_np, y_pred_np))\n",
    "    print(\"F1 Score:\", 2 * (precision_score(y_train_np, y_pred_np) * recall_score(y_train_np, y_pred_np)) / (precision_score(y_train_np, y_pred_np) + recall_score(y_train_np, y_pred_np)))"
   ],
   "id": "e4f200bd9b66a33d",
   "outputs": [
    {
     "name": "stdout",
     "output_type": "stream",
     "text": [
      "Accuracy: 0.8271889400921659\n",
      "Precision: 0.8472906403940886\n",
      "Recall: 0.7962962962962963\n",
      "F1 Score: 0.8210023866348449\n"
     ]
    }
   ],
   "execution_count": 7
  },
  {
   "metadata": {
    "ExecuteTime": {
     "end_time": "2025-07-07T10:21:57.682850800Z",
     "start_time": "2025-07-07T10:21:22.445236Z"
    }
   },
   "cell_type": "code",
   "source": [
    "model.eval()\n",
    "with torch.no_grad():\n",
    "    y_test_pred = model(X_test)\n",
    "    y_test_pred = (y_test_pred > 0.5).float()  # Convert probabilities to binary predictions\n",
    "    y_test_pred_np = y_test_pred.cpu().numpy()\n",
    "    y_test_np = y_test.cpu().numpy()\n",
    "    print(\"Test Accuracy:\", accuracy_score(y_test_np, y_test_pred_np))\n",
    "    print(\"Test Precision:\", precision_score(y_test_np, y_test_pred_np))\n",
    "    print(\"Test Recall:\", recall_score(y_test_np, y_test_pred_np))\n",
    "    print(\"Test F1 Score:\", 2 * (precision_score(y_test_np, y_test_pred_np) * recall_score(y_test_np, y_test_pred_np)) / (precision_score(y_test_np, y_test_pred_np) + recall_score(y_test_np, y_test_pred_np)))"
   ],
   "id": "8998579fbeba4343",
   "outputs": [
    {
     "name": "stdout",
     "output_type": "stream",
     "text": [
      "Test Accuracy: 0.8348623853211009\n",
      "Test Precision: 0.8541666666666666\n",
      "Test Recall: 0.7884615384615384\n",
      "Test F1 Score: 0.8200000000000001\n"
     ]
    }
   ],
   "execution_count": 8
  },
  {
   "metadata": {},
   "cell_type": "markdown",
   "source": "# Predict T+",
   "id": "8f08f05dbbf3c749"
  },
  {
   "metadata": {
    "ExecuteTime": {
     "end_time": "2025-07-07T10:21:57.682850800Z",
     "start_time": "2025-07-07T10:21:22.687062Z"
    }
   },
   "cell_type": "code",
   "source": [
    "X = df.drop(columns=['A+', 'T+', 'N+'])\n",
    "y = df['T+']\n",
    "\n",
    "X_train, X_test, y_train, y_test = train_test_split(X, y, train_size=0.8, random_state=40)\n",
    "\n",
    "scaler = StandardScaler()\n",
    "X_train = scaler.fit_transform(X_train)\n",
    "X_test = scaler.transform(X_test)\n",
    "\n",
    "# Convert to PyTorch tensors\n",
    "X_train = torch.tensor(X_train, dtype=torch.float32).to(device)\n",
    "X_test = torch.tensor(X_test, dtype=torch.float32).to(device)\n",
    "y_train = torch.tensor(y_train.values, dtype=torch.float32).to(device).unsqueeze(1)\n",
    "y_test = torch.tensor(y_test.values, dtype=torch.float32).to(device).unsqueeze(1)"
   ],
   "id": "9e1a4599ff81f005",
   "outputs": [],
   "execution_count": 9
  },
  {
   "metadata": {
    "ExecuteTime": {
     "end_time": "2025-07-07T10:21:57.682850800Z",
     "start_time": "2025-07-07T10:21:31.929051Z"
    }
   },
   "cell_type": "code",
   "source": [
    "model = SVM(X_train, y_train, ).to(device)\n",
    "\n",
    "bhl = torchmetrics.classification.BinaryHingeLoss(squared=True).to(device)\n",
    "\n",
    "optimizer = torch.optim.AdamW(model.parameters(), lr=0.01, weight_decay=1e-4)\n",
    "\n",
    "train_losses = []\n",
    "\n",
    "epochs = 100\n",
    "for epoch in range(1, epochs + 1):\n",
    "    model.train()\n",
    "    optimizer.zero_grad()\n",
    "    output = model(X_train)\n",
    "    loss = bhl(output, y_train)\n",
    "    loss.backward()\n",
    "    train_losses.append(loss.item())\n",
    "    optimizer.step()\n",
    "    print(f'Epoch [{epoch}/{epochs}], Loss: {loss.item():.4f}')"
   ],
   "id": "430df69029e34b6",
   "outputs": [
    {
     "name": "stdout",
     "output_type": "stream",
     "text": [
      "Epoch [1/100], Loss: 1.4196\n",
      "Epoch [2/100], Loss: 1.3479\n",
      "Epoch [3/100], Loss: 1.2855\n",
      "Epoch [4/100], Loss: 1.2296\n",
      "Epoch [5/100], Loss: 1.1772\n",
      "Epoch [6/100], Loss: 1.1262\n",
      "Epoch [7/100], Loss: 1.0774\n",
      "Epoch [8/100], Loss: 1.0331\n",
      "Epoch [9/100], Loss: 0.9936\n",
      "Epoch [10/100], Loss: 0.9611\n",
      "Epoch [11/100], Loss: 0.9362\n",
      "Epoch [12/100], Loss: 0.9167\n",
      "Epoch [13/100], Loss: 0.9009\n",
      "Epoch [14/100], Loss: 0.8874\n",
      "Epoch [15/100], Loss: 0.8759\n",
      "Epoch [16/100], Loss: 0.8656\n",
      "Epoch [17/100], Loss: 0.8563\n",
      "Epoch [18/100], Loss: 0.8477\n",
      "Epoch [19/100], Loss: 0.8401\n",
      "Epoch [20/100], Loss: 0.8335\n",
      "Epoch [21/100], Loss: 0.8279\n",
      "Epoch [22/100], Loss: 0.8233\n",
      "Epoch [23/100], Loss: 0.8195\n",
      "Epoch [24/100], Loss: 0.8162\n",
      "Epoch [25/100], Loss: 0.8133\n",
      "Epoch [26/100], Loss: 0.8105\n",
      "Epoch [27/100], Loss: 0.8079\n",
      "Epoch [28/100], Loss: 0.8053\n",
      "Epoch [29/100], Loss: 0.8027\n",
      "Epoch [30/100], Loss: 0.8001\n",
      "Epoch [31/100], Loss: 0.7974\n",
      "Epoch [32/100], Loss: 0.7948\n",
      "Epoch [33/100], Loss: 0.7920\n",
      "Epoch [34/100], Loss: 0.7893\n",
      "Epoch [35/100], Loss: 0.7865\n",
      "Epoch [36/100], Loss: 0.7837\n",
      "Epoch [37/100], Loss: 0.7810\n",
      "Epoch [38/100], Loss: 0.7784\n",
      "Epoch [39/100], Loss: 0.7759\n",
      "Epoch [40/100], Loss: 0.7734\n",
      "Epoch [41/100], Loss: 0.7711\n",
      "Epoch [42/100], Loss: 0.7688\n",
      "Epoch [43/100], Loss: 0.7665\n",
      "Epoch [44/100], Loss: 0.7641\n",
      "Epoch [45/100], Loss: 0.7617\n",
      "Epoch [46/100], Loss: 0.7592\n",
      "Epoch [47/100], Loss: 0.7565\n",
      "Epoch [48/100], Loss: 0.7536\n",
      "Epoch [49/100], Loss: 0.7506\n",
      "Epoch [50/100], Loss: 0.7476\n",
      "Epoch [51/100], Loss: 0.7446\n",
      "Epoch [52/100], Loss: 0.7417\n",
      "Epoch [53/100], Loss: 0.7389\n",
      "Epoch [54/100], Loss: 0.7364\n",
      "Epoch [55/100], Loss: 0.7342\n",
      "Epoch [56/100], Loss: 0.7322\n",
      "Epoch [57/100], Loss: 0.7304\n",
      "Epoch [58/100], Loss: 0.7287\n",
      "Epoch [59/100], Loss: 0.7271\n",
      "Epoch [60/100], Loss: 0.7256\n",
      "Epoch [61/100], Loss: 0.7241\n",
      "Epoch [62/100], Loss: 0.7225\n",
      "Epoch [63/100], Loss: 0.7208\n",
      "Epoch [64/100], Loss: 0.7191\n",
      "Epoch [65/100], Loss: 0.7173\n",
      "Epoch [66/100], Loss: 0.7155\n",
      "Epoch [67/100], Loss: 0.7138\n",
      "Epoch [68/100], Loss: 0.7122\n",
      "Epoch [69/100], Loss: 0.7107\n",
      "Epoch [70/100], Loss: 0.7094\n",
      "Epoch [71/100], Loss: 0.7081\n",
      "Epoch [72/100], Loss: 0.7069\n",
      "Epoch [73/100], Loss: 0.7057\n",
      "Epoch [74/100], Loss: 0.7045\n",
      "Epoch [75/100], Loss: 0.7033\n",
      "Epoch [76/100], Loss: 0.7021\n",
      "Epoch [77/100], Loss: 0.7009\n",
      "Epoch [78/100], Loss: 0.6998\n",
      "Epoch [79/100], Loss: 0.6987\n",
      "Epoch [80/100], Loss: 0.6976\n",
      "Epoch [81/100], Loss: 0.6966\n",
      "Epoch [82/100], Loss: 0.6956\n",
      "Epoch [83/100], Loss: 0.6947\n",
      "Epoch [84/100], Loss: 0.6938\n",
      "Epoch [85/100], Loss: 0.6930\n",
      "Epoch [86/100], Loss: 0.6922\n",
      "Epoch [87/100], Loss: 0.6914\n",
      "Epoch [88/100], Loss: 0.6906\n",
      "Epoch [89/100], Loss: 0.6899\n",
      "Epoch [90/100], Loss: 0.6891\n",
      "Epoch [91/100], Loss: 0.6884\n",
      "Epoch [92/100], Loss: 0.6877\n",
      "Epoch [93/100], Loss: 0.6870\n",
      "Epoch [94/100], Loss: 0.6863\n",
      "Epoch [95/100], Loss: 0.6856\n",
      "Epoch [96/100], Loss: 0.6850\n",
      "Epoch [97/100], Loss: 0.6843\n",
      "Epoch [98/100], Loss: 0.6836\n",
      "Epoch [99/100], Loss: 0.6830\n",
      "Epoch [100/100], Loss: 0.6823\n"
     ]
    }
   ],
   "execution_count": 11
  },
  {
   "metadata": {
    "ExecuteTime": {
     "end_time": "2025-07-07T10:21:57.682850800Z",
     "start_time": "2025-07-07T09:53:28.628578Z"
    }
   },
   "cell_type": "code",
   "source": [
    "plt.plot(train_losses, label='Training Loss')\n",
    "plt.xlabel('Epochs')\n",
    "plt.ylabel('Loss')\n",
    "plt.title('Learning Curve')\n",
    "plt.legend()\n",
    "plt.show()"
   ],
   "id": "375179a0489eda48",
   "outputs": [
    {
     "data": {
      "text/plain": [
       "<Figure size 640x480 with 1 Axes>"
      ],
      "image/png": "[encoded data removed]"
     },
     "metadata": {},
     "output_type": "display_data"
    }
   ],
   "execution_count": 196
  },
  {
   "metadata": {
    "ExecuteTime": {
     "end_time": "2025-07-07T10:21:57.682850800Z",
     "start_time": "2025-07-07T09:53:30.880164Z"
    }
   },
   "cell_type": "code",
   "source": [
    "model.eval()\n",
    "with torch.no_grad():\n",
    "    y_pred = model(X_train)\n",
    "    y_pred = (y_pred > 0.5).float()  # Convert probabilities to binary predictions\n",
    "    y_pred_np = y_pred.cpu().numpy()\n",
    "    y_train_np = y_train.cpu().numpy()\n",
    "    print(\"Accuracy:\", accuracy_score(y_train_np, y_pred_np))\n",
    "    print(\"Precision:\", precision_score(y_train_np, y_pred_np))\n",
    "    print(\"Recall:\", recall_score(y_train_np, y_pred_np))\n",
    "    print(\"F1 Score:\",\n",
    "          2 * (precision_score(y_train_np, y_pred_np) * recall_score(y_train_np, y_pred_np)) / (\n",
    "              precision_score(y_train_np, y_pred_np) + recall_score(y_train_np, y_pred_np)))"
   ],
   "id": "8c958e195bb38fd5",
   "outputs": [
    {
     "name": "stdout",
     "output_type": "stream",
     "text": [
      "Accuracy: 0.8894009216589862\n",
      "Precision: 0.885\n",
      "Recall: 0.8762376237623762\n",
      "F1 Score: 0.880597014925373\n"
     ]
    }
   ],
   "execution_count": 197
  },
  {
   "metadata": {
    "ExecuteTime": {
     "end_time": "2025-07-07T10:21:57.682850800Z",
     "start_time": "2025-07-07T09:53:32.225159Z"
    }
   },
   "cell_type": "code",
   "source": [
    "model.eval()\n",
    "with torch.no_grad():\n",
    "    y_test_pred = model(X_test)\n",
    "    y_test_pred = (y_test_pred > 0.5).float()  # Convert probabilities to binary predictions\n",
    "    y_test_pred_np = y_test_pred.cpu().numpy()\n",
    "    y_test_np = y_test.cpu().numpy()\n",
    "    print(\"Test Accuracy:\", accuracy_score(y_test_np, y_test_pred_np))\n",
    "    print(\"Test Precision:\", precision_score(y_test_np, y_test_pred_np))\n",
    "    print(\"Test Recall:\", recall_score(y_test_np, y_test_pred_np))\n",
    "    print(\"Test F1 Score:\", 2 * (\n",
    "        precision_score(y_test_np, y_test_pred_np) * recall_score(y_test_np,\n",
    "                                                                  y_test_pred_np)) / (\n",
    "              precision_score(y_test_np, y_test_pred_np) + recall_score(y_test_np,\n",
    "                                                                        y_test_pred_np)))"
   ],
   "id": "567a0d8efaf91627",
   "outputs": [
    {
     "name": "stdout",
     "output_type": "stream",
     "text": [
      "Test Accuracy: 0.8807339449541285\n",
      "Test Precision: 0.96\n",
      "Test Recall: 0.8135593220338984\n",
      "Test F1 Score: 0.8807339449541285\n"
     ]
    }
   ],
   "execution_count": 198
  },
  {
   "metadata": {},
   "cell_type": "markdown",
   "source": "# Predict N+",
   "id": "97a34f12f829be4f"
  },
  {
   "metadata": {
    "ExecuteTime": {
     "end_time": "2025-07-07T10:21:57.682850800Z",
     "start_time": "2025-07-07T09:53:33.789169Z"
    }
   },
   "cell_type": "code",
   "source": [
    "X = df.drop(columns=['A+', 'T+', 'N+'])\n",
    "y = df['N+']\n",
    "\n",
    "X_train, X_test, y_train, y_test = train_test_split(X, y, train_size=0.8, random_state=40)\n",
    "\n",
    "scaler = StandardScaler()\n",
    "X_train = scaler.fit_transform(X_train)\n",
    "X_test = scaler.transform(X_test)\n",
    "\n",
    "# Convert to PyTorch tensors\n",
    "X_train = torch.tensor(X_train, dtype=torch.float32).to(device)\n",
    "X_test = torch.tensor(X_test, dtype=torch.float32).to(device)\n",
    "y_train = torch.tensor(y_train.values, dtype=torch.float32).to(device).unsqueeze(1)\n",
    "y_test = torch.tensor(y_test.values, dtype=torch.float32).to(device).unsqueeze(1)"
   ],
   "id": "5be9bfaf082535a7",
   "outputs": [],
   "execution_count": 199
  },
  {
   "metadata": {
    "ExecuteTime": {
     "end_time": "2025-07-07T10:21:57.682850800Z",
     "start_time": "2025-07-07T09:53:35.021250Z"
    }
   },
   "cell_type": "code",
   "source": [
    "model = SVM(X_train, y_train).to(device)\n",
    "\n",
    "bhl = torchmetrics.classification.BinaryHingeLoss(squared=True).to(device)\n",
    "\n",
    "optimizer = torch.optim.AdamW(model.parameters(), lr=0.01, weight_decay=1e-4)\n",
    "\n",
    "train_losses = []\n",
    "\n",
    "epochs = 100\n",
    "for epoch in range(1, epochs + 1):\n",
    "    model.train()\n",
    "    optimizer.zero_grad()\n",
    "    output = model(X_train)\n",
    "    loss = bhl(output, y_train)\n",
    "    loss.backward()\n",
    "    train_losses.append(loss.item())\n",
    "    optimizer.step()\n",
    "    print(f'Epoch [{epoch}/{epochs}], Loss: {loss.item():.4f}')"
   ],
   "id": "a659c026d43100c0",
   "outputs": [
    {
     "name": "stdout",
     "output_type": "stream",
     "text": [
      "Epoch [1/100], Loss: 1.3202\n",
      "Epoch [2/100], Loss: 1.2629\n",
      "Epoch [3/100], Loss: 1.2122\n",
      "Epoch [4/100], Loss: 1.1681\n",
      "Epoch [5/100], Loss: 1.1267\n",
      "Epoch [6/100], Loss: 1.0867\n",
      "Epoch [7/100], Loss: 1.0496\n",
      "Epoch [8/100], Loss: 1.0180\n",
      "Epoch [9/100], Loss: 0.9933\n",
      "Epoch [10/100], Loss: 0.9749\n",
      "Epoch [11/100], Loss: 0.9610\n",
      "Epoch [12/100], Loss: 0.9495\n",
      "Epoch [13/100], Loss: 0.9393\n",
      "Epoch [14/100], Loss: 0.9299\n",
      "Epoch [15/100], Loss: 0.9212\n",
      "Epoch [16/100], Loss: 0.9132\n",
      "Epoch [17/100], Loss: 0.9056\n",
      "Epoch [18/100], Loss: 0.8980\n",
      "Epoch [19/100], Loss: 0.8900\n",
      "Epoch [20/100], Loss: 0.8817\n",
      "Epoch [21/100], Loss: 0.8734\n",
      "Epoch [22/100], Loss: 0.8653\n",
      "Epoch [23/100], Loss: 0.8578\n",
      "Epoch [24/100], Loss: 0.8511\n",
      "Epoch [25/100], Loss: 0.8452\n",
      "Epoch [26/100], Loss: 0.8399\n",
      "Epoch [27/100], Loss: 0.8353\n",
      "Epoch [28/100], Loss: 0.8314\n",
      "Epoch [29/100], Loss: 0.8280\n",
      "Epoch [30/100], Loss: 0.8252\n",
      "Epoch [31/100], Loss: 0.8227\n",
      "Epoch [32/100], Loss: 0.8206\n",
      "Epoch [33/100], Loss: 0.8187\n",
      "Epoch [34/100], Loss: 0.8170\n",
      "Epoch [35/100], Loss: 0.8157\n",
      "Epoch [36/100], Loss: 0.8145\n",
      "Epoch [37/100], Loss: 0.8136\n",
      "Epoch [38/100], Loss: 0.8127\n",
      "Epoch [39/100], Loss: 0.8119\n",
      "Epoch [40/100], Loss: 0.8111\n",
      "Epoch [41/100], Loss: 0.8102\n",
      "Epoch [42/100], Loss: 0.8092\n",
      "Epoch [43/100], Loss: 0.8081\n",
      "Epoch [44/100], Loss: 0.8069\n",
      "Epoch [45/100], Loss: 0.8057\n",
      "Epoch [46/100], Loss: 0.8046\n",
      "Epoch [47/100], Loss: 0.8035\n",
      "Epoch [48/100], Loss: 0.8025\n",
      "Epoch [49/100], Loss: 0.8016\n",
      "Epoch [50/100], Loss: 0.8007\n",
      "Epoch [51/100], Loss: 0.7999\n",
      "Epoch [52/100], Loss: 0.7991\n",
      "Epoch [53/100], Loss: 0.7982\n",
      "Epoch [54/100], Loss: 0.7974\n",
      "Epoch [55/100], Loss: 0.7964\n",
      "Epoch [56/100], Loss: 0.7955\n",
      "Epoch [57/100], Loss: 0.7944\n",
      "Epoch [58/100], Loss: 0.7933\n",
      "Epoch [59/100], Loss: 0.7922\n",
      "Epoch [60/100], Loss: 0.7910\n",
      "Epoch [61/100], Loss: 0.7897\n",
      "Epoch [62/100], Loss: 0.7885\n",
      "Epoch [63/100], Loss: 0.7873\n",
      "Epoch [64/100], Loss: 0.7862\n",
      "Epoch [65/100], Loss: 0.7851\n",
      "Epoch [66/100], Loss: 0.7841\n",
      "Epoch [67/100], Loss: 0.7832\n",
      "Epoch [68/100], Loss: 0.7823\n",
      "Epoch [69/100], Loss: 0.7815\n",
      "Epoch [70/100], Loss: 0.7807\n",
      "Epoch [71/100], Loss: 0.7800\n",
      "Epoch [72/100], Loss: 0.7793\n",
      "Epoch [73/100], Loss: 0.7786\n",
      "Epoch [74/100], Loss: 0.7779\n",
      "Epoch [75/100], Loss: 0.7773\n",
      "Epoch [76/100], Loss: 0.7766\n",
      "Epoch [77/100], Loss: 0.7759\n",
      "Epoch [78/100], Loss: 0.7753\n",
      "Epoch [79/100], Loss: 0.7746\n",
      "Epoch [80/100], Loss: 0.7739\n",
      "Epoch [81/100], Loss: 0.7731\n",
      "Epoch [82/100], Loss: 0.7724\n",
      "Epoch [83/100], Loss: 0.7716\n",
      "Epoch [84/100], Loss: 0.7707\n",
      "Epoch [85/100], Loss: 0.7699\n",
      "Epoch [86/100], Loss: 0.7691\n",
      "Epoch [87/100], Loss: 0.7683\n",
      "Epoch [88/100], Loss: 0.7675\n",
      "Epoch [89/100], Loss: 0.7668\n",
      "Epoch [90/100], Loss: 0.7661\n",
      "Epoch [91/100], Loss: 0.7654\n",
      "Epoch [92/100], Loss: 0.7648\n",
      "Epoch [93/100], Loss: 0.7642\n",
      "Epoch [94/100], Loss: 0.7637\n",
      "Epoch [95/100], Loss: 0.7632\n",
      "Epoch [96/100], Loss: 0.7627\n",
      "Epoch [97/100], Loss: 0.7622\n",
      "Epoch [98/100], Loss: 0.7617\n",
      "Epoch [99/100], Loss: 0.7612\n",
      "Epoch [100/100], Loss: 0.7607\n"
     ]
    }
   ],
   "execution_count": 200
  },
  {
   "metadata": {
    "ExecuteTime": {
     "end_time": "2025-07-07T10:21:57.682850800Z",
     "start_time": "2025-07-07T09:53:36.710902Z"
    }
   },
   "cell_type": "code",
   "source": [
    "plt.plot(train_losses, label='Training Loss')\n",
    "plt.xlabel('Epochs')\n",
    "plt.ylabel('Loss')\n",
    "plt.title('Learning Curve')\n",
    "plt.legend()\n",
    "plt.show()"
   ],
   "id": "87d721f68af7dea",
   "outputs": [
    {
     "data": {
      "text/plain": [
       "<Figure size 640x480 with 1 Axes>"
      ],
      "image/png": "[encoded data removed]"
     },
     "metadata": {},
     "output_type": "display_data"
    }
   ],
   "execution_count": 201
  },
  {
   "metadata": {
    "ExecuteTime": {
     "end_time": "2025-07-07T10:21:57.682850800Z",
     "start_time": "2025-07-07T09:53:38.048063Z"
    }
   },
   "cell_type": "code",
   "source": [
    "model.eval()\n",
    "with torch.no_grad():\n",
    "    y_pred = model(X_train)\n",
    "    y_pred = (y_pred > 0.5).float()  # Convert probabilities to binary predictions\n",
    "    y_pred_np = y_pred.cpu().numpy()\n",
    "    y_train_np = y_train.cpu().numpy()\n",
    "    print(\"Accuracy:\", accuracy_score(y_train_np, y_pred_np))\n",
    "    print(\"Precision:\", precision_score(y_train_np, y_pred_np))\n",
    "    print(\"Recall:\", recall_score(y_train_np, y_pred_np))\n",
    "    print(\"F1 Score:\",\n",
    "          2 * (precision_score(y_train_np, y_pred_np) * recall_score(y_train_np, y_pred_np)) / (\n",
    "              precision_score(y_train_np, y_pred_np) + recall_score(y_train_np, y_pred_np)))"
   ],
   "id": "a234c3265f1318cd",
   "outputs": [
    {
     "name": "stdout",
     "output_type": "stream",
     "text": [
      "Accuracy: 0.9055299539170507\n",
      "Precision: 0.8805970149253731\n",
      "Recall: 0.9123711340206185\n",
      "F1 Score: 0.8962025316455695\n"
     ]
    }
   ],
   "execution_count": 202
  },
  {
   "metadata": {
    "ExecuteTime": {
     "end_time": "2025-07-07T10:21:57.698648100Z",
     "start_time": "2025-07-07T09:53:39.393373Z"
    }
   },
   "cell_type": "code",
   "source": [
    "model.eval()\n",
    "with torch.no_grad():\n",
    "    y_test_pred = model(X_test)\n",
    "    y_test_pred = (y_test_pred > 0.5).float()  # Convert probabilities to binary predictions\n",
    "    y_test_pred_np = y_test_pred.cpu().numpy()\n",
    "    y_test_np = y_test.cpu().numpy()\n",
    "    print(\"Test Accuracy:\", accuracy_score(y_test_np, y_test_pred_np))\n",
    "    print(\"Test Precision:\", precision_score(y_test_np, y_test_pred_np))\n",
    "    print(\"Test Recall:\", recall_score(y_test_np, y_test_pred_np))\n",
    "    print(\"Test F1 Score:\", 2 * (\n",
    "        precision_score(y_test_np, y_test_pred_np) * recall_score(y_test_np,\n",
    "                                                                  y_test_pred_np)) / (\n",
    "              precision_score(y_test_np, y_test_pred_np) + recall_score(y_test_np,\n",
    "                                                                        y_test_pred_np)))"
   ],
   "id": "bd2e1afeb369e6f7",
   "outputs": [
    {
     "name": "stdout",
     "output_type": "stream",
     "text": [
      "Test Accuracy: 0.8807339449541285\n",
      "Test Precision: 0.9387755102040817\n",
      "Test Recall: 0.8214285714285714\n",
      "Test F1 Score: 0.8761904761904763\n"
     ]
    }
   ],
   "execution_count": 203
  },
  {
   "metadata": {},
   "cell_type": "markdown",
   "source": "# MTL",
   "id": "a8cc0fc4c0dbabd5"
  },
  {
   "metadata": {
    "ExecuteTime": {
     "end_time": "2025-07-07T10:21:57.698648100Z",
     "start_time": "2025-07-07T09:52:35.395294Z"
    }
   },
   "cell_type": "code",
   "source": [
    "class MultitaskSVM(torch.nn.Module):\n",
    "    def __init__(self, features, targets):\n",
    "        super(MultitaskSVM, self).__init__()\n",
    "        self.features = features\n",
    "        self.targets = targets\n",
    "        self.w = torch.nn.Parameter(torch.randn(features.shape[1], 3), requires_grad=True)\n",
    "        self.b = torch.nn.Parameter(torch.randn(1), requires_grad=True)\n",
    "        self.classifier = torch.nn.Sigmoid()\n",
    "\n",
    "    def forward(self, x):\n",
    "        plane_output = x.matmul(self.w) + self.b\n",
    "        return self.classifier(plane_output)"
   ],
   "id": "46d84377c98fc4b1",
   "outputs": [],
   "execution_count": 179
  },
  {
   "metadata": {
    "ExecuteTime": {
     "end_time": "2025-07-07T10:21:57.698648100Z",
     "start_time": "2025-07-07T09:52:39.225467Z"
    }
   },
   "cell_type": "code",
   "source": [
    "X = df.drop(columns=['A+', 'T+', 'N+'])\n",
    "y = df.filter(['A+', 'T+', 'N+'])\n",
    "\n",
    "X_train, X_test, y_train, y_test = train_test_split(X, y, train_size=0.8, random_state=40)\n",
    "\n",
    "scaler = StandardScaler()\n",
    "X_train = scaler.fit_transform(X_train)\n",
    "X_test = scaler.transform(X_test)\n",
    "\n",
    "# Convert to PyTorch tensors\n",
    "X_train = torch.tensor(X_train, dtype=torch.float32).to(device)\n",
    "X_test = torch.tensor(X_test, dtype=torch.float32).to(device)\n",
    "y_train = torch.tensor(y_train.values, dtype=torch.float32).to(device)\n",
    "y_test = torch.tensor(y_test.values, dtype=torch.float32).to(device)"
   ],
   "id": "ed2dcd8fa874b60",
   "outputs": [],
   "execution_count": 180
  },
  {
   "metadata": {
    "ExecuteTime": {
     "end_time": "2025-07-07T10:21:57.698648100Z",
     "start_time": "2025-07-07T09:52:40.307378Z"
    }
   },
   "cell_type": "code",
   "source": [
    "model = MultitaskSVM(X_train, y_train).to(device)\n",
    "\n",
    "bhl = torchmetrics.classification.BinaryHingeLoss(squared=True).to(device)\n",
    "\n",
    "optimizer = torch.optim.AdamW(model.parameters(), lr=0.01, weight_decay=1e-4)\n",
    "\n",
    "train_losses = []\n",
    "\n",
    "epochs = 100\n",
    "for epoch in range(1, epochs + 1):\n",
    "    model.train()\n",
    "    optimizer.zero_grad()\n",
    "    output = model(X_train)\n",
    "    loss = bhl(output, y_train)\n",
    "    loss.backward()\n",
    "    train_losses.append(loss.item())\n",
    "    optimizer.step()\n",
    "    print(f'Epoch [{epoch}/{epochs}], Loss: {loss.item():.4f}')"
   ],
   "id": "5b3b89bfd5d836b4",
   "outputs": [
    {
     "name": "stdout",
     "output_type": "stream",
     "text": [
      "Epoch [1/100], Loss: 1.5176\n",
      "Epoch [2/100], Loss: 1.4802\n",
      "Epoch [3/100], Loss: 1.4422\n",
      "Epoch [4/100], Loss: 1.4031\n",
      "Epoch [5/100], Loss: 1.3638\n",
      "Epoch [6/100], Loss: 1.3257\n",
      "Epoch [7/100], Loss: 1.2865\n",
      "Epoch [8/100], Loss: 1.2463\n",
      "Epoch [9/100], Loss: 1.2064\n",
      "Epoch [10/100], Loss: 1.1667\n",
      "Epoch [11/100], Loss: 1.1256\n",
      "Epoch [12/100], Loss: 1.0883\n",
      "Epoch [13/100], Loss: 1.0603\n",
      "Epoch [14/100], Loss: 1.0385\n",
      "Epoch [15/100], Loss: 1.0191\n",
      "Epoch [16/100], Loss: 1.0027\n",
      "Epoch [17/100], Loss: 0.9903\n",
      "Epoch [18/100], Loss: 0.9803\n",
      "Epoch [19/100], Loss: 0.9713\n",
      "Epoch [20/100], Loss: 0.9628\n",
      "Epoch [21/100], Loss: 0.9546\n",
      "Epoch [22/100], Loss: 0.9464\n",
      "Epoch [23/100], Loss: 0.9387\n",
      "Epoch [24/100], Loss: 0.9316\n",
      "Epoch [25/100], Loss: 0.9249\n",
      "Epoch [26/100], Loss: 0.9183\n",
      "Epoch [27/100], Loss: 0.9118\n",
      "Epoch [28/100], Loss: 0.9055\n",
      "Epoch [29/100], Loss: 0.8994\n",
      "Epoch [30/100], Loss: 0.8936\n",
      "Epoch [31/100], Loss: 0.8883\n",
      "Epoch [32/100], Loss: 0.8833\n",
      "Epoch [33/100], Loss: 0.8786\n",
      "Epoch [34/100], Loss: 0.8741\n",
      "Epoch [35/100], Loss: 0.8698\n",
      "Epoch [36/100], Loss: 0.8657\n",
      "Epoch [37/100], Loss: 0.8619\n",
      "Epoch [38/100], Loss: 0.8584\n",
      "Epoch [39/100], Loss: 0.8552\n",
      "Epoch [40/100], Loss: 0.8523\n",
      "Epoch [41/100], Loss: 0.8497\n",
      "Epoch [42/100], Loss: 0.8473\n",
      "Epoch [43/100], Loss: 0.8450\n",
      "Epoch [44/100], Loss: 0.8428\n",
      "Epoch [45/100], Loss: 0.8406\n",
      "Epoch [46/100], Loss: 0.8384\n",
      "Epoch [47/100], Loss: 0.8363\n",
      "Epoch [48/100], Loss: 0.8343\n",
      "Epoch [49/100], Loss: 0.8324\n",
      "Epoch [50/100], Loss: 0.8307\n",
      "Epoch [51/100], Loss: 0.8291\n",
      "Epoch [52/100], Loss: 0.8275\n",
      "Epoch [53/100], Loss: 0.8260\n",
      "Epoch [54/100], Loss: 0.8246\n",
      "Epoch [55/100], Loss: 0.8232\n",
      "Epoch [56/100], Loss: 0.8217\n",
      "Epoch [57/100], Loss: 0.8203\n",
      "Epoch [58/100], Loss: 0.8188\n",
      "Epoch [59/100], Loss: 0.8173\n",
      "Epoch [60/100], Loss: 0.8157\n",
      "Epoch [61/100], Loss: 0.8142\n",
      "Epoch [62/100], Loss: 0.8126\n",
      "Epoch [63/100], Loss: 0.8110\n",
      "Epoch [64/100], Loss: 0.8093\n",
      "Epoch [65/100], Loss: 0.8075\n",
      "Epoch [66/100], Loss: 0.8056\n",
      "Epoch [67/100], Loss: 0.8034\n",
      "Epoch [68/100], Loss: 0.8009\n",
      "Epoch [69/100], Loss: 0.7981\n",
      "Epoch [70/100], Loss: 0.7950\n",
      "Epoch [71/100], Loss: 0.7921\n",
      "Epoch [72/100], Loss: 0.7896\n",
      "Epoch [73/100], Loss: 0.7876\n",
      "Epoch [74/100], Loss: 0.7861\n",
      "Epoch [75/100], Loss: 0.7847\n",
      "Epoch [76/100], Loss: 0.7834\n",
      "Epoch [77/100], Loss: 0.7821\n",
      "Epoch [78/100], Loss: 0.7809\n",
      "Epoch [79/100], Loss: 0.7796\n",
      "Epoch [80/100], Loss: 0.7784\n",
      "Epoch [81/100], Loss: 0.7772\n",
      "Epoch [82/100], Loss: 0.7761\n",
      "Epoch [83/100], Loss: 0.7749\n",
      "Epoch [84/100], Loss: 0.7738\n",
      "Epoch [85/100], Loss: 0.7727\n",
      "Epoch [86/100], Loss: 0.7715\n",
      "Epoch [87/100], Loss: 0.7704\n",
      "Epoch [88/100], Loss: 0.7693\n",
      "Epoch [89/100], Loss: 0.7682\n",
      "Epoch [90/100], Loss: 0.7671\n",
      "Epoch [91/100], Loss: 0.7660\n",
      "Epoch [92/100], Loss: 0.7648\n",
      "Epoch [93/100], Loss: 0.7636\n",
      "Epoch [94/100], Loss: 0.7625\n",
      "Epoch [95/100], Loss: 0.7615\n",
      "Epoch [96/100], Loss: 0.7606\n",
      "Epoch [97/100], Loss: 0.7597\n",
      "Epoch [98/100], Loss: 0.7588\n",
      "Epoch [99/100], Loss: 0.7579\n",
      "Epoch [100/100], Loss: 0.7569\n"
     ]
    }
   ],
   "execution_count": 181
  },
  {
   "metadata": {
    "ExecuteTime": {
     "end_time": "2025-07-07T10:21:57.703133700Z",
     "start_time": "2025-07-07T09:52:42.946944Z"
    }
   },
   "cell_type": "code",
   "source": [
    "plt.plot(train_losses, label='Training Loss')\n",
    "plt.xlabel('Epochs')\n",
    "plt.ylabel('Loss')\n",
    "plt.title('Learning Curve')\n",
    "plt.legend()\n",
    "plt.show()"
   ],
   "id": "da69800a16ae26a2",
   "outputs": [
    {
     "data": {
      "text/plain": [
       "<Figure size 640x480 with 1 Axes>"
      ],
      "image/png": "[encoded data removed]"
     },
     "metadata": {},
     "output_type": "display_data"
    }
   ],
   "execution_count": 182
  },
  {
   "metadata": {
    "ExecuteTime": {
     "end_time": "2025-07-07T10:21:57.703133700Z",
     "start_time": "2025-07-07T09:52:44.492751Z"
    }
   },
   "cell_type": "code",
   "source": [
    "model.eval()\n",
    "with torch.no_grad():\n",
    "    y_pred = model(X_train)\n",
    "    y_pred = (y_pred > 0.5).float()  # Convert probabilities to binary predictions\n",
    "    y_pred_np = y_pred.cpu().numpy()\n",
    "    y_train_np = y_train.cpu().numpy()\n",
    "    # For multitask (MTL) evaluation\n",
    "    print(\"Accuracy:\", accuracy_score(y_train_np, y_pred_np))\n",
    "    print(\"Precision:\", precision_score(y_train_np, y_pred_np, average='macro'))\n",
    "    print(\"Recall:\", recall_score(y_train_np, y_pred_np, average='macro'))\n",
    "    print(\"F1 Score:\",\n",
    "          2 * (precision_score(y_train_np, y_pred_np, average='macro') * recall_score(y_train_np, y_pred_np, average='macro')) /\n",
    "          (precision_score(y_train_np, y_pred_np, average='macro') + recall_score(y_train_np, y_pred_np, average='macro')))\n"
   ],
   "id": "56cde7333d87c2e0",
   "outputs": [
    {
     "name": "stdout",
     "output_type": "stream",
     "text": [
      "Accuracy: 0.7672811059907834\n",
      "Precision: 0.8803818535961393\n",
      "Recall: 0.8686628480637563\n",
      "F1 Score: 0.8744830908011624\n"
     ]
    }
   ],
   "execution_count": 183
  },
  {
   "metadata": {
    "ExecuteTime": {
     "end_time": "2025-07-07T10:21:57.709149500Z",
     "start_time": "2025-07-07T09:52:46.819637Z"
    }
   },
   "cell_type": "code",
   "source": [
    "model.eval()\n",
    "with torch.no_grad():\n",
    "    y_test_pred = model(X_test)\n",
    "    y_test_pred = (y_test_pred > 0.5).float()  # Convert probabilities to binary predictions\n",
    "    y_test_pred_np = y_test_pred.cpu().numpy()\n",
    "    y_test_np = y_test.cpu().numpy()\n",
    "    print(\"Test Accuracy:\", accuracy_score(y_test_np, y_test_pred_np))\n",
    "    print(\"Test Precision:\", precision_score(y_test_np, y_test_pred_np, average='macro'))\n",
    "    print(\"Test Recall:\", recall_score(y_test_np, y_test_pred_np, average='macro'))\n",
    "    print(\"Test F1 Score:\", 2 * (\n",
    "        precision_score(y_test_np, y_test_pred_np, average='macro') * recall_score(y_test_np,\n",
    "                                                                  y_test_pred_np, average='macro')) / (\n",
    "              precision_score(y_test_np, y_test_pred_np, average='macro') + recall_score(y_test_np,\n",
    "                                                                        y_test_pred_np, average='macro')))"
   ],
   "id": "c6258892d99f3f5e",
   "outputs": [
    {
     "name": "stdout",
     "output_type": "stream",
     "text": [
      "Test Accuracy: 0.7155963302752294\n",
      "Test Precision: 0.881633460878744\n",
      "Test Recall: 0.8383034857691077\n",
      "Test F1 Score: 0.8594226722855037\n"
     ]
    }
   ],
   "execution_count": 184
  }
 ],
 "metadata": {
  "kernelspec": {
   "display_name": "Python 3",
   "language": "python",
   "name": "python3"
  },
  "language_info": {
   "codemirror_mode": {
    "name": "ipython",
    "version": 2
   },
   "file_extension": ".py",
   "mimetype": "text/x-python",
   "name": "python",
   "nbconvert_exporter": "python",
   "pygments_lexer": "ipython2",
   "version": "2.7.6"
  }
 },
 "nbformat": 4,
 "nbformat_minor": 5
}
