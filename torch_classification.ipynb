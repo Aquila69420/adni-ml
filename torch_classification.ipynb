{
 "cells": [
  {
   "metadata": {
    "ExecuteTime": {
     "end_time": "2025-07-08T15:34:22.915692Z",
     "start_time": "2025-07-08T15:34:18.806326Z"
    }
   },
   "cell_type": "code",
   "source": [
    "import os\n",
    "import torch\n",
    "import torchmetrics\n",
    "import pandas as pd\n",
    "import matplotlib.pyplot as plt\n",
    "from sklearn.metrics import accuracy_score, precision_score, recall_score, roc_auc_score\n",
    "from sklearn.model_selection import train_test_split\n",
    "from sklearn.preprocessing import StandardScaler\n",
    "\n",
    "data_dir = 'data'\n",
    "device = 'cuda' if torch.cuda.is_available() else 'cpu'"
   ],
   "id": "6684623b5842e34",
   "outputs": [],
   "execution_count": 1
  },
  {
   "metadata": {
    "ExecuteTime": {
     "end_time": "2025-07-08T15:34:23.180846Z",
     "start_time": "2025-07-08T15:34:23.145799Z"
    }
   },
   "cell_type": "code",
   "source": [
    "df = pd.read_csv(os.path.join(data_dir, 'final_data.csv'))\n",
    "df['tau_ab_ratio'] = df['TAU_bl'] / df['ABETA_bl']\n",
    "df['ptau_ab_ratio'] = df['PTAU_bl'] / df['ABETA_bl']\n",
    "df['A+'] = df['ABETA_bl'].apply(lambda x: 1 if x < 880 else 0)\n",
    "df['T+'] = df['ptau_ab_ratio'].apply(lambda x: 1 if x > 0.028 else 0)\n",
    "df['N+'] = df['tau_ab_ratio'].apply(lambda x: 1 if x > 0.33 else 0)\n",
    "df = df.drop(columns=['PTEDUCAT','TAU_bl','PTAU_bl','ABETA_bl', 'MMSE_bl','EcogPtTotal_bl', 'LDELTOTAL_BL', 'mPACCdigit_bl', 'mPACCtrailsB_bl', 'RAVLT_immediate_bl', 'RAVLT_learning_bl', 'RAVLT_forgetting_bl', 'tau_ab_ratio', 'ptau_ab_ratio'])"
   ],
   "id": "eb14e749ae63822a",
   "outputs": [],
   "execution_count": 2
  },
  {
   "metadata": {
    "ExecuteTime": {
     "end_time": "2025-07-08T15:34:23.205192Z",
     "start_time": "2025-07-08T15:34:23.198363Z"
    }
   },
   "cell_type": "code",
   "source": [
    "class SVM(torch.nn.Module):\n",
    "    def __init__(self, features, targets):\n",
    "        super(SVM, self).__init__()\n",
    "        self.features = features\n",
    "        self.targets = targets\n",
    "        self.w = torch.nn.Parameter(torch.randn(features.shape[1], 1), requires_grad=True)\n",
    "        self.b = torch.nn.Parameter(torch.randn(1), requires_grad=True)\n",
    "        self.classifier = torch.nn.Sigmoid()\n",
    "\n",
    "    def forward(self, x):\n",
    "        plane_output = x.matmul(self.w) + self.b\n",
    "        return self.classifier(plane_output)"
   ],
   "id": "e4a6fa68e7fe4b95",
   "outputs": [],
   "execution_count": 3
  },
  {
   "metadata": {},
   "cell_type": "markdown",
   "source": "# STL",
   "id": "9883ca238a568377"
  },
  {
   "metadata": {},
   "cell_type": "markdown",
   "source": "## Predict A+",
   "id": "6a9e28d0c698d3b4"
  },
  {
   "metadata": {
    "ExecuteTime": {
     "end_time": "2025-07-08T15:51:05.656160Z",
     "start_time": "2025-07-08T15:51:05.635707Z"
    }
   },
   "cell_type": "code",
   "source": [
    "X = df.drop(columns=['A+', 'T+', 'N+'])\n",
    "y = df['A+']\n",
    "\n",
    "X_train, X_test, y_train, y_test = train_test_split(X, y, train_size=0.8, random_state=7)\n",
    "\n",
    "scaler = StandardScaler()\n",
    "X_train = scaler.fit_transform(X_train)\n",
    "X_test = scaler.transform(X_test)\n",
    "\n",
    "# Convert to PyTorch tensors\n",
    "X_train = torch.tensor(X_train, dtype=torch.float32).to(device)\n",
    "X_test = torch.tensor(X_test, dtype=torch.float32).to(device)\n",
    "y_train = torch.tensor(y_train.values, dtype=torch.float32).to(device).unsqueeze(1)\n",
    "y_test = torch.tensor(y_test.values, dtype=torch.float32).to(device).unsqueeze(1)"
   ],
   "id": "590263bdba9f49a",
   "outputs": [],
   "execution_count": 31
  },
  {
   "metadata": {
    "ExecuteTime": {
     "end_time": "2025-07-08T15:51:07.068194Z",
     "start_time": "2025-07-08T15:51:06.499583Z"
    }
   },
   "cell_type": "code",
   "source": [
    "model = SVM(X_train, y_train).to(device)\n",
    "\n",
    "bhl = torchmetrics.classification.BinaryHingeLoss(squared=True).to(device)\n",
    "\n",
    "optimizer = torch.optim.AdamW(model.parameters(), lr=0.01, weight_decay=1e-4)\n",
    "\n",
    "train_losses = []\n",
    "\n",
    "epochs = 100\n",
    "for epoch in range(1, epochs + 1):\n",
    "    model.train()\n",
    "    optimizer.zero_grad()\n",
    "    output = model(X_train)\n",
    "    loss = bhl(output, y_train)\n",
    "    loss.backward()\n",
    "    train_losses.append(loss.item())\n",
    "    optimizer.step()\n",
    "    print(f'Epoch [{epoch}/{epochs}], Loss: {loss.item():.4f}')"
   ],
   "id": "81c649aca524adcd",
   "outputs": [
    {
     "name": "stdout",
     "output_type": "stream",
     "text": [
      "Epoch [1/100], Loss: 1.3395\n",
      "Epoch [2/100], Loss: 1.2885\n",
      "Epoch [3/100], Loss: 1.2432\n",
      "Epoch [4/100], Loss: 1.2045\n",
      "Epoch [5/100], Loss: 1.1677\n",
      "Epoch [6/100], Loss: 1.1306\n",
      "Epoch [7/100], Loss: 1.0941\n",
      "Epoch [8/100], Loss: 1.0598\n",
      "Epoch [9/100], Loss: 1.0314\n",
      "Epoch [10/100], Loss: 1.0091\n",
      "Epoch [11/100], Loss: 0.9899\n",
      "Epoch [12/100], Loss: 0.9717\n",
      "Epoch [13/100], Loss: 0.9539\n",
      "Epoch [14/100], Loss: 0.9354\n",
      "Epoch [15/100], Loss: 0.9151\n",
      "Epoch [16/100], Loss: 0.8971\n",
      "Epoch [17/100], Loss: 0.8838\n",
      "Epoch [18/100], Loss: 0.8742\n",
      "Epoch [19/100], Loss: 0.8671\n",
      "Epoch [20/100], Loss: 0.8615\n",
      "Epoch [21/100], Loss: 0.8567\n",
      "Epoch [22/100], Loss: 0.8522\n",
      "Epoch [23/100], Loss: 0.8478\n",
      "Epoch [24/100], Loss: 0.8436\n",
      "Epoch [25/100], Loss: 0.8395\n",
      "Epoch [26/100], Loss: 0.8357\n",
      "Epoch [27/100], Loss: 0.8323\n",
      "Epoch [28/100], Loss: 0.8294\n",
      "Epoch [29/100], Loss: 0.8270\n",
      "Epoch [30/100], Loss: 0.8250\n",
      "Epoch [31/100], Loss: 0.8234\n",
      "Epoch [32/100], Loss: 0.8221\n",
      "Epoch [33/100], Loss: 0.8208\n",
      "Epoch [34/100], Loss: 0.8196\n",
      "Epoch [35/100], Loss: 0.8184\n",
      "Epoch [36/100], Loss: 0.8171\n",
      "Epoch [37/100], Loss: 0.8157\n",
      "Epoch [38/100], Loss: 0.8142\n",
      "Epoch [39/100], Loss: 0.8126\n",
      "Epoch [40/100], Loss: 0.8109\n",
      "Epoch [41/100], Loss: 0.8092\n",
      "Epoch [42/100], Loss: 0.8073\n",
      "Epoch [43/100], Loss: 0.8054\n",
      "Epoch [44/100], Loss: 0.8035\n",
      "Epoch [45/100], Loss: 0.8015\n",
      "Epoch [46/100], Loss: 0.7994\n",
      "Epoch [47/100], Loss: 0.7974\n",
      "Epoch [48/100], Loss: 0.7953\n",
      "Epoch [49/100], Loss: 0.7935\n",
      "Epoch [50/100], Loss: 0.7918\n",
      "Epoch [51/100], Loss: 0.7903\n",
      "Epoch [52/100], Loss: 0.7890\n",
      "Epoch [53/100], Loss: 0.7879\n",
      "Epoch [54/100], Loss: 0.7870\n",
      "Epoch [55/100], Loss: 0.7861\n",
      "Epoch [56/100], Loss: 0.7853\n",
      "Epoch [57/100], Loss: 0.7846\n",
      "Epoch [58/100], Loss: 0.7838\n",
      "Epoch [59/100], Loss: 0.7831\n",
      "Epoch [60/100], Loss: 0.7823\n",
      "Epoch [61/100], Loss: 0.7815\n",
      "Epoch [62/100], Loss: 0.7807\n",
      "Epoch [63/100], Loss: 0.7798\n",
      "Epoch [64/100], Loss: 0.7788\n",
      "Epoch [65/100], Loss: 0.7779\n",
      "Epoch [66/100], Loss: 0.7769\n",
      "Epoch [67/100], Loss: 0.7759\n",
      "Epoch [68/100], Loss: 0.7749\n",
      "Epoch [69/100], Loss: 0.7739\n",
      "Epoch [70/100], Loss: 0.7729\n",
      "Epoch [71/100], Loss: 0.7720\n",
      "Epoch [72/100], Loss: 0.7711\n",
      "Epoch [73/100], Loss: 0.7702\n",
      "Epoch [74/100], Loss: 0.7694\n",
      "Epoch [75/100], Loss: 0.7686\n",
      "Epoch [76/100], Loss: 0.7678\n",
      "Epoch [77/100], Loss: 0.7670\n",
      "Epoch [78/100], Loss: 0.7663\n",
      "Epoch [79/100], Loss: 0.7656\n",
      "Epoch [80/100], Loss: 0.7649\n",
      "Epoch [81/100], Loss: 0.7642\n",
      "Epoch [82/100], Loss: 0.7635\n",
      "Epoch [83/100], Loss: 0.7628\n",
      "Epoch [84/100], Loss: 0.7622\n",
      "Epoch [85/100], Loss: 0.7615\n",
      "Epoch [86/100], Loss: 0.7608\n",
      "Epoch [87/100], Loss: 0.7602\n",
      "Epoch [88/100], Loss: 0.7596\n",
      "Epoch [89/100], Loss: 0.7590\n",
      "Epoch [90/100], Loss: 0.7585\n",
      "Epoch [91/100], Loss: 0.7580\n",
      "Epoch [92/100], Loss: 0.7576\n",
      "Epoch [93/100], Loss: 0.7571\n",
      "Epoch [94/100], Loss: 0.7567\n",
      "Epoch [95/100], Loss: 0.7564\n",
      "Epoch [96/100], Loss: 0.7560\n",
      "Epoch [97/100], Loss: 0.7557\n",
      "Epoch [98/100], Loss: 0.7554\n",
      "Epoch [99/100], Loss: 0.7552\n",
      "Epoch [100/100], Loss: 0.7549\n"
     ]
    }
   ],
   "execution_count": 32
  },
  {
   "metadata": {
    "ExecuteTime": {
     "end_time": "2025-07-08T15:51:08.012902Z",
     "start_time": "2025-07-08T15:51:07.925481Z"
    }
   },
   "cell_type": "code",
   "source": [
    "plt.plot(train_losses, label='Training Loss')\n",
    "plt.xlabel('Epochs')\n",
    "plt.ylabel('Loss')\n",
    "plt.title('Learning Curve')\n",
    "plt.legend()\n",
    "plt.show()"
   ],
   "id": "41b133ab4c74ba6a",
   "outputs": [
    {
     "data": {
      "text/plain": [
       "<Figure size 640x480 with 1 Axes>"
      ],
      "image/png": "[encoded data removed]"
     },
     "metadata": {},
     "output_type": "display_data"
    }
   ],
   "execution_count": 33
  },
  {
   "metadata": {
    "ExecuteTime": {
     "end_time": "2025-07-08T15:51:09.006489Z",
     "start_time": "2025-07-08T15:51:08.975378Z"
    }
   },
   "cell_type": "code",
   "source": [
    "model.eval()\n",
    "with torch.no_grad():\n",
    "    y_pred = model(X_train)\n",
    "    y_pred = (y_pred > 0.5).float()  # Convert probabilities to binary predictions\n",
    "    y_pred_np = y_pred.cpu().numpy()\n",
    "    y_train_np = y_train.cpu().numpy()\n",
    "    print(\"Accuracy:\", accuracy_score(y_train_np, y_pred_np))\n",
    "    print(\"Precision:\", precision_score(y_train_np, y_pred_np))\n",
    "    print(\"Recall:\", recall_score(y_train_np, y_pred_np))\n",
    "    print(\"F1 Score:\", 2 * (precision_score(y_train_np, y_pred_np) * recall_score(y_train_np, y_pred_np)) / (precision_score(y_train_np, y_pred_np) + recall_score(y_train_np, y_pred_np)))\n",
    "    print('ROC AUC:', roc_auc_score(y_train_np, y_pred_np))"
   ],
   "id": "d93f344d2a9032be",
   "outputs": [
    {
     "name": "stdout",
     "output_type": "stream",
     "text": [
      "Accuracy: 0.8594470046082949\n",
      "Precision: 0.8767772511848341\n",
      "Recall: 0.8409090909090909\n",
      "F1 Score: 0.8584686774941995\n",
      "ROC AUC: 0.8597068819031436\n"
     ]
    }
   ],
   "execution_count": 34
  },
  {
   "metadata": {
    "ExecuteTime": {
     "end_time": "2025-07-08T15:55:26.654083Z",
     "start_time": "2025-07-08T15:55:26.619031Z"
    }
   },
   "cell_type": "code",
   "source": [
    "model.eval()\n",
    "with torch.no_grad():\n",
    "    y_test_pred = model(X_test)\n",
    "    y_test_pred = (y_test_pred > 0.5).float()  # Convert probabilities to binary predictions\n",
    "    y_test_pred_np = y_test_pred.cpu().numpy()\n",
    "    y_test_np = y_test.cpu().numpy()\n",
    "    print(\"Test Accuracy:\", accuracy_score(y_test_np, y_test_pred_np))\n",
    "    print(\"Test Precision:\", precision_score(y_test_np, y_test_pred_np))\n",
    "    print(\"Test Recall:\", recall_score(y_test_np, y_test_pred_np))\n",
    "    print(\"Test F1 Score:\", 2 * (precision_score(y_test_np, y_test_pred_np) * recall_score(y_test_np, y_test_pred_np)) / (precision_score(y_test_np, y_test_pred_np) + recall_score(y_test_np, y_test_pred_np)))\n",
    "    print('Test ROC AUC:', roc_auc_score(y_test_np, y_test_pred_np))"
   ],
   "id": "b7427c0f97790c04",
   "outputs": [
    {
     "name": "stdout",
     "output_type": "stream",
     "text": [
      "Test Accuracy: 0.8073394495412844\n",
      "Test Precision: 0.8\n",
      "Test Recall: 0.75\n",
      "Test F1 Score: 0.7741935483870969\n",
      "Test ROC AUC: 0.8012295081967213\n"
     ]
    }
   ],
   "execution_count": 35
  },
  {
   "metadata": {},
   "cell_type": "markdown",
   "source": "# Predict T+",
   "id": "37657027891efea0"
  },
  {
   "metadata": {
    "ExecuteTime": {
     "end_time": "2025-07-08T15:59:34.405421Z",
     "start_time": "2025-07-08T15:59:34.389084Z"
    }
   },
   "cell_type": "code",
   "source": [
    "X = df.drop(columns=['A+', 'T+', 'N+'])\n",
    "y = df['T+']\n",
    "\n",
    "X_train, X_test, y_train, y_test = train_test_split(X, y, train_size=0.8, random_state=7)\n",
    "\n",
    "scaler = StandardScaler()\n",
    "X_train = scaler.fit_transform(X_train)\n",
    "X_test = scaler.transform(X_test)\n",
    "\n",
    "# Convert to PyTorch tensors\n",
    "X_train = torch.tensor(X_train, dtype=torch.float32).to(device)\n",
    "X_test = torch.tensor(X_test, dtype=torch.float32).to(device)\n",
    "y_train = torch.tensor(y_train.values, dtype=torch.float32).to(device).unsqueeze(1)\n",
    "y_test = torch.tensor(y_test.values, dtype=torch.float32).to(device).unsqueeze(1)"
   ],
   "id": "8f980308a185df77",
   "outputs": [],
   "execution_count": 46
  },
  {
   "metadata": {
    "ExecuteTime": {
     "end_time": "2025-07-08T15:59:35.863951Z",
     "start_time": "2025-07-08T15:59:35.303984Z"
    }
   },
   "cell_type": "code",
   "source": [
    "model = SVM(X_train, y_train, ).to(device)\n",
    "\n",
    "bhl = torchmetrics.classification.BinaryHingeLoss(squared=True).to(device)\n",
    "\n",
    "optimizer = torch.optim.AdamW(model.parameters(), lr=0.01, weight_decay=1e-4)\n",
    "\n",
    "train_losses = []\n",
    "\n",
    "epochs = 100\n",
    "for epoch in range(1, epochs + 1):\n",
    "    model.train()\n",
    "    optimizer.zero_grad()\n",
    "    output = model(X_train)\n",
    "    loss = bhl(output, y_train)\n",
    "    loss.backward()\n",
    "    train_losses.append(loss.item())\n",
    "    optimizer.step()\n",
    "    print(f'Epoch [{epoch}/{epochs}], Loss: {loss.item():.4f}')"
   ],
   "id": "1c1a52d37229ea7c",
   "outputs": [
    {
     "name": "stdout",
     "output_type": "stream",
     "text": [
      "Epoch [1/100], Loss: 2.1638\n",
      "Epoch [2/100], Loss: 2.1486\n",
      "Epoch [3/100], Loss: 2.1316\n",
      "Epoch [4/100], Loss: 2.1138\n",
      "Epoch [5/100], Loss: 2.0952\n",
      "Epoch [6/100], Loss: 2.0764\n",
      "Epoch [7/100], Loss: 2.0569\n",
      "Epoch [8/100], Loss: 2.0353\n",
      "Epoch [9/100], Loss: 2.0098\n",
      "Epoch [10/100], Loss: 1.9851\n",
      "Epoch [11/100], Loss: 1.9640\n",
      "Epoch [12/100], Loss: 1.9440\n",
      "Epoch [13/100], Loss: 1.9230\n",
      "Epoch [14/100], Loss: 1.9010\n",
      "Epoch [15/100], Loss: 1.8788\n",
      "Epoch [16/100], Loss: 1.8553\n",
      "Epoch [17/100], Loss: 1.8289\n",
      "Epoch [18/100], Loss: 1.7999\n",
      "Epoch [19/100], Loss: 1.7680\n",
      "Epoch [20/100], Loss: 1.7316\n",
      "Epoch [21/100], Loss: 1.6932\n",
      "Epoch [22/100], Loss: 1.6543\n",
      "Epoch [23/100], Loss: 1.6148\n",
      "Epoch [24/100], Loss: 1.5760\n",
      "Epoch [25/100], Loss: 1.5345\n",
      "Epoch [26/100], Loss: 1.4875\n",
      "Epoch [27/100], Loss: 1.4363\n",
      "Epoch [28/100], Loss: 1.3863\n",
      "Epoch [29/100], Loss: 1.3342\n",
      "Epoch [30/100], Loss: 1.2731\n",
      "Epoch [31/100], Loss: 1.2096\n",
      "Epoch [32/100], Loss: 1.1516\n",
      "Epoch [33/100], Loss: 1.0952\n",
      "Epoch [34/100], Loss: 1.0365\n",
      "Epoch [35/100], Loss: 0.9835\n",
      "Epoch [36/100], Loss: 0.9343\n",
      "Epoch [37/100], Loss: 0.8940\n",
      "Epoch [38/100], Loss: 0.8583\n",
      "Epoch [39/100], Loss: 0.8306\n",
      "Epoch [40/100], Loss: 0.8162\n",
      "Epoch [41/100], Loss: 0.8082\n",
      "Epoch [42/100], Loss: 0.8031\n",
      "Epoch [43/100], Loss: 0.7984\n",
      "Epoch [44/100], Loss: 0.7932\n",
      "Epoch [45/100], Loss: 0.7867\n",
      "Epoch [46/100], Loss: 0.7826\n",
      "Epoch [47/100], Loss: 0.7800\n",
      "Epoch [48/100], Loss: 0.7773\n",
      "Epoch [49/100], Loss: 0.7741\n",
      "Epoch [50/100], Loss: 0.7707\n",
      "Epoch [51/100], Loss: 0.7675\n",
      "Epoch [52/100], Loss: 0.7647\n",
      "Epoch [53/100], Loss: 0.7623\n",
      "Epoch [54/100], Loss: 0.7603\n",
      "Epoch [55/100], Loss: 0.7586\n",
      "Epoch [56/100], Loss: 0.7571\n",
      "Epoch [57/100], Loss: 0.7557\n",
      "Epoch [58/100], Loss: 0.7544\n",
      "Epoch [59/100], Loss: 0.7531\n",
      "Epoch [60/100], Loss: 0.7518\n",
      "Epoch [61/100], Loss: 0.7505\n",
      "Epoch [62/100], Loss: 0.7491\n",
      "Epoch [63/100], Loss: 0.7477\n",
      "Epoch [64/100], Loss: 0.7462\n",
      "Epoch [65/100], Loss: 0.7447\n",
      "Epoch [66/100], Loss: 0.7431\n",
      "Epoch [67/100], Loss: 0.7415\n",
      "Epoch [68/100], Loss: 0.7399\n",
      "Epoch [69/100], Loss: 0.7382\n",
      "Epoch [70/100], Loss: 0.7366\n",
      "Epoch [71/100], Loss: 0.7349\n",
      "Epoch [72/100], Loss: 0.7332\n",
      "Epoch [73/100], Loss: 0.7315\n",
      "Epoch [74/100], Loss: 0.7299\n",
      "Epoch [75/100], Loss: 0.7282\n",
      "Epoch [76/100], Loss: 0.7266\n",
      "Epoch [77/100], Loss: 0.7251\n",
      "Epoch [78/100], Loss: 0.7236\n",
      "Epoch [79/100], Loss: 0.7223\n",
      "Epoch [80/100], Loss: 0.7210\n",
      "Epoch [81/100], Loss: 0.7199\n",
      "Epoch [82/100], Loss: 0.7188\n",
      "Epoch [83/100], Loss: 0.7178\n",
      "Epoch [84/100], Loss: 0.7169\n",
      "Epoch [85/100], Loss: 0.7161\n",
      "Epoch [86/100], Loss: 0.7154\n",
      "Epoch [87/100], Loss: 0.7147\n",
      "Epoch [88/100], Loss: 0.7141\n",
      "Epoch [89/100], Loss: 0.7136\n",
      "Epoch [90/100], Loss: 0.7131\n",
      "Epoch [91/100], Loss: 0.7126\n",
      "Epoch [92/100], Loss: 0.7122\n",
      "Epoch [93/100], Loss: 0.7118\n",
      "Epoch [94/100], Loss: 0.7114\n",
      "Epoch [95/100], Loss: 0.7110\n",
      "Epoch [96/100], Loss: 0.7107\n",
      "Epoch [97/100], Loss: 0.7104\n",
      "Epoch [98/100], Loss: 0.7100\n",
      "Epoch [99/100], Loss: 0.7097\n",
      "Epoch [100/100], Loss: 0.7093\n"
     ]
    }
   ],
   "execution_count": 47
  },
  {
   "metadata": {
    "ExecuteTime": {
     "end_time": "2025-07-08T15:59:36.182150Z",
     "start_time": "2025-07-08T15:59:36.034082Z"
    }
   },
   "cell_type": "code",
   "source": [
    "plt.plot(train_losses, label='Training Loss')\n",
    "plt.xlabel('Epochs')\n",
    "plt.ylabel('Loss')\n",
    "plt.title('Learning Curve')\n",
    "plt.legend()\n",
    "plt.show()"
   ],
   "id": "375179a0489eda48",
   "outputs": [
    {
     "data": {
      "text/plain": [
       "<Figure size 640x480 with 1 Axes>"
      ],
      "image/png": "[encoded data removed]"
     },
     "metadata": {},
     "output_type": "display_data"
    }
   ],
   "execution_count": 48
  },
  {
   "metadata": {
    "ExecuteTime": {
     "end_time": "2025-07-08T15:59:37.788097Z",
     "start_time": "2025-07-08T15:59:37.758519Z"
    }
   },
   "cell_type": "code",
   "source": [
    "model.eval()\n",
    "with torch.no_grad():\n",
    "    y_pred = model(X_train)\n",
    "    y_pred = (y_pred > 0.5).float()  # Convert probabilities to binary predictions\n",
    "    y_pred_np = y_pred.cpu().numpy()\n",
    "    y_train_np = y_train.cpu().numpy()\n",
    "    print(\"Accuracy:\", accuracy_score(y_train_np, y_pred_np))\n",
    "    print(\"Precision:\", precision_score(y_train_np, y_pred_np))\n",
    "    print(\"Recall:\", recall_score(y_train_np, y_pred_np))\n",
    "    print(\"F1 Score:\",\n",
    "          2 * (precision_score(y_train_np, y_pred_np) * recall_score(y_train_np, y_pred_np)) / (\n",
    "              precision_score(y_train_np, y_pred_np) + recall_score(y_train_np, y_pred_np)))\n",
    "    print('ROC AUC:', roc_auc_score(y_train_np, y_pred_np))"
   ],
   "id": "7549fc6212a6e95f",
   "outputs": [
    {
     "name": "stdout",
     "output_type": "stream",
     "text": [
      "Accuracy: 0.8778801843317973\n",
      "Precision: 0.905\n",
      "Recall: 0.8418604651162791\n",
      "F1 Score: 0.8722891566265061\n",
      "ROC AUC: 0.8775512371243495\n"
     ]
    }
   ],
   "execution_count": 49
  },
  {
   "metadata": {
    "ExecuteTime": {
     "end_time": "2025-07-08T15:59:39.551546Z",
     "start_time": "2025-07-08T15:59:39.525285Z"
    }
   },
   "cell_type": "code",
   "source": [
    "model.eval()\n",
    "with torch.no_grad():\n",
    "    y_test_pred = model(X_test)\n",
    "    y_test_pred = (y_test_pred > 0.5).float()  # Convert probabilities to binary predictions\n",
    "    y_test_pred_np = y_test_pred.cpu().numpy()\n",
    "    y_test_np = y_test.cpu().numpy()\n",
    "    print(\"Test Accuracy:\", accuracy_score(y_test_np, y_test_pred_np))\n",
    "    print(\"Test Precision:\", precision_score(y_test_np, y_test_pred_np))\n",
    "    print(\"Test Recall:\", recall_score(y_test_np, y_test_pred_np))\n",
    "    print(\"Test F1 Score:\", 2 * (\n",
    "        precision_score(y_test_np, y_test_pred_np) * recall_score(y_test_np,\n",
    "                                                                  y_test_pred_np)) / (\n",
    "              precision_score(y_test_np, y_test_pred_np) + recall_score(y_test_np,\n",
    "                                                                        y_test_pred_np)))\n",
    "    print('Test ROC AUC:', roc_auc_score(y_test_np, y_test_pred_np))"
   ],
   "id": "675226c1ae7ee64a",
   "outputs": [
    {
     "name": "stdout",
     "output_type": "stream",
     "text": [
      "Test Accuracy: 0.8899082568807339\n",
      "Test Precision: 0.8863636363636364\n",
      "Test Recall: 0.8478260869565217\n",
      "Test F1 Score: 0.8666666666666666\n",
      "Test ROC AUC: 0.8842305037957212\n"
     ]
    }
   ],
   "execution_count": 50
  },
  {
   "metadata": {},
   "cell_type": "markdown",
   "source": "# Predict N+",
   "id": "18168407990b40de"
  },
  {
   "metadata": {
    "ExecuteTime": {
     "end_time": "2025-07-08T16:02:34.351604Z",
     "start_time": "2025-07-08T16:02:34.329553Z"
    }
   },
   "cell_type": "code",
   "source": [
    "X = df.drop(columns=['A+', 'T+', 'N+'])\n",
    "y = df['N+']\n",
    "\n",
    "X_train, X_test, y_train, y_test = train_test_split(X, y, train_size=0.8, random_state=7)\n",
    "\n",
    "scaler = StandardScaler()\n",
    "X_train = scaler.fit_transform(X_train)\n",
    "X_test = scaler.transform(X_test)\n",
    "\n",
    "# Convert to PyTorch tensors\n",
    "X_train = torch.tensor(X_train, dtype=torch.float32).to(device)\n",
    "X_test = torch.tensor(X_test, dtype=torch.float32).to(device)\n",
    "y_train = torch.tensor(y_train.values, dtype=torch.float32).to(device).unsqueeze(1)\n",
    "y_test = torch.tensor(y_test.values, dtype=torch.float32).to(device).unsqueeze(1)"
   ],
   "id": "e510c852c99bf5d4",
   "outputs": [],
   "execution_count": 61
  },
  {
   "metadata": {
    "ExecuteTime": {
     "end_time": "2025-07-08T16:02:36.843212Z",
     "start_time": "2025-07-08T16:02:36.053427Z"
    }
   },
   "cell_type": "code",
   "source": [
    "model = SVM(X_train, y_train).to(device)\n",
    "\n",
    "bhl = torchmetrics.classification.BinaryHingeLoss(squared=True).to(device)\n",
    "\n",
    "optimizer = torch.optim.AdamW(model.parameters(), lr=0.01, weight_decay=1e-4)\n",
    "\n",
    "train_losses = []\n",
    "\n",
    "epochs = 100\n",
    "for epoch in range(1, epochs + 1):\n",
    "    model.train()\n",
    "    optimizer.zero_grad()\n",
    "    output = model(X_train)\n",
    "    loss = bhl(output, y_train)\n",
    "    loss.backward()\n",
    "    train_losses.append(loss.item())\n",
    "    optimizer.step()\n",
    "    print(f'Epoch [{epoch}/{epochs}], Loss: {loss.item():.4f}')"
   ],
   "id": "ec95538a2e613750",
   "outputs": [
    {
     "name": "stdout",
     "output_type": "stream",
     "text": [
      "Epoch [1/100], Loss: 1.7755\n",
      "Epoch [2/100], Loss: 1.7477\n",
      "Epoch [3/100], Loss: 1.7186\n",
      "Epoch [4/100], Loss: 1.6858\n",
      "Epoch [5/100], Loss: 1.6517\n",
      "Epoch [6/100], Loss: 1.6202\n",
      "Epoch [7/100], Loss: 1.5908\n",
      "Epoch [8/100], Loss: 1.5602\n",
      "Epoch [9/100], Loss: 1.5288\n",
      "Epoch [10/100], Loss: 1.4965\n",
      "Epoch [11/100], Loss: 1.4622\n",
      "Epoch [12/100], Loss: 1.4289\n",
      "Epoch [13/100], Loss: 1.3931\n",
      "Epoch [14/100], Loss: 1.3505\n",
      "Epoch [15/100], Loss: 1.3027\n",
      "Epoch [16/100], Loss: 1.2543\n",
      "Epoch [17/100], Loss: 1.2070\n",
      "Epoch [18/100], Loss: 1.1631\n",
      "Epoch [19/100], Loss: 1.1182\n",
      "Epoch [20/100], Loss: 1.0650\n",
      "Epoch [21/100], Loss: 1.0119\n",
      "Epoch [22/100], Loss: 0.9641\n",
      "Epoch [23/100], Loss: 0.9347\n",
      "Epoch [24/100], Loss: 0.9158\n",
      "Epoch [25/100], Loss: 0.8972\n",
      "Epoch [26/100], Loss: 0.8811\n",
      "Epoch [27/100], Loss: 0.8712\n",
      "Epoch [28/100], Loss: 0.8634\n",
      "Epoch [29/100], Loss: 0.8557\n",
      "Epoch [30/100], Loss: 0.8479\n",
      "Epoch [31/100], Loss: 0.8405\n",
      "Epoch [32/100], Loss: 0.8339\n",
      "Epoch [33/100], Loss: 0.8285\n",
      "Epoch [34/100], Loss: 0.8239\n",
      "Epoch [35/100], Loss: 0.8195\n",
      "Epoch [36/100], Loss: 0.8152\n",
      "Epoch [37/100], Loss: 0.8108\n",
      "Epoch [38/100], Loss: 0.8067\n",
      "Epoch [39/100], Loss: 0.8030\n",
      "Epoch [40/100], Loss: 0.7997\n",
      "Epoch [41/100], Loss: 0.7967\n",
      "Epoch [42/100], Loss: 0.7941\n",
      "Epoch [43/100], Loss: 0.7918\n",
      "Epoch [44/100], Loss: 0.7898\n",
      "Epoch [45/100], Loss: 0.7881\n",
      "Epoch [46/100], Loss: 0.7866\n",
      "Epoch [47/100], Loss: 0.7853\n",
      "Epoch [48/100], Loss: 0.7841\n",
      "Epoch [49/100], Loss: 0.7829\n",
      "Epoch [50/100], Loss: 0.7816\n",
      "Epoch [51/100], Loss: 0.7804\n",
      "Epoch [52/100], Loss: 0.7791\n",
      "Epoch [53/100], Loss: 0.7778\n",
      "Epoch [54/100], Loss: 0.7765\n",
      "Epoch [55/100], Loss: 0.7751\n",
      "Epoch [56/100], Loss: 0.7738\n",
      "Epoch [57/100], Loss: 0.7725\n",
      "Epoch [58/100], Loss: 0.7712\n",
      "Epoch [59/100], Loss: 0.7699\n",
      "Epoch [60/100], Loss: 0.7686\n",
      "Epoch [61/100], Loss: 0.7673\n",
      "Epoch [62/100], Loss: 0.7660\n",
      "Epoch [63/100], Loss: 0.7648\n",
      "Epoch [64/100], Loss: 0.7635\n",
      "Epoch [65/100], Loss: 0.7624\n",
      "Epoch [66/100], Loss: 0.7612\n",
      "Epoch [67/100], Loss: 0.7601\n",
      "Epoch [68/100], Loss: 0.7590\n",
      "Epoch [69/100], Loss: 0.7580\n",
      "Epoch [70/100], Loss: 0.7570\n",
      "Epoch [71/100], Loss: 0.7560\n",
      "Epoch [72/100], Loss: 0.7549\n",
      "Epoch [73/100], Loss: 0.7539\n",
      "Epoch [74/100], Loss: 0.7530\n",
      "Epoch [75/100], Loss: 0.7520\n",
      "Epoch [76/100], Loss: 0.7510\n",
      "Epoch [77/100], Loss: 0.7501\n",
      "Epoch [78/100], Loss: 0.7491\n",
      "Epoch [79/100], Loss: 0.7481\n",
      "Epoch [80/100], Loss: 0.7471\n",
      "Epoch [81/100], Loss: 0.7459\n",
      "Epoch [82/100], Loss: 0.7447\n",
      "Epoch [83/100], Loss: 0.7433\n",
      "Epoch [84/100], Loss: 0.7419\n",
      "Epoch [85/100], Loss: 0.7407\n",
      "Epoch [86/100], Loss: 0.7398\n",
      "Epoch [87/100], Loss: 0.7391\n",
      "Epoch [88/100], Loss: 0.7385\n",
      "Epoch [89/100], Loss: 0.7381\n",
      "Epoch [90/100], Loss: 0.7376\n",
      "Epoch [91/100], Loss: 0.7371\n",
      "Epoch [92/100], Loss: 0.7366\n",
      "Epoch [93/100], Loss: 0.7359\n",
      "Epoch [94/100], Loss: 0.7352\n",
      "Epoch [95/100], Loss: 0.7345\n",
      "Epoch [96/100], Loss: 0.7336\n",
      "Epoch [97/100], Loss: 0.7328\n",
      "Epoch [98/100], Loss: 0.7320\n",
      "Epoch [99/100], Loss: 0.7313\n",
      "Epoch [100/100], Loss: 0.7306\n"
     ]
    }
   ],
   "execution_count": 62
  },
  {
   "metadata": {
    "ExecuteTime": {
     "end_time": "2025-07-08T16:02:43.313851Z",
     "start_time": "2025-07-08T16:02:43.206704Z"
    }
   },
   "cell_type": "code",
   "source": [
    "plt.plot(train_losses, label='Training Loss')\n",
    "plt.xlabel('Epochs')\n",
    "plt.ylabel('Loss')\n",
    "plt.title('Learning Curve')\n",
    "plt.legend()\n",
    "plt.show()"
   ],
   "id": "87d721f68af7dea",
   "outputs": [
    {
     "data": {
      "text/plain": [
       "<Figure size 640x480 with 1 Axes>"
      ],
      "image/png": "[encoded data removed]"
     },
     "metadata": {},
     "output_type": "display_data"
    }
   ],
   "execution_count": 64
  },
  {
   "metadata": {
    "ExecuteTime": {
     "end_time": "2025-07-08T16:02:44.939319Z",
     "start_time": "2025-07-08T16:02:44.919743Z"
    }
   },
   "cell_type": "code",
   "source": [
    "model.eval()\n",
    "with torch.no_grad():\n",
    "    y_pred = model(X_train)\n",
    "    y_pred = (y_pred > 0.5).float()  # Convert probabilities to binary predictions\n",
    "    y_pred_np = y_pred.cpu().numpy()\n",
    "    y_train_np = y_train.cpu().numpy()\n",
    "    print(\"Accuracy:\", accuracy_score(y_train_np, y_pred_np))\n",
    "    print(\"Precision:\", precision_score(y_train_np, y_pred_np))\n",
    "    print(\"Recall:\", recall_score(y_train_np, y_pred_np))\n",
    "    print(\"F1 Score:\",\n",
    "          2 * (precision_score(y_train_np, y_pred_np) * recall_score(y_train_np, y_pred_np)) / (\n",
    "              precision_score(y_train_np, y_pred_np) + recall_score(y_train_np, y_pred_np)))\n",
    "    print('ROC AUC:', roc_auc_score(y_train_np, y_pred_np))"
   ],
   "id": "c90e78c8759fc78b",
   "outputs": [
    {
     "name": "stdout",
     "output_type": "stream",
     "text": [
      "Accuracy: 0.8963133640552995\n",
      "Precision: 0.8994974874371859\n",
      "Recall: 0.8774509803921569\n",
      "F1 Score: 0.8883374689826303\n",
      "ROC AUC: 0.8952472293265132\n"
     ]
    }
   ],
   "execution_count": 65
  },
  {
   "metadata": {
    "ExecuteTime": {
     "end_time": "2025-07-08T16:02:46.293473Z",
     "start_time": "2025-07-08T16:02:46.273408Z"
    }
   },
   "cell_type": "code",
   "source": [
    "model.eval()\n",
    "with torch.no_grad():\n",
    "    y_test_pred = model(X_test)\n",
    "    y_test_pred = (y_test_pred > 0.5).float()  # Convert probabilities to binary predictions\n",
    "    y_test_pred_np = y_test_pred.cpu().numpy()\n",
    "    y_test_np = y_test.cpu().numpy()\n",
    "    print(\"Test Accuracy:\", accuracy_score(y_test_np, y_test_pred_np))\n",
    "    print(\"Test Precision:\", precision_score(y_test_np, y_test_pred_np))\n",
    "    print(\"Test Recall:\", recall_score(y_test_np, y_test_pred_np))\n",
    "    print(\"Test F1 Score:\", 2 * (\n",
    "        precision_score(y_test_np, y_test_pred_np) * recall_score(y_test_np,\n",
    "                                                                  y_test_pred_np)) / (\n",
    "              precision_score(y_test_np, y_test_pred_np) + recall_score(y_test_np,\n",
    "                                                                        y_test_pred_np)))\n",
    "    print('Test ROC AUC:', roc_auc_score(y_test_np, y_test_pred_np))"
   ],
   "id": "f1a11eecca352d3e",
   "outputs": [
    {
     "name": "stdout",
     "output_type": "stream",
     "text": [
      "Test Accuracy: 0.944954128440367\n",
      "Test Precision: 0.9347826086956522\n",
      "Test Recall: 0.9347826086956522\n",
      "Test F1 Score: 0.9347826086956522\n",
      "Test ROC AUC: 0.9435817805383023\n"
     ]
    }
   ],
   "execution_count": 66
  },
  {
   "metadata": {},
   "cell_type": "markdown",
   "source": "# MTL",
   "id": "65dab40cd52c0c76"
  },
  {
   "metadata": {
    "ExecuteTime": {
     "end_time": "2025-07-08T16:03:47.591269Z",
     "start_time": "2025-07-08T16:03:47.583360Z"
    }
   },
   "cell_type": "code",
   "source": [
    "class MultitaskSVM(torch.nn.Module):\n",
    "    def __init__(self, features, targets):\n",
    "        super(MultitaskSVM, self).__init__()\n",
    "        self.features = features\n",
    "        self.targets = targets\n",
    "        self.w = torch.nn.Parameter(torch.randn(features.shape[1], 3), requires_grad=True)\n",
    "        self.b = torch.nn.Parameter(torch.randn(1), requires_grad=True)\n",
    "        self.classifier = torch.nn.Sigmoid()\n",
    "\n",
    "    def forward(self, x):\n",
    "        plane_output = x.matmul(self.w) + self.b\n",
    "        return self.classifier(plane_output)"
   ],
   "id": "b7f88172221755c1",
   "outputs": [],
   "execution_count": 67
  },
  {
   "metadata": {
    "ExecuteTime": {
     "end_time": "2025-07-08T16:08:34.678178Z",
     "start_time": "2025-07-08T16:08:34.658808Z"
    }
   },
   "cell_type": "code",
   "source": [
    "X = df.drop(columns=['A+', 'T+', 'N+'])\n",
    "y = df.filter(['A+', 'T+', 'N+'])\n",
    "\n",
    "X_train, X_test, y_train, y_test = train_test_split(X, y, train_size=0.8, random_state=7)\n",
    "\n",
    "scaler = StandardScaler()\n",
    "X_train = scaler.fit_transform(X_train)\n",
    "X_test = scaler.transform(X_test)\n",
    "\n",
    "# Convert to PyTorch tensors\n",
    "X_train = torch.tensor(X_train, dtype=torch.float32).to(device)\n",
    "X_test = torch.tensor(X_test, dtype=torch.float32).to(device)\n",
    "y_train = torch.tensor(y_train.values, dtype=torch.float32).to(device)\n",
    "y_test = torch.tensor(y_test.values, dtype=torch.float32).to(device)"
   ],
   "id": "28947a9e46fdb0af",
   "outputs": [],
   "execution_count": 80
  },
  {
   "metadata": {
    "ExecuteTime": {
     "end_time": "2025-07-08T16:08:37.873754Z",
     "start_time": "2025-07-08T16:08:36.933616Z"
    }
   },
   "cell_type": "code",
   "source": [
    "model = MultitaskSVM(X_train, y_train).to(device)\n",
    "\n",
    "bhl = torchmetrics.classification.BinaryHingeLoss(squared=True).to(device)\n",
    "\n",
    "optimizer = torch.optim.AdamW(model.parameters(), lr=0.01, weight_decay=1e-4)\n",
    "\n",
    "train_losses = []\n",
    "\n",
    "epochs = 100\n",
    "for epoch in range(1, epochs + 1):\n",
    "    model.train()\n",
    "    optimizer.zero_grad()\n",
    "    output = model(X_train)\n",
    "    loss = bhl(output, y_train)\n",
    "    loss.backward()\n",
    "    train_losses.append(loss.item())\n",
    "    optimizer.step()\n",
    "    print(f'Epoch [{epoch}/{epochs}], Loss: {loss.item():.4f}')"
   ],
   "id": "4ccb6ddf266e9cc3",
   "outputs": [
    {
     "name": "stdout",
     "output_type": "stream",
     "text": [
      "Epoch [1/100], Loss: 1.3089\n",
      "Epoch [2/100], Loss: 1.2597\n",
      "Epoch [3/100], Loss: 1.2172\n",
      "Epoch [4/100], Loss: 1.1787\n",
      "Epoch [5/100], Loss: 1.1432\n",
      "Epoch [6/100], Loss: 1.1107\n",
      "Epoch [7/100], Loss: 1.0805\n",
      "Epoch [8/100], Loss: 1.0508\n",
      "Epoch [9/100], Loss: 1.0224\n",
      "Epoch [10/100], Loss: 0.9983\n",
      "Epoch [11/100], Loss: 0.9776\n",
      "Epoch [12/100], Loss: 0.9583\n",
      "Epoch [13/100], Loss: 0.9404\n",
      "Epoch [14/100], Loss: 0.9247\n",
      "Epoch [15/100], Loss: 0.9108\n",
      "Epoch [16/100], Loss: 0.8976\n",
      "Epoch [17/100], Loss: 0.8847\n",
      "Epoch [18/100], Loss: 0.8726\n",
      "Epoch [19/100], Loss: 0.8615\n",
      "Epoch [20/100], Loss: 0.8515\n",
      "Epoch [21/100], Loss: 0.8428\n",
      "Epoch [22/100], Loss: 0.8349\n",
      "Epoch [23/100], Loss: 0.8273\n",
      "Epoch [24/100], Loss: 0.8202\n",
      "Epoch [25/100], Loss: 0.8137\n",
      "Epoch [26/100], Loss: 0.8080\n",
      "Epoch [27/100], Loss: 0.8031\n",
      "Epoch [28/100], Loss: 0.7988\n",
      "Epoch [29/100], Loss: 0.7951\n",
      "Epoch [30/100], Loss: 0.7920\n",
      "Epoch [31/100], Loss: 0.7893\n",
      "Epoch [32/100], Loss: 0.7866\n",
      "Epoch [33/100], Loss: 0.7839\n",
      "Epoch [34/100], Loss: 0.7811\n",
      "Epoch [35/100], Loss: 0.7783\n",
      "Epoch [36/100], Loss: 0.7754\n",
      "Epoch [37/100], Loss: 0.7725\n",
      "Epoch [38/100], Loss: 0.7698\n",
      "Epoch [39/100], Loss: 0.7672\n",
      "Epoch [40/100], Loss: 0.7648\n",
      "Epoch [41/100], Loss: 0.7626\n",
      "Epoch [42/100], Loss: 0.7607\n",
      "Epoch [43/100], Loss: 0.7589\n",
      "Epoch [44/100], Loss: 0.7572\n",
      "Epoch [45/100], Loss: 0.7557\n",
      "Epoch [46/100], Loss: 0.7543\n",
      "Epoch [47/100], Loss: 0.7531\n",
      "Epoch [48/100], Loss: 0.7519\n",
      "Epoch [49/100], Loss: 0.7508\n",
      "Epoch [50/100], Loss: 0.7497\n",
      "Epoch [51/100], Loss: 0.7487\n",
      "Epoch [52/100], Loss: 0.7478\n",
      "Epoch [53/100], Loss: 0.7469\n",
      "Epoch [54/100], Loss: 0.7461\n",
      "Epoch [55/100], Loss: 0.7452\n",
      "Epoch [56/100], Loss: 0.7444\n",
      "Epoch [57/100], Loss: 0.7436\n",
      "Epoch [58/100], Loss: 0.7428\n",
      "Epoch [59/100], Loss: 0.7420\n",
      "Epoch [60/100], Loss: 0.7412\n",
      "Epoch [61/100], Loss: 0.7405\n",
      "Epoch [62/100], Loss: 0.7397\n",
      "Epoch [63/100], Loss: 0.7390\n",
      "Epoch [64/100], Loss: 0.7383\n",
      "Epoch [65/100], Loss: 0.7375\n",
      "Epoch [66/100], Loss: 0.7368\n",
      "Epoch [67/100], Loss: 0.7361\n",
      "Epoch [68/100], Loss: 0.7354\n",
      "Epoch [69/100], Loss: 0.7346\n",
      "Epoch [70/100], Loss: 0.7339\n",
      "Epoch [71/100], Loss: 0.7331\n",
      "Epoch [72/100], Loss: 0.7323\n",
      "Epoch [73/100], Loss: 0.7315\n",
      "Epoch [74/100], Loss: 0.7307\n",
      "Epoch [75/100], Loss: 0.7299\n",
      "Epoch [76/100], Loss: 0.7291\n",
      "Epoch [77/100], Loss: 0.7283\n",
      "Epoch [78/100], Loss: 0.7276\n",
      "Epoch [79/100], Loss: 0.7268\n",
      "Epoch [80/100], Loss: 0.7261\n",
      "Epoch [81/100], Loss: 0.7253\n",
      "Epoch [82/100], Loss: 0.7244\n",
      "Epoch [83/100], Loss: 0.7235\n",
      "Epoch [84/100], Loss: 0.7225\n",
      "Epoch [85/100], Loss: 0.7215\n",
      "Epoch [86/100], Loss: 0.7206\n",
      "Epoch [87/100], Loss: 0.7199\n",
      "Epoch [88/100], Loss: 0.7191\n",
      "Epoch [89/100], Loss: 0.7185\n",
      "Epoch [90/100], Loss: 0.7178\n",
      "Epoch [91/100], Loss: 0.7173\n",
      "Epoch [92/100], Loss: 0.7167\n",
      "Epoch [93/100], Loss: 0.7162\n",
      "Epoch [94/100], Loss: 0.7156\n",
      "Epoch [95/100], Loss: 0.7150\n",
      "Epoch [96/100], Loss: 0.7144\n",
      "Epoch [97/100], Loss: 0.7139\n",
      "Epoch [98/100], Loss: 0.7133\n",
      "Epoch [99/100], Loss: 0.7128\n",
      "Epoch [100/100], Loss: 0.7123\n"
     ]
    }
   ],
   "execution_count": 81
  },
  {
   "metadata": {
    "ExecuteTime": {
     "end_time": "2025-07-08T16:08:38.163043Z",
     "start_time": "2025-07-08T16:08:37.976278Z"
    }
   },
   "cell_type": "code",
   "source": [
    "plt.plot(train_losses, label='Training Loss')\n",
    "plt.xlabel('Epochs')\n",
    "plt.ylabel('Loss')\n",
    "plt.title('Learning Curve')\n",
    "plt.legend()\n",
    "plt.show()"
   ],
   "id": "47d58c323bdc0883",
   "outputs": [
    {
     "data": {
      "text/plain": [
       "<Figure size 640x480 with 1 Axes>"
      ],
      "image/png": "[encoded data removed]"
     },
     "metadata": {},
     "output_type": "display_data"
    }
   ],
   "execution_count": 82
  },
  {
   "metadata": {
    "ExecuteTime": {
     "end_time": "2025-07-08T16:08:39.359633Z",
     "start_time": "2025-07-08T16:08:39.355384Z"
    }
   },
   "cell_type": "code",
   "source": "index_to_target = {0: 'A+', 1: 'T+', 2: 'N+'}",
   "id": "a64ec32c693190f5",
   "outputs": [],
   "execution_count": 83
  },
  {
   "metadata": {
    "ExecuteTime": {
     "end_time": "2025-07-08T16:08:41.122860Z",
     "start_time": "2025-07-08T16:08:41.084266Z"
    }
   },
   "cell_type": "code",
   "source": [
    "model.eval()\n",
    "with torch.no_grad():\n",
    "    y_pred = model(X_train)\n",
    "    y_pred = (y_pred > 0.5).float()  # Convert probabilities to binary predictions\n",
    "    y_pred_np = y_pred.cpu().numpy()\n",
    "    y_train_np = y_train.cpu().numpy()\n",
    "\n",
    "    for i in range(y_train_np.shape[1]):\n",
    "        print(f\"Metrics for target {index_to_target.get(i)}:\")\n",
    "        print(\"Accuracy:\", accuracy_score(y_train_np[:, i], y_pred_np[:, i]))\n",
    "        print(\"Precision:\", precision_score(y_train_np[:, i], y_pred_np[:, i]))\n",
    "        print(\"Recall:\", recall_score(y_train_np[:, i], y_pred_np[:, i]))\n",
    "        precision = precision_score(y_train_np[:, i], y_pred_np[:, i])\n",
    "        recall = recall_score(y_train_np[:, i], y_pred_np[:, i])\n",
    "        print(\"F1 Score:\", 2 * (precision * recall) / (precision + recall) if (precision + recall) > 0 else 0)\n",
    "        print('ROC AUC:', roc_auc_score(y_train_np[:, i], y_pred_np[:, i]))\n",
    "        print()\n"
   ],
   "id": "7c4ec5213192fa85",
   "outputs": [
    {
     "name": "stdout",
     "output_type": "stream",
     "text": [
      "Metrics for target A+:\n",
      "Accuracy: 0.8732718894009217\n",
      "Precision: 0.8947368421052632\n",
      "Recall: 0.85\n",
      "F1 Score: 0.8717948717948718\n",
      "ROC AUC: 0.8735981308411216\n",
      "\n",
      "Metrics for target T+:\n",
      "Accuracy: 0.8847926267281107\n",
      "Precision: 0.9230769230769231\n",
      "Recall: 0.8372093023255814\n",
      "F1 Score: 0.878048780487805\n",
      "ROC AUC: 0.8843580758203249\n",
      "\n",
      "Metrics for target N+:\n",
      "Accuracy: 0.9055299539170507\n",
      "Precision: 0.9014778325123153\n",
      "Recall: 0.8970588235294118\n",
      "F1 Score: 0.8992628992628993\n",
      "ROC AUC: 0.9050511508951407\n",
      "\n"
     ]
    }
   ],
   "execution_count": 84
  },
  {
   "metadata": {
    "ExecuteTime": {
     "end_time": "2025-07-08T16:08:42.033696Z",
     "start_time": "2025-07-08T16:08:41.998968Z"
    }
   },
   "cell_type": "code",
   "source": [
    "model.eval()\n",
    "with torch.no_grad():\n",
    "    y_test_pred = model(X_test)\n",
    "    y_test_pred = (y_test_pred > 0.5).float()  # Convert probabilities to binary predictions\n",
    "    y_test_pred_np = y_test_pred.cpu().numpy()\n",
    "    y_test_np = y_test.cpu().numpy()\n",
    "\n",
    "    # For multitask (MTL) evaluation, print metrics for each target\n",
    "    for i in range(y_test_np.shape[1]):\n",
    "        print(f\"Test Metrics for target {index_to_target.get(i)}:\")\n",
    "        print(\"Test Accuracy:\", accuracy_score(y_test_np[:, i], y_test_pred_np[:, i]))\n",
    "        print(\"Test Precision:\", precision_score(y_test_np[:, i], y_test_pred_np[:, i]))\n",
    "        print(\"Test Recall:\", recall_score(y_test_np[:, i], y_test_pred_np[:, i]))\n",
    "        precision = precision_score(y_test_np[:, i], y_test_pred_np[:, i])\n",
    "        recall = recall_score(y_test_np[:, i], y_test_pred_np[:, i])\n",
    "        print(\"Test F1 Score:\", 2 * (precision * recall) / (precision + recall) if (precision + recall) > 0 else 0)\n",
    "        print('Test ROC AUC:', roc_auc_score(y_test_np[:, i], y_test_pred_np[:, i]))\n",
    "        print()"
   ],
   "id": "c9ba02f830ea231f",
   "outputs": [
    {
     "name": "stdout",
     "output_type": "stream",
     "text": [
      "Test Metrics for target A+:\n",
      "Test Accuracy: 0.8256880733944955\n",
      "Test Precision: 0.8372093023255814\n",
      "Test Recall: 0.75\n",
      "Test F1 Score: 0.7912087912087912\n",
      "Test ROC AUC: 0.8176229508196722\n",
      "\n",
      "Test Metrics for target T+:\n",
      "Test Accuracy: 0.908256880733945\n",
      "Test Precision: 0.9090909090909091\n",
      "Test Recall: 0.8695652173913043\n",
      "Test F1 Score: 0.888888888888889\n",
      "Test ROC AUC: 0.9030365769496204\n",
      "\n",
      "Test Metrics for target N+:\n",
      "Test Accuracy: 0.926605504587156\n",
      "Test Precision: 0.975\n",
      "Test Recall: 0.8478260869565217\n",
      "Test F1 Score: 0.9069767441860466\n",
      "Test ROC AUC: 0.915976535541753\n",
      "\n"
     ]
    }
   ],
   "execution_count": 85
  }
 ],
 "metadata": {
  "kernelspec": {
   "display_name": "Python 3",
   "language": "python",
   "name": "python3"
  },
  "language_info": {
   "codemirror_mode": {
    "name": "ipython",
    "version": 2
   },
   "file_extension": ".py",
   "mimetype": "text/x-python",
   "name": "python",
   "nbconvert_exporter": "python",
   "pygments_lexer": "ipython2",
   "version": "2.7.6"
  }
 },
 "nbformat": 4,
 "nbformat_minor": 5
}
