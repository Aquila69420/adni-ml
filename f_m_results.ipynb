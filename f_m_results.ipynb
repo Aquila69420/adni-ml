{
 "cells": [
  {
   "cell_type": "markdown",
   "id": "d47c9017",
   "metadata": {},
   "source": [
    "Abeta (A+) trained on male"
   ]
  },
  {
   "cell_type": "code",
   "execution_count": 7,
   "id": "275b1bd0",
   "metadata": {},
   "outputs": [],
   "source": [
    "abeta_accuracy_male_trained_m_train = [0.8590308370044053, 0.8325991189427313, 0.8458149779735683]\n",
    "abeta_precision_male_trained_m_train = [0.92, 0.9108910891089109, 0.897196261682243]\n",
    "abeta_recall_male_trained_m_train = [0.7931034482758621, 0.7603305785123967, 0.8]\n",
    "abeta_f1_male_trained_m_train = [0.851851851851852, 0.8288288288288289, 0.8458149779735684]\n",
    "abeta_auroc_male_trained_m_train = [0.873524386455421, 0.8680024949321691, 0.8824376947040498]\n",
    "\n",
    "abeta_accuracy_male_trained_m_test = [0.8245614035087719, 0.7719298245614035, 0.7543859649122807]\n",
    "abeta_precision_male_trained_m_test = [0.9230769230769231, 0.75, 0.7916666666666666]\n",
    "abeta_recall_male_trained_m_test = [0.75, 0.7777777777777778, 0.6785714285714286]\n",
    "abeta_f1_male_trained_m_test = [0.8275862068965517, 0.7636363636363638, 0.7307692307692307]\n",
    "abeta_auroc_male_trained_m_test = [0.885, 0.8314814814814815, 0.8312807881773399]\n",
    "\n",
    "abeta_accuracy_male_trained_f_test = [0.7647058823529411, 0.7843137254901961, 0.8823529411764706]\n",
    "abeta_precision_male_trained_f_test = [0.7391304347826086, 0.65, 0.9166666666666666]\n",
    "abeta_recall_male_trained_f_test = [0.7391304347826086, 0.7647058823529411, 0.8461538461538461]\n",
    "abeta_f1_male_trained_f_test = [0.7391304347826085, 0.7027027027027027, 0.8799999999999999]\n",
    "abeta_auroc_male_trained_f_test = [0.9037267080745341, 0.9359861591695502, 0.9084615384615384]\n"
   ]
  },
  {
   "cell_type": "markdown",
   "id": "9e1fa69a",
   "metadata": {},
   "source": [
    "Abeta (A+) trained on female"
   ]
  },
  {
   "cell_type": "code",
   "execution_count": 8,
   "id": "92f7a991",
   "metadata": {},
   "outputs": [],
   "source": [
    "abeta_accuracy_female_trained_f_train = [0.8472906403940886, 0.8472906403940886, 0.8325123152709359]\n",
    "abeta_precision_female_trained_f_train = [0.8365384615384616, 0.8387096774193549, 0.7755102040816326]\n",
    "abeta_recall_female_trained_f_train = [0.8613861386138614, 0.8297872340425532, 0.8636363636363636]\n",
    "abeta_f1_female_trained_f_train = [0.848780487804878, 0.8342245989304814, 0.8172043010752688]\n",
    "abeta_auroc_female_trained_f_train = [0.8671617161716171, 0.8844427093499903, 0.8817687747035574]\n",
    "\n",
    "abeta_accuracy_female_trained_f_test = [0.803921568627451, 0.7843137254901961, 0.8823529411764706]\n",
    "abeta_precision_female_trained_f_test = [0.6666666666666666, 0.7407407407407407, 0.9285714285714286]\n",
    "abeta_recall_female_trained_f_test = [0.8235294117647058, 0.8333333333333334, 0.8666666666666667]\n",
    "abeta_f1_female_trained_f_test = [0.7368421052631577, 0.7843137254901961, 0.896551724137931]\n",
    "abeta_auroc_female_trained_f_test = [0.8910034602076125, 0.861111111111111, 0.9682539682539683]\n",
    "\n",
    "abeta_accuracy_female_trained_m_test = [0.8070175438596491, 0.8070175438596491, 0.8421052631578947]\n",
    "abeta_precision_female_trained_m_test = [0.8333333333333334, 0.8333333333333334, 0.8461538461538461]\n",
    "abeta_recall_female_trained_m_test = [0.7407407407407407, 0.6521739130434783, 0.8148148148148148]\n",
    "abeta_f1_female_trained_m_test = [0.7843137254901961, 0.7317073170731708, 0.830188679245283]\n",
    "abeta_auroc_female_trained_m_test = [0.8839506172839505, 0.8152173913043478, 0.9123456790123456]"
   ]
  },
  {
   "cell_type": "markdown",
   "id": "6e39ca8f",
   "metadata": {},
   "source": [
    "Tau (T+) trained on male"
   ]
  },
  {
   "cell_type": "code",
   "execution_count": 9,
   "id": "3d4da8f4",
   "metadata": {},
   "outputs": [],
   "source": [
    "tau_accuracy_male_trained_m_train = [0.9383259911894273, 0.9118942731277533, 0.8986784140969163]\n",
    "tau_precision_male_trained_m_train = [0.9345794392523364, 0.9345794392523364, 0.9313725490196079]\n",
    "tau_recall_male_trained_m_train = [0.9345794392523364, 0.8849557522123894, 0.8558558558558559]\n",
    "tau_f1_male_trained_m_train = [0.9345794392523366, 0.9090909090909091, 0.892018779342723]\n",
    "tau_auroc_male_trained_m_train = [0.9668613707165109, 0.9434870361745071, 0.9509940975458218]\n",
    "\n",
    "tau_accuracy_male_trained_m_test = [0.9122807017543859, 0.8771929824561403, 0.8771929824561403]\n",
    "tau_precision_male_trained_m_test = [0.9642857142857143, 0.9090909090909091, 0.9166666666666666]\n",
    "tau_recall_male_trained_m_test = [0.8709677419354839, 0.8, 0.8148148148148148]\n",
    "tau_f1_male_trained_m_test = [0.9152542372881356, 0.8510638297872342, 0.8627450980392156]\n",
    "tau_auroc_male_trained_m_test = [0.9826302729528535, 0.950625, 0.9172839506172838]\n",
    "\n",
    "tau_accuracy_male_trained_f_test = [0.8235294117647058, 0.8431372549019608, 0.8627450980392157]\n",
    "tau_precision_male_trained_f_test = [0.8333333333333334, 0.7916666666666666, 0.9259259259259259]\n",
    "tau_recall_male_trained_f_test = [0.8, 0.8636363636363636,0.8333333333333334]\n",
    "tau_f1_male_trained_f_test = [0.816326530612245, 0.8260869565217391, 0.8771929824561403]\n",
    "tau_auroc_male_trained_f_test = [0.9523076923076923, 0.8855799373040752, 0.9063492063492063]\n"
   ]
  },
  {
   "cell_type": "markdown",
   "id": "2dff3ae7",
   "metadata": {},
   "source": [
    "Tau (T+) trained on female"
   ]
  },
  {
   "cell_type": "code",
   "execution_count": 10,
   "id": "b7908c18",
   "metadata": {},
   "outputs": [],
   "source": [
    "tau_accuracy_female_trained_f_train = [0.8916256157635468, 0.9113300492610837, 0.8866995073891626]\n",
    "tau_precision_female_trained_f_train = [0.898989898989899, 0.9101123595505618, 0.8936170212765957]\n",
    "tau_recall_female_trained_f_train = [0.8811881188118812, 0.8901098901098901, 0.865979381443299]\n",
    "tau_f1_female_trained_f_train = [0.89, 0.8999999999999999, 0.8795811518324608]\n",
    "tau_auroc_female_trained_f_train = [0.9514657348087749, 0.9624215070643642, 0.9358587823380665]\n",
    "\n",
    "tau_accuracy_female_trained_f_test = [0.8235294117647058, 0.8431372549019608, 0.8235294117647058]\n",
    "tau_precision_female_trained_f_test = [0.72, 0.9583333333333334, 0.8]\n",
    "tau_recall_female_trained_f_test = [0.9, 0.7666666666666667, 0.8333333333333334]\n",
    "tau_f1_female_trained_f_test = [0.7999999999999999, 0.8518518518518519, 0.816326530612245]\n",
    "tau_auroc_female_trained_f_test = [0.8943548387096775, 0.9349206349206349, 0.9120370370370371]\n",
    "\n",
    "tau_accuracy_female_trained_m_test = [0.8947368421052632, 0.8771929824561403, 0.8596491228070176]\n",
    "tau_precision_female_trained_m_test = [0.9473684210526315, 0.875, 0.9473684210526315] \n",
    "tau_recall_female_trained_m_test = [0.782608695652174, 0.84, 0.72]\n",
    "tau_f1_female_trained_m_test = [0.8571428571428571, 0.8571428571428572, 0.8181818181818181]\n",
    "tau_auroc_female_trained_m_test = [0.9341432225063939, 0.9425, 0.8975000000000001]"
   ]
  },
  {
   "cell_type": "markdown",
   "id": "bd395dc9",
   "metadata": {},
   "source": [
    "NDD (N+) trained on male"
   ]
  },
  {
   "cell_type": "code",
   "execution_count": 11,
   "id": "56ed88f0",
   "metadata": {},
   "outputs": [],
   "source": [
    "ndd_accuracy_male_trained_m_train = [0.9295154185022027, 0.933920704845815, 0.933920704845815]\n",
    "ndd_precision_male_trained_m_train = [0.9191919191919192, 0.9603960396039604, 0.9411764705882353]\n",
    "ndd_recall_male_trained_m_train = [0.9191919191919192, 0.8981481481481481, 0.9142857142857143]\n",
    "ndd_f1_male_trained_m_train = [0.9191919191919192, 0.9282296650717703, 0.9275362318840579]\n",
    "ndd_auroc_male_trained_m_train = [0.9593197601010102, 0.9625350140056023, 0.9539032006245121]\n",
    "\n",
    "ndd_accuracy_male_trained_m_test = [0.8771929824561403, 0.8947368421052632, 0.7719298245614035]\n",
    "ndd_precision_male_trained_m_test = [0.9032258064516129, 0.8695652173913043, 0.782608695652174]\n",
    "ndd_recall_male_trained_m_test = [0.875, 8695652173913043, 0.6923076923076923]\n",
    "ndd_f1_male_trained_m_test = [0.8888888888888888, 0.8695652173913043, 0.7346938775510203]\n",
    "ndd_auroc_male_trained_m_test = [0.9212499999999999, 0.9239130434782608, 0.8933002481389579]\n",
    "\n",
    "ndd_accuracy_male_trained_f_test = [0.9019607843137255, 0.8431372549019608, 0.8823529411764706]\n",
    "ndd_precision_male_trained_f_test = [0.8846153846153846, 0.7083333333333334, 0.88]\n",
    "ndd_recall_male_trained_f_test = [0.92, 0.9444444444444444, 0.88]\n",
    "ndd_f1_male_trained_f_test = [0.9019607843137256, 0.8095238095238096, 0.88]\n",
    "ndd_auroc_male_trained_f_test = [0.9638461538461539, 0.9528619528619529, 0.9446153846153846]"
   ]
  },
  {
   "cell_type": "markdown",
   "id": "ba4d25f9",
   "metadata": {},
   "source": [
    "NDD (N+) trained on female"
   ]
  },
  {
   "cell_type": "code",
   "execution_count": 12,
   "id": "e328316d",
   "metadata": {},
   "outputs": [],
   "source": [
    "ndd_accuracy_female_trained_f_train = [0.8817733990147784, 0.8817733990147784, 0.9261083743842364]\n",
    "ndd_precision_female_trained_f_train = [0.89, 0.8617021276595744, 0.925531914893617]\n",
    "ndd_recall_female_trained_f_train = [0.8725490196078431, 0.8804347826086957, 0.9157894736842105]\n",
    "ndd_f1_female_trained_f_train = [0.8811881188118812, 0.870967741935484, 0.9206349206349206]\n",
    "ndd_auroc_female_trained_f_train = [0.9334109881576393, 0.9286623580101842, 0.9455165692007796]\n",
    "\n",
    "ndd_accuracy_female_trained_f_test = [0.9215686274509803, 0.8431372549019608, 0.8431372549019608]\n",
    "ndd_precision_female_trained_f_test = [0.8, 0.875, 0.7777777777777778]\n",
    "ndd_recall_female_trained_f_test = [1.0, 0.8076923076923077, 0.9130434782608695]\n",
    "ndd_f1_female_trained_f_test = [0.888888888888889, 0.8400000000000001, 0.84]\n",
    "ndd_auroc_female_trained_f_test = [0.9848214285714285, 0.9584615384615385, 0.968944099378882]\n",
    "\n",
    "ndd_accuracy_female_trained_m_test = [0.8947368421052632, 0.9473684210526315, 0.8947368421052632]\n",
    "ndd_precision_female_trained_m_test = [0.9333333333333333, 0.9583333333333334, 0.84]\n",
    "ndd_recall_female_trained_m_test = [0.7368421052631579, 0.92, 0.9130434782608695]\n",
    "ndd_f1_female_trained_m_test = [0.8235294117647058, 0.9387755102040817, 0.8749999999999999]\n",
    "ndd_auroc_female_trained_m_test = [0.8933518005540166, 0.964375, 0.918158567774936]"
   ]
  }
 ],
 "metadata": {
  "kernelspec": {
   "display_name": "Python 3",
   "language": "python",
   "name": "python3"
  },
  "language_info": {
   "codemirror_mode": {
    "name": "ipython",
    "version": 3
   },
   "file_extension": ".py",
   "mimetype": "text/x-python",
   "name": "python",
   "nbconvert_exporter": "python",
   "pygments_lexer": "ipython3",
   "version": "3.11.13"
  }
 },
 "nbformat": 4,
 "nbformat_minor": 5
}
